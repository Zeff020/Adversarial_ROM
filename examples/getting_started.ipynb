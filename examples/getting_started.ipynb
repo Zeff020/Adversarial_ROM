{
 "cells": [
  {
   "cell_type": "code",
   "execution_count": 3,
   "source": [
    "!pip install -e ../."
   ],
   "outputs": [
    {
     "output_type": "stream",
     "name": "stdout",
     "text": [
      "Obtaining file:///home/zef/Documents/master/acse-9/DD-GAN-AE\n",
      "Installing collected packages: DD-GAN-AE\n",
      "  Attempting uninstall: DD-GAN-AE\n",
      "    Found existing installation: DD-GAN-AE 1.0\n",
      "    Uninstalling DD-GAN-AE-1.0:\n",
      "      Successfully uninstalled DD-GAN-AE-1.0\n",
      "  Running setup.py develop for DD-GAN-AE\n",
      "Successfully installed DD-GAN-AE-1.0\n"
     ]
    }
   ],
   "metadata": {}
  },
  {
   "cell_type": "code",
   "execution_count": null,
   "source": [
    "import sys\n",
    "sys.path.append('..')"
   ],
   "outputs": [],
   "metadata": {}
  },
  {
   "cell_type": "markdown",
   "source": [
    "## Getting started notebook\n",
    "\n",
    "Notebook that executes the getting started examples shown in the repo's readme and plots the results. Note for the final generated and reported results of the report see the other example notebooks provided in the readme.\n",
    "\n",
    "If the cells take too long to execute you could lower the number of training epochs.\n",
    "\n",
    "To view the progress of the training execute the following in a shell:\n",
    "\n",
    "`tensorboard --logdir=logs`\n",
    "\n",
    "or execute the following cell to view it in this notebook"
   ],
   "metadata": {}
  },
  {
   "cell_type": "code",
   "execution_count": null,
   "source": [
    "%load_ext tensorboard\n",
    "%tensorboard --logdir logs"
   ],
   "outputs": [],
   "metadata": {}
  },
  {
   "cell_type": "code",
   "execution_count": 10,
   "source": [
    "from ddganAE.models import CAE\n",
    "from ddganAE.architectures.cae.D2 import *\n",
    "import numpy as np\n",
    "import tensorflow as tf\n",
    "import matplotlib.pyplot as plt"
   ],
   "outputs": [],
   "metadata": {}
  },
  {
   "cell_type": "markdown",
   "source": [
    "## Example of using CAE on FPC dataset"
   ],
   "metadata": {}
  },
  {
   "cell_type": "code",
   "execution_count": 6,
   "source": [
    "input_shape = (55, 42, 2)\n",
    "dataset = np.load(\"./../tests/data/test_snapshots_fpc_2D_converted.npy\") # dataset with shape (<nsamples>, 55, 42, 2)\n",
    "\n",
    "optimizer = tf.keras.optimizers.Adam() # Define an optimizer\n",
    "initializer = tf.keras.initializers.RandomNormal() # Define a weights initializer\n",
    "\n",
    "# Define any encoder and decoder, see docs for more premade architectures\n",
    "encoder, decoder = build_wider_omata_encoder_decoder(input_shape, 10, initializer)\n",
    "\n",
    "cae = CAE(encoder, decoder, optimizer) # define the model\n",
    "cae.compile(input_shape) # compile the model\n",
    "\n",
    "cae.train(dataset, 30, batch_size=32) # train the model with 30 epochs, batch_size needs to be smaller than nsamples\n",
    "\n",
    "recon_dataset = cae.predict(dataset) # pass the dataset through the model and generate outputs"
   ],
   "outputs": [],
   "metadata": {}
  },
  {
   "cell_type": "code",
   "execution_count": 11,
   "source": [
    "# Let's plot a reconstruction to see if it visually corresponds to what we expect\n",
    "fig, ax = plt.subplots(1,2)\n",
    "ax[0].contourf(dataset[92,:,:,1])\n",
    "ax[1].contourf(recon_dataset[92, :, :, 1])"
   ],
   "outputs": [
    {
     "output_type": "execute_result",
     "data": {
      "text/plain": [
       "<matplotlib.contour.QuadContourSet at 0x7f361c37dfa0>"
      ]
     },
     "metadata": {},
     "execution_count": 11
    },
    {
     "output_type": "display_data",
     "data": {
      "text/plain": [
       "<Figure size 432x288 with 2 Axes>"
      ],
      "image/png": "[encoded data removed]"
     },
     "metadata": {
      "needs_background": "light"
     }
    }
   ],
   "metadata": {}
  },
  {
   "cell_type": "markdown",
   "source": [
    "## Example of using predictive adversarial network on FPC POD coefficients"
   ],
   "metadata": {}
  },
  {
   "cell_type": "code",
   "execution_count": 40,
   "source": [
    "from ddganAE.models import Predictive_adversarial\n",
    "from ddganAE.architectures.svdae import *\n",
    "from ddganAE.architectures.discriminators import *\n",
    "import tensorflow as tf\n",
    "import numpy as np\n",
    "\n",
    "latent_vars = 100  # Define the number of variables the predictive model will use in discriminator layer\n",
    "n_predicted_vars = 10 # Define the number of predicted variables\n",
    "\n",
    "dataset = np.load(\"./../tests/data/pod_coeffs_field_Velocity.npy\") # dataset with shape (<ndomains>, <n_latent>, <ntimesteps>)\n",
    "dataset = np.moveaxis(dataset.reshape(2000, 4, 10),\n",
    "                                    0, 2) # Convert it to right shape\n",
    "\n",
    "optimizer = tf.keras.optimizers.Adam() # Define an optimizer\n",
    "initializer = tf.keras.initializers.RandomNormal() # Define a weights initializer\n",
    "\n",
    "# Define any encoder and decoder, see docs for more premade architectures. Note for predictive\n",
    "# models we don't necessarily need to use encoders or decoders\n",
    "encoder = build_slimmer_dense_encoder(latent_vars, initializer)\n",
    "decoder = build_slimmer_dense_decoder(n_predicted_vars, latent_vars, initializer)\n",
    "discriminator = build_custom_discriminator(latent_vars, initializer)\n",
    "\n",
    "pred_adv = Predictive_adversarial(encoder, decoder, discriminator, optimizer)\n",
    "pred_adv.compile(n_predicted_vars, increment=False)\n",
    "pred_adv.train(dataset, 20, val_size=0.1, interval=1)\n",
    "\n",
    "# Select the boundaries with all timesteps\n",
    "boundaries = np.zeros((2, 10, dataset.shape[2]))\n",
    "boundaries[0], boundaries[1]  = dataset[0], dataset[3] # first and fourth subdomains used as boundaries\n",
    "\n",
    "# Select the initial values at the first timestep\n",
    "init_values = dataset[1:3, :, 0]\n",
    "\n",
    "predicted_latent = pred_adv.predict(boundaries, init_values, 200, # Predict 9 steps forward \n",
    "                                    iters=4, sor=1, pre_interval=False)"
   ],
   "outputs": [],
   "metadata": {}
  },
  {
   "cell_type": "code",
   "execution_count": 42,
   "source": [
    "# Let's plot a reconstruction to see if it visually corresponds to what we expect\n",
    "fig, ax = plt.subplots(1,2)\n",
    "ax[0].plot(predicted_latent[2, :, :200].T)\n",
    "ax[1].plot(dataset[2, :, :200].T)"
   ],
   "outputs": [
    {
     "output_type": "execute_result",
     "data": {
      "text/plain": [
       "[<matplotlib.lines.Line2D at 0x7f35eb571be0>,\n",
       " <matplotlib.lines.Line2D at 0x7f35eb571c10>,\n",
       " <matplotlib.lines.Line2D at 0x7f35eb571d30>,\n",
       " <matplotlib.lines.Line2D at 0x7f35eb571e50>,\n",
       " <matplotlib.lines.Line2D at 0x7f35eb571f70>,\n",
       " <matplotlib.lines.Line2D at 0x7f35eb57aa60>,\n",
       " <matplotlib.lines.Line2D at 0x7f35eb57ad00>,\n",
       " <matplotlib.lines.Line2D at 0x7f35eb57ac10>,\n",
       " <matplotlib.lines.Line2D at 0x7f35eb57a0a0>,\n",
       " <matplotlib.lines.Line2D at 0x7f35eb57a9a0>]"
      ]
     },
     "metadata": {},
     "execution_count": 42
    },
    {
     "output_type": "display_data",
     "data": {
      "text/plain": [
       "<Figure size 432x288 with 2 Axes>"
      ],
      "image/png": "[encoded data removed]"
     },
     "metadata": {
      "needs_background": "light"
     }
    }
   ],
   "metadata": {}
  },
  {
   "cell_type": "markdown",
   "source": [
    "The predictive model is not very good. It needs more samples, epochs, and particular hyperparameters. Also, usually we would rescale the data. Generally, it tends to be much harder to train the predictive model than it is to train the autoencoders."
   ],
   "metadata": {}
  },
  {
   "cell_type": "markdown",
   "source": [
    "If you feel comfortable with this notebook check out the other notebooks in the repo! In those notebooks we also use the slug flow dataset and predict its latent variables. However, for those notebooks you do need the full datasets to achieve the same results."
   ],
   "metadata": {}
  }
 ],
 "metadata": {
  "kernelspec": {
   "display_name": "Python 3",
   "language": "python",
   "name": "python3"
  },
  "language_info": {
   "codemirror_mode": {
    "name": "ipython",
    "version": 3
   },
   "file_extension": ".py",
   "mimetype": "text/x-python",
   "name": "python",
   "nbconvert_exporter": "python",
   "pygments_lexer": "ipython3",
   "version": "3.8.10"
  }
 },
 "nbformat": 4,
 "nbformat_minor": 5
}