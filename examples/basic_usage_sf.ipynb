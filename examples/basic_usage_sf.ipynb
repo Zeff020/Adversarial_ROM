{
 "cells": [
  {
   "cell_type": "code",
   "execution_count": 1,
   "id": "a9a4a573",
   "metadata": {},
   "outputs": [],
   "source": [
    "from ddganAE.models import AAE, AAE_combined_loss, CAE, SVDAE\n",
    "from ddganAE.architectures.D3 import *\n",
    "from ddganAE.preprocessing import convert_2d\n",
    "from keras.regularizers import l2\n",
    "from ddganAE.utils import calc_pod\n",
    "import tensorflow as tf\n",
    "from tensorflow.keras.layers.experimental import preprocessing\n",
    "import numpy as np\n",
    "import matplotlib.pyplot as plt\n",
    "from sklearn.preprocessing import StandardScaler, MinMaxScaler\n",
    "from sklearn.model_selection import train_test_split"
   ]
  },
  {
   "cell_type": "markdown",
   "id": "46dcc3c6",
   "metadata": {},
   "source": [
    "# POD"
   ]
  },
  {
   "cell_type": "markdown",
   "id": "b93750de",
   "metadata": {},
   "source": [
    "### Data preprocessing"
   ]
  },
  {
   "cell_type": "code",
   "execution_count": 2,
   "id": "7463cf88",
   "metadata": {},
   "outputs": [],
   "source": [
    "grids = np.load(\"./../submodules/DD-GAN/data/processed/sf_dataset.npy\")\n",
    "# Set all >0 to 0 and all <1 to 1 for alpha field\n",
    "grids[:,:,:,:,3][np.where(grids[:,:,:,:,3] < 0)] = 0\n",
    "grids[:,:,:,:,3][np.where(grids[:,:,:,:,3] > 1)] = 1"
   ]
  },
  {
   "cell_type": "code",
   "execution_count": 3,
   "id": "94a21400",
   "metadata": {},
   "outputs": [],
   "source": [
    "# Rescale all the velocity fields\n",
    "scaler = MinMaxScaler()\n",
    "grids[:,:,:,:,:3] = scaler.fit_transform(grids[:,:,:,:,:3].reshape(-1, 1)).reshape(grids[:,:,:,:,:3].shape)"
   ]
  },
  {
   "cell_type": "code",
   "execution_count": 4,
   "id": "9cb7f11f",
   "metadata": {},
   "outputs": [],
   "source": [
    "grids_long = np.moveaxis(np.moveaxis(grids, 4, 0), 1, 4).reshape((grids.shape[-1], grids.shape[1]*grids.shape[2]*grids.shape[3], grids.shape[0]))"
   ]
  },
  {
   "cell_type": "markdown",
   "id": "d34532f2",
   "metadata": {},
   "source": [
    "### Do actual pod"
   ]
  },
  {
   "cell_type": "code",
   "execution_count": 5,
   "id": "0fc799de",
   "metadata": {},
   "outputs": [],
   "source": [
    "coeffs, R, s = calc_pod(grids_long, nPOD=10)"
   ]
  },
  {
   "cell_type": "markdown",
   "id": "1bd36a35",
   "metadata": {},
   "source": [
    "### Check reconstruction loss"
   ]
  },
  {
   "cell_type": "code",
   "execution_count": 10,
   "id": "3673016b",
   "metadata": {},
   "outputs": [
    {
     "name": "stdout",
     "output_type": "stream",
     "text": [
      "[[0.3552     0.36203752 0.36380589 ... 0.30232951 0.30877547 0.30857463]\n",
      " [0.35514146 0.36200387 0.36393034 ... 0.30231973 0.30882809 0.30857821]\n",
      " [0.3550856  0.36196616 0.36405083 ... 0.30231788 0.30888758 0.30858607]\n",
      " ...\n",
      " [0.87383535 0.86640348 0.86203201 ... 0.77366286 0.78064649 0.77859742]\n",
      " [0.87373268 0.86612371 0.8619513  ... 0.77379807 0.7809243  0.77871433]\n",
      " [0.87369322 0.86589358 0.86187987 ... 0.77392585 0.78117842 0.77883699]] \n",
      " [[0.3593186  0.35875437 0.35910755 ... 0.3149745  0.31578264 0.28099415]\n",
      " [0.35933733 0.3588193  0.35914356 ... 0.31509516 0.3158377  0.28099415]\n",
      " [0.35935605 0.35888425 0.3591796  ... 0.31521606 0.31589282 0.28099415]\n",
      " ...\n",
      " [0.87558043 0.8758235  0.87582356 ... 0.6969149  0.6205108  0.78142804]\n",
      " [0.8755887  0.8758235  0.87582344 ... 0.6968136  0.6205108  0.7809142 ]\n",
      " [0.875596   0.8758235  0.8758235  ... 0.6967258  0.6205108  0.7804715 ]]\n"
     ]
    },
    {
     "data": {
      "text/plain": [
       "True"
      ]
     },
     "execution_count": 10,
     "metadata": {},
     "output_type": "execute_result"
    }
   ],
   "source": [
    "# Reconstruct the first subgrid\n",
    "recon = R @ coeffs[0]\n",
    "print(recon, '\\n',\n",
    "      grids_long[0, :, :])\n",
    "\n",
    "np.allclose(recon, grids_long[0, :, :], atol=0.4)"
   ]
  },
  {
   "cell_type": "code",
   "execution_count": 23,
   "id": "bd0e569f",
   "metadata": {},
   "outputs": [
    {
     "name": "stdout",
     "output_type": "stream",
     "text": [
      "0.0019314816678883053\n"
     ]
    }
   ],
   "source": [
    "# Calculate MSE\n",
    "mean = 0\n",
    "recon_grid = np.zeros(grids_long.shape)\n",
    "for j in range(4):\n",
    "    recon = R @ coeffs[j]\n",
    "    for i in range(100):\n",
    "        mean += tf.keras.losses.MSE(recon[:, i], grids_long[j, :, i]).numpy()/100\n",
    "    recon_grid[j, :, :] = recon\n",
    "print(mean)"
   ]
  },
  {
   "cell_type": "markdown",
   "id": "f2917bf7",
   "metadata": {},
   "source": [
    "### Reconstruct back to original shape"
   ]
  },
  {
   "cell_type": "code",
   "execution_count": 26,
   "id": "b48f0679",
   "metadata": {},
   "outputs": [],
   "source": [
    "grids_recon = np.swapaxes(recon_grid, 0, 2).reshape(*grids.shape)"
   ]
  },
  {
   "cell_type": "code",
   "execution_count": 30,
   "id": "e2139268",
   "metadata": {},
   "outputs": [
    {
     "data": {
      "text/plain": [
       "True"
      ]
     },
     "execution_count": 30,
     "metadata": {},
     "output_type": "execute_result"
    }
   ],
   "source": [
    "np.allclose(grids, grids_recon, atol=0.4)"
   ]
  },
  {
   "cell_type": "markdown",
   "id": "6cab0d04",
   "metadata": {},
   "source": [
    "# Convolutional Autoencoder"
   ]
  },
  {
   "cell_type": "markdown",
   "id": "6aae6586",
   "metadata": {},
   "source": [
    "### Data preprocessing"
   ]
  },
  {
   "cell_type": "code",
   "execution_count": 2,
   "id": "24af4e68",
   "metadata": {},
   "outputs": [],
   "source": [
    "grids = np.load(\"./../submodules/DD-GAN/data/processed/sf_dataset.npy\")"
   ]
  },
  {
   "cell_type": "code",
   "execution_count": 3,
   "id": "a86198aa",
   "metadata": {},
   "outputs": [
    {
     "data": {
      "text/plain": [
       "(100, 20, 20, 60, 4)"
      ]
     },
     "execution_count": 3,
     "metadata": {},
     "output_type": "execute_result"
    }
   ],
   "source": [
    "grids.shape"
   ]
  },
  {
   "cell_type": "code",
   "execution_count": 5,
   "id": "51bd99f5",
   "metadata": {},
   "outputs": [],
   "source": [
    "# Set all >0 to 0 and all <1 to 1 for alpha field\n",
    "grids[:,:,:,:,3][np.where(grids[:,:,:,:,3] < 0)] = 0\n",
    "grids[:,:,:,:,3][np.where(grids[:,:,:,:,3] > 1)] = 1"
   ]
  },
  {
   "cell_type": "code",
   "execution_count": 6,
   "id": "1a7e3af8",
   "metadata": {},
   "outputs": [],
   "source": [
    "# Rescale all the velocity fields\n",
    "scaler = MinMaxScaler()\n",
    "grids[:,:,:,:,:3] = scaler.fit_transform(grids[:,:,:,:,:3].reshape(-1, 1)).reshape(grids[:,:,:,:,:3].shape)"
   ]
  },
  {
   "cell_type": "code",
   "execution_count": 7,
   "id": "792bc4e4",
   "metadata": {},
   "outputs": [],
   "source": [
    "x_train, x_val = train_test_split(grids, test_size=0.1)"
   ]
  },
  {
   "cell_type": "markdown",
   "id": "0e063400",
   "metadata": {},
   "source": [
    "### Model setup"
   ]
  },
  {
   "cell_type": "code",
   "execution_count": 8,
   "id": "ded4d980",
   "metadata": {},
   "outputs": [
    {
     "name": "stdout",
     "output_type": "stream",
     "text": [
      "Model: \"sequential_2\"\n",
      "_________________________________________________________________\n",
      "Layer (type)                 Output Shape              Param #   \n",
      "=================================================================\n",
      "conv3d_7 (Conv3D)            (None, 20, 20, 60, 16)    1744      \n",
      "_________________________________________________________________\n",
      "max_pooling3d_3 (MaxPooling3 (None, 10, 10, 30, 16)    0         \n",
      "_________________________________________________________________\n",
      "conv3d_8 (Conv3D)            (None, 10, 10, 30, 8)     3464      \n",
      "_________________________________________________________________\n",
      "max_pooling3d_4 (MaxPooling3 (None, 5, 5, 15, 8)       0         \n",
      "_________________________________________________________________\n",
      "conv3d_9 (Conv3D)            (None, 5, 5, 15, 8)       1736      \n",
      "_________________________________________________________________\n",
      "max_pooling3d_5 (MaxPooling3 (None, 3, 3, 8, 8)        0         \n",
      "_________________________________________________________________\n",
      "flatten_1 (Flatten)          (None, 576)               0         \n",
      "_________________________________________________________________\n",
      "dense_2 (Dense)              (None, 10)                5770      \n",
      "=================================================================\n",
      "Total params: 12,714\n",
      "Trainable params: 12,714\n",
      "Non-trainable params: 0\n",
      "_________________________________________________________________\n",
      "None\n",
      "Model: \"sequential_3\"\n",
      "_________________________________________________________________\n",
      "Layer (type)                 Output Shape              Param #   \n",
      "=================================================================\n",
      "dense_3 (Dense)              (None, 576)               6336      \n",
      "_________________________________________________________________\n",
      "reshape_1 (Reshape)          (None, 3, 3, 8, 8)        0         \n",
      "_________________________________________________________________\n",
      "conv3d_10 (Conv3D)           (None, 3, 3, 8, 8)        1736      \n",
      "_________________________________________________________________\n",
      "up_sampling3d_3 (UpSampling3 (None, 6, 6, 16, 8)       0         \n",
      "_________________________________________________________________\n",
      "conv3d_11 (Conv3D)           (None, 6, 6, 16, 8)       1736      \n",
      "_________________________________________________________________\n",
      "up_sampling3d_4 (UpSampling3 (None, 12, 12, 32, 8)     0         \n",
      "_________________________________________________________________\n",
      "conv3d_12 (Conv3D)           (None, 12, 12, 32, 16)    3472      \n",
      "_________________________________________________________________\n",
      "up_sampling3d_5 (UpSampling3 (None, 24, 24, 64, 16)    0         \n",
      "_________________________________________________________________\n",
      "conv3d_13 (Conv3D)           (None, 24, 24, 64, 4)     1732      \n",
      "_________________________________________________________________\n",
      "cropping3d_1 (Cropping3D)    (None, 20, 20, 60, 4)     0         \n",
      "=================================================================\n",
      "Total params: 15,012\n",
      "Trainable params: 15,012\n",
      "Non-trainable params: 0\n",
      "_________________________________________________________________\n",
      "None\n"
     ]
    }
   ],
   "source": [
    "initializer = tf.keras.initializers.RandomNormal(mean=0.0, stddev=0.05, seed=None)\n",
    "optimizer = tf.keras.optimizers.Nadam(lr=0.00005, beta_1=0.9, beta_2=0.999)\n",
    "\n",
    "input_shape = (20, 20, 60, 4)\n",
    "\n",
    "encoder, decoder = build_omata_encoder_decoder(input_shape, 10, initializer, info=True, act='elu', dense_act='relu')\n",
    "\n",
    "cae = CAE(encoder, decoder, optimizer)\n",
    "cae.compile(input_shape)"
   ]
  },
  {
   "cell_type": "code",
   "execution_count": 9,
   "id": "2027c022",
   "metadata": {},
   "outputs": [],
   "source": [
    "cae.train(x_train, 100, val_data=x_val, batch_size=2)"
   ]
  },
  {
   "cell_type": "markdown",
   "id": "92d32d32",
   "metadata": {},
   "source": [
    "# Adversarial Autoencoder"
   ]
  },
  {
   "cell_type": "code",
   "execution_count": null,
   "id": "33268147",
   "metadata": {},
   "outputs": [],
   "source": []
  }
 ],
 "metadata": {
  "kernelspec": {
   "display_name": "Python 3",
   "language": "python",
   "name": "python3"
  },
  "language_info": {
   "codemirror_mode": {
    "name": "ipython",
    "version": 3
   },
   "file_extension": ".py",
   "mimetype": "text/x-python",
   "name": "python",
   "nbconvert_exporter": "python",
   "pygments_lexer": "ipython3",
   "version": "3.8.10"
  }
 },
 "nbformat": 4,
 "nbformat_minor": 5
}
