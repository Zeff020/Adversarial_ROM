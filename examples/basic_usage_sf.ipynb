{
 "cells": [
  {
   "cell_type": "code",
   "execution_count": 2,
   "id": "bf0f247d",
   "metadata": {},
   "outputs": [],
   "source": [
    "from ddganAE.models import AAE, AAE_combined_loss, CAE, SVDAE\n",
    "from ddganAE.architectures.cae.D3 import *\n",
    "from ddganAE.architectures.svdae import *\n",
    "from ddganAE.architectures.discriminators import *\n",
    "from ddganAE.preprocessing import convert_2d\n",
    "from keras.regularizers import l2\n",
    "from ddganAE.utils import calc_pod\n",
    "import tensorflow as tf\n",
    "from tensorflow.keras.layers.experimental import preprocessing\n",
    "import numpy as np\n",
    "import matplotlib.pyplot as plt\n",
    "from sklearn.preprocessing import StandardScaler, MinMaxScaler\n",
    "from sklearn.model_selection import train_test_split"
   ]
  },
  {
   "cell_type": "code",
   "execution_count": 3,
   "id": "516a06cd",
   "metadata": {},
   "outputs": [
    {
     "name": "stdout",
     "output_type": "stream",
     "text": [
      "[name: \"/device:CPU:0\"\n",
      "device_type: \"CPU\"\n",
      "memory_limit: 268435456\n",
      "locality {\n",
      "}\n",
      "incarnation: 66793723999485893\n",
      "]\n"
     ]
    }
   ],
   "source": [
    "from tensorflow.python.client import device_lib\n",
    "print(device_lib.list_local_devices())"
   ]
  },
  {
   "cell_type": "markdown",
   "id": "eb61de24",
   "metadata": {},
   "source": [
    "# Let's look at data"
   ]
  },
  {
   "cell_type": "code",
   "execution_count": 4,
   "id": "0c83df5f",
   "metadata": {},
   "outputs": [],
   "source": [
    "grids = np.load(\"./../submodules/DD-GAN/data/processed/sf_snapshots_200timesteps_rand.npy\")"
   ]
  },
  {
   "cell_type": "code",
   "execution_count": 5,
   "id": "02ca423e",
   "metadata": {},
   "outputs": [
    {
     "data": {
      "text/plain": [
       "(4000, 60, 20, 20, 4)"
      ]
     },
     "execution_count": 5,
     "metadata": {},
     "output_type": "execute_result"
    }
   ],
   "source": [
    "grids.shape"
   ]
  },
  {
   "cell_type": "code",
   "execution_count": 3,
   "id": "ad495e3a",
   "metadata": {},
   "outputs": [],
   "source": [
    "# Set all >0 to 0 and all <1 to 1 for alpha field\n",
    "grids[:,:,:,:,3][np.where(grids[:,:,:,:,3] < 0)] = 0\n",
    "grids[:,:,:,:,3][np.where(grids[:,:,:,:,3] > 1)] = 1"
   ]
  },
  {
   "cell_type": "code",
   "execution_count": 4,
   "id": "f38125e7",
   "metadata": {},
   "outputs": [],
   "source": [
    "# Rescale all the velocity fields\n",
    "scaler = MinMaxScaler()\n",
    "grids[:,:,:,:,:3] = scaler.fit_transform(grids[:,:,:,:,:3].reshape(-1, 1)).reshape(grids[:,:,:,:,:3].shape)"
   ]
  },
  {
   "cell_type": "code",
   "execution_count": 5,
   "id": "50177089",
   "metadata": {},
   "outputs": [
    {
     "data": {
      "text/plain": [
       "<matplotlib.contour.QuadContourSet at 0x7fb5d4f27ac0>"
      ]
     },
     "execution_count": 5,
     "metadata": {},
     "output_type": "execute_result"
    },
    {
     "data": {
      "image/png": "[encoded data removed]",
      "text/plain": [
       "<Figure size 432x288 with 1 Axes>"
      ]
     },
     "metadata": {
      "needs_background": "light"
     },
     "output_type": "display_data"
    }
   ],
   "source": [
    "grid = grids[3000, 10, :, :, 3]\n",
    "fig, ax = plt.subplots()\n",
    "ax.contourf(grid)"
   ]
  },
  {
   "cell_type": "code",
   "execution_count": 6,
   "id": "5201ae9b",
   "metadata": {},
   "outputs": [
    {
     "data": {
      "text/plain": [
       "(4000, 60, 20, 20, 4)"
      ]
     },
     "execution_count": 6,
     "metadata": {},
     "output_type": "execute_result"
    }
   ],
   "source": [
    "grids.shape"
   ]
  },
  {
   "cell_type": "markdown",
   "id": "d36266ef",
   "metadata": {},
   "source": [
    "# POD"
   ]
  },
  {
   "cell_type": "markdown",
   "id": "d315ea93",
   "metadata": {},
   "source": [
    "### Data preprocessing"
   ]
  },
  {
   "cell_type": "code",
   "execution_count": 7,
   "id": "7d8bfe79",
   "metadata": {},
   "outputs": [],
   "source": [
    "grids = np.load(\"./../submodules/DD-GAN/data/processed/sf_snapshots_2timesteps_notrand.npy\")\n",
    "# Set all >0 to 0 and all <1 to 1 for alpha field\n",
    "grids[:,:,:,:,3][np.where(grids[:,:,:,:,3] < 0)] = 0\n",
    "grids[:,:,:,:,3][np.where(grids[:,:,:,:,3] > 1)] = 1"
   ]
  },
  {
   "cell_type": "code",
   "execution_count": 8,
   "id": "2d935adf",
   "metadata": {},
   "outputs": [],
   "source": [
    "# Rescale all the velocity fields\n",
    "scaler = MinMaxScaler()\n",
    "grids[:,:,:,:,:3] = scaler.fit_transform(grids[:,:,:,:,:3].reshape(-1, 1)).reshape(grids[:,:,:,:,:3].shape)"
   ]
  },
  {
   "cell_type": "code",
   "execution_count": 9,
   "id": "31c9670c",
   "metadata": {},
   "outputs": [],
   "source": [
    "grids_long = np.moveaxis(np.moveaxis(grids, 4, 0), 1, 4).reshape((grids.shape[-1], grids.shape[1]*grids.shape[2]*grids.shape[3], grids.shape[0]))"
   ]
  },
  {
   "cell_type": "code",
   "execution_count": 10,
   "id": "a6f427f2",
   "metadata": {},
   "outputs": [
    {
     "data": {
      "text/plain": [
       "(4, 24000, 20)"
      ]
     },
     "execution_count": 10,
     "metadata": {},
     "output_type": "execute_result"
    }
   ],
   "source": [
    "grids_long.shape"
   ]
  },
  {
   "cell_type": "markdown",
   "id": "974a75cf",
   "metadata": {},
   "source": [
    "### Do actual pod"
   ]
  },
  {
   "cell_type": "code",
   "execution_count": 11,
   "id": "7090965e",
   "metadata": {},
   "outputs": [],
   "source": [
    "coeffs, R, s = calc_pod(grids_long, nPOD=10)"
   ]
  },
  {
   "cell_type": "markdown",
   "id": "ba428683",
   "metadata": {},
   "source": [
    "### Check reconstruction loss"
   ]
  },
  {
   "cell_type": "code",
   "execution_count": 12,
   "id": "03cffb8f",
   "metadata": {},
   "outputs": [
    {
     "name": "stdout",
     "output_type": "stream",
     "text": [
      "[[0.36692773 0.35572533 0.36191009 ... 0.302274   0.31618407 0.3117868 ]\n",
      " [0.36405241 0.35317233 0.35142523 ... 0.29843277 0.31100294 0.30647323]\n",
      " [0.36449341 0.35327822 0.3538105  ... 0.29907561 0.31152679 0.3068394 ]\n",
      " ...\n",
      " [0.90214491 0.89062138 0.8892434  ... 0.78062268 0.80242384 0.79369137]\n",
      " [0.90194255 0.89061864 0.88970088 ... 0.78173231 0.80292679 0.79454682]\n",
      " [0.90184238 0.8906173  0.88992733 ... 0.78228149 0.80317572 0.7949702 ]] \n",
      " [[0.35703304 0.35703304 0.35703304 ... 0.30065912 0.3220257  0.30020997]\n",
      " [0.35703304 0.35703304 0.35703304 ... 0.31459922 0.30087286 0.2770897 ]\n",
      " [0.35703304 0.35703304 0.35703304 ... 0.31458774 0.30147338 0.27534238]\n",
      " ...\n",
      " [0.8925826  0.8925826  0.8925826  ... 0.79801476 0.79199255 0.8128894 ]\n",
      " [0.8925826  0.8925826  0.8925826  ... 0.799796   0.7923931  0.8138338 ]\n",
      " [0.8925826  0.8925826  0.8925826  ... 0.8006776  0.79259133 0.8143012 ]]\n"
     ]
    },
    {
     "data": {
      "text/plain": [
       "True"
      ]
     },
     "execution_count": 12,
     "metadata": {},
     "output_type": "execute_result"
    }
   ],
   "source": [
    "# Reconstruct the first subgrid\n",
    "recon = R @ coeffs[0]\n",
    "print(recon, '\\n',\n",
    "      grids_long[0, :, :])\n",
    "\n",
    "np.allclose(recon, grids_long[0, :, :], atol=0.4)"
   ]
  },
  {
   "cell_type": "code",
   "execution_count": 17,
   "id": "bffc12b0",
   "metadata": {},
   "outputs": [
    {
     "name": "stdout",
     "output_type": "stream",
     "text": [
      "0.00024860071133114836\n"
     ]
    }
   ],
   "source": [
    "# Calculate MSE\n",
    "mean = 0\n",
    "recon_grid = np.zeros(grids_long.shape)\n",
    "for j in range(4):\n",
    "    recon = R @ coeffs[j]\n",
    "    for i in range(20):\n",
    "        mean += tf.keras.losses.MSE(recon[:, i], grids_long[j, :, i]).numpy()/80\n",
    "    recon_grid[j, :, :] = recon\n",
    "print(mean)"
   ]
  },
  {
   "cell_type": "code",
   "execution_count": 18,
   "id": "d4cd8670",
   "metadata": {},
   "outputs": [
    {
     "data": {
      "text/plain": [
       "(4, 10, 20)"
      ]
     },
     "execution_count": 18,
     "metadata": {},
     "output_type": "execute_result"
    }
   ],
   "source": [
    "np.array(coeffs).shape"
   ]
  },
  {
   "cell_type": "markdown",
   "id": "80bf0154",
   "metadata": {},
   "source": [
    "### Reconstruct back to original shape"
   ]
  },
  {
   "cell_type": "code",
   "execution_count": 19,
   "id": "3d2e51f2",
   "metadata": {},
   "outputs": [],
   "source": [
    "grids_recon = np.swapaxes(recon_grid, 0, 2).reshape(*grids.shape)"
   ]
  },
  {
   "cell_type": "code",
   "execution_count": 20,
   "id": "d67081f2",
   "metadata": {},
   "outputs": [
    {
     "data": {
      "text/plain": [
       "True"
      ]
     },
     "execution_count": 20,
     "metadata": {},
     "output_type": "execute_result"
    }
   ],
   "source": [
    "np.allclose(grids, grids_recon, atol=0.4)"
   ]
  },
  {
   "cell_type": "code",
   "execution_count": 26,
   "id": "71c92d3c",
   "metadata": {},
   "outputs": [
    {
     "data": {
      "text/plain": [
       "<matplotlib.contour.QuadContourSet at 0x7fde42871fa0>"
      ]
     },
     "execution_count": 26,
     "metadata": {},
     "output_type": "execute_result"
    },
    {
     "data": {
      "image/png": "[encoded data removed]",
      "text/plain": [
       "<Figure size 432x288 with 2 Axes>"
      ]
     },
     "metadata": {
      "needs_background": "light"
     },
     "output_type": "display_data"
    }
   ],
   "source": [
    "idx = 12\n",
    "grid = grids[idx, 10, :, :, 0]\n",
    "grid_recon = grids_recon[idx, 10, :, :, 0]\n",
    "fig, ax = plt.subplots(1,2)\n",
    "ax[0].contourf(grid)\n",
    "ax[1].contourf(grid_recon)"
   ]
  },
  {
   "cell_type": "markdown",
   "id": "de2ced2a",
   "metadata": {},
   "source": [
    "# Convolutional Autoencoder"
   ]
  },
  {
   "cell_type": "markdown",
   "id": "8cd2551c",
   "metadata": {},
   "source": [
    "### Data preprocessing"
   ]
  },
  {
   "cell_type": "code",
   "execution_count": 2,
   "id": "18889689",
   "metadata": {},
   "outputs": [],
   "source": [
    "grids = np.load(\"./../submodules/DD-GAN/data/processed/sf_snapshots_2timesteps_notrand.npy\")"
   ]
  },
  {
   "cell_type": "code",
   "execution_count": 3,
   "id": "e2a1161a",
   "metadata": {},
   "outputs": [
    {
     "data": {
      "text/plain": [
       "(20, 60, 20, 20, 4)"
      ]
     },
     "execution_count": 3,
     "metadata": {},
     "output_type": "execute_result"
    }
   ],
   "source": [
    "grids.shape"
   ]
  },
  {
   "cell_type": "code",
   "execution_count": 4,
   "id": "c6b341b9",
   "metadata": {},
   "outputs": [],
   "source": [
    "# Set all >0 to 0 and all <1 to 1 for alpha field\n",
    "grids[:,:,:,:,3][np.where(grids[:,:,:,:,3] < 0)] = 0\n",
    "grids[:,:,:,:,3][np.where(grids[:,:,:,:,3] > 1)] = 1"
   ]
  },
  {
   "cell_type": "code",
   "execution_count": 5,
   "id": "3bc50683",
   "metadata": {},
   "outputs": [],
   "source": [
    "# Rescale all the velocity fields\n",
    "scaler = MinMaxScaler()\n",
    "grids[:,:,:,:,:3] = scaler.fit_transform(grids[:,:,:,:,:3].reshape(-1, 1)).reshape(grids[:,:,:,:,:3].shape)"
   ]
  },
  {
   "cell_type": "code",
   "execution_count": 6,
   "id": "bd1e6c67",
   "metadata": {},
   "outputs": [],
   "source": [
    "x_train, x_val = train_test_split(grids, test_size=0.1)"
   ]
  },
  {
   "cell_type": "markdown",
   "id": "fa39f9d5",
   "metadata": {},
   "source": [
    "### Model setup"
   ]
  },
  {
   "cell_type": "code",
   "execution_count": 7,
   "id": "cb3c58d1",
   "metadata": {},
   "outputs": [
    {
     "name": "stdout",
     "output_type": "stream",
     "text": [
      "Model: \"sequential\"\n",
      "_________________________________________________________________\n",
      "Layer (type)                 Output Shape              Param #   \n",
      "=================================================================\n",
      "conv3d (Conv3D)              (None, 60, 20, 20, 32)    16032     \n",
      "_________________________________________________________________\n",
      "max_pooling3d (MaxPooling3D) (None, 30, 10, 10, 32)    0         \n",
      "_________________________________________________________________\n",
      "conv3d_1 (Conv3D)            (None, 30, 10, 10, 64)    55360     \n",
      "_________________________________________________________________\n",
      "max_pooling3d_1 (MaxPooling3 (None, 15, 5, 5, 64)      0         \n",
      "_________________________________________________________________\n",
      "conv3d_2 (Conv3D)            (None, 15, 5, 5, 64)      110656    \n",
      "_________________________________________________________________\n",
      "max_pooling3d_2 (MaxPooling3 (None, 8, 3, 3, 64)       0         \n",
      "_________________________________________________________________\n",
      "conv3d_3 (Conv3D)            (None, 8, 3, 3, 128)      221312    \n",
      "_________________________________________________________________\n",
      "max_pooling3d_3 (MaxPooling3 (None, 4, 2, 2, 128)      0         \n",
      "_________________________________________________________________\n",
      "flatten (Flatten)            (None, 2048)              0         \n",
      "_________________________________________________________________\n",
      "dense (Dense)                (None, 10)                20490     \n",
      "=================================================================\n",
      "Total params: 423,850\n",
      "Trainable params: 423,850\n",
      "Non-trainable params: 0\n",
      "_________________________________________________________________\n",
      "None\n",
      "Model: \"sequential_1\"\n",
      "_________________________________________________________________\n",
      "Layer (type)                 Output Shape              Param #   \n",
      "=================================================================\n",
      "dense_1 (Dense)              (None, 2048)              22528     \n",
      "_________________________________________________________________\n",
      "reshape (Reshape)            (None, 4, 2, 2, 128)      0         \n",
      "_________________________________________________________________\n",
      "conv3d_4 (Conv3D)            (None, 4, 2, 2, 128)      442496    \n",
      "_________________________________________________________________\n",
      "up_sampling3d (UpSampling3D) (None, 8, 4, 4, 128)      0         \n",
      "_________________________________________________________________\n",
      "conv3d_5 (Conv3D)            (None, 8, 4, 4, 64)       221248    \n",
      "_________________________________________________________________\n",
      "up_sampling3d_1 (UpSampling3 (None, 16, 8, 8, 64)      0         \n",
      "_________________________________________________________________\n",
      "conv3d_6 (Conv3D)            (None, 16, 8, 8, 64)      110656    \n",
      "_________________________________________________________________\n",
      "up_sampling3d_2 (UpSampling3 (None, 32, 16, 16, 64)    0         \n",
      "_________________________________________________________________\n",
      "conv3d_7 (Conv3D)            (None, 30, 14, 14, 32)    55328     \n",
      "_________________________________________________________________\n",
      "up_sampling3d_3 (UpSampling3 (None, 60, 28, 28, 32)    0         \n",
      "_________________________________________________________________\n",
      "conv3d_8 (Conv3D)            (None, 60, 28, 28, 4)     3460      \n",
      "_________________________________________________________________\n",
      "cropping3d (Cropping3D)      (None, 60, 20, 20, 4)     0         \n",
      "=================================================================\n",
      "Total params: 855,716\n",
      "Trainable params: 855,716\n",
      "Non-trainable params: 0\n",
      "_________________________________________________________________\n",
      "None\n"
     ]
    }
   ],
   "source": [
    "initializer = tf.keras.initializers.RandomNormal(mean=0.0, stddev=0.05, seed=None)\n",
    "optimizer = tf.keras.optimizers.Nadam(lr=0.00005, beta_1=0.9, beta_2=0.999)\n",
    "\n",
    "input_shape = (60, 20, 20, 4)\n",
    "\n",
    "encoder, decoder = build_deeper_omata_encoder_decoder(input_shape, 10, initializer, info=True, act='elu', dense_act='relu')\n",
    "\n",
    "cae = CAE(encoder, decoder, optimizer)\n",
    "cae.compile(input_shape)"
   ]
  },
  {
   "cell_type": "code",
   "execution_count": 8,
   "id": "8b5014a0",
   "metadata": {},
   "outputs": [
    {
     "ename": "KeyboardInterrupt",
     "evalue": "",
     "output_type": "error",
     "traceback": [
      "\u001b[0;31m---------------------------------------------------------------------------\u001b[0m",
      "\u001b[0;31mKeyboardInterrupt\u001b[0m                         Traceback (most recent call last)",
      "\u001b[0;32m<ipython-input-8-fd83a2298b9d>\u001b[0m in \u001b[0;36m<module>\u001b[0;34m\u001b[0m\n\u001b[0;32m----> 1\u001b[0;31m \u001b[0mcae\u001b[0m\u001b[0;34m.\u001b[0m\u001b[0mtrain\u001b[0m\u001b[0;34m(\u001b[0m\u001b[0mgrids\u001b[0m\u001b[0;34m,\u001b[0m \u001b[0;36m50\u001b[0m\u001b[0;34m,\u001b[0m \u001b[0mval_data\u001b[0m\u001b[0;34m=\u001b[0m\u001b[0mgrids\u001b[0m\u001b[0;34m,\u001b[0m \u001b[0mbatch_size\u001b[0m\u001b[0;34m=\u001b[0m\u001b[0;36m2\u001b[0m\u001b[0;34m)\u001b[0m\u001b[0;34m\u001b[0m\u001b[0;34m\u001b[0m\u001b[0m\n\u001b[0m",
      "\u001b[0;32m~/Documents/master/acse-9/DD-GAN-AE/ddganAE/models/cae.py\u001b[0m in \u001b[0;36mtrain\u001b[0;34m(self, train_data, epochs, val_data, batch_size, val_batch_size, wandb_log)\u001b[0m\n\u001b[1;32m     86\u001b[0m \u001b[0;34m\u001b[0m\u001b[0m\n\u001b[1;32m     87\u001b[0m                 \u001b[0;31m# Train the autoencoder reconstruction\u001b[0m\u001b[0;34m\u001b[0m\u001b[0;34m\u001b[0m\u001b[0;34m\u001b[0m\u001b[0m\n\u001b[0;32m---> 88\u001b[0;31m                 \u001b[0mloss\u001b[0m\u001b[0;34m,\u001b[0m \u001b[0macc\u001b[0m \u001b[0;34m=\u001b[0m \u001b[0mself\u001b[0m\u001b[0;34m.\u001b[0m\u001b[0mautoencoder\u001b[0m\u001b[0;34m.\u001b[0m\u001b[0mtrain_on_batch\u001b[0m\u001b[0;34m(\u001b[0m\u001b[0mgrids\u001b[0m\u001b[0;34m,\u001b[0m \u001b[0mgrids\u001b[0m\u001b[0;34m)\u001b[0m\u001b[0;34m\u001b[0m\u001b[0;34m\u001b[0m\u001b[0m\n\u001b[0m\u001b[1;32m     89\u001b[0m                 \u001b[0mloss_cum\u001b[0m \u001b[0;34m+=\u001b[0m \u001b[0mloss\u001b[0m\u001b[0;34m\u001b[0m\u001b[0;34m\u001b[0m\u001b[0m\n\u001b[1;32m     90\u001b[0m                 \u001b[0macc_cum\u001b[0m \u001b[0;34m+=\u001b[0m \u001b[0macc\u001b[0m\u001b[0;34m\u001b[0m\u001b[0;34m\u001b[0m\u001b[0m\n",
      "\u001b[0;32m~/miniconda3/envs/acse-9/lib/python3.8/site-packages/tensorflow/python/keras/engine/training.py\u001b[0m in \u001b[0;36mtrain_on_batch\u001b[0;34m(self, x, y, sample_weight, class_weight, reset_metrics, return_dict)\u001b[0m\n\u001b[1;32m   1725\u001b[0m                                                     class_weight)\n\u001b[1;32m   1726\u001b[0m       \u001b[0mself\u001b[0m\u001b[0;34m.\u001b[0m\u001b[0mtrain_function\u001b[0m \u001b[0;34m=\u001b[0m \u001b[0mself\u001b[0m\u001b[0;34m.\u001b[0m\u001b[0mmake_train_function\u001b[0m\u001b[0;34m(\u001b[0m\u001b[0;34m)\u001b[0m\u001b[0;34m\u001b[0m\u001b[0;34m\u001b[0m\u001b[0m\n\u001b[0;32m-> 1727\u001b[0;31m       \u001b[0mlogs\u001b[0m \u001b[0;34m=\u001b[0m \u001b[0mself\u001b[0m\u001b[0;34m.\u001b[0m\u001b[0mtrain_function\u001b[0m\u001b[0;34m(\u001b[0m\u001b[0miterator\u001b[0m\u001b[0;34m)\u001b[0m\u001b[0;34m\u001b[0m\u001b[0;34m\u001b[0m\u001b[0m\n\u001b[0m\u001b[1;32m   1728\u001b[0m \u001b[0;34m\u001b[0m\u001b[0m\n\u001b[1;32m   1729\u001b[0m     \u001b[0;32mif\u001b[0m \u001b[0mreset_metrics\u001b[0m\u001b[0;34m:\u001b[0m\u001b[0;34m\u001b[0m\u001b[0;34m\u001b[0m\u001b[0m\n",
      "\u001b[0;32m~/miniconda3/envs/acse-9/lib/python3.8/site-packages/tensorflow/python/eager/def_function.py\u001b[0m in \u001b[0;36m__call__\u001b[0;34m(self, *args, **kwds)\u001b[0m\n\u001b[1;32m    826\u001b[0m     \u001b[0mtracing_count\u001b[0m \u001b[0;34m=\u001b[0m \u001b[0mself\u001b[0m\u001b[0;34m.\u001b[0m\u001b[0mexperimental_get_tracing_count\u001b[0m\u001b[0;34m(\u001b[0m\u001b[0;34m)\u001b[0m\u001b[0;34m\u001b[0m\u001b[0;34m\u001b[0m\u001b[0m\n\u001b[1;32m    827\u001b[0m     \u001b[0;32mwith\u001b[0m \u001b[0mtrace\u001b[0m\u001b[0;34m.\u001b[0m\u001b[0mTrace\u001b[0m\u001b[0;34m(\u001b[0m\u001b[0mself\u001b[0m\u001b[0;34m.\u001b[0m\u001b[0m_name\u001b[0m\u001b[0;34m)\u001b[0m \u001b[0;32mas\u001b[0m \u001b[0mtm\u001b[0m\u001b[0;34m:\u001b[0m\u001b[0;34m\u001b[0m\u001b[0;34m\u001b[0m\u001b[0m\n\u001b[0;32m--> 828\u001b[0;31m       \u001b[0mresult\u001b[0m \u001b[0;34m=\u001b[0m \u001b[0mself\u001b[0m\u001b[0;34m.\u001b[0m\u001b[0m_call\u001b[0m\u001b[0;34m(\u001b[0m\u001b[0;34m*\u001b[0m\u001b[0margs\u001b[0m\u001b[0;34m,\u001b[0m \u001b[0;34m**\u001b[0m\u001b[0mkwds\u001b[0m\u001b[0;34m)\u001b[0m\u001b[0;34m\u001b[0m\u001b[0;34m\u001b[0m\u001b[0m\n\u001b[0m\u001b[1;32m    829\u001b[0m       \u001b[0mcompiler\u001b[0m \u001b[0;34m=\u001b[0m \u001b[0;34m\"xla\"\u001b[0m \u001b[0;32mif\u001b[0m \u001b[0mself\u001b[0m\u001b[0;34m.\u001b[0m\u001b[0m_experimental_compile\u001b[0m \u001b[0;32melse\u001b[0m \u001b[0;34m\"nonXla\"\u001b[0m\u001b[0;34m\u001b[0m\u001b[0;34m\u001b[0m\u001b[0m\n\u001b[1;32m    830\u001b[0m       \u001b[0mnew_tracing_count\u001b[0m \u001b[0;34m=\u001b[0m \u001b[0mself\u001b[0m\u001b[0;34m.\u001b[0m\u001b[0mexperimental_get_tracing_count\u001b[0m\u001b[0;34m(\u001b[0m\u001b[0;34m)\u001b[0m\u001b[0;34m\u001b[0m\u001b[0;34m\u001b[0m\u001b[0m\n",
      "\u001b[0;32m~/miniconda3/envs/acse-9/lib/python3.8/site-packages/tensorflow/python/eager/def_function.py\u001b[0m in \u001b[0;36m_call\u001b[0;34m(self, *args, **kwds)\u001b[0m\n\u001b[1;32m    853\u001b[0m       \u001b[0;31m# In this case we have created variables on the first call, so we run the\u001b[0m\u001b[0;34m\u001b[0m\u001b[0;34m\u001b[0m\u001b[0;34m\u001b[0m\u001b[0m\n\u001b[1;32m    854\u001b[0m       \u001b[0;31m# defunned version which is guaranteed to never create variables.\u001b[0m\u001b[0;34m\u001b[0m\u001b[0;34m\u001b[0m\u001b[0;34m\u001b[0m\u001b[0m\n\u001b[0;32m--> 855\u001b[0;31m       \u001b[0;32mreturn\u001b[0m \u001b[0mself\u001b[0m\u001b[0;34m.\u001b[0m\u001b[0m_stateless_fn\u001b[0m\u001b[0;34m(\u001b[0m\u001b[0;34m*\u001b[0m\u001b[0margs\u001b[0m\u001b[0;34m,\u001b[0m \u001b[0;34m**\u001b[0m\u001b[0mkwds\u001b[0m\u001b[0;34m)\u001b[0m  \u001b[0;31m# pylint: disable=not-callable\u001b[0m\u001b[0;34m\u001b[0m\u001b[0;34m\u001b[0m\u001b[0m\n\u001b[0m\u001b[1;32m    856\u001b[0m     \u001b[0;32melif\u001b[0m \u001b[0mself\u001b[0m\u001b[0;34m.\u001b[0m\u001b[0m_stateful_fn\u001b[0m \u001b[0;32mis\u001b[0m \u001b[0;32mnot\u001b[0m \u001b[0;32mNone\u001b[0m\u001b[0;34m:\u001b[0m\u001b[0;34m\u001b[0m\u001b[0;34m\u001b[0m\u001b[0m\n\u001b[1;32m    857\u001b[0m       \u001b[0;31m# Release the lock early so that multiple threads can perform the call\u001b[0m\u001b[0;34m\u001b[0m\u001b[0;34m\u001b[0m\u001b[0;34m\u001b[0m\u001b[0m\n",
      "\u001b[0;32m~/miniconda3/envs/acse-9/lib/python3.8/site-packages/tensorflow/python/eager/function.py\u001b[0m in \u001b[0;36m__call__\u001b[0;34m(self, *args, **kwargs)\u001b[0m\n\u001b[1;32m   2940\u001b[0m       (graph_function,\n\u001b[1;32m   2941\u001b[0m        filtered_flat_args) = self._maybe_define_function(args, kwargs)\n\u001b[0;32m-> 2942\u001b[0;31m     return graph_function._call_flat(\n\u001b[0m\u001b[1;32m   2943\u001b[0m         filtered_flat_args, captured_inputs=graph_function.captured_inputs)  # pylint: disable=protected-access\n\u001b[1;32m   2944\u001b[0m \u001b[0;34m\u001b[0m\u001b[0m\n",
      "\u001b[0;32m~/miniconda3/envs/acse-9/lib/python3.8/site-packages/tensorflow/python/eager/function.py\u001b[0m in \u001b[0;36m_call_flat\u001b[0;34m(self, args, captured_inputs, cancellation_manager)\u001b[0m\n\u001b[1;32m   1916\u001b[0m         and executing_eagerly):\n\u001b[1;32m   1917\u001b[0m       \u001b[0;31m# No tape is watching; skip to running the function.\u001b[0m\u001b[0;34m\u001b[0m\u001b[0;34m\u001b[0m\u001b[0;34m\u001b[0m\u001b[0m\n\u001b[0;32m-> 1918\u001b[0;31m       return self._build_call_outputs(self._inference_function.call(\n\u001b[0m\u001b[1;32m   1919\u001b[0m           ctx, args, cancellation_manager=cancellation_manager))\n\u001b[1;32m   1920\u001b[0m     forward_backward = self._select_forward_and_backward_functions(\n",
      "\u001b[0;32m~/miniconda3/envs/acse-9/lib/python3.8/site-packages/tensorflow/python/eager/function.py\u001b[0m in \u001b[0;36mcall\u001b[0;34m(self, ctx, args, cancellation_manager)\u001b[0m\n\u001b[1;32m    553\u001b[0m       \u001b[0;32mwith\u001b[0m \u001b[0m_InterpolateFunctionError\u001b[0m\u001b[0;34m(\u001b[0m\u001b[0mself\u001b[0m\u001b[0;34m)\u001b[0m\u001b[0;34m:\u001b[0m\u001b[0;34m\u001b[0m\u001b[0;34m\u001b[0m\u001b[0m\n\u001b[1;32m    554\u001b[0m         \u001b[0;32mif\u001b[0m \u001b[0mcancellation_manager\u001b[0m \u001b[0;32mis\u001b[0m \u001b[0;32mNone\u001b[0m\u001b[0;34m:\u001b[0m\u001b[0;34m\u001b[0m\u001b[0;34m\u001b[0m\u001b[0m\n\u001b[0;32m--> 555\u001b[0;31m           outputs = execute.execute(\n\u001b[0m\u001b[1;32m    556\u001b[0m               \u001b[0mstr\u001b[0m\u001b[0;34m(\u001b[0m\u001b[0mself\u001b[0m\u001b[0;34m.\u001b[0m\u001b[0msignature\u001b[0m\u001b[0;34m.\u001b[0m\u001b[0mname\u001b[0m\u001b[0;34m)\u001b[0m\u001b[0;34m,\u001b[0m\u001b[0;34m\u001b[0m\u001b[0;34m\u001b[0m\u001b[0m\n\u001b[1;32m    557\u001b[0m               \u001b[0mnum_outputs\u001b[0m\u001b[0;34m=\u001b[0m\u001b[0mself\u001b[0m\u001b[0;34m.\u001b[0m\u001b[0m_num_outputs\u001b[0m\u001b[0;34m,\u001b[0m\u001b[0;34m\u001b[0m\u001b[0;34m\u001b[0m\u001b[0m\n",
      "\u001b[0;32m~/miniconda3/envs/acse-9/lib/python3.8/site-packages/tensorflow/python/eager/execute.py\u001b[0m in \u001b[0;36mquick_execute\u001b[0;34m(op_name, num_outputs, inputs, attrs, ctx, name)\u001b[0m\n\u001b[1;32m     57\u001b[0m   \u001b[0;32mtry\u001b[0m\u001b[0;34m:\u001b[0m\u001b[0;34m\u001b[0m\u001b[0;34m\u001b[0m\u001b[0m\n\u001b[1;32m     58\u001b[0m     \u001b[0mctx\u001b[0m\u001b[0;34m.\u001b[0m\u001b[0mensure_initialized\u001b[0m\u001b[0;34m(\u001b[0m\u001b[0;34m)\u001b[0m\u001b[0;34m\u001b[0m\u001b[0;34m\u001b[0m\u001b[0m\n\u001b[0;32m---> 59\u001b[0;31m     tensors = pywrap_tfe.TFE_Py_Execute(ctx._handle, device_name, op_name,\n\u001b[0m\u001b[1;32m     60\u001b[0m                                         inputs, attrs, num_outputs)\n\u001b[1;32m     61\u001b[0m   \u001b[0;32mexcept\u001b[0m \u001b[0mcore\u001b[0m\u001b[0;34m.\u001b[0m\u001b[0m_NotOkStatusException\u001b[0m \u001b[0;32mas\u001b[0m \u001b[0me\u001b[0m\u001b[0;34m:\u001b[0m\u001b[0;34m\u001b[0m\u001b[0;34m\u001b[0m\u001b[0m\n",
      "\u001b[0;31mKeyboardInterrupt\u001b[0m: "
     ]
    }
   ],
   "source": [
    "cae.train(grids, 50, val_data=grids, batch_size=2)"
   ]
  },
  {
   "cell_type": "markdown",
   "id": "44c3a6e3",
   "metadata": {},
   "source": [
    "### Predict and generate outputs"
   ]
  },
  {
   "cell_type": "code",
   "execution_count": 9,
   "id": "f8117a69",
   "metadata": {},
   "outputs": [],
   "source": [
    "grids = np.load(\"./../submodules/DD-GAN/data/processed/sf_snapshots_2timesteps_notrand.npy\")\n",
    "\n",
    "# Set all >0 to 0 and all <1 to 1 for alpha field\n",
    "grids[:,:,:,:,3][np.where(grids[:,:,:,:,3] < 0)] = 0\n",
    "grids[:,:,:,:,3][np.where(grids[:,:,:,:,3] > 1)] = 1\n",
    "\n",
    "# Rescale all the velocity fields\n",
    "scaler = MinMaxScaler()\n",
    "grids[:,:,:,:,:3] = scaler.fit_transform(grids[:,:,:,:,:3].reshape(-1, 1)).reshape(grids[:,:,:,:,:3].shape)"
   ]
  },
  {
   "cell_type": "code",
   "execution_count": 10,
   "id": "16807ede",
   "metadata": {},
   "outputs": [],
   "source": [
    "out_grids = cae.predict(grids)"
   ]
  },
  {
   "cell_type": "code",
   "execution_count": 11,
   "id": "b5a64009",
   "metadata": {},
   "outputs": [
    {
     "data": {
      "text/plain": [
       "(20, 60, 20, 20, 4)"
      ]
     },
     "execution_count": 11,
     "metadata": {},
     "output_type": "execute_result"
    }
   ],
   "source": [
    "out_grids.shape"
   ]
  },
  {
   "cell_type": "code",
   "execution_count": 12,
   "id": "2f4f4364",
   "metadata": {},
   "outputs": [],
   "source": [
    "# reshape to (ngrids, nscalar, nx, ny, nz, ntime)\n",
    "np.save(\"cae_reconstruction_sf.npy\", out_grids)"
   ]
  },
  {
   "cell_type": "code",
   "execution_count": 13,
   "id": "3e5b3fd1",
   "metadata": {},
   "outputs": [
    {
     "data": {
      "text/plain": [
       "(20, 60, 20, 20, 4)"
      ]
     },
     "execution_count": 13,
     "metadata": {},
     "output_type": "execute_result"
    }
   ],
   "source": [
    "out_grids.shape"
   ]
  },
  {
   "cell_type": "code",
   "execution_count": 14,
   "id": "6ae50701",
   "metadata": {},
   "outputs": [],
   "source": [
    "out = out_grids[6, 10, :, :, 0]\n",
    "orig = grids[6, 10, :, :, 0]"
   ]
  },
  {
   "cell_type": "code",
   "execution_count": 15,
   "id": "ac1dfd35",
   "metadata": {},
   "outputs": [
    {
     "data": {
      "text/plain": [
       "<matplotlib.contour.QuadContourSet at 0x7fd3cc41b1c0>"
      ]
     },
     "execution_count": 15,
     "metadata": {},
     "output_type": "execute_result"
    },
    {
     "data": {
      "image/png": "[encoded data removed]",
      "text/plain": [
       "<Figure size 432x288 with 2 Axes>"
      ]
     },
     "metadata": {
      "needs_background": "light"
     },
     "output_type": "display_data"
    }
   ],
   "source": [
    "fig, ax = plt.subplots(1,2)\n",
    "ax[0].contourf(out)\n",
    "ax[1].contourf(orig)"
   ]
  },
  {
   "cell_type": "markdown",
   "id": "6486493f",
   "metadata": {},
   "source": [
    "# Adversarial Autoencoder"
   ]
  },
  {
   "cell_type": "markdown",
   "id": "e8670fe0",
   "metadata": {},
   "source": [
    "### Preprocessing"
   ]
  },
  {
   "cell_type": "code",
   "execution_count": 2,
   "id": "c15087e5",
   "metadata": {},
   "outputs": [],
   "source": [
    "grids = np.load(\"./../submodules/DD-GAN/data/processed/sf_snapshots_2timesteps_notrand.npy\")"
   ]
  },
  {
   "cell_type": "code",
   "execution_count": 3,
   "id": "95ab4f24",
   "metadata": {},
   "outputs": [],
   "source": [
    "# Set all >0 to 0 and all <1 to 1 for alpha field\n",
    "grids[:,:,:,:,3][np.where(grids[:,:,:,:,3] < 0)] = 0\n",
    "grids[:,:,:,:,3][np.where(grids[:,:,:,:,3] > 1)] = 1"
   ]
  },
  {
   "cell_type": "code",
   "execution_count": 4,
   "id": "162f5657",
   "metadata": {},
   "outputs": [],
   "source": [
    "# Rescale all the velocity fields\n",
    "scaler = MinMaxScaler()\n",
    "grids[:,:,:,:,:3] = scaler.fit_transform(grids[:,:,:,:,:3].reshape(-1, 1)).reshape(grids[:,:,:,:,:3].shape)"
   ]
  },
  {
   "cell_type": "code",
   "execution_count": 5,
   "id": "4bedc5b0",
   "metadata": {},
   "outputs": [],
   "source": [
    "x_train, x_val = train_test_split(grids, test_size=0.1)"
   ]
  },
  {
   "cell_type": "code",
   "execution_count": 6,
   "id": "84cdc5c2",
   "metadata": {},
   "outputs": [
    {
     "name": "stdout",
     "output_type": "stream",
     "text": [
      "Model: \"sequential\"\n",
      "_________________________________________________________________\n",
      "Layer (type)                 Output Shape              Param #   \n",
      "=================================================================\n",
      "conv3d (Conv3D)              (None, 60, 20, 20, 32)    16032     \n",
      "_________________________________________________________________\n",
      "max_pooling3d (MaxPooling3D) (None, 30, 10, 10, 32)    0         \n",
      "_________________________________________________________________\n",
      "conv3d_1 (Conv3D)            (None, 30, 10, 10, 64)    55360     \n",
      "_________________________________________________________________\n",
      "max_pooling3d_1 (MaxPooling3 (None, 15, 5, 5, 64)      0         \n",
      "_________________________________________________________________\n",
      "conv3d_2 (Conv3D)            (None, 15, 5, 5, 64)      110656    \n",
      "_________________________________________________________________\n",
      "max_pooling3d_2 (MaxPooling3 (None, 8, 3, 3, 64)       0         \n",
      "_________________________________________________________________\n",
      "conv3d_3 (Conv3D)            (None, 8, 3, 3, 128)      221312    \n",
      "_________________________________________________________________\n",
      "max_pooling3d_3 (MaxPooling3 (None, 4, 2, 2, 128)      0         \n",
      "_________________________________________________________________\n",
      "flatten (Flatten)            (None, 2048)              0         \n",
      "_________________________________________________________________\n",
      "dense (Dense)                (None, 10)                20490     \n",
      "=================================================================\n",
      "Total params: 423,850\n",
      "Trainable params: 423,850\n",
      "Non-trainable params: 0\n",
      "_________________________________________________________________\n",
      "None\n",
      "Model: \"sequential_1\"\n",
      "_________________________________________________________________\n",
      "Layer (type)                 Output Shape              Param #   \n",
      "=================================================================\n",
      "dense_1 (Dense)              (None, 2048)              22528     \n",
      "_________________________________________________________________\n",
      "reshape (Reshape)            (None, 4, 2, 2, 128)      0         \n",
      "_________________________________________________________________\n",
      "conv3d_4 (Conv3D)            (None, 4, 2, 2, 128)      442496    \n",
      "_________________________________________________________________\n",
      "up_sampling3d (UpSampling3D) (None, 8, 4, 4, 128)      0         \n",
      "_________________________________________________________________\n",
      "conv3d_5 (Conv3D)            (None, 8, 4, 4, 64)       221248    \n",
      "_________________________________________________________________\n",
      "up_sampling3d_1 (UpSampling3 (None, 16, 8, 8, 64)      0         \n",
      "_________________________________________________________________\n",
      "conv3d_6 (Conv3D)            (None, 16, 8, 8, 64)      110656    \n",
      "_________________________________________________________________\n",
      "up_sampling3d_2 (UpSampling3 (None, 32, 16, 16, 64)    0         \n",
      "_________________________________________________________________\n",
      "conv3d_7 (Conv3D)            (None, 30, 14, 14, 32)    55328     \n",
      "_________________________________________________________________\n",
      "up_sampling3d_3 (UpSampling3 (None, 60, 28, 28, 32)    0         \n",
      "_________________________________________________________________\n",
      "conv3d_8 (Conv3D)            (None, 60, 28, 28, 4)     3460      \n",
      "_________________________________________________________________\n",
      "cropping3d (Cropping3D)      (None, 60, 20, 20, 4)     0         \n",
      "=================================================================\n",
      "Total params: 855,716\n",
      "Trainable params: 855,716\n",
      "Non-trainable params: 0\n",
      "_________________________________________________________________\n",
      "None\n",
      "Model: \"sequential_2\"\n",
      "_________________________________________________________________\n",
      "Layer (type)                 Output Shape              Param #   \n",
      "=================================================================\n",
      "dense_2 (Dense)              (None, 100)               1100      \n",
      "_________________________________________________________________\n",
      "dense_3 (Dense)              (None, 500)               50500     \n",
      "_________________________________________________________________\n",
      "dense_4 (Dense)              (None, 1)                 501       \n",
      "=================================================================\n",
      "Total params: 52,101\n",
      "Trainable params: 52,101\n",
      "Non-trainable params: 0\n",
      "_________________________________________________________________\n",
      "None\n"
     ]
    }
   ],
   "source": [
    "initializer = tf.keras.initializers.RandomNormal(mean=0.0, stddev=0.05, seed=None)\n",
    "optimizer = tf.keras.optimizers.Nadam(lr=0.00005, beta_1=0.9, beta_2=0.999)\n",
    "\n",
    "input_shape = (60, 20, 20, 4)\n",
    "\n",
    "encoder, decoder = build_deeper_omata_encoder_decoder(input_shape, 10, initializer, info=True, act='elu', dense_act='relu')\n",
    "discriminator = build_custom_discriminator(10, initializer, info=True)\n",
    "\n",
    "aae = AAE_combined_loss(encoder, decoder, discriminator, optimizer)\n",
    "aae.compile(input_shape)"
   ]
  },
  {
   "cell_type": "code",
   "execution_count": 7,
   "id": "f3b905d5",
   "metadata": {},
   "outputs": [
    {
     "ename": "KeyboardInterrupt",
     "evalue": "",
     "output_type": "error",
     "traceback": [
      "\u001b[0;31m---------------------------------------------------------------------------\u001b[0m",
      "\u001b[0;31mKeyboardInterrupt\u001b[0m                         Traceback (most recent call last)",
      "\u001b[0;32m<ipython-input-7-2d8aed3ca2f9>\u001b[0m in \u001b[0;36m<module>\u001b[0;34m\u001b[0m\n\u001b[0;32m----> 1\u001b[0;31m \u001b[0maae\u001b[0m\u001b[0;34m.\u001b[0m\u001b[0mtrain\u001b[0m\u001b[0;34m(\u001b[0m\u001b[0mx_train\u001b[0m\u001b[0;34m,\u001b[0m \u001b[0;36m50\u001b[0m\u001b[0;34m,\u001b[0m \u001b[0mval_data\u001b[0m\u001b[0;34m=\u001b[0m\u001b[0mx_val\u001b[0m\u001b[0;34m,\u001b[0m \u001b[0mbatch_size\u001b[0m\u001b[0;34m=\u001b[0m\u001b[0;36m2\u001b[0m\u001b[0;34m,\u001b[0m \u001b[0mval_batch_size\u001b[0m\u001b[0;34m=\u001b[0m\u001b[0;36m2\u001b[0m\u001b[0;34m)\u001b[0m\u001b[0;34m\u001b[0m\u001b[0;34m\u001b[0m\u001b[0m\n\u001b[0m",
      "\u001b[0;32m~/Documents/master/acse-9/DD-GAN-AE/ddganAE/models/aae.py\u001b[0m in \u001b[0;36mtrain\u001b[0;34m(self, train_data, epochs, val_data, batch_size, val_batch_size, wandb_log, n_discriminator)\u001b[0m\n\u001b[1;32m    324\u001b[0m             \u001b[0;32mfor\u001b[0m \u001b[0mstep\u001b[0m\u001b[0;34m,\u001b[0m \u001b[0mgrids\u001b[0m \u001b[0;32min\u001b[0m \u001b[0menumerate\u001b[0m\u001b[0;34m(\u001b[0m\u001b[0mtrain_dataset\u001b[0m\u001b[0;34m)\u001b[0m\u001b[0;34m:\u001b[0m\u001b[0;34m\u001b[0m\u001b[0;34m\u001b[0m\u001b[0m\n\u001b[1;32m    325\u001b[0m \u001b[0;34m\u001b[0m\u001b[0m\n\u001b[0;32m--> 326\u001b[0;31m                 \u001b[0mlatent_fake\u001b[0m \u001b[0;34m=\u001b[0m \u001b[0mself\u001b[0m\u001b[0;34m.\u001b[0m\u001b[0mencoder\u001b[0m\u001b[0;34m.\u001b[0m\u001b[0mpredict\u001b[0m\u001b[0;34m(\u001b[0m\u001b[0mgrids\u001b[0m\u001b[0;34m)\u001b[0m\u001b[0;34m\u001b[0m\u001b[0;34m\u001b[0m\u001b[0m\n\u001b[0m\u001b[1;32m    327\u001b[0m                 latent_real = np.random.normal(size=(batch_size,\n\u001b[1;32m    328\u001b[0m                                                      self.latent_dim))\n",
      "\u001b[0;32m~/miniconda3/envs/acse-9/lib/python3.8/site-packages/tensorflow/python/keras/engine/training.py\u001b[0m in \u001b[0;36mpredict\u001b[0;34m(self, x, batch_size, verbose, steps, callbacks, max_queue_size, workers, use_multiprocessing)\u001b[0m\n\u001b[1;32m   1627\u001b[0m           \u001b[0;32mfor\u001b[0m \u001b[0mstep\u001b[0m \u001b[0;32min\u001b[0m \u001b[0mdata_handler\u001b[0m\u001b[0;34m.\u001b[0m\u001b[0msteps\u001b[0m\u001b[0;34m(\u001b[0m\u001b[0;34m)\u001b[0m\u001b[0;34m:\u001b[0m\u001b[0;34m\u001b[0m\u001b[0;34m\u001b[0m\u001b[0m\n\u001b[1;32m   1628\u001b[0m             \u001b[0mcallbacks\u001b[0m\u001b[0;34m.\u001b[0m\u001b[0mon_predict_batch_begin\u001b[0m\u001b[0;34m(\u001b[0m\u001b[0mstep\u001b[0m\u001b[0;34m)\u001b[0m\u001b[0;34m\u001b[0m\u001b[0;34m\u001b[0m\u001b[0m\n\u001b[0;32m-> 1629\u001b[0;31m             \u001b[0mtmp_batch_outputs\u001b[0m \u001b[0;34m=\u001b[0m \u001b[0mself\u001b[0m\u001b[0;34m.\u001b[0m\u001b[0mpredict_function\u001b[0m\u001b[0;34m(\u001b[0m\u001b[0miterator\u001b[0m\u001b[0;34m)\u001b[0m\u001b[0;34m\u001b[0m\u001b[0;34m\u001b[0m\u001b[0m\n\u001b[0m\u001b[1;32m   1630\u001b[0m             \u001b[0;32mif\u001b[0m \u001b[0mdata_handler\u001b[0m\u001b[0;34m.\u001b[0m\u001b[0mshould_sync\u001b[0m\u001b[0;34m:\u001b[0m\u001b[0;34m\u001b[0m\u001b[0;34m\u001b[0m\u001b[0m\n\u001b[1;32m   1631\u001b[0m               \u001b[0mcontext\u001b[0m\u001b[0;34m.\u001b[0m\u001b[0masync_wait\u001b[0m\u001b[0;34m(\u001b[0m\u001b[0;34m)\u001b[0m\u001b[0;34m\u001b[0m\u001b[0;34m\u001b[0m\u001b[0m\n",
      "\u001b[0;32m~/miniconda3/envs/acse-9/lib/python3.8/site-packages/tensorflow/python/eager/def_function.py\u001b[0m in \u001b[0;36m__call__\u001b[0;34m(self, *args, **kwds)\u001b[0m\n\u001b[1;32m    826\u001b[0m     \u001b[0mtracing_count\u001b[0m \u001b[0;34m=\u001b[0m \u001b[0mself\u001b[0m\u001b[0;34m.\u001b[0m\u001b[0mexperimental_get_tracing_count\u001b[0m\u001b[0;34m(\u001b[0m\u001b[0;34m)\u001b[0m\u001b[0;34m\u001b[0m\u001b[0;34m\u001b[0m\u001b[0m\n\u001b[1;32m    827\u001b[0m     \u001b[0;32mwith\u001b[0m \u001b[0mtrace\u001b[0m\u001b[0;34m.\u001b[0m\u001b[0mTrace\u001b[0m\u001b[0;34m(\u001b[0m\u001b[0mself\u001b[0m\u001b[0;34m.\u001b[0m\u001b[0m_name\u001b[0m\u001b[0;34m)\u001b[0m \u001b[0;32mas\u001b[0m \u001b[0mtm\u001b[0m\u001b[0;34m:\u001b[0m\u001b[0;34m\u001b[0m\u001b[0;34m\u001b[0m\u001b[0m\n\u001b[0;32m--> 828\u001b[0;31m       \u001b[0mresult\u001b[0m \u001b[0;34m=\u001b[0m \u001b[0mself\u001b[0m\u001b[0;34m.\u001b[0m\u001b[0m_call\u001b[0m\u001b[0;34m(\u001b[0m\u001b[0;34m*\u001b[0m\u001b[0margs\u001b[0m\u001b[0;34m,\u001b[0m \u001b[0;34m**\u001b[0m\u001b[0mkwds\u001b[0m\u001b[0;34m)\u001b[0m\u001b[0;34m\u001b[0m\u001b[0;34m\u001b[0m\u001b[0m\n\u001b[0m\u001b[1;32m    829\u001b[0m       \u001b[0mcompiler\u001b[0m \u001b[0;34m=\u001b[0m \u001b[0;34m\"xla\"\u001b[0m \u001b[0;32mif\u001b[0m \u001b[0mself\u001b[0m\u001b[0;34m.\u001b[0m\u001b[0m_experimental_compile\u001b[0m \u001b[0;32melse\u001b[0m \u001b[0;34m\"nonXla\"\u001b[0m\u001b[0;34m\u001b[0m\u001b[0;34m\u001b[0m\u001b[0m\n\u001b[1;32m    830\u001b[0m       \u001b[0mnew_tracing_count\u001b[0m \u001b[0;34m=\u001b[0m \u001b[0mself\u001b[0m\u001b[0;34m.\u001b[0m\u001b[0mexperimental_get_tracing_count\u001b[0m\u001b[0;34m(\u001b[0m\u001b[0;34m)\u001b[0m\u001b[0;34m\u001b[0m\u001b[0;34m\u001b[0m\u001b[0m\n",
      "\u001b[0;32m~/miniconda3/envs/acse-9/lib/python3.8/site-packages/tensorflow/python/eager/def_function.py\u001b[0m in \u001b[0;36m_call\u001b[0;34m(self, *args, **kwds)\u001b[0m\n\u001b[1;32m    860\u001b[0m       \u001b[0;31m# In this case we have not created variables on the first call. So we can\u001b[0m\u001b[0;34m\u001b[0m\u001b[0;34m\u001b[0m\u001b[0;34m\u001b[0m\u001b[0m\n\u001b[1;32m    861\u001b[0m       \u001b[0;31m# run the first trace but we should fail if variables are created.\u001b[0m\u001b[0;34m\u001b[0m\u001b[0;34m\u001b[0m\u001b[0;34m\u001b[0m\u001b[0m\n\u001b[0;32m--> 862\u001b[0;31m       \u001b[0mresults\u001b[0m \u001b[0;34m=\u001b[0m \u001b[0mself\u001b[0m\u001b[0;34m.\u001b[0m\u001b[0m_stateful_fn\u001b[0m\u001b[0;34m(\u001b[0m\u001b[0;34m*\u001b[0m\u001b[0margs\u001b[0m\u001b[0;34m,\u001b[0m \u001b[0;34m**\u001b[0m\u001b[0mkwds\u001b[0m\u001b[0;34m)\u001b[0m\u001b[0;34m\u001b[0m\u001b[0;34m\u001b[0m\u001b[0m\n\u001b[0m\u001b[1;32m    863\u001b[0m       \u001b[0;32mif\u001b[0m \u001b[0mself\u001b[0m\u001b[0;34m.\u001b[0m\u001b[0m_created_variables\u001b[0m\u001b[0;34m:\u001b[0m\u001b[0;34m\u001b[0m\u001b[0;34m\u001b[0m\u001b[0m\n\u001b[1;32m    864\u001b[0m         raise ValueError(\"Creating variables on a non-first call to a function\"\n",
      "\u001b[0;32m~/miniconda3/envs/acse-9/lib/python3.8/site-packages/tensorflow/python/eager/function.py\u001b[0m in \u001b[0;36m__call__\u001b[0;34m(self, *args, **kwargs)\u001b[0m\n\u001b[1;32m   2940\u001b[0m       (graph_function,\n\u001b[1;32m   2941\u001b[0m        filtered_flat_args) = self._maybe_define_function(args, kwargs)\n\u001b[0;32m-> 2942\u001b[0;31m     return graph_function._call_flat(\n\u001b[0m\u001b[1;32m   2943\u001b[0m         filtered_flat_args, captured_inputs=graph_function.captured_inputs)  # pylint: disable=protected-access\n\u001b[1;32m   2944\u001b[0m \u001b[0;34m\u001b[0m\u001b[0m\n",
      "\u001b[0;32m~/miniconda3/envs/acse-9/lib/python3.8/site-packages/tensorflow/python/eager/function.py\u001b[0m in \u001b[0;36m_call_flat\u001b[0;34m(self, args, captured_inputs, cancellation_manager)\u001b[0m\n\u001b[1;32m   1916\u001b[0m         and executing_eagerly):\n\u001b[1;32m   1917\u001b[0m       \u001b[0;31m# No tape is watching; skip to running the function.\u001b[0m\u001b[0;34m\u001b[0m\u001b[0;34m\u001b[0m\u001b[0;34m\u001b[0m\u001b[0m\n\u001b[0;32m-> 1918\u001b[0;31m       return self._build_call_outputs(self._inference_function.call(\n\u001b[0m\u001b[1;32m   1919\u001b[0m           ctx, args, cancellation_manager=cancellation_manager))\n\u001b[1;32m   1920\u001b[0m     forward_backward = self._select_forward_and_backward_functions(\n",
      "\u001b[0;32m~/miniconda3/envs/acse-9/lib/python3.8/site-packages/tensorflow/python/eager/function.py\u001b[0m in \u001b[0;36mcall\u001b[0;34m(self, ctx, args, cancellation_manager)\u001b[0m\n\u001b[1;32m    553\u001b[0m       \u001b[0;32mwith\u001b[0m \u001b[0m_InterpolateFunctionError\u001b[0m\u001b[0;34m(\u001b[0m\u001b[0mself\u001b[0m\u001b[0;34m)\u001b[0m\u001b[0;34m:\u001b[0m\u001b[0;34m\u001b[0m\u001b[0;34m\u001b[0m\u001b[0m\n\u001b[1;32m    554\u001b[0m         \u001b[0;32mif\u001b[0m \u001b[0mcancellation_manager\u001b[0m \u001b[0;32mis\u001b[0m \u001b[0;32mNone\u001b[0m\u001b[0;34m:\u001b[0m\u001b[0;34m\u001b[0m\u001b[0;34m\u001b[0m\u001b[0m\n\u001b[0;32m--> 555\u001b[0;31m           outputs = execute.execute(\n\u001b[0m\u001b[1;32m    556\u001b[0m               \u001b[0mstr\u001b[0m\u001b[0;34m(\u001b[0m\u001b[0mself\u001b[0m\u001b[0;34m.\u001b[0m\u001b[0msignature\u001b[0m\u001b[0;34m.\u001b[0m\u001b[0mname\u001b[0m\u001b[0;34m)\u001b[0m\u001b[0;34m,\u001b[0m\u001b[0;34m\u001b[0m\u001b[0;34m\u001b[0m\u001b[0m\n\u001b[1;32m    557\u001b[0m               \u001b[0mnum_outputs\u001b[0m\u001b[0;34m=\u001b[0m\u001b[0mself\u001b[0m\u001b[0;34m.\u001b[0m\u001b[0m_num_outputs\u001b[0m\u001b[0;34m,\u001b[0m\u001b[0;34m\u001b[0m\u001b[0;34m\u001b[0m\u001b[0m\n",
      "\u001b[0;32m~/miniconda3/envs/acse-9/lib/python3.8/site-packages/tensorflow/python/eager/execute.py\u001b[0m in \u001b[0;36mquick_execute\u001b[0;34m(op_name, num_outputs, inputs, attrs, ctx, name)\u001b[0m\n\u001b[1;32m     57\u001b[0m   \u001b[0;32mtry\u001b[0m\u001b[0;34m:\u001b[0m\u001b[0;34m\u001b[0m\u001b[0;34m\u001b[0m\u001b[0m\n\u001b[1;32m     58\u001b[0m     \u001b[0mctx\u001b[0m\u001b[0;34m.\u001b[0m\u001b[0mensure_initialized\u001b[0m\u001b[0;34m(\u001b[0m\u001b[0;34m)\u001b[0m\u001b[0;34m\u001b[0m\u001b[0;34m\u001b[0m\u001b[0m\n\u001b[0;32m---> 59\u001b[0;31m     tensors = pywrap_tfe.TFE_Py_Execute(ctx._handle, device_name, op_name,\n\u001b[0m\u001b[1;32m     60\u001b[0m                                         inputs, attrs, num_outputs)\n\u001b[1;32m     61\u001b[0m   \u001b[0;32mexcept\u001b[0m \u001b[0mcore\u001b[0m\u001b[0;34m.\u001b[0m\u001b[0m_NotOkStatusException\u001b[0m \u001b[0;32mas\u001b[0m \u001b[0me\u001b[0m\u001b[0;34m:\u001b[0m\u001b[0;34m\u001b[0m\u001b[0;34m\u001b[0m\u001b[0m\n",
      "\u001b[0;31mKeyboardInterrupt\u001b[0m: "
     ]
    }
   ],
   "source": [
    "aae.train(x_train, 50, val_data=x_val, batch_size=2, val_batch_size=2)"
   ]
  },
  {
   "cell_type": "markdown",
   "id": "5ceaef2f",
   "metadata": {},
   "source": [
    "# SVD Autoencoder"
   ]
  },
  {
   "cell_type": "markdown",
   "id": "a727787a",
   "metadata": {},
   "source": [
    "### Preprocessing"
   ]
  },
  {
   "cell_type": "code",
   "execution_count": 2,
   "id": "bf386a7b",
   "metadata": {},
   "outputs": [],
   "source": [
    "grids = np.load(\"./../submodules/DD-GAN/data/processed/sf_snapshots_2timesteps_notrand.npy\")\n",
    "# Set all >0 to 0 and all <1 to 1 for alpha field\n",
    "grids[:,:,:,:,3][np.where(grids[:,:,:,:,3] < 0)] = 0\n",
    "grids[:,:,:,:,3][np.where(grids[:,:,:,:,3] > 1)] = 1"
   ]
  },
  {
   "cell_type": "code",
   "execution_count": 3,
   "id": "2c0f42fc",
   "metadata": {},
   "outputs": [],
   "source": [
    "# Rescale all the velocity fields\n",
    "scaler = MinMaxScaler()\n",
    "grids[:,:,:,:,:3] = scaler.fit_transform(grids[:,:,:,:,:3].reshape(-1, 1)).reshape(grids[:,:,:,:,:3].shape)"
   ]
  },
  {
   "cell_type": "code",
   "execution_count": 4,
   "id": "818b7e25",
   "metadata": {},
   "outputs": [],
   "source": [
    "x_train, x_val = train_test_split(grids, test_size=0.1 )"
   ]
  },
  {
   "cell_type": "code",
   "execution_count": 5,
   "id": "3d7660aa",
   "metadata": {},
   "outputs": [],
   "source": [
    "x_train_long = np.moveaxis(np.moveaxis(x_train, 4, 0), 1, 4).reshape((x_train.shape[-1], x_train.shape[1]*x_train.shape[2]*x_train.shape[3], x_train.shape[0]))\n",
    "x_val_long = np.moveaxis(np.moveaxis(x_val, 4, 0), 1, 4).reshape((x_val.shape[-1], x_val.shape[1]*x_val.shape[2]*x_val.shape[3], x_val.shape[0]))"
   ]
  },
  {
   "cell_type": "markdown",
   "id": "b8837133",
   "metadata": {},
   "source": [
    "### Set up model"
   ]
  },
  {
   "cell_type": "code",
   "execution_count": 6,
   "id": "10d47b32",
   "metadata": {},
   "outputs": [
    {
     "name": "stdout",
     "output_type": "stream",
     "text": [
      "Model: \"sequential\"\n",
      "_________________________________________________________________\n",
      "Layer (type)                 Output Shape              Param #   \n",
      "=================================================================\n",
      "dense (Dense)                (None, 8192)              827392    \n",
      "_________________________________________________________________\n",
      "dropout (Dropout)            (None, 8192)              0         \n",
      "_________________________________________________________________\n",
      "reshape (Reshape)            (None, 8, 8, 128)         0         \n",
      "_________________________________________________________________\n",
      "conv2d (Conv2D)              (None, 8, 8, 128)         147584    \n",
      "_________________________________________________________________\n",
      "max_pooling2d (MaxPooling2D) (None, 4, 4, 128)         0         \n",
      "_________________________________________________________________\n",
      "conv2d_1 (Conv2D)            (None, 4, 4, 64)          73792     \n",
      "_________________________________________________________________\n",
      "max_pooling2d_1 (MaxPooling2 (None, 2, 2, 64)          0         \n",
      "_________________________________________________________________\n",
      "flatten (Flatten)            (None, 256)               0         \n",
      "_________________________________________________________________\n",
      "dense_1 (Dense)              (None, 10)                2570      \n",
      "=================================================================\n",
      "Total params: 1,051,338\n",
      "Trainable params: 1,051,338\n",
      "Non-trainable params: 0\n",
      "_________________________________________________________________\n",
      "Model: \"sequential_1\"\n",
      "_________________________________________________________________\n",
      "Layer (type)                 Output Shape              Param #   \n",
      "=================================================================\n",
      "dense_2 (Dense)              (None, 256)               2816      \n",
      "_________________________________________________________________\n",
      "dropout_1 (Dropout)          (None, 256)               0         \n",
      "_________________________________________________________________\n",
      "reshape_1 (Reshape)          (None, 2, 2, 64)          0         \n",
      "_________________________________________________________________\n",
      "conv2d_2 (Conv2D)            (None, 2, 2, 64)          36928     \n",
      "_________________________________________________________________\n",
      "up_sampling2d (UpSampling2D) (None, 4, 4, 64)          0         \n",
      "_________________________________________________________________\n",
      "conv2d_3 (Conv2D)            (None, 4, 4, 128)         73856     \n",
      "_________________________________________________________________\n",
      "up_sampling2d_1 (UpSampling2 (None, 8, 8, 128)         0         \n",
      "_________________________________________________________________\n",
      "flatten_1 (Flatten)          (None, 8192)              0         \n",
      "_________________________________________________________________\n",
      "dense_3 (Dense)              (None, 100)               819300    \n",
      "=================================================================\n",
      "Total params: 932,900\n",
      "Trainable params: 932,900\n",
      "Non-trainable params: 0\n",
      "_________________________________________________________________\n",
      "None None\n"
     ]
    }
   ],
   "source": [
    "initializer = tf.keras.initializers.RandomNormal(mean=0.0, stddev=0.05, seed=None)\n",
    "optimizer = tf.keras.optimizers.Nadam(lr=0.0005, beta_1=0.98, beta_2=0.99999)\n",
    "\n",
    "encoder, decoder = build_vinicius_encoder_decoder(100, 10, initializer, act='elu', dense_act='relu', info=True, reg=0, dropout=0.55, batchnorm=False)"
   ]
  },
  {
   "cell_type": "code",
   "execution_count": 7,
   "id": "217fb545",
   "metadata": {},
   "outputs": [],
   "source": [
    "svdae = SVDAE(encoder, decoder, optimizer)\n",
    "svdae.compile(100, weight_loss=False)\n",
    "\n",
    "# Only set this when loading in the model\n",
    "#svdae.R = np.load(\"R_svdae.npy\")"
   ]
  },
  {
   "cell_type": "code",
   "execution_count": 8,
   "id": "da7de3fb",
   "metadata": {},
   "outputs": [],
   "source": [
    "svdae.train(x_train_long, 150, val_data=x_val_long, batch_size=2, val_batch_size=2)"
   ]
  },
  {
   "cell_type": "code",
   "execution_count": 15,
   "id": "fac57b4a",
   "metadata": {},
   "outputs": [
    {
     "data": {
      "text/plain": [
       "(24000,)"
      ]
     },
     "execution_count": 15,
     "metadata": {},
     "output_type": "execute_result"
    }
   ],
   "source": [
    "original = x_train_long[0, :, 15]\n",
    "original.shape"
   ]
  },
  {
   "cell_type": "code",
   "execution_count": 16,
   "id": "42b6a820",
   "metadata": {},
   "outputs": [
    {
     "data": {
      "text/plain": [
       "<matplotlib.contour.QuadContourSet at 0x7f10e877b160>"
      ]
     },
     "execution_count": 16,
     "metadata": {},
     "output_type": "execute_result"
    },
    {
     "data": {
      "image/png": "[encoded data removed]",
      "text/plain": [
       "<Figure size 432x288 with 2 Axes>"
      ]
     },
     "metadata": {
      "needs_background": "light"
     },
     "output_type": "display_data"
    }
   ],
   "source": [
    "result = svdae.predict_single(original)\n",
    "result = result.reshape((1, 60, 20, 20, 1))\n",
    "\n",
    "original = original.reshape((1, 60, 20, 20, 1))\n",
    "\n",
    "fig, ax = plt.subplots(1,2)\n",
    "ax[0].contourf(result[0][0, :, :, 0])\n",
    "ax[1].contourf(original[0][0, :, :, 0])"
   ]
  },
  {
   "cell_type": "code",
   "execution_count": null,
   "id": "da357171",
   "metadata": {},
   "outputs": [],
   "source": [
    "Create data on the fly! Keep randomly sampling!"
   ]
  },
  {
   "cell_type": "code",
   "execution_count": 8,
   "id": "617f0489",
   "metadata": {},
   "outputs": [],
   "source": [
    "# Configuration options for hyperparameter optimization\n",
    "cae_sweep_config = {\n",
    "    \"method\": \"random\",\n",
    "    \"metric\": {\"name\": \"valid_loss\", \"goal\": \"minimize\"},\n",
    "    \"parameters\": {\n",
    "        \"architecture\": {\"values\": [\"denser_omata\",\n",
    "                                    \"densest_thinner_omata\", \"omata\",\n",
    "                                    \"wide_omata\"]},\n",
    "        \"activation\": {\"values\": [\"elu\", \"sigmoid\", \"relu\", \"tanh\"]},\n",
    "        \"dense_activation\": {\"values\": [\"relu\", None]},\n",
    "        \"batch_size\": {\"values\": [32, 64, 128]},\n",
    "        \"learning_rate\": {\"values\": [5e-3, 5e-4, 5e-5, 5e-6]},\n",
    "        \"optimizer\": {\"values\": [\"nadam\", \"adam\", \"sgd\"]},\n",
    "        \"momentum\": {\"values\": [0.8, 0.9, 0.98]},\n",
    "        \"beta_2\": {\"values\": [0.9, 0.999, 0.99999]},\n",
    "        \"savemodel\": {\"values\": [False]}\n",
    "    },\n",
    "}\n",
    "\n",
    "import json\n",
    "with open('data.json', 'w', encoding='utf-8') as f:\n",
    "    json.dump(cae_sweep_config, f, ensure_ascii=False, indent=4)"
   ]
  },
  {
   "cell_type": "code",
   "execution_count": null,
   "id": "7330e6ad",
   "metadata": {},
   "outputs": [],
   "source": []
  }
 ],
 "metadata": {
  "kernelspec": {
   "display_name": "Python 3",
   "language": "python",
   "name": "python3"
  },
  "language_info": {
   "codemirror_mode": {
    "name": "ipython",
    "version": 3
   },
   "file_extension": ".py",
   "mimetype": "text/x-python",
   "name": "python",
   "nbconvert_exporter": "python",
   "pygments_lexer": "ipython3",
   "version": "3.8.10"
  }
 },
 "nbformat": 4,
 "nbformat_minor": 5
}
