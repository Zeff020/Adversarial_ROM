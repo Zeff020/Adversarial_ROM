{
 "cells": [
  {
   "cell_type": "code",
   "execution_count": 1,
   "id": "bf0f247d",
   "metadata": {},
   "outputs": [],
   "source": [
    "from ddganAE.models import AAE, AAE_combined_loss, CAE, SVDAE\n",
    "from ddganAE.architectures.cae.D3 import *\n",
    "from ddganAE.architectures.svdae import *\n",
    "from ddganAE.architectures.discriminators import *\n",
    "from ddganAE.preprocessing import convert_2d\n",
    "from keras.regularizers import l2\n",
    "from ddganAE.utils import calc_pod\n",
    "import tensorflow as tf\n",
    "from tensorflow.keras.layers.experimental import preprocessing\n",
    "import numpy as np\n",
    "import matplotlib.pyplot as plt\n",
    "from sklearn.preprocessing import StandardScaler, MinMaxScaler\n",
    "from sklearn.model_selection import train_test_split\n",
    "from scipy.sparse.linalg import svds, eigs"
   ]
  },
  {
   "cell_type": "code",
   "execution_count": 2,
   "id": "516a06cd",
   "metadata": {},
   "outputs": [
    {
     "name": "stdout",
     "output_type": "stream",
     "text": [
      "[name: \"/device:CPU:0\"\n",
      "device_type: \"CPU\"\n",
      "memory_limit: 268435456\n",
      "locality {\n",
      "}\n",
      "incarnation: 3676631181635456400\n",
      "]\n"
     ]
    }
   ],
   "source": [
    "from tensorflow.python.client import device_lib\n",
    "print(device_lib.list_local_devices())"
   ]
  },
  {
   "cell_type": "markdown",
   "id": "eb61de24",
   "metadata": {},
   "source": [
    "# Let's look at data"
   ]
  },
  {
   "cell_type": "code",
   "execution_count": 15,
   "id": "0c83df5f",
   "metadata": {},
   "outputs": [],
   "source": [
    "grids = np.load(\"./../submodules/DD-GAN/data/processed/sf_snapshots_800steps_notrand.npy\")"
   ]
  },
  {
   "cell_type": "code",
   "execution_count": 16,
   "id": "02ca423e",
   "metadata": {},
   "outputs": [
    {
     "data": {
      "text/plain": [
       "(8000, 60, 20, 20, 4)"
      ]
     },
     "execution_count": 16,
     "metadata": {},
     "output_type": "execute_result"
    }
   ],
   "source": [
    "grids.shape"
   ]
  },
  {
   "cell_type": "code",
   "execution_count": 17,
   "id": "e196672e",
   "metadata": {},
   "outputs": [
    {
     "data": {
      "text/plain": [
       "170782.55"
      ]
     },
     "execution_count": 17,
     "metadata": {},
     "output_type": "execute_result"
    }
   ],
   "source": [
    "np.sum(grids[:,:,:,:,1])"
   ]
  },
  {
   "cell_type": "code",
   "execution_count": 18,
   "id": "ad495e3a",
   "metadata": {},
   "outputs": [],
   "source": [
    "# Set all >0 to 0 and all <1 to 1 for alpha field\n",
    "\n",
    "\n",
    "grids[:,:,:,:,3][np.where(grids[:,:,:,:,3] < 0)] = 0\n",
    "grids[:,:,:,:,3][np.where(grids[:,:,:,:,3] > 1)] = 1"
   ]
  },
  {
   "cell_type": "code",
   "execution_count": 33,
   "id": "b1c1bd50",
   "metadata": {},
   "outputs": [
    {
     "data": {
      "text/plain": [
       "(array([  342.,   316.,   360.,   425.,   426.,   501.,   550.,   602.,\n",
       "          647.,   719.,   777.,   898.,   961.,  1129.,  1287.,  1250.,\n",
       "         1466.,  1615.,  1779.,  2011.,  2205.,  2431.,  2642.,  2870.,\n",
       "         3068.,  3313.,  3745.,  4096.,  4341.,  4699.,  5090.,  5389.,\n",
       "         6126.,  6316.,  6891.,  7398.,  8104.,  8321.,  8988.,  9543.,\n",
       "         9978., 10525., 10988., 11328., 11907., 12046., 12507., 12414.,\n",
       "        12531., 12275., 12002., 11968., 11807., 12011., 11143., 10945.,\n",
       "        10693., 10357.,  9872.,  9428.,  8997.,  8685.,  8281.,  7598.,\n",
       "         7381.,  6993.,  6302.,  6088.,  5466.,  5227.,  4907.,  4454.,\n",
       "         4130.,  3741.,  3373.,  3102.,  2767.,  2516.,  2322.,  2171.,\n",
       "         1868.,  1705.,  1652.,  1439.,  1259.,  1129.,  1039.,   961.,\n",
       "          833.,   764.,   701.,   591.,   587.,   483.,   449.,   432.,\n",
       "          388.,   368.,   312.,   256.]),\n",
       " array([-0.1  , -0.098, -0.096, -0.094, -0.092, -0.09 , -0.088, -0.086,\n",
       "        -0.084, -0.082, -0.08 , -0.078, -0.076, -0.074, -0.072, -0.07 ,\n",
       "        -0.068, -0.066, -0.064, -0.062, -0.06 , -0.058, -0.056, -0.054,\n",
       "        -0.052, -0.05 , -0.048, -0.046, -0.044, -0.042, -0.04 , -0.038,\n",
       "        -0.036, -0.034, -0.032, -0.03 , -0.028, -0.026, -0.024, -0.022,\n",
       "        -0.02 , -0.018, -0.016, -0.014, -0.012, -0.01 , -0.008, -0.006,\n",
       "        -0.004, -0.002,  0.   ,  0.002,  0.004,  0.006,  0.008,  0.01 ,\n",
       "         0.012,  0.014,  0.016,  0.018,  0.02 ,  0.022,  0.024,  0.026,\n",
       "         0.028,  0.03 ,  0.032,  0.034,  0.036,  0.038,  0.04 ,  0.042,\n",
       "         0.044,  0.046,  0.048,  0.05 ,  0.052,  0.054,  0.056,  0.058,\n",
       "         0.06 ,  0.062,  0.064,  0.066,  0.068,  0.07 ,  0.072,  0.074,\n",
       "         0.076,  0.078,  0.08 ,  0.082,  0.084,  0.086,  0.088,  0.09 ,\n",
       "         0.092,  0.094,  0.096,  0.098,  0.1  ], dtype=float32),\n",
       " <BarContainer object of 100 artists>)"
      ]
     },
     "execution_count": 33,
     "metadata": {},
     "output_type": "execute_result"
    },
    {
     "data": {
      "image/png": "[encoded data removed]",
      "text/plain": [
       "<Figure size 432x288 with 1 Axes>"
      ]
     },
     "metadata": {
      "needs_background": "light"
     },
     "output_type": "display_data"
    }
   ],
   "source": [
    "plt.hist(grids[80:100,:,:,:,1].reshape(-1), bins=100, range=(-0.1, 0.1))"
   ]
  },
  {
   "cell_type": "code",
   "execution_count": null,
   "id": "56b3e7a1",
   "metadata": {},
   "outputs": [],
   "source": []
  },
  {
   "cell_type": "code",
   "execution_count": 34,
   "id": "54656ff2",
   "metadata": {},
   "outputs": [
    {
     "data": {
      "text/plain": [
       "240002"
      ]
     },
     "execution_count": 34,
     "metadata": {},
     "output_type": "execute_result"
    }
   ],
   "source": [
    "np.sum(grids[:,:,:,:,2] == 0)"
   ]
  },
  {
   "cell_type": "code",
   "execution_count": 35,
   "id": "683ceac4",
   "metadata": {},
   "outputs": [],
   "source": [
    "grids_minav = grids[:,:,:,:,:3] - np.mean(grids[:,:,:,:,:3])"
   ]
  },
  {
   "cell_type": "code",
   "execution_count": 36,
   "id": "3c01270d",
   "metadata": {},
   "outputs": [
    {
     "data": {
      "text/plain": [
       "(array([4.00000000e+00, 1.00000000e+00, 6.50000000e+01, 1.59000000e+02,\n",
       "        1.00900000e+03, 1.28920000e+04, 2.62232000e+05, 2.51568690e+07,\n",
       "        3.61601084e+08, 2.00104660e+07, 6.19924590e+07, 3.90769140e+07,\n",
       "        3.09748330e+07, 1.87032780e+07, 7.91446600e+06, 4.55104100e+06,\n",
       "        3.00706800e+06, 1.55671100e+06, 7.19271000e+05, 3.14306000e+05,\n",
       "        1.10804000e+05, 2.63900000e+04, 6.02800000e+03, 1.15500000e+03,\n",
       "        2.88000000e+02, 1.21000000e+02, 5.70000000e+01, 1.90000000e+01,\n",
       "        3.00000000e+00, 7.00000000e+00]),\n",
       " array([-7.918031  , -7.065709  , -6.213387  , -5.3610654 , -4.5087433 ,\n",
       "        -3.6564212 , -2.8040993 , -1.9517773 , -1.0994552 , -0.2471333 ,\n",
       "         0.60518867,  1.4575107 ,  2.3098326 ,  3.1621547 ,  4.014477  ,\n",
       "         4.8667984 ,  5.7191205 ,  6.5714426 ,  7.4237647 ,  8.276087  ,\n",
       "         9.128408  ,  9.980731  , 10.833053  , 11.685374  , 12.537697  ,\n",
       "        13.390018  , 14.24234   , 15.094663  , 15.946984  , 16.799307  ,\n",
       "        17.651628  ], dtype=float32),\n",
       " <BarContainer object of 30 artists>)"
      ]
     },
     "execution_count": 36,
     "metadata": {},
     "output_type": "execute_result"
    },
    {
     "data": {
      "image/png": "[encoded data removed]",
      "text/plain": [
       "<Figure size 432x288 with 1 Axes>"
      ]
     },
     "metadata": {
      "needs_background": "light"
     },
     "output_type": "display_data"
    }
   ],
   "source": [
    "plt.hist(grids_minav.reshape(-1), bins=30)"
   ]
  },
  {
   "cell_type": "code",
   "execution_count": 8,
   "id": "f38125e7",
   "metadata": {},
   "outputs": [],
   "source": [
    "# Rescale all the velocity fields\n",
    "\n",
    "# Try scaling fields individually\n",
    "\n",
    "scaler = MinMaxScaler()\n",
    "grids[:,:,:,:,:3] = scaler.fit_transform(grids[:,:,:,:,:3].reshape(-1, 1)).reshape(grids[:,:,:,:,:3].shape)"
   ]
  },
  {
   "cell_type": "code",
   "execution_count": 9,
   "id": "50177089",
   "metadata": {},
   "outputs": [
    {
     "ename": "IndexError",
     "evalue": "index 3000 is out of bounds for axis 0 with size 20",
     "output_type": "error",
     "traceback": [
      "\u001b[0;31m---------------------------------------------------------------------------\u001b[0m",
      "\u001b[0;31mIndexError\u001b[0m                                Traceback (most recent call last)",
      "\u001b[0;32m<ipython-input-9-c054e28762e3>\u001b[0m in \u001b[0;36m<module>\u001b[0;34m\u001b[0m\n\u001b[0;32m----> 1\u001b[0;31m \u001b[0mgrid\u001b[0m \u001b[0;34m=\u001b[0m \u001b[0mgrids\u001b[0m\u001b[0;34m[\u001b[0m\u001b[0;36m3000\u001b[0m\u001b[0;34m,\u001b[0m \u001b[0;36m10\u001b[0m\u001b[0;34m,\u001b[0m \u001b[0;34m:\u001b[0m\u001b[0;34m,\u001b[0m \u001b[0;34m:\u001b[0m\u001b[0;34m,\u001b[0m \u001b[0;36m3\u001b[0m\u001b[0;34m]\u001b[0m\u001b[0;34m\u001b[0m\u001b[0;34m\u001b[0m\u001b[0m\n\u001b[0m\u001b[1;32m      2\u001b[0m \u001b[0mfig\u001b[0m\u001b[0;34m,\u001b[0m \u001b[0max\u001b[0m \u001b[0;34m=\u001b[0m \u001b[0mplt\u001b[0m\u001b[0;34m.\u001b[0m\u001b[0msubplots\u001b[0m\u001b[0;34m(\u001b[0m\u001b[0;34m)\u001b[0m\u001b[0;34m\u001b[0m\u001b[0;34m\u001b[0m\u001b[0m\n\u001b[1;32m      3\u001b[0m \u001b[0max\u001b[0m\u001b[0;34m.\u001b[0m\u001b[0mcontourf\u001b[0m\u001b[0;34m(\u001b[0m\u001b[0mgrid\u001b[0m\u001b[0;34m)\u001b[0m\u001b[0;34m\u001b[0m\u001b[0;34m\u001b[0m\u001b[0m\n",
      "\u001b[0;31mIndexError\u001b[0m: index 3000 is out of bounds for axis 0 with size 20"
     ]
    }
   ],
   "source": [
    "grid = grids[3000, 10, :, :, 3]\n",
    "fig, ax = plt.subplots()\n",
    "ax.contourf(grid)"
   ]
  },
  {
   "cell_type": "code",
   "execution_count": 10,
   "id": "5201ae9b",
   "metadata": {},
   "outputs": [
    {
     "data": {
      "text/plain": [
       "(20, 60, 20, 20, 4)"
      ]
     },
     "execution_count": 10,
     "metadata": {},
     "output_type": "execute_result"
    }
   ],
   "source": [
    "grids.shape"
   ]
  },
  {
   "cell_type": "markdown",
   "id": "d36266ef",
   "metadata": {},
   "source": [
    "# POD"
   ]
  },
  {
   "cell_type": "markdown",
   "id": "d315ea93",
   "metadata": {},
   "source": [
    "### Data preprocessing"
   ]
  },
  {
   "cell_type": "code",
   "execution_count": 47,
   "id": "7d8bfe79",
   "metadata": {},
   "outputs": [],
   "source": [
    "grids = np.load(\"./../submodules/DD-GAN/data/processed/sf_snapshots_800steps_notrand.npy\")\n",
    "# Set all >0 to 0 and all <1 to 1 for alpha field\n",
    "grids[:,:,:,:,3][np.where(grids[:,:,:,:,3] < 0)] = 0\n",
    "grids[:,:,:,:,3][np.where(grids[:,:,:,:,3] > 1)] = 1"
   ]
  },
  {
   "cell_type": "code",
   "execution_count": 48,
   "id": "ad3d2642",
   "metadata": {},
   "outputs": [
    {
     "data": {
      "text/plain": [
       "(8000, 60, 20, 20, 4)"
      ]
     },
     "execution_count": 48,
     "metadata": {},
     "output_type": "execute_result"
    }
   ],
   "source": [
    "grids.shape"
   ]
  },
  {
   "cell_type": "code",
   "execution_count": 49,
   "id": "2d935adf",
   "metadata": {},
   "outputs": [],
   "source": [
    "# Rescale all the velocity fields\n",
    "scaler = MinMaxScaler()\n",
    "grids[:,:,:,:,:3] = grids[:,:,:,:,:3] - np.mean(grids[:,:,:,:,:3])\n",
    "grids[:,:,:,:,:3] = scaler.fit_transform(grids[:,:,:,:,:3].reshape(-1, 1)).reshape(grids[:,:,:,:,:3].shape)"
   ]
  },
  {
   "cell_type": "code",
   "execution_count": 50,
   "id": "260a9cb5",
   "metadata": {},
   "outputs": [
    {
     "data": {
      "text/plain": [
       "0.30967274"
      ]
     },
     "execution_count": 50,
     "metadata": {},
     "output_type": "execute_result"
    }
   ],
   "source": [
    "np.mean(grids[:,:,:,:,:3])"
   ]
  },
  {
   "cell_type": "code",
   "execution_count": 51,
   "id": "2bb9f868",
   "metadata": {},
   "outputs": [],
   "source": [
    "grids_reshaped = grids.reshape((int(grids.shape[0]/10), 10, grids.shape[1], grids.shape[2], grids.shape[3], grids.shape[4]))\n",
    "grids_long = np.moveaxis(grids_reshaped, 1, 5).reshape((grids_reshaped.shape[0], -1, grids_reshaped.shape[1]))\n",
    "grids_long = np.swapaxes(grids_long, 0, 2)"
   ]
  },
  {
   "cell_type": "markdown",
   "id": "974a75cf",
   "metadata": {},
   "source": [
    "### Do actual pod"
   ]
  },
  {
   "cell_type": "code",
   "execution_count": 52,
   "id": "7090965e",
   "metadata": {},
   "outputs": [
    {
     "name": "stdout",
     "output_type": "stream",
     "text": [
      "SSmatrix (8000, 8000)\n"
     ]
    }
   ],
   "source": [
    "coeffs, R, s = calc_pod(grids_long, nPOD=10)"
   ]
  },
  {
   "cell_type": "code",
   "execution_count": 53,
   "id": "3d0ae6e8",
   "metadata": {},
   "outputs": [
    {
     "data": {
      "text/plain": [
       "(10, 96000, 800)"
      ]
     },
     "execution_count": 53,
     "metadata": {},
     "output_type": "execute_result"
    }
   ],
   "source": [
    "grids_long.shape"
   ]
  },
  {
   "cell_type": "code",
   "execution_count": 54,
   "id": "f84e8f07",
   "metadata": {},
   "outputs": [],
   "source": [
    "np.save(\"coeffs\", coeffs)\n",
    "np.save(\"R\", R)"
   ]
  },
  {
   "cell_type": "markdown",
   "id": "ba428683",
   "metadata": {},
   "source": [
    "### Check reconstruction loss"
   ]
  },
  {
   "cell_type": "code",
   "execution_count": 55,
   "id": "03cffb8f",
   "metadata": {},
   "outputs": [
    {
     "name": "stdout",
     "output_type": "stream",
     "text": [
      "[[0.37239499 0.36889276 0.36838554 ... 0.34658897 0.34671825 0.34686577]\n",
      " [0.27527709 0.27108689 0.27034591 ... 0.27206136 0.27202311 0.27200238]\n",
      " [0.27537939 0.27102399 0.27019121 ... 0.27115152 0.27111214 0.27109326]\n",
      " ...\n",
      " [0.27542806 0.27084932 0.26984714 ... 0.27524186 0.27516751 0.27511119]\n",
      " [0.27594349 0.27225244 0.27177349 ... 0.27202771 0.27202905 0.27204377]\n",
      " [0.99017322 0.99704339 1.00410297 ... 0.06791485 0.07446092 0.0804375 ]] \n",
      " [[0.3484773  0.35124916 0.35127985 ... 0.35105097 0.35107026 0.3510788 ]\n",
      " [0.27025962 0.27023235 0.270426   ... 0.27061093 0.2706107  0.27060437]\n",
      " [0.27025962 0.27010944 0.2704057  ... 0.27061543 0.27057827 0.2706132 ]\n",
      " ...\n",
      " [0.27025962 0.27291393 0.27421522 ... 0.279011   0.27796963 0.27988467]\n",
      " [0.27025962 0.2677752  0.2729421  ... 0.28555048 0.2842072  0.2795431 ]\n",
      " [1.         1.         1.         ... 0.01005683 0.00990777 0.01018753]]\n"
     ]
    },
    {
     "data": {
      "text/plain": [
       "False"
      ]
     },
     "execution_count": 55,
     "metadata": {},
     "output_type": "execute_result"
    }
   ],
   "source": [
    "# Reconstruct the first subgrid\n",
    "recon = R @ coeffs[0]\n",
    "print(recon, '\\n',\n",
    "      grids_long[0, :, :])\n",
    "\n",
    "np.allclose(recon, grids_long[0, :, :], atol=0.2)"
   ]
  },
  {
   "cell_type": "code",
   "execution_count": 56,
   "id": "bffc12b0",
   "metadata": {},
   "outputs": [
    {
     "name": "stdout",
     "output_type": "stream",
     "text": [
      "0.0021950925407295437\n"
     ]
    }
   ],
   "source": [
    "# Calculate MSE\n",
    "mean = 0\n",
    "recon_grid = np.zeros(grids_long.shape)\n",
    "for j in range(10):\n",
    "    recon = R @ coeffs[j]\n",
    "    for i in range(800):\n",
    "        mean += tf.keras.losses.MSE(recon[:, i], grids_long[j, :, i]).numpy()/8000\n",
    "    recon_grid[j, :, :] = recon\n",
    "print(mean)"
   ]
  },
  {
   "cell_type": "code",
   "execution_count": 57,
   "id": "b7b0d63e",
   "metadata": {},
   "outputs": [
    {
     "data": {
      "text/plain": [
       "(10, 96000, 800)"
      ]
     },
     "execution_count": 57,
     "metadata": {},
     "output_type": "execute_result"
    }
   ],
   "source": [
    "recon_grid.shape"
   ]
  },
  {
   "cell_type": "code",
   "execution_count": 58,
   "id": "f45d74f9",
   "metadata": {},
   "outputs": [
    {
     "data": {
      "text/plain": [
       "0.0021950925333260314"
      ]
     },
     "execution_count": 58,
     "metadata": {},
     "output_type": "execute_result"
    }
   ],
   "source": [
    "0.0021950925333260314"
   ]
  },
  {
   "cell_type": "markdown",
   "id": "80bf0154",
   "metadata": {},
   "source": [
    "### Reconstruct back to original shape and rescale"
   ]
  },
  {
   "cell_type": "code",
   "execution_count": null,
   "id": "3d2e51f2",
   "metadata": {},
   "outputs": [],
   "source": [
    "grids_recon = np.moveaxis(recon_grid, 2, 0).reshape(*grids.shape)\n",
    "grids_recon[:,:,:,:,:3] = scaler.inverse_transform(grids_recon[:,:,:,:,:3].reshape(-1, 1)).reshape(grids_recon[:,:,:,:,:3].shape)\n",
    "#grids_recon[:,:,:,:,:3] += np.mean(grids[:,:,:,:,:3])"
   ]
  },
  {
   "cell_type": "code",
   "execution_count": null,
   "id": "a83c9b9d",
   "metadata": {},
   "outputs": [],
   "source": []
  },
  {
   "cell_type": "code",
   "execution_count": null,
   "id": "71c92d3c",
   "metadata": {},
   "outputs": [],
   "source": [
    "idx = 2000\n",
    "grid = grids[idx, 10, :, :, 0]\n",
    "grid_recon = grids_recon[idx, 10, :, :, 0]\n",
    "fig, ax = plt.subplots(1,2)\n",
    "ax[0].contourf(grid)\n",
    "ax[1].contourf(grid_recon)"
   ]
  },
  {
   "cell_type": "code",
   "execution_count": null,
   "id": "ead8eb64",
   "metadata": {},
   "outputs": [],
   "source": [
    "# reshape to (ngrids, nscalar, nx, ny, nz, ntime)\n",
    "np.save(\"pod_10vars_prediction_sf.npy\", grids_recon[:, :, :, :, :])"
   ]
  },
  {
   "cell_type": "code",
   "execution_count": 26,
   "id": "f9f25dc6",
   "metadata": {},
   "outputs": [
    {
     "data": {
      "text/plain": [
       "(8000, 60, 20, 20, 4)"
      ]
     },
     "execution_count": 26,
     "metadata": {},
     "output_type": "execute_result"
    }
   ],
   "source": [
    "grids_recon.shape"
   ]
  },
  {
   "cell_type": "markdown",
   "id": "de2ced2a",
   "metadata": {},
   "source": [
    "# Convolutional Autoencoder"
   ]
  },
  {
   "cell_type": "markdown",
   "id": "8cd2551c",
   "metadata": {},
   "source": [
    "### Data preprocessing"
   ]
  },
  {
   "cell_type": "code",
   "execution_count": 2,
   "id": "18889689",
   "metadata": {},
   "outputs": [],
   "source": [
    "grids = np.load(\"./../submodules/DD-GAN/data/processed/sf_snapshots_2timesteps_notrand.npy\")"
   ]
  },
  {
   "cell_type": "code",
   "execution_count": 3,
   "id": "e2a1161a",
   "metadata": {},
   "outputs": [
    {
     "data": {
      "text/plain": [
       "(20, 60, 20, 20, 4)"
      ]
     },
     "execution_count": 3,
     "metadata": {},
     "output_type": "execute_result"
    }
   ],
   "source": [
    "grids.shape"
   ]
  },
  {
   "cell_type": "code",
   "execution_count": 4,
   "id": "c6b341b9",
   "metadata": {},
   "outputs": [],
   "source": [
    "# Set all >0 to 0 and all <1 to 1 for alpha field\n",
    "grids[:,:,:,:,3][np.where(grids[:,:,:,:,3] < 0)] = 0\n",
    "grids[:,:,:,:,3][np.where(grids[:,:,:,:,3] > 1)] = 1"
   ]
  },
  {
   "cell_type": "code",
   "execution_count": 5,
   "id": "3bc50683",
   "metadata": {},
   "outputs": [],
   "source": [
    "# Rescale all the velocity fields\n",
    "scaler = MinMaxScaler()\n",
    "grids[:,:,:,:,:3] = scaler.fit_transform(grids[:,:,:,:,:3].reshape(-1, 1)).reshape(grids[:,:,:,:,:3].shape)"
   ]
  },
  {
   "cell_type": "code",
   "execution_count": 6,
   "id": "bd1e6c67",
   "metadata": {},
   "outputs": [],
   "source": [
    "x_train, x_val = train_test_split(grids, test_size=0.1)"
   ]
  },
  {
   "cell_type": "markdown",
   "id": "fa39f9d5",
   "metadata": {},
   "source": [
    "### Model setup"
   ]
  },
  {
   "cell_type": "code",
   "execution_count": 7,
   "id": "cb3c58d1",
   "metadata": {},
   "outputs": [
    {
     "name": "stdout",
     "output_type": "stream",
     "text": [
      "Model: \"sequential\"\n",
      "_________________________________________________________________\n",
      "Layer (type)                 Output Shape              Param #   \n",
      "=================================================================\n",
      "conv3d (Conv3D)              (None, 60, 20, 20, 32)    16032     \n",
      "_________________________________________________________________\n",
      "max_pooling3d (MaxPooling3D) (None, 30, 10, 10, 32)    0         \n",
      "_________________________________________________________________\n",
      "conv3d_1 (Conv3D)            (None, 30, 10, 10, 64)    55360     \n",
      "_________________________________________________________________\n",
      "max_pooling3d_1 (MaxPooling3 (None, 15, 5, 5, 64)      0         \n",
      "_________________________________________________________________\n",
      "conv3d_2 (Conv3D)            (None, 15, 5, 5, 64)      110656    \n",
      "_________________________________________________________________\n",
      "max_pooling3d_2 (MaxPooling3 (None, 8, 3, 3, 64)       0         \n",
      "_________________________________________________________________\n",
      "conv3d_3 (Conv3D)            (None, 8, 3, 3, 128)      221312    \n",
      "_________________________________________________________________\n",
      "max_pooling3d_3 (MaxPooling3 (None, 4, 2, 2, 128)      0         \n",
      "_________________________________________________________________\n",
      "flatten (Flatten)            (None, 2048)              0         \n",
      "_________________________________________________________________\n",
      "dense (Dense)                (None, 10)                20490     \n",
      "=================================================================\n",
      "Total params: 423,850\n",
      "Trainable params: 423,850\n",
      "Non-trainable params: 0\n",
      "_________________________________________________________________\n",
      "None\n",
      "Model: \"sequential_1\"\n",
      "_________________________________________________________________\n",
      "Layer (type)                 Output Shape              Param #   \n",
      "=================================================================\n",
      "dense_1 (Dense)              (None, 2048)              22528     \n",
      "_________________________________________________________________\n",
      "reshape (Reshape)            (None, 4, 2, 2, 128)      0         \n",
      "_________________________________________________________________\n",
      "conv3d_4 (Conv3D)            (None, 4, 2, 2, 128)      442496    \n",
      "_________________________________________________________________\n",
      "up_sampling3d (UpSampling3D) (None, 8, 4, 4, 128)      0         \n",
      "_________________________________________________________________\n",
      "conv3d_5 (Conv3D)            (None, 8, 4, 4, 64)       221248    \n",
      "_________________________________________________________________\n",
      "up_sampling3d_1 (UpSampling3 (None, 16, 8, 8, 64)      0         \n",
      "_________________________________________________________________\n",
      "conv3d_6 (Conv3D)            (None, 16, 8, 8, 64)      110656    \n",
      "_________________________________________________________________\n",
      "up_sampling3d_2 (UpSampling3 (None, 32, 16, 16, 64)    0         \n",
      "_________________________________________________________________\n",
      "conv3d_7 (Conv3D)            (None, 30, 14, 14, 32)    55328     \n",
      "_________________________________________________________________\n",
      "up_sampling3d_3 (UpSampling3 (None, 60, 28, 28, 32)    0         \n",
      "_________________________________________________________________\n",
      "conv3d_8 (Conv3D)            (None, 60, 28, 28, 4)     3460      \n",
      "_________________________________________________________________\n",
      "cropping3d (Cropping3D)      (None, 60, 20, 20, 4)     0         \n",
      "=================================================================\n",
      "Total params: 855,716\n",
      "Trainable params: 855,716\n",
      "Non-trainable params: 0\n",
      "_________________________________________________________________\n",
      "None\n"
     ]
    }
   ],
   "source": [
    "initializer = tf.keras.initializers.RandomNormal(mean=0.0, stddev=0.05, seed=None)\n",
    "optimizer = tf.keras.optimizers.Nadam(lr=0.00005, beta_1=0.9, beta_2=0.999)\n",
    "\n",
    "input_shape = (60, 20, 20, 4)\n",
    "\n",
    "encoder, decoder = build_deeper_omata_encoder_decoder(input_shape, 10, initializer, info=True, act='elu', dense_act='relu')\n",
    "\n",
    "cae = CAE(encoder, decoder, optimizer)\n",
    "cae.compile(input_shape)"
   ]
  },
  {
   "cell_type": "code",
   "execution_count": 8,
   "id": "8b5014a0",
   "metadata": {},
   "outputs": [],
   "source": [
    "cae.train(grids, 50, val_data=grids, batch_size=2)"
   ]
  },
  {
   "cell_type": "markdown",
   "id": "44c3a6e3",
   "metadata": {},
   "source": [
    "### Predict and generate outputs"
   ]
  },
  {
   "cell_type": "code",
   "execution_count": 9,
   "id": "f8117a69",
   "metadata": {},
   "outputs": [],
   "source": [
    "grids = np.load(\"./../submodules/DD-GAN/data/processed/sf_snapshots_2timesteps_notrand.npy\")\n",
    "\n",
    "# Set all >0 to 0 and all <1 to 1 for alpha field\n",
    "grids[:,:,:,:,3][np.where(grids[:,:,:,:,3] < 0)] = 0\n",
    "grids[:,:,:,:,3][np.where(grids[:,:,:,:,3] > 1)] = 1\n",
    "\n",
    "# Rescale all the velocity fields\n",
    "scaler = MinMaxScaler()\n",
    "grids[:,:,:,:,:3] = scaler.fit_transform(grids[:,:,:,:,:3].reshape(-1, 1)).reshape(grids[:,:,:,:,:3].shape)"
   ]
  },
  {
   "cell_type": "code",
   "execution_count": 10,
   "id": "16807ede",
   "metadata": {},
   "outputs": [],
   "source": [
    "out_grids = cae.predict(grids)"
   ]
  },
  {
   "cell_type": "code",
   "execution_count": 11,
   "id": "b5a64009",
   "metadata": {},
   "outputs": [
    {
     "data": {
      "text/plain": [
       "(20, 60, 20, 20, 4)"
      ]
     },
     "execution_count": 11,
     "metadata": {},
     "output_type": "execute_result"
    }
   ],
   "source": [
    "out_grids.shape"
   ]
  },
  {
   "cell_type": "code",
   "execution_count": 12,
   "id": "2f4f4364",
   "metadata": {},
   "outputs": [],
   "source": [
    "# reshape to (ngrids, nscalar, nx, ny, nz, ntime)\n",
    "np.save(\"cae_prediction_sf.npy\", out_grids)"
   ]
  },
  {
   "cell_type": "code",
   "execution_count": 13,
   "id": "3e5b3fd1",
   "metadata": {},
   "outputs": [
    {
     "data": {
      "text/plain": [
       "(20, 60, 20, 20, 4)"
      ]
     },
     "execution_count": 13,
     "metadata": {},
     "output_type": "execute_result"
    }
   ],
   "source": [
    "out_grids.shape"
   ]
  },
  {
   "cell_type": "code",
   "execution_count": 1,
   "id": "6ae50701",
   "metadata": {},
   "outputs": [
    {
     "ename": "NameError",
     "evalue": "name 'out_grids' is not defined",
     "output_type": "error",
     "traceback": [
      "\u001b[0;31m---------------------------------------------------------------------------\u001b[0m",
      "\u001b[0;31mNameError\u001b[0m                                 Traceback (most recent call last)",
      "\u001b[0;32m<ipython-input-1-2286bd13a343>\u001b[0m in \u001b[0;36m<module>\u001b[0;34m\u001b[0m\n\u001b[0;32m----> 1\u001b[0;31m \u001b[0mout\u001b[0m \u001b[0;34m=\u001b[0m \u001b[0mout_grids\u001b[0m\u001b[0;34m[\u001b[0m\u001b[0;36m6\u001b[0m\u001b[0;34m,\u001b[0m \u001b[0;36m10\u001b[0m\u001b[0;34m,\u001b[0m \u001b[0;34m:\u001b[0m\u001b[0;34m,\u001b[0m \u001b[0;34m:\u001b[0m\u001b[0;34m,\u001b[0m \u001b[0;36m0\u001b[0m\u001b[0;34m]\u001b[0m\u001b[0;34m\u001b[0m\u001b[0;34m\u001b[0m\u001b[0m\n\u001b[0m\u001b[1;32m      2\u001b[0m \u001b[0morig\u001b[0m \u001b[0;34m=\u001b[0m \u001b[0mgrids\u001b[0m\u001b[0;34m[\u001b[0m\u001b[0;36m6\u001b[0m\u001b[0;34m,\u001b[0m \u001b[0;36m10\u001b[0m\u001b[0;34m,\u001b[0m \u001b[0;34m:\u001b[0m\u001b[0;34m,\u001b[0m \u001b[0;34m:\u001b[0m\u001b[0;34m,\u001b[0m \u001b[0;36m0\u001b[0m\u001b[0;34m]\u001b[0m\u001b[0;34m\u001b[0m\u001b[0;34m\u001b[0m\u001b[0m\n",
      "\u001b[0;31mNameError\u001b[0m: name 'out_grids' is not defined"
     ]
    }
   ],
   "source": [
    "out = out_grids[6, 10, :, :, 0]\n",
    "orig = grids[6, 10, :, :, 0]"
   ]
  },
  {
   "cell_type": "code",
   "execution_count": 15,
   "id": "ac1dfd35",
   "metadata": {},
   "outputs": [
    {
     "data": {
      "text/plain": [
       "<matplotlib.contour.QuadContourSet at 0x7f750c7a34f0>"
      ]
     },
     "execution_count": 15,
     "metadata": {},
     "output_type": "execute_result"
    },
    {
     "data": {
      "image/png": "[encoded data removed]",
      "text/plain": [
       "<Figure size 432x288 with 2 Axes>"
      ]
     },
     "metadata": {
      "needs_background": "light"
     },
     "output_type": "display_data"
    }
   ],
   "source": [
    "fig, ax = plt.subplots(1,2)\n",
    "ax[0].contourf(out)\n",
    "ax[1].contourf(orig)"
   ]
  },
  {
   "cell_type": "markdown",
   "id": "6486493f",
   "metadata": {},
   "source": [
    "# Adversarial Autoencoder"
   ]
  },
  {
   "cell_type": "markdown",
   "id": "e8670fe0",
   "metadata": {},
   "source": [
    "### Preprocessing"
   ]
  },
  {
   "cell_type": "code",
   "execution_count": 2,
   "id": "c15087e5",
   "metadata": {},
   "outputs": [],
   "source": [
    "grids = np.load(\"./../submodules/DD-GAN/data/processed/sf_snapshots_2timesteps_notrand.npy\")"
   ]
  },
  {
   "cell_type": "code",
   "execution_count": 3,
   "id": "95ab4f24",
   "metadata": {},
   "outputs": [],
   "source": [
    "# Set all >0 to 0 and all <1 to 1 for alpha field\n",
    "grids[:,:,:,:,3][np.where(grids[:,:,:,:,3] < 0)] = 0\n",
    "grids[:,:,:,:,3][np.where(grids[:,:,:,:,3] > 1)] = 1"
   ]
  },
  {
   "cell_type": "code",
   "execution_count": 4,
   "id": "162f5657",
   "metadata": {},
   "outputs": [],
   "source": [
    "# Rescale all the velocity fields\n",
    "scaler = MinMaxScaler()\n",
    "grids[:,:,:,:,:3] = scaler.fit_transform(grids[:,:,:,:,:3].reshape(-1, 1)).reshape(grids[:,:,:,:,:3].shape)"
   ]
  },
  {
   "cell_type": "code",
   "execution_count": 5,
   "id": "4bedc5b0",
   "metadata": {},
   "outputs": [],
   "source": [
    "x_train, x_val = train_test_split(grids, test_size=0.1)"
   ]
  },
  {
   "cell_type": "code",
   "execution_count": 6,
   "id": "84cdc5c2",
   "metadata": {},
   "outputs": [
    {
     "name": "stdout",
     "output_type": "stream",
     "text": [
      "Model: \"sequential\"\n",
      "_________________________________________________________________\n",
      "Layer (type)                 Output Shape              Param #   \n",
      "=================================================================\n",
      "conv3d (Conv3D)              (None, 60, 20, 20, 32)    16032     \n",
      "_________________________________________________________________\n",
      "max_pooling3d (MaxPooling3D) (None, 30, 10, 10, 32)    0         \n",
      "_________________________________________________________________\n",
      "conv3d_1 (Conv3D)            (None, 30, 10, 10, 64)    55360     \n",
      "_________________________________________________________________\n",
      "max_pooling3d_1 (MaxPooling3 (None, 15, 5, 5, 64)      0         \n",
      "_________________________________________________________________\n",
      "conv3d_2 (Conv3D)            (None, 15, 5, 5, 64)      110656    \n",
      "_________________________________________________________________\n",
      "max_pooling3d_2 (MaxPooling3 (None, 8, 3, 3, 64)       0         \n",
      "_________________________________________________________________\n",
      "conv3d_3 (Conv3D)            (None, 8, 3, 3, 128)      221312    \n",
      "_________________________________________________________________\n",
      "max_pooling3d_3 (MaxPooling3 (None, 4, 2, 2, 128)      0         \n",
      "_________________________________________________________________\n",
      "flatten (Flatten)            (None, 2048)              0         \n",
      "_________________________________________________________________\n",
      "dense (Dense)                (None, 10)                20490     \n",
      "=================================================================\n",
      "Total params: 423,850\n",
      "Trainable params: 423,850\n",
      "Non-trainable params: 0\n",
      "_________________________________________________________________\n",
      "None\n",
      "Model: \"sequential_1\"\n",
      "_________________________________________________________________\n",
      "Layer (type)                 Output Shape              Param #   \n",
      "=================================================================\n",
      "dense_1 (Dense)              (None, 2048)              22528     \n",
      "_________________________________________________________________\n",
      "reshape (Reshape)            (None, 4, 2, 2, 128)      0         \n",
      "_________________________________________________________________\n",
      "conv3d_4 (Conv3D)            (None, 4, 2, 2, 128)      442496    \n",
      "_________________________________________________________________\n",
      "up_sampling3d (UpSampling3D) (None, 8, 4, 4, 128)      0         \n",
      "_________________________________________________________________\n",
      "conv3d_5 (Conv3D)            (None, 8, 4, 4, 64)       221248    \n",
      "_________________________________________________________________\n",
      "up_sampling3d_1 (UpSampling3 (None, 16, 8, 8, 64)      0         \n",
      "_________________________________________________________________\n",
      "conv3d_6 (Conv3D)            (None, 16, 8, 8, 64)      110656    \n",
      "_________________________________________________________________\n",
      "up_sampling3d_2 (UpSampling3 (None, 32, 16, 16, 64)    0         \n",
      "_________________________________________________________________\n",
      "conv3d_7 (Conv3D)            (None, 30, 14, 14, 32)    55328     \n",
      "_________________________________________________________________\n",
      "up_sampling3d_3 (UpSampling3 (None, 60, 28, 28, 32)    0         \n",
      "_________________________________________________________________\n",
      "conv3d_8 (Conv3D)            (None, 60, 28, 28, 4)     3460      \n",
      "_________________________________________________________________\n",
      "cropping3d (Cropping3D)      (None, 60, 20, 20, 4)     0         \n",
      "=================================================================\n",
      "Total params: 855,716\n",
      "Trainable params: 855,716\n",
      "Non-trainable params: 0\n",
      "_________________________________________________________________\n",
      "None\n",
      "Model: \"sequential_2\"\n",
      "_________________________________________________________________\n",
      "Layer (type)                 Output Shape              Param #   \n",
      "=================================================================\n",
      "dense_2 (Dense)              (None, 100)               1100      \n",
      "_________________________________________________________________\n",
      "dense_3 (Dense)              (None, 500)               50500     \n",
      "_________________________________________________________________\n",
      "dense_4 (Dense)              (None, 1)                 501       \n",
      "=================================================================\n",
      "Total params: 52,101\n",
      "Trainable params: 52,101\n",
      "Non-trainable params: 0\n",
      "_________________________________________________________________\n",
      "None\n"
     ]
    }
   ],
   "source": [
    "initializer = tf.keras.initializers.RandomNormal(mean=0.0, stddev=0.05, seed=None)\n",
    "optimizer = tf.keras.optimizers.Nadam(lr=0.00005, beta_1=0.9, beta_2=0.999)\n",
    "\n",
    "input_shape = (60, 20, 20, 4)\n",
    "\n",
    "encoder, decoder = build_deeper_omata_encoder_decoder(input_shape, 10, initializer, info=True, act='elu', dense_act='relu')\n",
    "discriminator = build_custom_discriminator(10, initializer, info=True)\n",
    "\n",
    "aae = AAE_combined_loss(encoder, decoder, discriminator, optimizer)\n",
    "aae.compile(input_shape)"
   ]
  },
  {
   "cell_type": "code",
   "execution_count": 7,
   "id": "f3b905d5",
   "metadata": {},
   "outputs": [
    {
     "ename": "KeyboardInterrupt",
     "evalue": "",
     "output_type": "error",
     "traceback": [
      "\u001b[0;31m---------------------------------------------------------------------------\u001b[0m",
      "\u001b[0;31mKeyboardInterrupt\u001b[0m                         Traceback (most recent call last)",
      "\u001b[0;32m<ipython-input-7-2d8aed3ca2f9>\u001b[0m in \u001b[0;36m<module>\u001b[0;34m\u001b[0m\n\u001b[0;32m----> 1\u001b[0;31m \u001b[0maae\u001b[0m\u001b[0;34m.\u001b[0m\u001b[0mtrain\u001b[0m\u001b[0;34m(\u001b[0m\u001b[0mx_train\u001b[0m\u001b[0;34m,\u001b[0m \u001b[0;36m50\u001b[0m\u001b[0;34m,\u001b[0m \u001b[0mval_data\u001b[0m\u001b[0;34m=\u001b[0m\u001b[0mx_val\u001b[0m\u001b[0;34m,\u001b[0m \u001b[0mbatch_size\u001b[0m\u001b[0;34m=\u001b[0m\u001b[0;36m2\u001b[0m\u001b[0;34m,\u001b[0m \u001b[0mval_batch_size\u001b[0m\u001b[0;34m=\u001b[0m\u001b[0;36m2\u001b[0m\u001b[0;34m)\u001b[0m\u001b[0;34m\u001b[0m\u001b[0;34m\u001b[0m\u001b[0m\n\u001b[0m",
      "\u001b[0;32m~/Documents/master/acse-9/DD-GAN-AE/ddganAE/models/aae.py\u001b[0m in \u001b[0;36mtrain\u001b[0;34m(self, train_data, epochs, val_data, batch_size, val_batch_size, wandb_log, n_discriminator)\u001b[0m\n\u001b[1;32m    324\u001b[0m             \u001b[0;32mfor\u001b[0m \u001b[0mstep\u001b[0m\u001b[0;34m,\u001b[0m \u001b[0mgrids\u001b[0m \u001b[0;32min\u001b[0m \u001b[0menumerate\u001b[0m\u001b[0;34m(\u001b[0m\u001b[0mtrain_dataset\u001b[0m\u001b[0;34m)\u001b[0m\u001b[0;34m:\u001b[0m\u001b[0;34m\u001b[0m\u001b[0;34m\u001b[0m\u001b[0m\n\u001b[1;32m    325\u001b[0m \u001b[0;34m\u001b[0m\u001b[0m\n\u001b[0;32m--> 326\u001b[0;31m                 \u001b[0mlatent_fake\u001b[0m \u001b[0;34m=\u001b[0m \u001b[0mself\u001b[0m\u001b[0;34m.\u001b[0m\u001b[0mencoder\u001b[0m\u001b[0;34m.\u001b[0m\u001b[0mpredict\u001b[0m\u001b[0;34m(\u001b[0m\u001b[0mgrids\u001b[0m\u001b[0;34m)\u001b[0m\u001b[0;34m\u001b[0m\u001b[0;34m\u001b[0m\u001b[0m\n\u001b[0m\u001b[1;32m    327\u001b[0m                 latent_real = np.random.normal(size=(batch_size,\n\u001b[1;32m    328\u001b[0m                                                      self.latent_dim))\n",
      "\u001b[0;32m~/miniconda3/envs/acse-9/lib/python3.8/site-packages/tensorflow/python/keras/engine/training.py\u001b[0m in \u001b[0;36mpredict\u001b[0;34m(self, x, batch_size, verbose, steps, callbacks, max_queue_size, workers, use_multiprocessing)\u001b[0m\n\u001b[1;32m   1627\u001b[0m           \u001b[0;32mfor\u001b[0m \u001b[0mstep\u001b[0m \u001b[0;32min\u001b[0m \u001b[0mdata_handler\u001b[0m\u001b[0;34m.\u001b[0m\u001b[0msteps\u001b[0m\u001b[0;34m(\u001b[0m\u001b[0;34m)\u001b[0m\u001b[0;34m:\u001b[0m\u001b[0;34m\u001b[0m\u001b[0;34m\u001b[0m\u001b[0m\n\u001b[1;32m   1628\u001b[0m             \u001b[0mcallbacks\u001b[0m\u001b[0;34m.\u001b[0m\u001b[0mon_predict_batch_begin\u001b[0m\u001b[0;34m(\u001b[0m\u001b[0mstep\u001b[0m\u001b[0;34m)\u001b[0m\u001b[0;34m\u001b[0m\u001b[0;34m\u001b[0m\u001b[0m\n\u001b[0;32m-> 1629\u001b[0;31m             \u001b[0mtmp_batch_outputs\u001b[0m \u001b[0;34m=\u001b[0m \u001b[0mself\u001b[0m\u001b[0;34m.\u001b[0m\u001b[0mpredict_function\u001b[0m\u001b[0;34m(\u001b[0m\u001b[0miterator\u001b[0m\u001b[0;34m)\u001b[0m\u001b[0;34m\u001b[0m\u001b[0;34m\u001b[0m\u001b[0m\n\u001b[0m\u001b[1;32m   1630\u001b[0m             \u001b[0;32mif\u001b[0m \u001b[0mdata_handler\u001b[0m\u001b[0;34m.\u001b[0m\u001b[0mshould_sync\u001b[0m\u001b[0;34m:\u001b[0m\u001b[0;34m\u001b[0m\u001b[0;34m\u001b[0m\u001b[0m\n\u001b[1;32m   1631\u001b[0m               \u001b[0mcontext\u001b[0m\u001b[0;34m.\u001b[0m\u001b[0masync_wait\u001b[0m\u001b[0;34m(\u001b[0m\u001b[0;34m)\u001b[0m\u001b[0;34m\u001b[0m\u001b[0;34m\u001b[0m\u001b[0m\n",
      "\u001b[0;32m~/miniconda3/envs/acse-9/lib/python3.8/site-packages/tensorflow/python/eager/def_function.py\u001b[0m in \u001b[0;36m__call__\u001b[0;34m(self, *args, **kwds)\u001b[0m\n\u001b[1;32m    826\u001b[0m     \u001b[0mtracing_count\u001b[0m \u001b[0;34m=\u001b[0m \u001b[0mself\u001b[0m\u001b[0;34m.\u001b[0m\u001b[0mexperimental_get_tracing_count\u001b[0m\u001b[0;34m(\u001b[0m\u001b[0;34m)\u001b[0m\u001b[0;34m\u001b[0m\u001b[0;34m\u001b[0m\u001b[0m\n\u001b[1;32m    827\u001b[0m     \u001b[0;32mwith\u001b[0m \u001b[0mtrace\u001b[0m\u001b[0;34m.\u001b[0m\u001b[0mTrace\u001b[0m\u001b[0;34m(\u001b[0m\u001b[0mself\u001b[0m\u001b[0;34m.\u001b[0m\u001b[0m_name\u001b[0m\u001b[0;34m)\u001b[0m \u001b[0;32mas\u001b[0m \u001b[0mtm\u001b[0m\u001b[0;34m:\u001b[0m\u001b[0;34m\u001b[0m\u001b[0;34m\u001b[0m\u001b[0m\n\u001b[0;32m--> 828\u001b[0;31m       \u001b[0mresult\u001b[0m \u001b[0;34m=\u001b[0m \u001b[0mself\u001b[0m\u001b[0;34m.\u001b[0m\u001b[0m_call\u001b[0m\u001b[0;34m(\u001b[0m\u001b[0;34m*\u001b[0m\u001b[0margs\u001b[0m\u001b[0;34m,\u001b[0m \u001b[0;34m**\u001b[0m\u001b[0mkwds\u001b[0m\u001b[0;34m)\u001b[0m\u001b[0;34m\u001b[0m\u001b[0;34m\u001b[0m\u001b[0m\n\u001b[0m\u001b[1;32m    829\u001b[0m       \u001b[0mcompiler\u001b[0m \u001b[0;34m=\u001b[0m \u001b[0;34m\"xla\"\u001b[0m \u001b[0;32mif\u001b[0m \u001b[0mself\u001b[0m\u001b[0;34m.\u001b[0m\u001b[0m_experimental_compile\u001b[0m \u001b[0;32melse\u001b[0m \u001b[0;34m\"nonXla\"\u001b[0m\u001b[0;34m\u001b[0m\u001b[0;34m\u001b[0m\u001b[0m\n\u001b[1;32m    830\u001b[0m       \u001b[0mnew_tracing_count\u001b[0m \u001b[0;34m=\u001b[0m \u001b[0mself\u001b[0m\u001b[0;34m.\u001b[0m\u001b[0mexperimental_get_tracing_count\u001b[0m\u001b[0;34m(\u001b[0m\u001b[0;34m)\u001b[0m\u001b[0;34m\u001b[0m\u001b[0;34m\u001b[0m\u001b[0m\n",
      "\u001b[0;32m~/miniconda3/envs/acse-9/lib/python3.8/site-packages/tensorflow/python/eager/def_function.py\u001b[0m in \u001b[0;36m_call\u001b[0;34m(self, *args, **kwds)\u001b[0m\n\u001b[1;32m    860\u001b[0m       \u001b[0;31m# In this case we have not created variables on the first call. So we can\u001b[0m\u001b[0;34m\u001b[0m\u001b[0;34m\u001b[0m\u001b[0;34m\u001b[0m\u001b[0m\n\u001b[1;32m    861\u001b[0m       \u001b[0;31m# run the first trace but we should fail if variables are created.\u001b[0m\u001b[0;34m\u001b[0m\u001b[0;34m\u001b[0m\u001b[0;34m\u001b[0m\u001b[0m\n\u001b[0;32m--> 862\u001b[0;31m       \u001b[0mresults\u001b[0m \u001b[0;34m=\u001b[0m \u001b[0mself\u001b[0m\u001b[0;34m.\u001b[0m\u001b[0m_stateful_fn\u001b[0m\u001b[0;34m(\u001b[0m\u001b[0;34m*\u001b[0m\u001b[0margs\u001b[0m\u001b[0;34m,\u001b[0m \u001b[0;34m**\u001b[0m\u001b[0mkwds\u001b[0m\u001b[0;34m)\u001b[0m\u001b[0;34m\u001b[0m\u001b[0;34m\u001b[0m\u001b[0m\n\u001b[0m\u001b[1;32m    863\u001b[0m       \u001b[0;32mif\u001b[0m \u001b[0mself\u001b[0m\u001b[0;34m.\u001b[0m\u001b[0m_created_variables\u001b[0m\u001b[0;34m:\u001b[0m\u001b[0;34m\u001b[0m\u001b[0;34m\u001b[0m\u001b[0m\n\u001b[1;32m    864\u001b[0m         raise ValueError(\"Creating variables on a non-first call to a function\"\n",
      "\u001b[0;32m~/miniconda3/envs/acse-9/lib/python3.8/site-packages/tensorflow/python/eager/function.py\u001b[0m in \u001b[0;36m__call__\u001b[0;34m(self, *args, **kwargs)\u001b[0m\n\u001b[1;32m   2940\u001b[0m       (graph_function,\n\u001b[1;32m   2941\u001b[0m        filtered_flat_args) = self._maybe_define_function(args, kwargs)\n\u001b[0;32m-> 2942\u001b[0;31m     return graph_function._call_flat(\n\u001b[0m\u001b[1;32m   2943\u001b[0m         filtered_flat_args, captured_inputs=graph_function.captured_inputs)  # pylint: disable=protected-access\n\u001b[1;32m   2944\u001b[0m \u001b[0;34m\u001b[0m\u001b[0m\n",
      "\u001b[0;32m~/miniconda3/envs/acse-9/lib/python3.8/site-packages/tensorflow/python/eager/function.py\u001b[0m in \u001b[0;36m_call_flat\u001b[0;34m(self, args, captured_inputs, cancellation_manager)\u001b[0m\n\u001b[1;32m   1916\u001b[0m         and executing_eagerly):\n\u001b[1;32m   1917\u001b[0m       \u001b[0;31m# No tape is watching; skip to running the function.\u001b[0m\u001b[0;34m\u001b[0m\u001b[0;34m\u001b[0m\u001b[0;34m\u001b[0m\u001b[0m\n\u001b[0;32m-> 1918\u001b[0;31m       return self._build_call_outputs(self._inference_function.call(\n\u001b[0m\u001b[1;32m   1919\u001b[0m           ctx, args, cancellation_manager=cancellation_manager))\n\u001b[1;32m   1920\u001b[0m     forward_backward = self._select_forward_and_backward_functions(\n",
      "\u001b[0;32m~/miniconda3/envs/acse-9/lib/python3.8/site-packages/tensorflow/python/eager/function.py\u001b[0m in \u001b[0;36mcall\u001b[0;34m(self, ctx, args, cancellation_manager)\u001b[0m\n\u001b[1;32m    553\u001b[0m       \u001b[0;32mwith\u001b[0m \u001b[0m_InterpolateFunctionError\u001b[0m\u001b[0;34m(\u001b[0m\u001b[0mself\u001b[0m\u001b[0;34m)\u001b[0m\u001b[0;34m:\u001b[0m\u001b[0;34m\u001b[0m\u001b[0;34m\u001b[0m\u001b[0m\n\u001b[1;32m    554\u001b[0m         \u001b[0;32mif\u001b[0m \u001b[0mcancellation_manager\u001b[0m \u001b[0;32mis\u001b[0m \u001b[0;32mNone\u001b[0m\u001b[0;34m:\u001b[0m\u001b[0;34m\u001b[0m\u001b[0;34m\u001b[0m\u001b[0m\n\u001b[0;32m--> 555\u001b[0;31m           outputs = execute.execute(\n\u001b[0m\u001b[1;32m    556\u001b[0m               \u001b[0mstr\u001b[0m\u001b[0;34m(\u001b[0m\u001b[0mself\u001b[0m\u001b[0;34m.\u001b[0m\u001b[0msignature\u001b[0m\u001b[0;34m.\u001b[0m\u001b[0mname\u001b[0m\u001b[0;34m)\u001b[0m\u001b[0;34m,\u001b[0m\u001b[0;34m\u001b[0m\u001b[0;34m\u001b[0m\u001b[0m\n\u001b[1;32m    557\u001b[0m               \u001b[0mnum_outputs\u001b[0m\u001b[0;34m=\u001b[0m\u001b[0mself\u001b[0m\u001b[0;34m.\u001b[0m\u001b[0m_num_outputs\u001b[0m\u001b[0;34m,\u001b[0m\u001b[0;34m\u001b[0m\u001b[0;34m\u001b[0m\u001b[0m\n",
      "\u001b[0;32m~/miniconda3/envs/acse-9/lib/python3.8/site-packages/tensorflow/python/eager/execute.py\u001b[0m in \u001b[0;36mquick_execute\u001b[0;34m(op_name, num_outputs, inputs, attrs, ctx, name)\u001b[0m\n\u001b[1;32m     57\u001b[0m   \u001b[0;32mtry\u001b[0m\u001b[0;34m:\u001b[0m\u001b[0;34m\u001b[0m\u001b[0;34m\u001b[0m\u001b[0m\n\u001b[1;32m     58\u001b[0m     \u001b[0mctx\u001b[0m\u001b[0;34m.\u001b[0m\u001b[0mensure_initialized\u001b[0m\u001b[0;34m(\u001b[0m\u001b[0;34m)\u001b[0m\u001b[0;34m\u001b[0m\u001b[0;34m\u001b[0m\u001b[0m\n\u001b[0;32m---> 59\u001b[0;31m     tensors = pywrap_tfe.TFE_Py_Execute(ctx._handle, device_name, op_name,\n\u001b[0m\u001b[1;32m     60\u001b[0m                                         inputs, attrs, num_outputs)\n\u001b[1;32m     61\u001b[0m   \u001b[0;32mexcept\u001b[0m \u001b[0mcore\u001b[0m\u001b[0;34m.\u001b[0m\u001b[0m_NotOkStatusException\u001b[0m \u001b[0;32mas\u001b[0m \u001b[0me\u001b[0m\u001b[0;34m:\u001b[0m\u001b[0;34m\u001b[0m\u001b[0;34m\u001b[0m\u001b[0m\n",
      "\u001b[0;31mKeyboardInterrupt\u001b[0m: "
     ]
    }
   ],
   "source": [
    "aae.train(x_train, 50, val_data=x_val, batch_size=2, val_batch_size=2)"
   ]
  },
  {
   "cell_type": "markdown",
   "id": "5ceaef2f",
   "metadata": {},
   "source": [
    "# SVD Autoencoder"
   ]
  },
  {
   "cell_type": "markdown",
   "id": "a727787a",
   "metadata": {},
   "source": [
    "### Preprocessing"
   ]
  },
  {
   "cell_type": "code",
   "execution_count": 2,
   "id": "bf386a7b",
   "metadata": {},
   "outputs": [],
   "source": [
    "grids = np.load(\"./../submodules/DD-GAN/data/processed/sf_snapshots_2timesteps_notrand.npy\")\n",
    "# Set all >0 to 0 and all <1 to 1 for alpha field\n",
    "grids[:,:,:,:,3][np.where(grids[:,:,:,:,3] < 0)] = 0\n",
    "grids[:,:,:,:,3][np.where(grids[:,:,:,:,3] > 1)] = 1"
   ]
  },
  {
   "cell_type": "code",
   "execution_count": 3,
   "id": "2c0f42fc",
   "metadata": {},
   "outputs": [],
   "source": [
    "# Rescale all the velocity fields\n",
    "scaler = MinMaxScaler()\n",
    "grids[:,:,:,:,:3] = scaler.fit_transform(grids[:,:,:,:,:3].reshape(-1, 1)).reshape(grids[:,:,:,:,:3].shape)"
   ]
  },
  {
   "cell_type": "code",
   "execution_count": 4,
   "id": "818b7e25",
   "metadata": {},
   "outputs": [],
   "source": [
    "x_train, x_val = train_test_split(grids, test_size=0.1 )"
   ]
  },
  {
   "cell_type": "code",
   "execution_count": 5,
   "id": "3d7660aa",
   "metadata": {},
   "outputs": [],
   "source": [
    "x_train_long = np.moveaxis(np.moveaxis(x_train, 4, 0), 1, 4).reshape((x_train.shape[-1], x_train.shape[1]*x_train.shape[2]*x_train.shape[3], x_train.shape[0]))\n",
    "x_val_long = np.moveaxis(np.moveaxis(x_val, 4, 0), 1, 4).reshape((x_val.shape[-1], x_val.shape[1]*x_val.shape[2]*x_val.shape[3], x_val.shape[0]))"
   ]
  },
  {
   "cell_type": "markdown",
   "id": "b8837133",
   "metadata": {},
   "source": [
    "### Set up model"
   ]
  },
  {
   "cell_type": "code",
   "execution_count": 2,
   "id": "10d47b32",
   "metadata": {},
   "outputs": [
    {
     "ename": "NameError",
     "evalue": "name 'tf' is not defined",
     "output_type": "error",
     "traceback": [
      "\u001b[0;31m---------------------------------------------------------------------------\u001b[0m",
      "\u001b[0;31mNameError\u001b[0m                                 Traceback (most recent call last)",
      "\u001b[0;32m<ipython-input-2-59f895e925f7>\u001b[0m in \u001b[0;36m<module>\u001b[0;34m\u001b[0m\n\u001b[0;32m----> 1\u001b[0;31m \u001b[0minitializer\u001b[0m \u001b[0;34m=\u001b[0m \u001b[0mtf\u001b[0m\u001b[0;34m.\u001b[0m\u001b[0mkeras\u001b[0m\u001b[0;34m.\u001b[0m\u001b[0minitializers\u001b[0m\u001b[0;34m.\u001b[0m\u001b[0mRandomNormal\u001b[0m\u001b[0;34m(\u001b[0m\u001b[0mmean\u001b[0m\u001b[0;34m=\u001b[0m\u001b[0;36m0.0\u001b[0m\u001b[0;34m,\u001b[0m \u001b[0mstddev\u001b[0m\u001b[0;34m=\u001b[0m\u001b[0;36m0.05\u001b[0m\u001b[0;34m,\u001b[0m \u001b[0mseed\u001b[0m\u001b[0;34m=\u001b[0m\u001b[0;32mNone\u001b[0m\u001b[0;34m)\u001b[0m\u001b[0;34m\u001b[0m\u001b[0;34m\u001b[0m\u001b[0m\n\u001b[0m\u001b[1;32m      2\u001b[0m \u001b[0moptimizer\u001b[0m \u001b[0;34m=\u001b[0m \u001b[0mtf\u001b[0m\u001b[0;34m.\u001b[0m\u001b[0mkeras\u001b[0m\u001b[0;34m.\u001b[0m\u001b[0moptimizers\u001b[0m\u001b[0;34m.\u001b[0m\u001b[0mNadam\u001b[0m\u001b[0;34m(\u001b[0m\u001b[0mlr\u001b[0m\u001b[0;34m=\u001b[0m\u001b[0;36m0.0005\u001b[0m\u001b[0;34m,\u001b[0m \u001b[0mbeta_1\u001b[0m\u001b[0;34m=\u001b[0m\u001b[0;36m0.98\u001b[0m\u001b[0;34m,\u001b[0m \u001b[0mbeta_2\u001b[0m\u001b[0;34m=\u001b[0m\u001b[0;36m0.99999\u001b[0m\u001b[0;34m)\u001b[0m\u001b[0;34m\u001b[0m\u001b[0;34m\u001b[0m\u001b[0m\n\u001b[1;32m      3\u001b[0m \u001b[0;34m\u001b[0m\u001b[0m\n\u001b[1;32m      4\u001b[0m encoder = build_dense_encoder(\n\u001b[1;32m      5\u001b[0m     \u001b[0;36m10\u001b[0m\u001b[0;34m,\u001b[0m\u001b[0;34m\u001b[0m\u001b[0;34m\u001b[0m\u001b[0m\n",
      "\u001b[0;31mNameError\u001b[0m: name 'tf' is not defined"
     ]
    }
   ],
   "source": [
    "initializer = tf.keras.initializers.RandomNormal(mean=0.0, stddev=0.05, seed=None)\n",
    "optimizer = tf.keras.optimizers.Nadam(lr=0.0005, beta_1=0.98, beta_2=0.99999)\n",
    "\n",
    "encoder, decoder = build_vinicius_encoder_decoder(100, 10, initializer, act='elu', dense_act='relu', info=True, reg=0, dropout=0.55, batchnorm=False)"
   ]
  },
  {
   "cell_type": "code",
   "execution_count": 7,
   "id": "217fb545",
   "metadata": {},
   "outputs": [],
   "source": [
    "svdae = SVDAE(encoder, decoder, optimizer)\n",
    "svdae.compile(100, weight_loss=False)\n",
    "\n",
    "# Only set this when loading in the model\n",
    "#svdae.R = np.load(\"R_svdae.npy\")"
   ]
  },
  {
   "cell_type": "code",
   "execution_count": 8,
   "id": "da7de3fb",
   "metadata": {},
   "outputs": [],
   "source": [
    "svdae.train(x_train_long, 150, val_data=x_val_long, batch_size=2, val_batch_size=2)"
   ]
  },
  {
   "cell_type": "code",
   "execution_count": 15,
   "id": "fac57b4a",
   "metadata": {},
   "outputs": [
    {
     "data": {
      "text/plain": [
       "(24000,)"
      ]
     },
     "execution_count": 15,
     "metadata": {},
     "output_type": "execute_result"
    }
   ],
   "source": [
    "original = x_train_long[0, :, 15]\n",
    "original.shape"
   ]
  },
  {
   "cell_type": "code",
   "execution_count": 16,
   "id": "42b6a820",
   "metadata": {},
   "outputs": [
    {
     "data": {
      "text/plain": [
       "<matplotlib.contour.QuadContourSet at 0x7f10e877b160>"
      ]
     },
     "execution_count": 16,
     "metadata": {},
     "output_type": "execute_result"
    },
    {
     "data": {
      "image/png": "[encoded data removed]",
      "text/plain": [
       "<Figure size 432x288 with 2 Axes>"
      ]
     },
     "metadata": {
      "needs_background": "light"
     },
     "output_type": "display_data"
    }
   ],
   "source": [
    "result = svdae.predict_single(original)\n",
    "result = result.reshape((1, 60, 20, 20, 1))\n",
    "\n",
    "original = original.reshape((1, 60, 20, 20, 1))\n",
    "\n",
    "fig, ax = plt.subplots(1,2)\n",
    "ax[0].contourf(result[0][0, :, :, 0])\n",
    "ax[1].contourf(original[0][0, :, :, 0])"
   ]
  },
  {
   "cell_type": "code",
   "execution_count": null,
   "id": "da357171",
   "metadata": {},
   "outputs": [],
   "source": [
    "Create data on the fly! Keep randomly sampling!"
   ]
  },
  {
   "cell_type": "code",
   "execution_count": 10,
   "id": "d0e7321c",
   "metadata": {},
   "outputs": [],
   "source": [
    "grids_recon = np.load(\"./../submodules/DD-GAN/data/processed/cae_prediction_sf_100vars_800steps.npy\")"
   ]
  },
  {
   "cell_type": "code",
   "execution_count": null,
   "id": "1c32920b",
   "metadata": {},
   "outputs": [],
   "source": []
  },
  {
   "cell_type": "code",
   "execution_count": 22,
   "id": "b21ac0aa",
   "metadata": {},
   "outputs": [],
   "source": [
    "grids_recon[:,:,:,:,:3] = scaler.inverse_transform(grids_recon[:,:,:,:,:3].reshape(-1, 1)).reshape(grids_recon[:,:,:,:,:3].shape)"
   ]
  },
  {
   "cell_type": "code",
   "execution_count": 14,
   "id": "681cd1ae",
   "metadata": {},
   "outputs": [
    {
     "data": {
      "text/plain": [
       "1.2378416"
      ]
     },
     "execution_count": 14,
     "metadata": {},
     "output_type": "execute_result"
    }
   ],
   "source": [
    "np.max(grids_recon[:,:,:,:,3])"
   ]
  },
  {
   "cell_type": "code",
   "execution_count": 4,
   "id": "de197a54",
   "metadata": {},
   "outputs": [
    {
     "data": {
      "text/plain": [
       "(8000, 60, 20, 20, 4)"
      ]
     },
     "execution_count": 4,
     "metadata": {},
     "output_type": "execute_result"
    }
   ],
   "source": [
    "grids_recon.shape"
   ]
  },
  {
   "cell_type": "code",
   "execution_count": 12,
   "id": "114e3eaa",
   "metadata": {},
   "outputs": [],
   "source": [
    "grids_recon = grids_recon[7000:, :, :, :, :]"
   ]
  },
  {
   "cell_type": "code",
   "execution_count": 13,
   "id": "b5d76502",
   "metadata": {},
   "outputs": [],
   "source": [
    "np.save(\"./../submodules/DD-GAN/data/processed/cae_prediction_sf_100vars_final100.npy\", grids_recon)"
   ]
  },
  {
   "cell_type": "code",
   "execution_count": 8,
   "id": "32385be6",
   "metadata": {},
   "outputs": [
    {
     "data": {
      "text/plain": [
       "(400, 60, 20, 20, 4)"
      ]
     },
     "execution_count": 8,
     "metadata": {},
     "output_type": "execute_result"
    }
   ],
   "source": [
    "grids_recon.shape"
   ]
  },
  {
   "cell_type": "code",
   "execution_count": 106,
   "id": "6339350f",
   "metadata": {},
   "outputs": [],
   "source": [
    "recon = grids_recon[1104, 10, :, :, 3]\n",
    "orig = grids[1104, 10, :, :, 3]"
   ]
  },
  {
   "cell_type": "code",
   "execution_count": 107,
   "id": "d81a8e57",
   "metadata": {},
   "outputs": [
    {
     "data": {
      "text/plain": [
       "<matplotlib.contour.QuadContourSet at 0x7f6f8cc47400>"
      ]
     },
     "execution_count": 107,
     "metadata": {},
     "output_type": "execute_result"
    },
    {
     "data": {
      "image/png": "[encoded data removed]",
      "text/plain": [
       "<Figure size 432x288 with 2 Axes>"
      ]
     },
     "metadata": {
      "needs_background": "light"
     },
     "output_type": "display_data"
    }
   ],
   "source": [
    "fig, ax = plt.subplots(1,2)\n",
    "ax[0].contourf(orig)\n",
    "ax[1].contourf(recon)"
   ]
  },
  {
   "cell_type": "code",
   "execution_count": null,
   "id": "ac6302bf",
   "metadata": {},
   "outputs": [],
   "source": []
  }
 ],
 "metadata": {
  "kernelspec": {
   "display_name": "Python 3",
   "language": "python",
   "name": "python3"
  },
  "language_info": {
   "codemirror_mode": {
    "name": "ipython",
    "version": 3
   },
   "file_extension": ".py",
   "mimetype": "text/x-python",
   "name": "python",
   "nbconvert_exporter": "python",
   "pygments_lexer": "ipython3",
   "version": "3.8.10"
  }
 },
 "nbformat": 4,
 "nbformat_minor": 5
}
