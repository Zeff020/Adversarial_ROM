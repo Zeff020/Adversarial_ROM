{
 "cells": [
  {
   "cell_type": "code",
   "execution_count": 1,
   "id": "67a04531",
   "metadata": {},
   "outputs": [],
   "source": [
    "from ddganAE.models import AAE, AAE_combined_loss, CAE, SVDAE\n",
    "from ddganAE.architectures.D2 import *\n",
    "from ddganAE.architectures.discriminators import *\n",
    "from ddganAE.preprocessing import convert_2d\n",
    "from keras.regularizers import l2\n",
    "from ddganAE.utils import calc_pod\n",
    "import tensorflow as tf\n",
    "from tensorflow.keras.layers.experimental import preprocessing\n",
    "import numpy as np\n",
    "import matplotlib.pyplot as plt\n",
    "from sklearn.preprocessing import StandardScaler\n",
    "from sklearn.model_selection import train_test_split"
   ]
  },
  {
   "cell_type": "markdown",
   "id": "fd7622d3",
   "metadata": {},
   "source": [
    "# POD"
   ]
  },
  {
   "cell_type": "code",
   "execution_count": 2,
   "id": "3496c580",
   "metadata": {},
   "outputs": [],
   "source": [
    "snapshots_grids = np.load(\"./../submodules/DD-GAN/data/processed/snaphsots_field_Velocity_new_4_2000steps.npy\")"
   ]
  },
  {
   "cell_type": "code",
   "execution_count": 3,
   "id": "d0f74ee6",
   "metadata": {},
   "outputs": [
    {
     "data": {
      "text/plain": [
       "(8000, 55, 42, 2)"
      ]
     },
     "execution_count": 3,
     "metadata": {},
     "output_type": "execute_result"
    }
   ],
   "source": [
    "input_shape = (55, 42, 2)\n",
    "snapshots = convert_2d(snapshots_grids, input_shape, 2000)\n",
    "snapshots = np.array(snapshots).reshape(8000, *input_shape)\n",
    "snapshots.shape"
   ]
  },
  {
   "cell_type": "code",
   "execution_count": 4,
   "id": "033fd999",
   "metadata": {},
   "outputs": [
    {
     "data": {
      "text/plain": [
       "(4, 4620, 2000)"
      ]
     },
     "execution_count": 4,
     "metadata": {},
     "output_type": "execute_result"
    }
   ],
   "source": [
    "snapshots_grids.shape"
   ]
  },
  {
   "cell_type": "code",
   "execution_count": 15,
   "id": "54c62d1f",
   "metadata": {},
   "outputs": [],
   "source": [
    "# Data normalization\n",
    "layer = preprocessing.Normalization(axis=None)\n",
    "layer.adapt(snapshots_grids)\n",
    "\n",
    "snapshots_grids = layer(snapshots_grids).numpy()\n",
    "\n",
    "coeffs, R, s = calc_pod(snapshots_grids, nPOD=10)"
   ]
  },
  {
   "cell_type": "code",
   "execution_count": 16,
   "id": "a42e5b64",
   "metadata": {},
   "outputs": [
    {
     "name": "stdout",
     "output_type": "stream",
     "text": [
      "[[ 0.856517    0.85733566  0.859874   ...  0.86164035  0.86055198\n",
      "   0.8602976 ]\n",
      " [ 0.85662039  0.8584871   0.86182502 ...  0.85999958  0.85946909\n",
      "   0.85987042]\n",
      " [ 0.85697943  0.85975411  0.86373333 ...  0.8587211   0.85872852\n",
      "   0.85970419]\n",
      " ...\n",
      " [-0.81646118 -0.82721557 -0.84009911 ... -0.90420705 -0.89171394\n",
      "  -0.8785862 ]\n",
      " [-0.84685416 -0.85276481 -0.86026127 ... -0.89096538 -0.88472338\n",
      "  -0.87847296]\n",
      " [-0.86925202 -0.8705554  -0.87309041 ... -0.87822209 -0.87739215\n",
      "  -0.87709817]] \n",
      " [[ 0.86323005  0.8632293   0.86322874 ...  0.8632329   0.8632332\n",
      "   0.86323357]\n",
      " [ 0.86323476  0.8632346   0.8632344  ...  0.8632349   0.8632349\n",
      "   0.86323506]\n",
      " [ 0.8632332   0.8632329   0.86323273 ...  0.8632342   0.8632344\n",
      "   0.8632346 ]\n",
      " ...\n",
      " [-0.81518734 -0.8235272  -0.83391875 ... -0.90065914 -0.88886213\n",
      "  -0.876756  ]\n",
      " [-0.84899986 -0.85300916 -0.85796297 ... -0.889547   -0.88383013\n",
      "  -0.8779613 ]\n",
      " [-0.87386703 -0.87400776 -0.8742574  ... -0.8789824  -0.87888384\n",
      "  -0.8786516 ]]\n"
     ]
    },
    {
     "data": {
      "text/plain": [
       "False"
      ]
     },
     "execution_count": 16,
     "metadata": {},
     "output_type": "execute_result"
    }
   ],
   "source": [
    "# Reconstruct the first subgrid\n",
    "recon = R @ coeffs[0]\n",
    "print(recon, '\\n',\n",
    "      snapshots_grids[0, :, :])\n",
    "\n",
    "np.allclose(recon, snapshots_grids[0, :, :], atol=1e-1)"
   ]
  },
  {
   "cell_type": "code",
   "execution_count": 17,
   "id": "1b29883c",
   "metadata": {},
   "outputs": [
    {
     "name": "stdout",
     "output_type": "stream",
     "text": [
      "[ 0.85733566  0.8584871   0.85975411 ... -0.82721557 -0.85276481\n",
      " -0.8705554 ] [ 0.8632293   0.8632346   0.8632329  ... -0.8235272  -0.85300916\n",
      " -0.87400776]\n"
     ]
    }
   ],
   "source": [
    "print(recon[:, 1],snapshots_grids[0, :, 1])"
   ]
  },
  {
   "cell_type": "code",
   "execution_count": 19,
   "id": "b4f75b14",
   "metadata": {},
   "outputs": [
    {
     "name": "stdout",
     "output_type": "stream",
     "text": [
      "0.00481600777828135\n"
     ]
    }
   ],
   "source": [
    "# Calculate MSE\n",
    "mean = 0\n",
    "for j in range(4):\n",
    "    recon = R @ coeffs[j]\n",
    "    for i in range(2000):\n",
    "        mean += tf.keras.losses.MSE(recon[:, i], snapshots_grids[j, :, i]).numpy()/8000\n",
    "\n",
    "print(mean)"
   ]
  },
  {
   "cell_type": "code",
   "execution_count": 15,
   "id": "78663ca8",
   "metadata": {},
   "outputs": [
    {
     "name": "stdout",
     "output_type": "stream",
     "text": [
      "(4, 4620, 2000) (4620, 2000)\n"
     ]
    }
   ],
   "source": [
    "print(snapshots_grids.shape, recon.shape)\n",
    "\n",
    "shape = (4, 4620, 2000)\n",
    "\n",
    "reconstructed = np.zeros((4, 4620, 2000))\n",
    "\n",
    "for i in range(4):\n",
    "    reconstructed[i, :, :] = R @ coeffs[i]\n",
    "\n",
    "# Undo normalization\n",
    "reconstructed = (reconstructed * np.sqrt(layer.variance.numpy()) + layer.mean.numpy())"
   ]
  },
  {
   "cell_type": "code",
   "execution_count": 17,
   "id": "24a31773",
   "metadata": {},
   "outputs": [],
   "source": [
    "reconstructed = convert_2d(reconstructed, (55, 42, 2), 2000)\n",
    "reconstructed = np.array(reconstructed).swapaxes(1, 4)\n",
    "\n",
    "np.save(\"reconstruction_pod_10coeffs.npy\", reconstructed)"
   ]
  },
  {
   "cell_type": "markdown",
   "id": "d9dcf2a3",
   "metadata": {},
   "source": [
    "# Convolutional Autoencoder"
   ]
  },
  {
   "cell_type": "markdown",
   "id": "761bd609",
   "metadata": {},
   "source": [
    "### Our dataset (55x42)"
   ]
  },
  {
   "cell_type": "code",
   "execution_count": 2,
   "id": "e582f59d",
   "metadata": {},
   "outputs": [],
   "source": [
    "# Data processing\n",
    "snapshots_grids = np.load(\"./../submodules/DD-GAN/data/processed/snaphsots_field_Velocity_new_4_2000steps.npy\")\n",
    "\n",
    "input_shape = (55, 42, 2)\n",
    "snapshots = convert_2d(snapshots_grids, input_shape, 2000)\n",
    "snapshots = np.array(snapshots).reshape(8000, *input_shape)\n",
    "snapshots.shape\n",
    "\n",
    "from sklearn.model_selection import train_test_split\n",
    "\n",
    "# Data normalization\n",
    "layer = preprocessing.Normalization()\n",
    "layer.adapt(snapshots)\n",
    "\n",
    "x_train, x_val = train_test_split(snapshots, test_size=0.1)\n",
    "x_train = layer(x_train)\n",
    "x_val = layer(x_val)"
   ]
  },
  {
   "cell_type": "code",
   "execution_count": 3,
   "id": "24ca8a17",
   "metadata": {},
   "outputs": [
    {
     "data": {
      "text/plain": [
       "TensorShape([7200, 55, 42, 2])"
      ]
     },
     "execution_count": 3,
     "metadata": {},
     "output_type": "execute_result"
    }
   ],
   "source": [
    "x_train.shape"
   ]
  },
  {
   "cell_type": "code",
   "execution_count": 4,
   "id": "75fce7d3",
   "metadata": {},
   "outputs": [
    {
     "name": "stdout",
     "output_type": "stream",
     "text": [
      "Model: \"sequential\"\n",
      "_________________________________________________________________\n",
      "Layer (type)                 Output Shape              Param #   \n",
      "=================================================================\n",
      "conv2d (Conv2D)              (None, 55, 42, 32)        1632      \n",
      "_________________________________________________________________\n",
      "max_pooling2d (MaxPooling2D) (None, 28, 21, 32)        0         \n",
      "_________________________________________________________________\n",
      "conv2d_1 (Conv2D)            (None, 28, 21, 64)        18496     \n",
      "_________________________________________________________________\n",
      "max_pooling2d_1 (MaxPooling2 (None, 14, 11, 64)        0         \n",
      "_________________________________________________________________\n",
      "conv2d_2 (Conv2D)            (None, 14, 11, 128)       73856     \n",
      "_________________________________________________________________\n",
      "max_pooling2d_2 (MaxPooling2 (None, 7, 6, 128)         0         \n",
      "_________________________________________________________________\n",
      "flatten (Flatten)            (None, 5376)              0         \n",
      "_________________________________________________________________\n",
      "dense (Dense)                (None, 2688)              14453376  \n",
      "_________________________________________________________________\n",
      "dense_1 (Dense)              (None, 10)                26890     \n",
      "=================================================================\n",
      "Total params: 14,574,250\n",
      "Trainable params: 14,574,250\n",
      "Non-trainable params: 0\n",
      "_________________________________________________________________\n",
      "None\n",
      "Model: \"sequential_1\"\n",
      "_________________________________________________________________\n",
      "Layer (type)                 Output Shape              Param #   \n",
      "=================================================================\n",
      "dense_2 (Dense)              (None, 2688)              29568     \n",
      "_________________________________________________________________\n",
      "dense_3 (Dense)              (None, 5376)              14456064  \n",
      "_________________________________________________________________\n",
      "reshape (Reshape)            (None, 7, 6, 128)         0         \n",
      "_________________________________________________________________\n",
      "conv2d_3 (Conv2D)            (None, 7, 6, 128)         147584    \n",
      "_________________________________________________________________\n",
      "up_sampling2d (UpSampling2D) (None, 14, 12, 128)       0         \n",
      "_________________________________________________________________\n",
      "conv2d_4 (Conv2D)            (None, 14, 12, 64)        73792     \n",
      "_________________________________________________________________\n",
      "up_sampling2d_1 (UpSampling2 (None, 28, 24, 64)        0         \n",
      "_________________________________________________________________\n",
      "conv2d_5 (Conv2D)            (None, 28, 24, 32)        18464     \n",
      "_________________________________________________________________\n",
      "up_sampling2d_2 (UpSampling2 (None, 56, 48, 32)        0         \n",
      "_________________________________________________________________\n",
      "conv2d_6 (Conv2D)            (None, 56, 48, 2)         578       \n",
      "_________________________________________________________________\n",
      "cropping2d (Cropping2D)      (None, 55, 42, 2)         0         \n",
      "=================================================================\n",
      "Total params: 14,726,050\n",
      "Trainable params: 14,726,050\n",
      "Non-trainable params: 0\n",
      "_________________________________________________________________\n",
      "None\n"
     ]
    }
   ],
   "source": [
    "initializer = tf.keras.initializers.RandomNormal(mean=0.0, stddev=0.05, seed=None)\n",
    "optimizer = tf.keras.optimizers.Nadam(lr=0.00005, beta_1=0.9, beta_2=0.999)\n",
    "\n",
    "encoder, decoder = build_denser_omata_encoder_decoder(input_shape, 10, initializer, info=True, act='elu', dense_act='relu')\n",
    "\n",
    "# Use these lines to load a previous model\n",
    "#encoder = tf.keras.models.load_model(\"saved_model_cae/encoder\") \n",
    "#decoder = tf.keras.models.load_model(\"saved_model_cae/decoder\")\n",
    "\n",
    "cae = CAE(encoder, decoder, optimizer)\n",
    "cae.compile(input_shape, pi_loss=False)"
   ]
  },
  {
   "cell_type": "code",
   "execution_count": 5,
   "id": "5b7df253",
   "metadata": {},
   "outputs": [
    {
     "ename": "KeyboardInterrupt",
     "evalue": "",
     "output_type": "error",
     "traceback": [
      "\u001b[0;31m---------------------------------------------------------------------------\u001b[0m",
      "\u001b[0;31mKeyboardInterrupt\u001b[0m                         Traceback (most recent call last)",
      "\u001b[0;32m<ipython-input-5-e049915a3cd6>\u001b[0m in \u001b[0;36m<module>\u001b[0;34m\u001b[0m\n\u001b[0;32m----> 1\u001b[0;31m \u001b[0mcae\u001b[0m\u001b[0;34m.\u001b[0m\u001b[0mtrain\u001b[0m\u001b[0;34m(\u001b[0m\u001b[0mx_train\u001b[0m\u001b[0;34m,\u001b[0m \u001b[0;36m100\u001b[0m\u001b[0;34m,\u001b[0m \u001b[0mval_data\u001b[0m\u001b[0;34m=\u001b[0m\u001b[0mx_val\u001b[0m\u001b[0;34m,\u001b[0m \u001b[0mbatch_size\u001b[0m\u001b[0;34m=\u001b[0m\u001b[0;36m64\u001b[0m\u001b[0;34m)\u001b[0m\u001b[0;34m\u001b[0m\u001b[0;34m\u001b[0m\u001b[0m\n\u001b[0m",
      "\u001b[0;32m~/Documents/master/acse-9/DD-GAN-AE/ddganAE/models/cae.py\u001b[0m in \u001b[0;36mtrain\u001b[0;34m(self, train_data, epochs, val_data, batch_size, val_batch_size, wandb_log)\u001b[0m\n\u001b[1;32m     86\u001b[0m \u001b[0;34m\u001b[0m\u001b[0m\n\u001b[1;32m     87\u001b[0m                 \u001b[0;31m# Train the autoencoder reconstruction\u001b[0m\u001b[0;34m\u001b[0m\u001b[0;34m\u001b[0m\u001b[0;34m\u001b[0m\u001b[0m\n\u001b[0;32m---> 88\u001b[0;31m                 \u001b[0mloss\u001b[0m\u001b[0;34m,\u001b[0m \u001b[0macc\u001b[0m \u001b[0;34m=\u001b[0m \u001b[0mself\u001b[0m\u001b[0;34m.\u001b[0m\u001b[0mautoencoder\u001b[0m\u001b[0;34m.\u001b[0m\u001b[0mtrain_on_batch\u001b[0m\u001b[0;34m(\u001b[0m\u001b[0mgrids\u001b[0m\u001b[0;34m,\u001b[0m \u001b[0mgrids\u001b[0m\u001b[0;34m)\u001b[0m\u001b[0;34m\u001b[0m\u001b[0;34m\u001b[0m\u001b[0m\n\u001b[0m\u001b[1;32m     89\u001b[0m                 \u001b[0mloss_cum\u001b[0m \u001b[0;34m+=\u001b[0m \u001b[0mloss\u001b[0m\u001b[0;34m\u001b[0m\u001b[0;34m\u001b[0m\u001b[0m\n\u001b[1;32m     90\u001b[0m                 \u001b[0macc_cum\u001b[0m \u001b[0;34m+=\u001b[0m \u001b[0macc\u001b[0m\u001b[0;34m\u001b[0m\u001b[0;34m\u001b[0m\u001b[0m\n",
      "\u001b[0;32m~/miniconda3/envs/acse-9/lib/python3.8/site-packages/tensorflow/python/keras/engine/training.py\u001b[0m in \u001b[0;36mtrain_on_batch\u001b[0;34m(self, x, y, sample_weight, class_weight, reset_metrics, return_dict)\u001b[0m\n\u001b[1;32m   1725\u001b[0m                                                     class_weight)\n\u001b[1;32m   1726\u001b[0m       \u001b[0mself\u001b[0m\u001b[0;34m.\u001b[0m\u001b[0mtrain_function\u001b[0m \u001b[0;34m=\u001b[0m \u001b[0mself\u001b[0m\u001b[0;34m.\u001b[0m\u001b[0mmake_train_function\u001b[0m\u001b[0;34m(\u001b[0m\u001b[0;34m)\u001b[0m\u001b[0;34m\u001b[0m\u001b[0;34m\u001b[0m\u001b[0m\n\u001b[0;32m-> 1727\u001b[0;31m       \u001b[0mlogs\u001b[0m \u001b[0;34m=\u001b[0m \u001b[0mself\u001b[0m\u001b[0;34m.\u001b[0m\u001b[0mtrain_function\u001b[0m\u001b[0;34m(\u001b[0m\u001b[0miterator\u001b[0m\u001b[0;34m)\u001b[0m\u001b[0;34m\u001b[0m\u001b[0;34m\u001b[0m\u001b[0m\n\u001b[0m\u001b[1;32m   1728\u001b[0m \u001b[0;34m\u001b[0m\u001b[0m\n\u001b[1;32m   1729\u001b[0m     \u001b[0;32mif\u001b[0m \u001b[0mreset_metrics\u001b[0m\u001b[0;34m:\u001b[0m\u001b[0;34m\u001b[0m\u001b[0;34m\u001b[0m\u001b[0m\n",
      "\u001b[0;32m~/miniconda3/envs/acse-9/lib/python3.8/site-packages/tensorflow/python/eager/def_function.py\u001b[0m in \u001b[0;36m__call__\u001b[0;34m(self, *args, **kwds)\u001b[0m\n\u001b[1;32m    826\u001b[0m     \u001b[0mtracing_count\u001b[0m \u001b[0;34m=\u001b[0m \u001b[0mself\u001b[0m\u001b[0;34m.\u001b[0m\u001b[0mexperimental_get_tracing_count\u001b[0m\u001b[0;34m(\u001b[0m\u001b[0;34m)\u001b[0m\u001b[0;34m\u001b[0m\u001b[0;34m\u001b[0m\u001b[0m\n\u001b[1;32m    827\u001b[0m     \u001b[0;32mwith\u001b[0m \u001b[0mtrace\u001b[0m\u001b[0;34m.\u001b[0m\u001b[0mTrace\u001b[0m\u001b[0;34m(\u001b[0m\u001b[0mself\u001b[0m\u001b[0;34m.\u001b[0m\u001b[0m_name\u001b[0m\u001b[0;34m)\u001b[0m \u001b[0;32mas\u001b[0m \u001b[0mtm\u001b[0m\u001b[0;34m:\u001b[0m\u001b[0;34m\u001b[0m\u001b[0;34m\u001b[0m\u001b[0m\n\u001b[0;32m--> 828\u001b[0;31m       \u001b[0mresult\u001b[0m \u001b[0;34m=\u001b[0m \u001b[0mself\u001b[0m\u001b[0;34m.\u001b[0m\u001b[0m_call\u001b[0m\u001b[0;34m(\u001b[0m\u001b[0;34m*\u001b[0m\u001b[0margs\u001b[0m\u001b[0;34m,\u001b[0m \u001b[0;34m**\u001b[0m\u001b[0mkwds\u001b[0m\u001b[0;34m)\u001b[0m\u001b[0;34m\u001b[0m\u001b[0;34m\u001b[0m\u001b[0m\n\u001b[0m\u001b[1;32m    829\u001b[0m       \u001b[0mcompiler\u001b[0m \u001b[0;34m=\u001b[0m \u001b[0;34m\"xla\"\u001b[0m \u001b[0;32mif\u001b[0m \u001b[0mself\u001b[0m\u001b[0;34m.\u001b[0m\u001b[0m_experimental_compile\u001b[0m \u001b[0;32melse\u001b[0m \u001b[0;34m\"nonXla\"\u001b[0m\u001b[0;34m\u001b[0m\u001b[0;34m\u001b[0m\u001b[0m\n\u001b[1;32m    830\u001b[0m       \u001b[0mnew_tracing_count\u001b[0m \u001b[0;34m=\u001b[0m \u001b[0mself\u001b[0m\u001b[0;34m.\u001b[0m\u001b[0mexperimental_get_tracing_count\u001b[0m\u001b[0;34m(\u001b[0m\u001b[0;34m)\u001b[0m\u001b[0;34m\u001b[0m\u001b[0;34m\u001b[0m\u001b[0m\n",
      "\u001b[0;32m~/miniconda3/envs/acse-9/lib/python3.8/site-packages/tensorflow/python/eager/def_function.py\u001b[0m in \u001b[0;36m_call\u001b[0;34m(self, *args, **kwds)\u001b[0m\n\u001b[1;32m    853\u001b[0m       \u001b[0;31m# In this case we have created variables on the first call, so we run the\u001b[0m\u001b[0;34m\u001b[0m\u001b[0;34m\u001b[0m\u001b[0;34m\u001b[0m\u001b[0m\n\u001b[1;32m    854\u001b[0m       \u001b[0;31m# defunned version which is guaranteed to never create variables.\u001b[0m\u001b[0;34m\u001b[0m\u001b[0;34m\u001b[0m\u001b[0;34m\u001b[0m\u001b[0m\n\u001b[0;32m--> 855\u001b[0;31m       \u001b[0;32mreturn\u001b[0m \u001b[0mself\u001b[0m\u001b[0;34m.\u001b[0m\u001b[0m_stateless_fn\u001b[0m\u001b[0;34m(\u001b[0m\u001b[0;34m*\u001b[0m\u001b[0margs\u001b[0m\u001b[0;34m,\u001b[0m \u001b[0;34m**\u001b[0m\u001b[0mkwds\u001b[0m\u001b[0;34m)\u001b[0m  \u001b[0;31m# pylint: disable=not-callable\u001b[0m\u001b[0;34m\u001b[0m\u001b[0;34m\u001b[0m\u001b[0m\n\u001b[0m\u001b[1;32m    856\u001b[0m     \u001b[0;32melif\u001b[0m \u001b[0mself\u001b[0m\u001b[0;34m.\u001b[0m\u001b[0m_stateful_fn\u001b[0m \u001b[0;32mis\u001b[0m \u001b[0;32mnot\u001b[0m \u001b[0;32mNone\u001b[0m\u001b[0;34m:\u001b[0m\u001b[0;34m\u001b[0m\u001b[0;34m\u001b[0m\u001b[0m\n\u001b[1;32m    857\u001b[0m       \u001b[0;31m# Release the lock early so that multiple threads can perform the call\u001b[0m\u001b[0;34m\u001b[0m\u001b[0;34m\u001b[0m\u001b[0;34m\u001b[0m\u001b[0m\n",
      "\u001b[0;32m~/miniconda3/envs/acse-9/lib/python3.8/site-packages/tensorflow/python/eager/function.py\u001b[0m in \u001b[0;36m__call__\u001b[0;34m(self, *args, **kwargs)\u001b[0m\n\u001b[1;32m   2940\u001b[0m       (graph_function,\n\u001b[1;32m   2941\u001b[0m        filtered_flat_args) = self._maybe_define_function(args, kwargs)\n\u001b[0;32m-> 2942\u001b[0;31m     return graph_function._call_flat(\n\u001b[0m\u001b[1;32m   2943\u001b[0m         filtered_flat_args, captured_inputs=graph_function.captured_inputs)  # pylint: disable=protected-access\n\u001b[1;32m   2944\u001b[0m \u001b[0;34m\u001b[0m\u001b[0m\n",
      "\u001b[0;32m~/miniconda3/envs/acse-9/lib/python3.8/site-packages/tensorflow/python/eager/function.py\u001b[0m in \u001b[0;36m_call_flat\u001b[0;34m(self, args, captured_inputs, cancellation_manager)\u001b[0m\n\u001b[1;32m   1916\u001b[0m         and executing_eagerly):\n\u001b[1;32m   1917\u001b[0m       \u001b[0;31m# No tape is watching; skip to running the function.\u001b[0m\u001b[0;34m\u001b[0m\u001b[0;34m\u001b[0m\u001b[0;34m\u001b[0m\u001b[0m\n\u001b[0;32m-> 1918\u001b[0;31m       return self._build_call_outputs(self._inference_function.call(\n\u001b[0m\u001b[1;32m   1919\u001b[0m           ctx, args, cancellation_manager=cancellation_manager))\n\u001b[1;32m   1920\u001b[0m     forward_backward = self._select_forward_and_backward_functions(\n",
      "\u001b[0;32m~/miniconda3/envs/acse-9/lib/python3.8/site-packages/tensorflow/python/eager/function.py\u001b[0m in \u001b[0;36mcall\u001b[0;34m(self, ctx, args, cancellation_manager)\u001b[0m\n\u001b[1;32m    553\u001b[0m       \u001b[0;32mwith\u001b[0m \u001b[0m_InterpolateFunctionError\u001b[0m\u001b[0;34m(\u001b[0m\u001b[0mself\u001b[0m\u001b[0;34m)\u001b[0m\u001b[0;34m:\u001b[0m\u001b[0;34m\u001b[0m\u001b[0;34m\u001b[0m\u001b[0m\n\u001b[1;32m    554\u001b[0m         \u001b[0;32mif\u001b[0m \u001b[0mcancellation_manager\u001b[0m \u001b[0;32mis\u001b[0m \u001b[0;32mNone\u001b[0m\u001b[0;34m:\u001b[0m\u001b[0;34m\u001b[0m\u001b[0;34m\u001b[0m\u001b[0m\n\u001b[0;32m--> 555\u001b[0;31m           outputs = execute.execute(\n\u001b[0m\u001b[1;32m    556\u001b[0m               \u001b[0mstr\u001b[0m\u001b[0;34m(\u001b[0m\u001b[0mself\u001b[0m\u001b[0;34m.\u001b[0m\u001b[0msignature\u001b[0m\u001b[0;34m.\u001b[0m\u001b[0mname\u001b[0m\u001b[0;34m)\u001b[0m\u001b[0;34m,\u001b[0m\u001b[0;34m\u001b[0m\u001b[0;34m\u001b[0m\u001b[0m\n\u001b[1;32m    557\u001b[0m               \u001b[0mnum_outputs\u001b[0m\u001b[0;34m=\u001b[0m\u001b[0mself\u001b[0m\u001b[0;34m.\u001b[0m\u001b[0m_num_outputs\u001b[0m\u001b[0;34m,\u001b[0m\u001b[0;34m\u001b[0m\u001b[0;34m\u001b[0m\u001b[0m\n",
      "\u001b[0;32m~/miniconda3/envs/acse-9/lib/python3.8/site-packages/tensorflow/python/eager/execute.py\u001b[0m in \u001b[0;36mquick_execute\u001b[0;34m(op_name, num_outputs, inputs, attrs, ctx, name)\u001b[0m\n\u001b[1;32m     57\u001b[0m   \u001b[0;32mtry\u001b[0m\u001b[0;34m:\u001b[0m\u001b[0;34m\u001b[0m\u001b[0;34m\u001b[0m\u001b[0m\n\u001b[1;32m     58\u001b[0m     \u001b[0mctx\u001b[0m\u001b[0;34m.\u001b[0m\u001b[0mensure_initialized\u001b[0m\u001b[0;34m(\u001b[0m\u001b[0;34m)\u001b[0m\u001b[0;34m\u001b[0m\u001b[0;34m\u001b[0m\u001b[0m\n\u001b[0;32m---> 59\u001b[0;31m     tensors = pywrap_tfe.TFE_Py_Execute(ctx._handle, device_name, op_name,\n\u001b[0m\u001b[1;32m     60\u001b[0m                                         inputs, attrs, num_outputs)\n\u001b[1;32m     61\u001b[0m   \u001b[0;32mexcept\u001b[0m \u001b[0mcore\u001b[0m\u001b[0;34m.\u001b[0m\u001b[0m_NotOkStatusException\u001b[0m \u001b[0;32mas\u001b[0m \u001b[0me\u001b[0m\u001b[0;34m:\u001b[0m\u001b[0;34m\u001b[0m\u001b[0;34m\u001b[0m\u001b[0m\n",
      "\u001b[0;31mKeyboardInterrupt\u001b[0m: "
     ]
    }
   ],
   "source": [
    "cae.train(x_train, 100, val_data=x_val, batch_size=64)"
   ]
  },
  {
   "cell_type": "code",
   "execution_count": null,
   "id": "6c3c06ca",
   "metadata": {},
   "outputs": [],
   "source": []
  },
  {
   "cell_type": "code",
   "execution_count": 7,
   "id": "c6e6a65c",
   "metadata": {},
   "outputs": [
    {
     "name": "stdout",
     "output_type": "stream",
     "text": [
      "INFO:tensorflow:Assets written to: saved_model/encoder/assets\n",
      "INFO:tensorflow:Assets written to: saved_model/decoder/assets\n"
     ]
    }
   ],
   "source": [
    "# Save the entire model as a SavedModel.\n",
    "!mkdir -p saved_model\n",
    "cae.encoder.save('saved_model/encoder')\n",
    "cae.decoder.save('saved_model/decoder')"
   ]
  },
  {
   "cell_type": "code",
   "execution_count": 6,
   "id": "7c3ad702",
   "metadata": {},
   "outputs": [
    {
     "data": {
      "text/plain": [
       "<matplotlib.contour.QuadContourSet at 0x7f6e9c600430>"
      ]
     },
     "execution_count": 6,
     "metadata": {},
     "output_type": "execute_result"
    },
    {
     "data": {
      "image/png": "[encoded data removed]",
      "text/plain": [
       "<Figure size 432x288 with 2 Axes>"
      ]
     },
     "metadata": {
      "needs_background": "light"
     },
     "output_type": "display_data"
    }
   ],
   "source": [
    "grid = x_val[250:255, :, :, :]\n",
    "res = cae.predict(grid)\n",
    "\n",
    "fig, ax = plt.subplots(1,2)\n",
    "ax[0].contourf(res[0,:,:,0])\n",
    "ax[1].contourf(grid[0, :, :, 0])"
   ]
  },
  {
   "cell_type": "code",
   "execution_count": 8,
   "id": "e55431d0",
   "metadata": {},
   "outputs": [
    {
     "data": {
      "text/plain": [
       "TensorShape([5, 55, 42, 2])"
      ]
     },
     "execution_count": 8,
     "metadata": {},
     "output_type": "execute_result"
    }
   ],
   "source": [
    "grid.shape"
   ]
  },
  {
   "cell_type": "markdown",
   "id": "a3b6cd47",
   "metadata": {},
   "source": [
    "#### Prepare output to reconstruct to .vtu file "
   ]
  },
  {
   "cell_type": "code",
   "execution_count": 7,
   "id": "2190a865",
   "metadata": {},
   "outputs": [],
   "source": [
    "snapshots = layer(snapshots)\n",
    "res = cae.predict(snapshots)"
   ]
  },
  {
   "cell_type": "code",
   "execution_count": 8,
   "id": "ffc3f34c",
   "metadata": {},
   "outputs": [],
   "source": [
    "# Undo normalization\n",
    "res = (res * np.sqrt(layer.variance.numpy()) + layer.mean.numpy())"
   ]
  },
  {
   "cell_type": "code",
   "execution_count": 9,
   "id": "0c6a4799",
   "metadata": {},
   "outputs": [
    {
     "data": {
      "text/plain": [
       "<matplotlib.contour.QuadContourSet at 0x7f6ef1e18ca0>"
      ]
     },
     "execution_count": 9,
     "metadata": {},
     "output_type": "execute_result"
    },
    {
     "data": {
      "image/png": "[encoded data removed]",
      "text/plain": [
       "<Figure size 432x288 with 2 Axes>"
      ]
     },
     "metadata": {
      "needs_background": "light"
     },
     "output_type": "display_data"
    }
   ],
   "source": [
    "fig, ax = plt.subplots(1,2)\n",
    "ax[0].contourf(res[92,:,:,1])\n",
    "ax[1].contourf(snapshots[92, :, :, 1])"
   ]
  },
  {
   "cell_type": "code",
   "execution_count": 10,
   "id": "ff718a9e",
   "metadata": {},
   "outputs": [],
   "source": [
    "# Reshape to how reconstruction legacy code wants it\n",
    "reconstruction = res.reshape((4, 2000, 55, 42, 2)).swapaxes(1, 4)\n",
    "np.save(\"cae_reconstruction.npy\", reconstruction)"
   ]
  },
  {
   "cell_type": "code",
   "execution_count": 11,
   "id": "4b9e218a",
   "metadata": {},
   "outputs": [
    {
     "data": {
      "text/plain": [
       "(4, 2, 55, 42, 2000)"
      ]
     },
     "execution_count": 11,
     "metadata": {},
     "output_type": "execute_result"
    }
   ],
   "source": [
    "reconstruction.shape"
   ]
  },
  {
   "cell_type": "markdown",
   "id": "6d5b29c6",
   "metadata": {},
   "source": [
    "# Adversarial Autoencoder"
   ]
  },
  {
   "cell_type": "code",
   "execution_count": 2,
   "id": "2f5f5949",
   "metadata": {},
   "outputs": [],
   "source": [
    "# Data processing\n",
    "snapshots_grids = np.load(\"./../submodules/DD-GAN/data/processed/snaphsots_field_Velocity_new_4_2000steps.npy\")\n",
    "\n",
    "input_shape = (55, 42, 2)\n",
    "snapshots = convert_2d(snapshots_grids, input_shape, 2000)\n",
    "snapshots = np.array(snapshots).reshape(8000, *input_shape)\n",
    "snapshots.shape\n",
    "\n",
    "from sklearn.model_selection import train_test_split\n",
    "\n",
    "# Data normalization\n",
    "layer = preprocessing.Normalization()\n",
    "layer.adapt(snapshots)\n",
    "\n",
    "x_train, x_val = train_test_split(snapshots, test_size=0.1)\n",
    "x_train = layer(x_train)\n",
    "x_val = layer(x_val)"
   ]
  },
  {
   "cell_type": "code",
   "execution_count": 3,
   "id": "64aa7a0a",
   "metadata": {},
   "outputs": [
    {
     "name": "stdout",
     "output_type": "stream",
     "text": [
      "Model: \"sequential\"\n",
      "_________________________________________________________________\n",
      "Layer (type)                 Output Shape              Param #   \n",
      "=================================================================\n",
      "conv2d (Conv2D)              (None, 55, 42, 32)        1632      \n",
      "_________________________________________________________________\n",
      "max_pooling2d (MaxPooling2D) (None, 28, 21, 32)        0         \n",
      "_________________________________________________________________\n",
      "conv2d_1 (Conv2D)            (None, 28, 21, 64)        18496     \n",
      "_________________________________________________________________\n",
      "max_pooling2d_1 (MaxPooling2 (None, 14, 11, 64)        0         \n",
      "_________________________________________________________________\n",
      "conv2d_2 (Conv2D)            (None, 14, 11, 128)       73856     \n",
      "_________________________________________________________________\n",
      "max_pooling2d_2 (MaxPooling2 (None, 7, 6, 128)         0         \n",
      "_________________________________________________________________\n",
      "flatten (Flatten)            (None, 5376)              0         \n",
      "_________________________________________________________________\n",
      "dense (Dense)                (None, 2688)              14453376  \n",
      "_________________________________________________________________\n",
      "dense_1 (Dense)              (None, 10)                26890     \n",
      "=================================================================\n",
      "Total params: 14,574,250\n",
      "Trainable params: 14,574,250\n",
      "Non-trainable params: 0\n",
      "_________________________________________________________________\n",
      "None\n",
      "Model: \"sequential_1\"\n",
      "_________________________________________________________________\n",
      "Layer (type)                 Output Shape              Param #   \n",
      "=================================================================\n",
      "dense_2 (Dense)              (None, 2688)              29568     \n",
      "_________________________________________________________________\n",
      "dense_3 (Dense)              (None, 5376)              14456064  \n",
      "_________________________________________________________________\n",
      "reshape (Reshape)            (None, 7, 6, 128)         0         \n",
      "_________________________________________________________________\n",
      "conv2d_3 (Conv2D)            (None, 7, 6, 128)         147584    \n",
      "_________________________________________________________________\n",
      "up_sampling2d (UpSampling2D) (None, 14, 12, 128)       0         \n",
      "_________________________________________________________________\n",
      "conv2d_4 (Conv2D)            (None, 14, 12, 64)        73792     \n",
      "_________________________________________________________________\n",
      "up_sampling2d_1 (UpSampling2 (None, 28, 24, 64)        0         \n",
      "_________________________________________________________________\n",
      "conv2d_5 (Conv2D)            (None, 28, 24, 32)        18464     \n",
      "_________________________________________________________________\n",
      "up_sampling2d_2 (UpSampling2 (None, 56, 48, 32)        0         \n",
      "_________________________________________________________________\n",
      "conv2d_6 (Conv2D)            (None, 56, 48, 2)         578       \n",
      "_________________________________________________________________\n",
      "cropping2d (Cropping2D)      (None, 55, 42, 2)         0         \n",
      "=================================================================\n",
      "Total params: 14,726,050\n",
      "Trainable params: 14,726,050\n",
      "Non-trainable params: 0\n",
      "_________________________________________________________________\n",
      "None\n",
      "Model: \"sequential_2\"\n",
      "_________________________________________________________________\n",
      "Layer (type)                 Output Shape              Param #   \n",
      "=================================================================\n",
      "dense_4 (Dense)              (None, 100)               1100      \n",
      "_________________________________________________________________\n",
      "dense_5 (Dense)              (None, 500)               50500     \n",
      "_________________________________________________________________\n",
      "dense_6 (Dense)              (None, 1)                 501       \n",
      "=================================================================\n",
      "Total params: 52,101\n",
      "Trainable params: 52,101\n",
      "Non-trainable params: 0\n",
      "_________________________________________________________________\n",
      "None\n"
     ]
    }
   ],
   "source": [
    "initializer = tf.keras.initializers.RandomNormal(mean=0.0, stddev=0.05, seed=None)\n",
    "optimizer = tf.keras.optimizers.Nadam(lr=0.00001, beta_1=0.9, beta_2=0.999)\n",
    "\n",
    "encoder, decoder = build_denser_omata_encoder_decoder(input_shape, 10, initializer, info=True)\n",
    "discriminator = build_custom_discriminator(10, initializer, info=True)\n",
    "\n",
    "#encoder = tf.keras.models.load_model(\"saved_model_aae/encoder\")\n",
    "#decoder = tf.keras.models.load_model(\"saved_model_aae/decoder\")\n",
    "#discriminator = tf.keras.models.load_model(\"saved_model_aae/discriminator\")"
   ]
  },
  {
   "cell_type": "markdown",
   "id": "f5092aab",
   "metadata": {},
   "source": [
    "### Separate losses"
   ]
  },
  {
   "cell_type": "code",
   "execution_count": 4,
   "id": "df5171ec",
   "metadata": {},
   "outputs": [],
   "source": [
    "aae = AAE(encoder, decoder, discriminator, optimizer)\n",
    "aae.compile(input_shape)"
   ]
  },
  {
   "cell_type": "code",
   "execution_count": null,
   "id": "9309f6f3",
   "metadata": {},
   "outputs": [],
   "source": [
    "aae.train(x_train, 100, val_data=x_val)"
   ]
  },
  {
   "cell_type": "markdown",
   "id": "9ec005ee",
   "metadata": {},
   "source": [
    "### Combined losses"
   ]
  },
  {
   "cell_type": "code",
   "execution_count": 4,
   "id": "265eed6c",
   "metadata": {},
   "outputs": [],
   "source": [
    "aae = AAE_combined_loss(encoder, decoder, discriminator, optimizer)\n",
    "aae.compile(input_shape)"
   ]
  },
  {
   "cell_type": "code",
   "execution_count": 5,
   "id": "5d35cf08",
   "metadata": {},
   "outputs": [
    {
     "ename": "KeyboardInterrupt",
     "evalue": "",
     "output_type": "error",
     "traceback": [
      "\u001b[0;31m---------------------------------------------------------------------------\u001b[0m",
      "\u001b[0;31mKeyboardInterrupt\u001b[0m                         Traceback (most recent call last)",
      "\u001b[0;32m<ipython-input-5-5df4fac70335>\u001b[0m in \u001b[0;36m<module>\u001b[0;34m\u001b[0m\n\u001b[0;32m----> 1\u001b[0;31m \u001b[0maae\u001b[0m\u001b[0;34m.\u001b[0m\u001b[0mtrain\u001b[0m\u001b[0;34m(\u001b[0m\u001b[0mx_train\u001b[0m\u001b[0;34m,\u001b[0m \u001b[0;36m100\u001b[0m\u001b[0;34m,\u001b[0m \u001b[0mval_data\u001b[0m\u001b[0;34m=\u001b[0m\u001b[0mx_val\u001b[0m\u001b[0;34m)\u001b[0m\u001b[0;34m\u001b[0m\u001b[0;34m\u001b[0m\u001b[0m\n\u001b[0m",
      "\u001b[0;32m~/Documents/master/acse-9/DD-GAN-AE/ddganAE/models/aae.py\u001b[0m in \u001b[0;36mtrain\u001b[0;34m(self, train_data, epochs, val_data, batch_size, val_batch_size, wandb_log, n_discriminator)\u001b[0m\n\u001b[1;32m    301\u001b[0m             \u001b[0;32mfor\u001b[0m \u001b[0mstep\u001b[0m\u001b[0;34m,\u001b[0m \u001b[0mgrids\u001b[0m \u001b[0;32min\u001b[0m \u001b[0menumerate\u001b[0m\u001b[0;34m(\u001b[0m\u001b[0mtrain_dataset\u001b[0m\u001b[0;34m)\u001b[0m\u001b[0;34m:\u001b[0m\u001b[0;34m\u001b[0m\u001b[0;34m\u001b[0m\u001b[0m\n\u001b[1;32m    302\u001b[0m \u001b[0;34m\u001b[0m\u001b[0m\n\u001b[0;32m--> 303\u001b[0;31m                 \u001b[0mlatent_fake\u001b[0m \u001b[0;34m=\u001b[0m \u001b[0mself\u001b[0m\u001b[0;34m.\u001b[0m\u001b[0mencoder\u001b[0m\u001b[0;34m.\u001b[0m\u001b[0mpredict\u001b[0m\u001b[0;34m(\u001b[0m\u001b[0mgrids\u001b[0m\u001b[0;34m)\u001b[0m\u001b[0;34m\u001b[0m\u001b[0;34m\u001b[0m\u001b[0m\n\u001b[0m\u001b[1;32m    304\u001b[0m                 latent_real = np.random.normal(size=(batch_size,\n\u001b[1;32m    305\u001b[0m                                                      self.latent_dim))\n",
      "\u001b[0;32m~/miniconda3/envs/acse-9/lib/python3.8/site-packages/tensorflow/python/keras/engine/training.py\u001b[0m in \u001b[0;36mpredict\u001b[0;34m(self, x, batch_size, verbose, steps, callbacks, max_queue_size, workers, use_multiprocessing)\u001b[0m\n\u001b[1;32m   1627\u001b[0m           \u001b[0;32mfor\u001b[0m \u001b[0mstep\u001b[0m \u001b[0;32min\u001b[0m \u001b[0mdata_handler\u001b[0m\u001b[0;34m.\u001b[0m\u001b[0msteps\u001b[0m\u001b[0;34m(\u001b[0m\u001b[0;34m)\u001b[0m\u001b[0;34m:\u001b[0m\u001b[0;34m\u001b[0m\u001b[0;34m\u001b[0m\u001b[0m\n\u001b[1;32m   1628\u001b[0m             \u001b[0mcallbacks\u001b[0m\u001b[0;34m.\u001b[0m\u001b[0mon_predict_batch_begin\u001b[0m\u001b[0;34m(\u001b[0m\u001b[0mstep\u001b[0m\u001b[0;34m)\u001b[0m\u001b[0;34m\u001b[0m\u001b[0;34m\u001b[0m\u001b[0m\n\u001b[0;32m-> 1629\u001b[0;31m             \u001b[0mtmp_batch_outputs\u001b[0m \u001b[0;34m=\u001b[0m \u001b[0mself\u001b[0m\u001b[0;34m.\u001b[0m\u001b[0mpredict_function\u001b[0m\u001b[0;34m(\u001b[0m\u001b[0miterator\u001b[0m\u001b[0;34m)\u001b[0m\u001b[0;34m\u001b[0m\u001b[0;34m\u001b[0m\u001b[0m\n\u001b[0m\u001b[1;32m   1630\u001b[0m             \u001b[0;32mif\u001b[0m \u001b[0mdata_handler\u001b[0m\u001b[0;34m.\u001b[0m\u001b[0mshould_sync\u001b[0m\u001b[0;34m:\u001b[0m\u001b[0;34m\u001b[0m\u001b[0;34m\u001b[0m\u001b[0m\n\u001b[1;32m   1631\u001b[0m               \u001b[0mcontext\u001b[0m\u001b[0;34m.\u001b[0m\u001b[0masync_wait\u001b[0m\u001b[0;34m(\u001b[0m\u001b[0;34m)\u001b[0m\u001b[0;34m\u001b[0m\u001b[0;34m\u001b[0m\u001b[0m\n",
      "\u001b[0;32m~/miniconda3/envs/acse-9/lib/python3.8/site-packages/tensorflow/python/eager/def_function.py\u001b[0m in \u001b[0;36m__call__\u001b[0;34m(self, *args, **kwds)\u001b[0m\n\u001b[1;32m    826\u001b[0m     \u001b[0mtracing_count\u001b[0m \u001b[0;34m=\u001b[0m \u001b[0mself\u001b[0m\u001b[0;34m.\u001b[0m\u001b[0mexperimental_get_tracing_count\u001b[0m\u001b[0;34m(\u001b[0m\u001b[0;34m)\u001b[0m\u001b[0;34m\u001b[0m\u001b[0;34m\u001b[0m\u001b[0m\n\u001b[1;32m    827\u001b[0m     \u001b[0;32mwith\u001b[0m \u001b[0mtrace\u001b[0m\u001b[0;34m.\u001b[0m\u001b[0mTrace\u001b[0m\u001b[0;34m(\u001b[0m\u001b[0mself\u001b[0m\u001b[0;34m.\u001b[0m\u001b[0m_name\u001b[0m\u001b[0;34m)\u001b[0m \u001b[0;32mas\u001b[0m \u001b[0mtm\u001b[0m\u001b[0;34m:\u001b[0m\u001b[0;34m\u001b[0m\u001b[0;34m\u001b[0m\u001b[0m\n\u001b[0;32m--> 828\u001b[0;31m       \u001b[0mresult\u001b[0m \u001b[0;34m=\u001b[0m \u001b[0mself\u001b[0m\u001b[0;34m.\u001b[0m\u001b[0m_call\u001b[0m\u001b[0;34m(\u001b[0m\u001b[0;34m*\u001b[0m\u001b[0margs\u001b[0m\u001b[0;34m,\u001b[0m \u001b[0;34m**\u001b[0m\u001b[0mkwds\u001b[0m\u001b[0;34m)\u001b[0m\u001b[0;34m\u001b[0m\u001b[0;34m\u001b[0m\u001b[0m\n\u001b[0m\u001b[1;32m    829\u001b[0m       \u001b[0mcompiler\u001b[0m \u001b[0;34m=\u001b[0m \u001b[0;34m\"xla\"\u001b[0m \u001b[0;32mif\u001b[0m \u001b[0mself\u001b[0m\u001b[0;34m.\u001b[0m\u001b[0m_experimental_compile\u001b[0m \u001b[0;32melse\u001b[0m \u001b[0;34m\"nonXla\"\u001b[0m\u001b[0;34m\u001b[0m\u001b[0;34m\u001b[0m\u001b[0m\n\u001b[1;32m    830\u001b[0m       \u001b[0mnew_tracing_count\u001b[0m \u001b[0;34m=\u001b[0m \u001b[0mself\u001b[0m\u001b[0;34m.\u001b[0m\u001b[0mexperimental_get_tracing_count\u001b[0m\u001b[0;34m(\u001b[0m\u001b[0;34m)\u001b[0m\u001b[0;34m\u001b[0m\u001b[0;34m\u001b[0m\u001b[0m\n",
      "\u001b[0;32m~/miniconda3/envs/acse-9/lib/python3.8/site-packages/tensorflow/python/eager/def_function.py\u001b[0m in \u001b[0;36m_call\u001b[0;34m(self, *args, **kwds)\u001b[0m\n\u001b[1;32m    860\u001b[0m       \u001b[0;31m# In this case we have not created variables on the first call. So we can\u001b[0m\u001b[0;34m\u001b[0m\u001b[0;34m\u001b[0m\u001b[0;34m\u001b[0m\u001b[0m\n\u001b[1;32m    861\u001b[0m       \u001b[0;31m# run the first trace but we should fail if variables are created.\u001b[0m\u001b[0;34m\u001b[0m\u001b[0;34m\u001b[0m\u001b[0;34m\u001b[0m\u001b[0m\n\u001b[0;32m--> 862\u001b[0;31m       \u001b[0mresults\u001b[0m \u001b[0;34m=\u001b[0m \u001b[0mself\u001b[0m\u001b[0;34m.\u001b[0m\u001b[0m_stateful_fn\u001b[0m\u001b[0;34m(\u001b[0m\u001b[0;34m*\u001b[0m\u001b[0margs\u001b[0m\u001b[0;34m,\u001b[0m \u001b[0;34m**\u001b[0m\u001b[0mkwds\u001b[0m\u001b[0;34m)\u001b[0m\u001b[0;34m\u001b[0m\u001b[0;34m\u001b[0m\u001b[0m\n\u001b[0m\u001b[1;32m    863\u001b[0m       \u001b[0;32mif\u001b[0m \u001b[0mself\u001b[0m\u001b[0;34m.\u001b[0m\u001b[0m_created_variables\u001b[0m\u001b[0;34m:\u001b[0m\u001b[0;34m\u001b[0m\u001b[0;34m\u001b[0m\u001b[0m\n\u001b[1;32m    864\u001b[0m         raise ValueError(\"Creating variables on a non-first call to a function\"\n",
      "\u001b[0;32m~/miniconda3/envs/acse-9/lib/python3.8/site-packages/tensorflow/python/eager/function.py\u001b[0m in \u001b[0;36m__call__\u001b[0;34m(self, *args, **kwargs)\u001b[0m\n\u001b[1;32m   2940\u001b[0m       (graph_function,\n\u001b[1;32m   2941\u001b[0m        filtered_flat_args) = self._maybe_define_function(args, kwargs)\n\u001b[0;32m-> 2942\u001b[0;31m     return graph_function._call_flat(\n\u001b[0m\u001b[1;32m   2943\u001b[0m         filtered_flat_args, captured_inputs=graph_function.captured_inputs)  # pylint: disable=protected-access\n\u001b[1;32m   2944\u001b[0m \u001b[0;34m\u001b[0m\u001b[0m\n",
      "\u001b[0;32m~/miniconda3/envs/acse-9/lib/python3.8/site-packages/tensorflow/python/eager/function.py\u001b[0m in \u001b[0;36m_call_flat\u001b[0;34m(self, args, captured_inputs, cancellation_manager)\u001b[0m\n\u001b[1;32m   1916\u001b[0m         and executing_eagerly):\n\u001b[1;32m   1917\u001b[0m       \u001b[0;31m# No tape is watching; skip to running the function.\u001b[0m\u001b[0;34m\u001b[0m\u001b[0;34m\u001b[0m\u001b[0;34m\u001b[0m\u001b[0m\n\u001b[0;32m-> 1918\u001b[0;31m       return self._build_call_outputs(self._inference_function.call(\n\u001b[0m\u001b[1;32m   1919\u001b[0m           ctx, args, cancellation_manager=cancellation_manager))\n\u001b[1;32m   1920\u001b[0m     forward_backward = self._select_forward_and_backward_functions(\n",
      "\u001b[0;32m~/miniconda3/envs/acse-9/lib/python3.8/site-packages/tensorflow/python/eager/function.py\u001b[0m in \u001b[0;36mcall\u001b[0;34m(self, ctx, args, cancellation_manager)\u001b[0m\n\u001b[1;32m    553\u001b[0m       \u001b[0;32mwith\u001b[0m \u001b[0m_InterpolateFunctionError\u001b[0m\u001b[0;34m(\u001b[0m\u001b[0mself\u001b[0m\u001b[0;34m)\u001b[0m\u001b[0;34m:\u001b[0m\u001b[0;34m\u001b[0m\u001b[0;34m\u001b[0m\u001b[0m\n\u001b[1;32m    554\u001b[0m         \u001b[0;32mif\u001b[0m \u001b[0mcancellation_manager\u001b[0m \u001b[0;32mis\u001b[0m \u001b[0;32mNone\u001b[0m\u001b[0;34m:\u001b[0m\u001b[0;34m\u001b[0m\u001b[0;34m\u001b[0m\u001b[0m\n\u001b[0;32m--> 555\u001b[0;31m           outputs = execute.execute(\n\u001b[0m\u001b[1;32m    556\u001b[0m               \u001b[0mstr\u001b[0m\u001b[0;34m(\u001b[0m\u001b[0mself\u001b[0m\u001b[0;34m.\u001b[0m\u001b[0msignature\u001b[0m\u001b[0;34m.\u001b[0m\u001b[0mname\u001b[0m\u001b[0;34m)\u001b[0m\u001b[0;34m,\u001b[0m\u001b[0;34m\u001b[0m\u001b[0;34m\u001b[0m\u001b[0m\n\u001b[1;32m    557\u001b[0m               \u001b[0mnum_outputs\u001b[0m\u001b[0;34m=\u001b[0m\u001b[0mself\u001b[0m\u001b[0;34m.\u001b[0m\u001b[0m_num_outputs\u001b[0m\u001b[0;34m,\u001b[0m\u001b[0;34m\u001b[0m\u001b[0;34m\u001b[0m\u001b[0m\n",
      "\u001b[0;32m~/miniconda3/envs/acse-9/lib/python3.8/site-packages/tensorflow/python/eager/execute.py\u001b[0m in \u001b[0;36mquick_execute\u001b[0;34m(op_name, num_outputs, inputs, attrs, ctx, name)\u001b[0m\n\u001b[1;32m     57\u001b[0m   \u001b[0;32mtry\u001b[0m\u001b[0;34m:\u001b[0m\u001b[0;34m\u001b[0m\u001b[0;34m\u001b[0m\u001b[0m\n\u001b[1;32m     58\u001b[0m     \u001b[0mctx\u001b[0m\u001b[0;34m.\u001b[0m\u001b[0mensure_initialized\u001b[0m\u001b[0;34m(\u001b[0m\u001b[0;34m)\u001b[0m\u001b[0;34m\u001b[0m\u001b[0;34m\u001b[0m\u001b[0m\n\u001b[0;32m---> 59\u001b[0;31m     tensors = pywrap_tfe.TFE_Py_Execute(ctx._handle, device_name, op_name,\n\u001b[0m\u001b[1;32m     60\u001b[0m                                         inputs, attrs, num_outputs)\n\u001b[1;32m     61\u001b[0m   \u001b[0;32mexcept\u001b[0m \u001b[0mcore\u001b[0m\u001b[0;34m.\u001b[0m\u001b[0m_NotOkStatusException\u001b[0m \u001b[0;32mas\u001b[0m \u001b[0me\u001b[0m\u001b[0;34m:\u001b[0m\u001b[0;34m\u001b[0m\u001b[0;34m\u001b[0m\u001b[0m\n",
      "\u001b[0;31mKeyboardInterrupt\u001b[0m: "
     ]
    }
   ],
   "source": [
    "aae.train(x_train, 100, val_data=x_val)"
   ]
  },
  {
   "cell_type": "markdown",
   "id": "cc0318bb",
   "metadata": {},
   "source": [
    "#### Prepare output to reconstruct to .vtu file "
   ]
  },
  {
   "cell_type": "code",
   "execution_count": 6,
   "id": "b07addbc",
   "metadata": {},
   "outputs": [],
   "source": [
    "snapshots = layer(snapshots)\n",
    "res = aae.autoencoder.predict(snapshots)"
   ]
  },
  {
   "cell_type": "code",
   "execution_count": 7,
   "id": "1d0be908",
   "metadata": {},
   "outputs": [],
   "source": [
    "# Undo normalization\n",
    "res = (res * np.sqrt(layer.variance.numpy()) + layer.mean.numpy())"
   ]
  },
  {
   "cell_type": "code",
   "execution_count": 8,
   "id": "95aa8b5a",
   "metadata": {},
   "outputs": [
    {
     "data": {
      "text/plain": [
       "<matplotlib.contour.QuadContourSet at 0x7f09b41afaf0>"
      ]
     },
     "execution_count": 8,
     "metadata": {},
     "output_type": "execute_result"
    },
    {
     "data": {
      "image/png": "[encoded data removed]",
      "text/plain": [
       "<Figure size 432x288 with 2 Axes>"
      ]
     },
     "metadata": {
      "needs_background": "light"
     },
     "output_type": "display_data"
    }
   ],
   "source": [
    "fig, ax = plt.subplots(1,2)\n",
    "ax[0].contourf(res[92,:,:,1])\n",
    "ax[1].contourf(snapshots[92, :, :, 1])"
   ]
  },
  {
   "cell_type": "code",
   "execution_count": 9,
   "id": "e62d3409",
   "metadata": {},
   "outputs": [],
   "source": [
    "# Reshape to how reconstruction legacy code wants it\n",
    "reconstruction = res.reshape((4, 2000, 55, 42, 2)).swapaxes(1, 4)\n",
    "np.save(\"aae_reconstruction.npy\", reconstruction)"
   ]
  },
  {
   "cell_type": "markdown",
   "id": "e29bd97c",
   "metadata": {},
   "source": [
    "# SVD Autoencoder"
   ]
  },
  {
   "cell_type": "code",
   "execution_count": 3,
   "id": "a0bcb869",
   "metadata": {},
   "outputs": [],
   "source": [
    "# Data processing\n",
    "snapshots_grids = np.load(\"./../submodules/DD-GAN/data/processed/snaphsots_field_Velocity_new_4_2000steps.npy\")\n",
    "\n",
    "# Data normalization\n",
    "layer = preprocessing.Normalization(axis=None)\n",
    "layer.adapt(snapshots_grids)\n",
    "\n",
    "snapshots_grids = snapshots_grids.swapaxes(0, 2)\n",
    "\n",
    "batch_size = 64"
   ]
  },
  {
   "cell_type": "code",
   "execution_count": 4,
   "id": "01b6a61a",
   "metadata": {},
   "outputs": [],
   "source": [
    "x_train, x_val = train_test_split(snapshots_grids, test_size=0.1 )\n",
    "x_train = layer(x_train).numpy().swapaxes(0, 2)\n",
    "x_val = layer(x_val).numpy().swapaxes(0, 2)"
   ]
  },
  {
   "cell_type": "code",
   "execution_count": 5,
   "id": "9786213d",
   "metadata": {},
   "outputs": [],
   "source": [
    "initializer = tf.keras.initializers.RandomNormal(mean=0.0, stddev=0.05, seed=None)\n",
    "optimizer = tf.keras.optimizers.Nadam(lr=0.0005, beta_1=0.98, beta_2=0.99999)\n",
    "\n",
    "#dense_encoder = build_slimmer_dense_encoder(10, initializer, info=False,  dropout=0.3, act=\"elu\")\n",
    "#dense_decoder = build_slimmer_dense_decoder(100, 10, initializer, info=False,  dropout=0.3, act=\"elu\")\n",
    "\n",
    "#dense_encoder = tf.keras.models.load_model(\"saved_model_svdae/encoder\")\n",
    "#dense_decoder = tf.keras.models.load_model(\"saved_model_svdae/decoder\")"
   ]
  },
  {
   "cell_type": "code",
   "execution_count": 6,
   "id": "a2fd823e",
   "metadata": {},
   "outputs": [
    {
     "name": "stdout",
     "output_type": "stream",
     "text": [
      "Model: \"sequential\"\n",
      "_________________________________________________________________\n",
      "Layer (type)                 Output Shape              Param #   \n",
      "=================================================================\n",
      "dense (Dense)                (None, 8192)              827392    \n",
      "_________________________________________________________________\n",
      "dropout (Dropout)            (None, 8192)              0         \n",
      "_________________________________________________________________\n",
      "reshape (Reshape)            (None, 8, 8, 128)         0         \n",
      "_________________________________________________________________\n",
      "conv2d (Conv2D)              (None, 8, 8, 128)         147584    \n",
      "_________________________________________________________________\n",
      "max_pooling2d (MaxPooling2D) (None, 4, 4, 128)         0         \n",
      "_________________________________________________________________\n",
      "conv2d_1 (Conv2D)            (None, 4, 4, 64)          73792     \n",
      "_________________________________________________________________\n",
      "max_pooling2d_1 (MaxPooling2 (None, 2, 2, 64)          0         \n",
      "_________________________________________________________________\n",
      "flatten (Flatten)            (None, 256)               0         \n",
      "_________________________________________________________________\n",
      "dense_1 (Dense)              (None, 10)                2570      \n",
      "=================================================================\n",
      "Total params: 1,051,338\n",
      "Trainable params: 1,051,338\n",
      "Non-trainable params: 0\n",
      "_________________________________________________________________\n",
      "Model: \"sequential_1\"\n",
      "_________________________________________________________________\n",
      "Layer (type)                 Output Shape              Param #   \n",
      "=================================================================\n",
      "dense_2 (Dense)              (None, 256)               2816      \n",
      "_________________________________________________________________\n",
      "dropout_1 (Dropout)          (None, 256)               0         \n",
      "_________________________________________________________________\n",
      "reshape_1 (Reshape)          (None, 2, 2, 64)          0         \n",
      "_________________________________________________________________\n",
      "conv2d_2 (Conv2D)            (None, 2, 2, 64)          36928     \n",
      "_________________________________________________________________\n",
      "up_sampling2d (UpSampling2D) (None, 4, 4, 64)          0         \n",
      "_________________________________________________________________\n",
      "conv2d_3 (Conv2D)            (None, 4, 4, 128)         73856     \n",
      "_________________________________________________________________\n",
      "up_sampling2d_1 (UpSampling2 (None, 8, 8, 128)         0         \n",
      "_________________________________________________________________\n",
      "flatten_1 (Flatten)          (None, 8192)              0         \n",
      "_________________________________________________________________\n",
      "dense_3 (Dense)              (None, 100)               819300    \n",
      "=================================================================\n",
      "Total params: 932,900\n",
      "Trainable params: 932,900\n",
      "Non-trainable params: 0\n",
      "_________________________________________________________________\n",
      "None None\n"
     ]
    }
   ],
   "source": [
    "encoder, decoder = build_vinicius_encoder_decoder(100, 10, initializer, act='elu', dense_act='relu', info=True, reg=0, dropout=0.55, batchnorm=False)"
   ]
  },
  {
   "cell_type": "code",
   "execution_count": 7,
   "id": "403afee4",
   "metadata": {},
   "outputs": [],
   "source": [
    "svdae = SVDAE(encoder, decoder, optimizer)\n",
    "svdae.compile(100, weight_loss=False)\n",
    "\n",
    "# Only set this when loading in the model\n",
    "#svdae.R = np.load(\"R_svdae.npy\")"
   ]
  },
  {
   "cell_type": "code",
   "execution_count": 8,
   "id": "04743d34",
   "metadata": {},
   "outputs": [],
   "source": [
    "svdae.train(x_train, 200, val_data=x_val, batch_size=batch_size)"
   ]
  },
  {
   "cell_type": "code",
   "execution_count": 9,
   "id": "a7b16cf8",
   "metadata": {},
   "outputs": [
    {
     "data": {
      "text/plain": [
       "<matplotlib.contour.QuadContourSet at 0x7f8138593bb0>"
      ]
     },
     "execution_count": 9,
     "metadata": {},
     "output_type": "execute_result"
    },
    {
     "data": {
      "image/png": "[encoded data removed]",
      "text/plain": [
       "<Figure size 432x288 with 2 Axes>"
      ]
     },
     "metadata": {
      "needs_background": "light"
     },
     "output_type": "display_data"
    }
   ],
   "source": [
    "original = x_val[2, :, 30]\n",
    "\n",
    "result = svdae.predict_single(original)\n",
    "result = np.expand_dims(result,(0,2))\n",
    "input_shape = (55, 42, 2)\n",
    "result = convert_2d(result, input_shape, 1)\n",
    "\n",
    "original = np.expand_dims(original,(0,2))\n",
    "input_shape = (55, 42, 2)\n",
    "original = convert_2d(original, input_shape, 1)\n",
    "\n",
    "fig, ax = plt.subplots(1,2)\n",
    "ax[0].contourf(result[0][0, :, :, 0])\n",
    "ax[1].contourf(original[0][0, :, :, 0])"
   ]
  },
  {
   "cell_type": "code",
   "execution_count": 67,
   "id": "656a2220",
   "metadata": {},
   "outputs": [
    {
     "data": {
      "text/plain": [
       "(4, 2, 55, 42, 2000)"
      ]
     },
     "execution_count": 67,
     "metadata": {},
     "output_type": "execute_result"
    }
   ],
   "source": [
    "#np.load(\"aae_reconstruction.npy\").shape"
   ]
  },
  {
   "cell_type": "markdown",
   "id": "f02fa115",
   "metadata": {},
   "source": [
    "#### Predicting a set of output grids for the svd autoencoder"
   ]
  },
  {
   "cell_type": "code",
   "execution_count": 10,
   "id": "b189a637",
   "metadata": {},
   "outputs": [],
   "source": [
    "snapshots = layer(snapshots_grids).numpy().swapaxes(0, 2)"
   ]
  },
  {
   "cell_type": "code",
   "execution_count": 11,
   "id": "6a747394",
   "metadata": {},
   "outputs": [
    {
     "data": {
      "text/plain": [
       "(2000, 4620, 4)"
      ]
     },
     "execution_count": 11,
     "metadata": {},
     "output_type": "execute_result"
    }
   ],
   "source": [
    "snapshots_grids.shape"
   ]
  },
  {
   "cell_type": "code",
   "execution_count": 12,
   "id": "7b5d8404",
   "metadata": {},
   "outputs": [
    {
     "data": {
      "text/plain": [
       "(2, 55, 42)"
      ]
     },
     "execution_count": 12,
     "metadata": {},
     "output_type": "execute_result"
    }
   ],
   "source": [
    "np.moveaxis(np.array(result).reshape(55, 42, 2), 2, 0).shape"
   ]
  },
  {
   "cell_type": "code",
   "execution_count": 13,
   "id": "6a3e594f",
   "metadata": {},
   "outputs": [
    {
     "name": "stdout",
     "output_type": "stream",
     "text": [
      "0\n",
      "100\n",
      "200\n",
      "300\n",
      "400\n",
      "500\n",
      "600\n",
      "700\n",
      "800\n",
      "900\n",
      "1000\n",
      "1100\n",
      "1200\n",
      "1300\n",
      "1400\n",
      "1500\n",
      "1600\n",
      "1700\n",
      "1800\n",
      "1900\n",
      "0\n",
      "100\n",
      "200\n",
      "300\n",
      "400\n",
      "500\n",
      "600\n",
      "700\n",
      "800\n",
      "900\n",
      "1000\n",
      "1100\n",
      "1200\n",
      "1300\n",
      "1400\n",
      "1500\n",
      "1600\n",
      "1700\n",
      "1800\n",
      "1900\n",
      "0\n",
      "100\n",
      "200\n",
      "300\n",
      "400\n",
      "500\n",
      "600\n",
      "700\n",
      "800\n",
      "900\n",
      "1000\n",
      "1100\n",
      "1200\n",
      "1300\n",
      "1400\n",
      "1500\n",
      "1600\n",
      "1700\n",
      "1800\n",
      "1900\n",
      "0\n",
      "100\n",
      "200\n",
      "300\n",
      "400\n",
      "500\n",
      "600\n",
      "700\n",
      "800\n",
      "900\n",
      "1000\n",
      "1100\n",
      "1200\n",
      "1300\n",
      "1400\n",
      "1500\n",
      "1600\n",
      "1700\n",
      "1800\n",
      "1900\n"
     ]
    }
   ],
   "source": [
    "output = np.zeros((4, 2, 55, 42, 2000))\n",
    "loss = 0\n",
    "for i in range(snapshots.shape[0]):\n",
    "    for j in range(snapshots.shape[2]):\n",
    "        original = snapshots[i, :, j]\n",
    "        result = svdae.predict_single(original)\n",
    "        loss += tf.keras.losses.MSE(original, result)\n",
    "        result = (result * np.sqrt(layer.variance.numpy()) + layer.mean.numpy())\n",
    "        result = np.expand_dims(result,(0,2))\n",
    "        input_shape = (55, 42, 2)\n",
    "        result = convert_2d(result, input_shape, 1)\n",
    "        output[i, :, :, :, j] = np.moveaxis(np.array(result).reshape(55, 42, 2), 2, 0)\n",
    "        if j % 100 == 0:\n",
    "            print(j)"
   ]
  },
  {
   "cell_type": "code",
   "execution_count": 14,
   "id": "2d5d2e14",
   "metadata": {},
   "outputs": [
    {
     "data": {
      "text/plain": [
       "0.03563554836518367"
      ]
     },
     "execution_count": 14,
     "metadata": {},
     "output_type": "execute_result"
    }
   ],
   "source": [
    "loss.numpy()/8000"
   ]
  },
  {
   "cell_type": "code",
   "execution_count": 86,
   "id": "14f24158",
   "metadata": {},
   "outputs": [
    {
     "data": {
      "text/plain": [
       "(4, 2, 55, 42, 2000)"
      ]
     },
     "execution_count": 86,
     "metadata": {},
     "output_type": "execute_result"
    }
   ],
   "source": [
    "output.shape"
   ]
  },
  {
   "cell_type": "code",
   "execution_count": 125,
   "id": "0e6c6e19",
   "metadata": {},
   "outputs": [],
   "source": [
    "np.save(\"svdae_reconstruction.npy\", output)"
   ]
  },
  {
   "cell_type": "code",
   "execution_count": 3,
   "id": "a35b36d0",
   "metadata": {},
   "outputs": [
    {
     "data": {
      "text/plain": [
       "(4, 2, 55, 42, 2000)"
      ]
     },
     "execution_count": 3,
     "metadata": {},
     "output_type": "execute_result"
    }
   ],
   "source": [
    "np.load(\"cae_reconstruction.npy\").shape"
   ]
  },
  {
   "cell_type": "code",
   "execution_count": 90,
   "id": "b28cb968",
   "metadata": {},
   "outputs": [],
   "source": [
    "input_shape = (55, 42, 2)\n",
    "result = convert_2d(snapshots, input_shape, 2000)"
   ]
  },
  {
   "cell_type": "code",
   "execution_count": 92,
   "id": "bb73cc5c",
   "metadata": {},
   "outputs": [],
   "source": [
    "snapshots = np.array(result)"
   ]
  },
  {
   "cell_type": "code",
   "execution_count": 108,
   "id": "131228f4",
   "metadata": {},
   "outputs": [],
   "source": [
    "snapshots_reshaped = np.moveaxis(np.moveaxis(snapshots, 1, 4), 3, 1)\n",
    "snapshots_reshaped = snapshots_reshaped.reshape(2000, 4620, 4)"
   ]
  },
  {
   "cell_type": "code",
   "execution_count": 111,
   "id": "709d8867",
   "metadata": {},
   "outputs": [],
   "source": [
    "output_reshaped = output.reshape(2000, 4620, 4)"
   ]
  },
  {
   "cell_type": "code",
   "execution_count": 115,
   "id": "55d12f65",
   "metadata": {},
   "outputs": [
    {
     "data": {
      "text/plain": [
       "1927.4203"
      ]
     },
     "execution_count": 115,
     "metadata": {},
     "output_type": "execute_result"
    }
   ],
   "source": [
    "tf.keras.losses.MSE(layer(snapshots_reshaped), layer(output_reshaped))"
   ]
  },
  {
   "cell_type": "code",
   "execution_count": 101,
   "id": "33de0785",
   "metadata": {},
   "outputs": [
    {
     "name": "stdout",
     "output_type": "stream",
     "text": [
      "[[0.77373479 0.77388099 0.77370624 0.77360166 0.77323434 0.77314297\n",
      "  0.7736847  0.77379379 0.77376172 0.77527252 0.77765292 0.78110186\n",
      "  0.78745405 0.79855139 0.8190091  0.8583387  0.8968064  0.94850024\n",
      "  1.02528308 1.04314032 1.00918348 1.01333907 1.00710268 1.00057693\n",
      "  1.00064759 0.99805419 1.0044451  1.02777026 1.03302593 1.01203422\n",
      "  0.97464399 0.93564913 0.89919552 0.87032889 0.84840289 0.8338368\n",
      "  0.82400089 0.81521355 0.80840768 0.8034596  0.80064139 0.79754713\n",
      "  0.7960436  0.79585597 0.79455834 0.79360526 0.79287399 0.79265459\n",
      "  0.79288669 0.79333561 0.79347566 0.79309157 0.79312558 0.79293838\n",
      "  0.79448396]\n",
      " [1.00944764 1.00997406 1.00869407 1.00846435 1.00651601 1.00624211\n",
      "  1.00846726 1.00555166 1.00560556 1.0089055  1.01196617 1.01587895\n",
      "  1.0240375  1.03879196 1.0595499  1.09647458 1.11940032 1.18278482\n",
      "  1.08313785 0.99268448 0.95989141 0.9680874  0.97135087 0.97562847\n",
      "  0.97759488 0.99854303 1.02286722 1.01646342 1.0195895  1.04296482\n",
      "  1.06790045 1.08853808 1.0981992  1.09723506 1.0903972  1.08413398\n",
      "  1.08171336 1.07617792 1.07261092 1.07034122 1.06904741 1.06863382\n",
      "  1.06658825 1.06510491 1.06338076 1.06322497 1.06234089 1.05992409\n",
      "  1.05959679 1.05670669 1.05340172 1.04996281 1.04868164 1.04520971\n",
      "  1.04538088]]\n"
     ]
    }
   ],
   "source": [
    "# Calculate MSE\n",
    "mean = 0\n",
    "for j in range(4):\n",
    "    for i in range(1000):\n",
    "        mean += tf.keras.losses.MSE(snapshots_reshaped[j, :, :, :, i], output[j, :, :, :, i]).numpy()/4000\n",
    "    \n",
    "print(mean)"
   ]
  },
  {
   "cell_type": "code",
   "execution_count": 105,
   "id": "c2fd0331",
   "metadata": {},
   "outputs": [
    {
     "data": {
      "text/plain": [
       "0.958719368381383"
      ]
     },
     "execution_count": 105,
     "metadata": {},
     "output_type": "execute_result"
    }
   ],
   "source": [
    "np.mean(tf.keras.losses.MSE(snapshots_reshaped, output))"
   ]
  },
  {
   "cell_type": "code",
   "execution_count": 124,
   "id": "cfd77d87",
   "metadata": {},
   "outputs": [
    {
     "name": "stdout",
     "output_type": "stream",
     "text": [
      "INFO:tensorflow:Assets written to: saved_model_svdae/encoder/assets\n",
      "INFO:tensorflow:Assets written to: saved_model_svdae/decoder/assets\n"
     ]
    }
   ],
   "source": [
    "!mkdir -p saved_model\n",
    "svdae.encoder.save('saved_model_svdae/encoder')\n",
    "svdae.decoder.save('saved_model_svdae/decoder')\n",
    "np.save('saved_model_svdae/R.npy', svdae.R)"
   ]
  },
  {
   "cell_type": "code",
   "execution_count": null,
   "id": "dde94222",
   "metadata": {},
   "outputs": [],
   "source": [
    "u, s, v "
   ]
  }
 ],
 "metadata": {
  "kernelspec": {
   "display_name": "Python 3",
   "language": "python",
   "name": "python3"
  },
  "language_info": {
   "codemirror_mode": {
    "name": "ipython",
    "version": 3
   },
   "file_extension": ".py",
   "mimetype": "text/x-python",
   "name": "python",
   "nbconvert_exporter": "python",
   "pygments_lexer": "ipython3",
   "version": "3.8.10"
  }
 },
 "nbformat": 4,
 "nbformat_minor": 5
}
