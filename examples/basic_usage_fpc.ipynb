{
 "cells": [
  {
   "cell_type": "markdown",
   "id": "a182c10f",
   "metadata": {},
   "source": [
    "# Autoencoders and POD on flow past cylinder (FPC) dataset\n",
    "\n",
    "Example notebook that displays the functionality of the built package for FPC and reproduces the results from the report"
   ]
  },
  {
   "cell_type": "code",
   "execution_count": 1,
   "id": "67a04531",
   "metadata": {},
   "outputs": [],
   "source": [
    "# All of the necessary external package imports\n",
    "import tensorflow as tf\n",
    "from tensorflow.keras.layers.experimental import preprocessing\n",
    "import numpy as np\n",
    "import matplotlib.pyplot as plt\n",
    "from sklearn.model_selection import train_test_split\n",
    "import random\n",
    "\n",
    "# Built package imports\n",
    "import ddganAE\n",
    "from ddganAE.utils import calc_pod\n",
    "from ddganAE.models import AAE, AAE_combined_loss, CAE, SVDAE\n",
    "from ddganAE.architectures.cae.D2 import *\n",
    "from ddganAE.architectures.svdae import *\n",
    "from ddganAE.architectures.discriminators import *\n",
    "from ddganAE.preprocessing import convert_2d"
   ]
  },
  {
   "cell_type": "code",
   "execution_count": 2,
   "id": "1636fb27",
   "metadata": {},
   "outputs": [],
   "source": [
    "# Setting seeds for reproduceability\n",
    "seed = 42\n",
    "tf.random.set_seed(seed)\n",
    "random.seed(seed)\n",
    "np.random.seed(seed)"
   ]
  },
  {
   "cell_type": "markdown",
   "id": "fd7622d3",
   "metadata": {},
   "source": [
    "## Proper Orthogonal Decomposition (POD)\n",
    "\n",
    "First we try POD to benchmark the other models against"
   ]
  },
  {
   "cell_type": "code",
   "execution_count": 3,
   "id": "3496c580",
   "metadata": {},
   "outputs": [],
   "source": [
    "snapshots_grids = np.load(\"./../submodules/DD-GAN/data/processed/snaphsots_field_Velocity_new_4_2000steps.npy\")"
   ]
  },
  {
   "cell_type": "code",
   "execution_count": 4,
   "id": "d0f74ee6",
   "metadata": {},
   "outputs": [],
   "source": [
    "# Some data reshaping\n",
    "\n",
    "input_shape = (55, 42, 2)\n",
    "snapshots = convert_2d(snapshots_grids, input_shape, 2000)\n",
    "snapshots = np.array(snapshots).reshape(8000, *input_shape)"
   ]
  },
  {
   "cell_type": "code",
   "execution_count": 5,
   "id": "54c62d1f",
   "metadata": {},
   "outputs": [
    {
     "name": "stdout",
     "output_type": "stream",
     "text": [
      "SSmatrix (8000, 8000)\n"
     ]
    }
   ],
   "source": [
    "# Normalize data and calculate POD\n",
    "\n",
    "# Could also try subtracting the mean but this does not give better results\n",
    "layer = preprocessing.Normalization(axis=None)\n",
    "layer.adapt(snapshots_grids)\n",
    "\n",
    "snapshots_norm = layer(snapshots_grids).numpy()\n",
    "\n",
    "coeffs, R, s = calc_pod(snapshots_norm, nPOD=10)"
   ]
  },
  {
   "cell_type": "code",
   "execution_count": 6,
   "id": "b4f75b14",
   "metadata": {},
   "outputs": [
    {
     "name": "stdout",
     "output_type": "stream",
     "text": [
      "POD MSE loss of the normalized dataset's reconstruction:  0.011914519353747969\n"
     ]
    }
   ],
   "source": [
    "# Calculate MSE\n",
    "mean = 0\n",
    "for j in range(4):\n",
    "    recon = R @ coeffs[j]\n",
    "    for i in range(2000):\n",
    "        mean += tf.keras.losses.MSE(recon[:, i], snapshots_norm[j, :, i]).numpy()/8000\n",
    "\n",
    "print(\"POD MSE loss of the normalized dataset's reconstruction: \", mean)"
   ]
  },
  {
   "cell_type": "code",
   "execution_count": 7,
   "id": "78663ca8",
   "metadata": {},
   "outputs": [],
   "source": [
    "# Create reconstructed grids\n",
    "reconstructed = np.zeros((4, 4620, 2000))\n",
    "\n",
    "for i in range(4):\n",
    "    reconstructed[i, :, :] = R @ coeffs[i]\n",
    "\n",
    "# Undo normalization\n",
    "reconstructed = (reconstructed * np.sqrt(layer.variance.numpy()) + layer.mean.numpy())"
   ]
  },
  {
   "cell_type": "code",
   "execution_count": 8,
   "id": "24a31773",
   "metadata": {},
   "outputs": [],
   "source": [
    "# Reshape to fit in interpolation (legacy) fortran code\n",
    "reconstructed = convert_2d(reconstructed, (55, 42, 2), 2000)\n",
    "reconstructed = np.array(reconstructed).swapaxes(1, 4)\n",
    "\n",
    "# Uncomment line below to save results\n",
    "# np.save(\"reconstruction_pod_10coeffs.npy\", reconstructed)"
   ]
  },
  {
   "cell_type": "code",
   "execution_count": 9,
   "id": "ca51233c",
   "metadata": {},
   "outputs": [
    {
     "data": {
      "text/plain": [
       "<matplotlib.contour.QuadContourSet at 0x7f24d26dab50>"
      ]
     },
     "execution_count": 9,
     "metadata": {},
     "output_type": "execute_result"
    },
    {
     "data": {
      "image/png": "[encoded data removed]",
      "text/plain": [
       "<Figure size 432x288 with 2 Axes>"
      ]
     },
     "metadata": {
      "needs_background": "light"
     },
     "output_type": "display_data"
    }
   ],
   "source": [
    "# Let's plot a reconstruction to see if it visually corresponds to what we expect\n",
    "fig, ax = plt.subplots(1,2)\n",
    "ax[0].contourf(reconstructed[0, 0, :, :, 100])\n",
    "ax[1].contourf(snapshots[100, :, :, 0])"
   ]
  },
  {
   "cell_type": "markdown",
   "id": "fad3dc64",
   "metadata": {},
   "source": [
    "## Convolutional Autoencoder"
   ]
  },
  {
   "cell_type": "code",
   "execution_count": 10,
   "id": "2b81d4b3",
   "metadata": {},
   "outputs": [],
   "source": [
    "# This cell does preprocessing, it is the same for the CAE and the AAE\n",
    "\n",
    "# Let's load in the data, split and reshape for the autoencoders\n",
    "snapshots_grids = np.load(\"./../submodules/DD-GAN/data/processed/snaphsots_field_Velocity_new_4_2000steps.npy\")\n",
    "\n",
    "# Some data reshaping\n",
    "input_shape = (55, 42, 2)\n",
    "snapshots = convert_2d(snapshots_grids, input_shape, 2000)\n",
    "snapshots = np.array(snapshots).reshape(8000, *input_shape)\n",
    "\n",
    "# Normalize and split dataset\n",
    "layer = preprocessing.Normalization()\n",
    "layer.adapt(snapshots)\n",
    "\n",
    "x_train, x_val = train_test_split(snapshots, test_size=0.1, random_state=seed)\n",
    "x_train = layer(x_train)\n",
    "x_val = layer(x_val)"
   ]
  },
  {
   "cell_type": "code",
   "execution_count": 11,
   "id": "75fce7d3",
   "metadata": {},
   "outputs": [
    {
     "name": "stdout",
     "output_type": "stream",
     "text": [
      "Model: \"sequential\"\n",
      "_________________________________________________________________\n",
      "Layer (type)                 Output Shape              Param #   \n",
      "=================================================================\n",
      "conv2d (Conv2D)              (None, 55, 42, 32)        1632      \n",
      "_________________________________________________________________\n",
      "max_pooling2d (MaxPooling2D) (None, 28, 21, 32)        0         \n",
      "_________________________________________________________________\n",
      "conv2d_1 (Conv2D)            (None, 28, 21, 64)        18496     \n",
      "_________________________________________________________________\n",
      "max_pooling2d_1 (MaxPooling2 (None, 14, 11, 64)        0         \n",
      "_________________________________________________________________\n",
      "conv2d_2 (Conv2D)            (None, 14, 11, 128)       73856     \n",
      "_________________________________________________________________\n",
      "max_pooling2d_2 (MaxPooling2 (None, 7, 6, 128)         0         \n",
      "_________________________________________________________________\n",
      "flatten (Flatten)            (None, 5376)              0         \n",
      "_________________________________________________________________\n",
      "dense (Dense)                (None, 2688)              14453376  \n",
      "_________________________________________________________________\n",
      "dense_1 (Dense)              (None, 10)                26890     \n",
      "=================================================================\n",
      "Total params: 14,574,250\n",
      "Trainable params: 14,574,250\n",
      "Non-trainable params: 0\n",
      "_________________________________________________________________\n",
      "None\n",
      "Model: \"sequential_1\"\n",
      "_________________________________________________________________\n",
      "Layer (type)                 Output Shape              Param #   \n",
      "=================================================================\n",
      "dense_2 (Dense)              (None, 2688)              29568     \n",
      "_________________________________________________________________\n",
      "dense_3 (Dense)              (None, 5376)              14456064  \n",
      "_________________________________________________________________\n",
      "reshape (Reshape)            (None, 7, 6, 128)         0         \n",
      "_________________________________________________________________\n",
      "conv2d_3 (Conv2D)            (None, 7, 6, 128)         147584    \n",
      "_________________________________________________________________\n",
      "up_sampling2d (UpSampling2D) (None, 14, 12, 128)       0         \n",
      "_________________________________________________________________\n",
      "conv2d_4 (Conv2D)            (None, 14, 12, 64)        73792     \n",
      "_________________________________________________________________\n",
      "up_sampling2d_1 (UpSampling2 (None, 28, 24, 64)        0         \n",
      "_________________________________________________________________\n",
      "conv2d_5 (Conv2D)            (None, 28, 24, 32)        18464     \n",
      "_________________________________________________________________\n",
      "up_sampling2d_2 (UpSampling2 (None, 56, 48, 32)        0         \n",
      "_________________________________________________________________\n",
      "conv2d_6 (Conv2D)            (None, 56, 48, 2)         578       \n",
      "_________________________________________________________________\n",
      "cropping2d (Cropping2D)      (None, 55, 42, 2)         0         \n",
      "=================================================================\n",
      "Total params: 14,726,050\n",
      "Trainable params: 14,726,050\n",
      "Non-trainable params: 0\n",
      "_________________________________________________________________\n",
      "None\n"
     ]
    }
   ],
   "source": [
    "# The hyperparameters set in this cell and the next correspond to the optimal hyperparameters from hyperparameter\n",
    "# optimization\n",
    "initializer = tf.keras.initializers.RandomNormal(mean=0.0, stddev=0.05, seed=None)\n",
    "optimizer = tf.keras.optimizers.Adam(lr=0.00005, beta_1=0.98, beta_2=0.9)\n",
    "\n",
    "# Use this line to create a new model, select any from the list of models provided in the documentation or make\n",
    "# your own\n",
    "encoder, decoder = build_denser_omata_encoder_decoder(input_shape, 10, initializer, info=True, act='elu', dense_act='relu')\n",
    "\n",
    "# Use these lines to load a previously trained model\n",
    "# encoder = tf.keras.models.load_model(\"saved_model_cae/encoder\") \n",
    "# decoder = tf.keras.models.load_model(\"saved_model_cae/decoder\")\n",
    "\n",
    "cae = CAE(encoder, decoder, optimizer)\n",
    "cae.compile(input_shape, pi_loss=False)"
   ]
  },
  {
   "cell_type": "code",
   "execution_count": 12,
   "id": "5b7df253",
   "metadata": {},
   "outputs": [],
   "source": [
    "# Tensorboard logs the results, run `tensorboard --logdir logs` in this directory in a terminal with acces to\n",
    "# Tensorflow. Note that we can extract the MSE for the final report loss directly from tensorboard as the model\n",
    "# evaluates the validation dataset at every epoch\n",
    "cae.train(x_train, 200, val_data=x_val, batch_size=128)"
   ]
  },
  {
   "cell_type": "code",
   "execution_count": 13,
   "id": "c6e6a65c",
   "metadata": {},
   "outputs": [],
   "source": [
    "# uncomment lines below to save the model\n",
    "# !mkdir -p saved_model\n",
    "# cae.encoder.save('saved_model/encoder')\n",
    "# cae.decoder.save('saved_model/decoder')"
   ]
  },
  {
   "cell_type": "code",
   "execution_count": 14,
   "id": "2190a865",
   "metadata": {},
   "outputs": [],
   "source": [
    "# Compress all the samples\n",
    "snapshots = layer(snapshots)\n",
    "res = cae.predict(snapshots)"
   ]
  },
  {
   "cell_type": "code",
   "execution_count": 15,
   "id": "ffc3f34c",
   "metadata": {},
   "outputs": [],
   "source": [
    "# Undo normalization\n",
    "res = (res * np.sqrt(layer.variance.numpy()) + layer.mean.numpy())"
   ]
  },
  {
   "cell_type": "code",
   "execution_count": 16,
   "id": "0c6a4799",
   "metadata": {},
   "outputs": [
    {
     "data": {
      "text/plain": [
       "<matplotlib.contour.QuadContourSet at 0x7f230816f550>"
      ]
     },
     "execution_count": 16,
     "metadata": {},
     "output_type": "execute_result"
    },
    {
     "data": {
      "image/png": "[encoded data removed]",
      "text/plain": [
       "<Figure size 432x288 with 2 Axes>"
      ]
     },
     "metadata": {
      "needs_background": "light"
     },
     "output_type": "display_data"
    }
   ],
   "source": [
    "# Let's plot a reconstruction to see if it visually corresponds to what we expect\n",
    "fig, ax = plt.subplots(1,2)\n",
    "ax[0].contourf(res[92,:,:,1])\n",
    "ax[1].contourf(snapshots[92, :, :, 1])"
   ]
  },
  {
   "cell_type": "code",
   "execution_count": 17,
   "id": "ff718a9e",
   "metadata": {},
   "outputs": [],
   "source": [
    "# Reshape to how reconstruction legacy code wants it\n",
    "reconstruction = res.reshape((4, 2000, 55, 42, 2)).swapaxes(1, 4)\n",
    "np.save(\"cae_reconstruction.npy\", reconstruction)"
   ]
  },
  {
   "cell_type": "markdown",
   "id": "6d5b29c6",
   "metadata": {},
   "source": [
    "## Adversarial Autoencoder"
   ]
  },
  {
   "cell_type": "code",
   "execution_count": 18,
   "id": "59034082",
   "metadata": {},
   "outputs": [],
   "source": [
    "# This cell does preprocessing, it is the same for the CAE and the AAE\n",
    "\n",
    "# Let's load in the data, split and reshape for the autoencoders\n",
    "snapshots_grids = np.load(\"./../submodules/DD-GAN/data/processed/snaphsots_field_Velocity_new_4_2000steps.npy\")\n",
    "\n",
    "# Some data reshaping\n",
    "input_shape = (55, 42, 2)\n",
    "snapshots = convert_2d(snapshots_grids, input_shape, 2000)\n",
    "snapshots = np.array(snapshots).reshape(8000, *input_shape)\n",
    "\n",
    "# Normalize and split dataset\n",
    "layer = preprocessing.Normalization()\n",
    "layer.adapt(snapshots)\n",
    "\n",
    "x_train, x_val = train_test_split(snapshots, test_size=0.1, random_state=seed)\n",
    "x_train = layer(x_train)\n",
    "x_val = layer(x_val)"
   ]
  },
  {
   "cell_type": "code",
   "execution_count": 19,
   "id": "64aa7a0a",
   "metadata": {},
   "outputs": [
    {
     "name": "stdout",
     "output_type": "stream",
     "text": [
      "Model: \"sequential_2\"\n",
      "_________________________________________________________________\n",
      "Layer (type)                 Output Shape              Param #   \n",
      "=================================================================\n",
      "conv2d_7 (Conv2D)            (None, 55, 42, 32)        1632      \n",
      "_________________________________________________________________\n",
      "max_pooling2d_3 (MaxPooling2 (None, 28, 21, 32)        0         \n",
      "_________________________________________________________________\n",
      "conv2d_8 (Conv2D)            (None, 28, 21, 64)        18496     \n",
      "_________________________________________________________________\n",
      "max_pooling2d_4 (MaxPooling2 (None, 14, 11, 64)        0         \n",
      "_________________________________________________________________\n",
      "flatten_1 (Flatten)          (None, 9856)              0         \n",
      "_________________________________________________________________\n",
      "dense_4 (Dense)              (None, 9856)              97150592  \n",
      "_________________________________________________________________\n",
      "dense_5 (Dense)              (None, 4928)              48575296  \n",
      "_________________________________________________________________\n",
      "dense_6 (Dense)              (None, 10)                49290     \n",
      "=================================================================\n",
      "Total params: 145,795,306\n",
      "Trainable params: 145,795,306\n",
      "Non-trainable params: 0\n",
      "_________________________________________________________________\n",
      "None\n",
      "Model: \"sequential_3\"\n",
      "_________________________________________________________________\n",
      "Layer (type)                 Output Shape              Param #   \n",
      "=================================================================\n",
      "dense_7 (Dense)              (None, 4928)              54208     \n",
      "_________________________________________________________________\n",
      "dense_8 (Dense)              (None, 9856)              48580224  \n",
      "_________________________________________________________________\n",
      "dense_9 (Dense)              (None, 9856)              97150592  \n",
      "_________________________________________________________________\n",
      "reshape_1 (Reshape)          (None, 14, 11, 64)        0         \n",
      "_________________________________________________________________\n",
      "conv2d_9 (Conv2D)            (None, 14, 11, 64)        36928     \n",
      "_________________________________________________________________\n",
      "up_sampling2d_3 (UpSampling2 (None, 28, 22, 64)        0         \n",
      "_________________________________________________________________\n",
      "conv2d_10 (Conv2D)           (None, 28, 22, 32)        18464     \n",
      "_________________________________________________________________\n",
      "up_sampling2d_4 (UpSampling2 (None, 56, 44, 32)        0         \n",
      "_________________________________________________________________\n",
      "conv2d_11 (Conv2D)           (None, 56, 44, 2)         578       \n",
      "_________________________________________________________________\n",
      "cropping2d_1 (Cropping2D)    (None, 55, 42, 2)         0         \n",
      "=================================================================\n",
      "Total params: 145,840,994\n",
      "Trainable params: 145,840,994\n",
      "Non-trainable params: 0\n",
      "_________________________________________________________________\n",
      "None\n",
      "Model: \"sequential_4\"\n",
      "_________________________________________________________________\n",
      "Layer (type)                 Output Shape              Param #   \n",
      "=================================================================\n",
      "dense_10 (Dense)             (None, 100)               1100      \n",
      "_________________________________________________________________\n",
      "dense_11 (Dense)             (None, 500)               50500     \n",
      "_________________________________________________________________\n",
      "dense_12 (Dense)             (None, 1)                 501       \n",
      "=================================================================\n",
      "Total params: 52,101\n",
      "Trainable params: 52,101\n",
      "Non-trainable params: 0\n",
      "_________________________________________________________________\n",
      "None\n"
     ]
    }
   ],
   "source": [
    "# The hyperparameters set in this cell and the next correspond to the optimal hyperparameters from hyperparameter\n",
    "# optimization\n",
    "initializer = tf.keras.initializers.RandomNormal(mean=0.0, stddev=0.05, seed=None)\n",
    "optimizer = tf.keras.optimizers.Adam(lr=0.0005, beta_1=0.8, beta_2=0.9)\n",
    "\n",
    "# Use this line to create a new model, select any from the list of models provided in the documentation or make\n",
    "# your own\n",
    "encoder, decoder = build_densest_omata_encoder_decoder(input_shape, 10, initializer, act='elu', dense_act='relu', info=True)\n",
    "discriminator = build_custom_discriminator(10, initializer, info=True)\n",
    "\n",
    "# Use these lines to load a previously trained model\n",
    "# encoder = tf.keras.models.load_model(\"saved_model_aae/encoder\")\n",
    "# decoder = tf.keras.models.load_model(\"saved_model_aae/decoder\")\n",
    "# discriminator = tf.keras.models.load_model(\"saved_model_aae/discriminator\")"
   ]
  },
  {
   "cell_type": "markdown",
   "id": "f5092aab",
   "metadata": {},
   "source": [
    "### Separate losses\n",
    "\n",
    "Adversarial autoencoder with a separate loss for the discriminator, autoencoder, and generator. Each of these three are trained separately with this method.\n",
    "\n",
    "Execute either the following two cells or the two cells under \"combined losses\"."
   ]
  },
  {
   "cell_type": "code",
   "execution_count": null,
   "id": "df5171ec",
   "metadata": {},
   "outputs": [],
   "source": [
    "aae = AAE(encoder, decoder, discriminator, optimizer)\n",
    "aae.compile(input_shape)"
   ]
  },
  {
   "cell_type": "code",
   "execution_count": null,
   "id": "9309f6f3",
   "metadata": {},
   "outputs": [],
   "source": [
    "aae.train(x_train, 200, val_data=x_val)"
   ]
  },
  {
   "cell_type": "markdown",
   "id": "9ec005ee",
   "metadata": {},
   "source": [
    "### Combined losses\n",
    "\n",
    "Aversarial autoencoder with a combined (and weighted) loss function for the discriminator and autoencoder, the generator is still trained independently. This model tends to perform significantly better."
   ]
  },
  {
   "cell_type": "code",
   "execution_count": 20,
   "id": "265eed6c",
   "metadata": {},
   "outputs": [],
   "source": [
    "aae = AAE_combined_loss(encoder, decoder, discriminator, optimizer)\n",
    "aae.compile(input_shape)"
   ]
  },
  {
   "cell_type": "code",
   "execution_count": 21,
   "id": "5d35cf08",
   "metadata": {},
   "outputs": [
    {
     "ename": "KeyboardInterrupt",
     "evalue": "",
     "output_type": "error",
     "traceback": [
      "\u001b[0;31m---------------------------------------------------------------------------\u001b[0m",
      "\u001b[0;31mKeyboardInterrupt\u001b[0m                         Traceback (most recent call last)",
      "\u001b[0;32m<ipython-input-21-7067915a878a>\u001b[0m in \u001b[0;36m<module>\u001b[0;34m\u001b[0m\n\u001b[0;32m----> 1\u001b[0;31m \u001b[0maae\u001b[0m\u001b[0;34m.\u001b[0m\u001b[0mtrain\u001b[0m\u001b[0;34m(\u001b[0m\u001b[0mx_train\u001b[0m\u001b[0;34m,\u001b[0m \u001b[0;36m200\u001b[0m\u001b[0;34m,\u001b[0m \u001b[0mval_data\u001b[0m\u001b[0;34m=\u001b[0m\u001b[0mx_val\u001b[0m\u001b[0;34m,\u001b[0m \u001b[0mbatch_size\u001b[0m\u001b[0;34m=\u001b[0m\u001b[0;36m64\u001b[0m\u001b[0;34m)\u001b[0m\u001b[0;34m\u001b[0m\u001b[0;34m\u001b[0m\u001b[0m\n\u001b[0m",
      "\u001b[0;32m~/Documents/master/acse-9/DD-GAN-AE/ddganAE/models/aae.py\u001b[0m in \u001b[0;36mtrain\u001b[0;34m(self, train_data, epochs, val_data, batch_size, val_batch_size, wandb_log, n_discriminator)\u001b[0m\n\u001b[1;32m    369\u001b[0m             \u001b[0;31m# Calculate the accuracies on the validation set\u001b[0m\u001b[0;34m\u001b[0m\u001b[0;34m\u001b[0m\u001b[0;34m\u001b[0m\u001b[0m\n\u001b[1;32m    370\u001b[0m             \u001b[0;32mif\u001b[0m \u001b[0mval_data\u001b[0m \u001b[0;32mis\u001b[0m \u001b[0;32mnot\u001b[0m \u001b[0;32mNone\u001b[0m\u001b[0;34m:\u001b[0m\u001b[0;34m\u001b[0m\u001b[0;34m\u001b[0m\u001b[0m\n\u001b[0;32m--> 371\u001b[0;31m                 d_loss_val, g_loss_val = self.validate(val_dataset,\n\u001b[0m\u001b[1;32m    372\u001b[0m                                                        val_batch_size)\n\u001b[1;32m    373\u001b[0m \u001b[0;34m\u001b[0m\u001b[0m\n",
      "\u001b[0;32m~/Documents/master/acse-9/DD-GAN-AE/ddganAE/models/aae.py\u001b[0m in \u001b[0;36mvalidate\u001b[0;34m(self, val_dataset, val_batch_size)\u001b[0m\n\u001b[1;32m    416\u001b[0m                                                  self.latent_dim))\n\u001b[1;32m    417\u001b[0m \u001b[0;34m\u001b[0m\u001b[0m\n\u001b[0;32m--> 418\u001b[0;31m             d_loss_real = self.discriminator.evaluate(latent_real,\n\u001b[0m\u001b[1;32m    419\u001b[0m                                                       valid, verbose=0)[0]\n\u001b[1;32m    420\u001b[0m             d_loss_fake = self.discriminator.evaluate(latent_fake,\n",
      "\u001b[0;32m~/miniconda3/envs/acse-9/lib/python3.8/site-packages/tensorflow/python/keras/engine/training.py\u001b[0m in \u001b[0;36mevaluate\u001b[0;34m(self, x, y, batch_size, verbose, sample_weight, steps, callbacks, max_queue_size, workers, use_multiprocessing, return_dict)\u001b[0m\n\u001b[1;32m   1387\u001b[0m             \u001b[0;32mwith\u001b[0m \u001b[0mtrace\u001b[0m\u001b[0;34m.\u001b[0m\u001b[0mTrace\u001b[0m\u001b[0;34m(\u001b[0m\u001b[0;34m'test'\u001b[0m\u001b[0;34m,\u001b[0m \u001b[0mstep_num\u001b[0m\u001b[0;34m=\u001b[0m\u001b[0mstep\u001b[0m\u001b[0;34m,\u001b[0m \u001b[0m_r\u001b[0m\u001b[0;34m=\u001b[0m\u001b[0;36m1\u001b[0m\u001b[0;34m)\u001b[0m\u001b[0;34m:\u001b[0m\u001b[0;34m\u001b[0m\u001b[0;34m\u001b[0m\u001b[0m\n\u001b[1;32m   1388\u001b[0m               \u001b[0mcallbacks\u001b[0m\u001b[0;34m.\u001b[0m\u001b[0mon_test_batch_begin\u001b[0m\u001b[0;34m(\u001b[0m\u001b[0mstep\u001b[0m\u001b[0;34m)\u001b[0m\u001b[0;34m\u001b[0m\u001b[0;34m\u001b[0m\u001b[0m\n\u001b[0;32m-> 1389\u001b[0;31m               \u001b[0mtmp_logs\u001b[0m \u001b[0;34m=\u001b[0m \u001b[0mself\u001b[0m\u001b[0;34m.\u001b[0m\u001b[0mtest_function\u001b[0m\u001b[0;34m(\u001b[0m\u001b[0miterator\u001b[0m\u001b[0;34m)\u001b[0m\u001b[0;34m\u001b[0m\u001b[0;34m\u001b[0m\u001b[0m\n\u001b[0m\u001b[1;32m   1390\u001b[0m               \u001b[0;32mif\u001b[0m \u001b[0mdata_handler\u001b[0m\u001b[0;34m.\u001b[0m\u001b[0mshould_sync\u001b[0m\u001b[0;34m:\u001b[0m\u001b[0;34m\u001b[0m\u001b[0;34m\u001b[0m\u001b[0m\n\u001b[1;32m   1391\u001b[0m                 \u001b[0mcontext\u001b[0m\u001b[0;34m.\u001b[0m\u001b[0masync_wait\u001b[0m\u001b[0;34m(\u001b[0m\u001b[0;34m)\u001b[0m\u001b[0;34m\u001b[0m\u001b[0;34m\u001b[0m\u001b[0m\n",
      "\u001b[0;32m~/miniconda3/envs/acse-9/lib/python3.8/site-packages/tensorflow/python/eager/def_function.py\u001b[0m in \u001b[0;36m__call__\u001b[0;34m(self, *args, **kwds)\u001b[0m\n\u001b[1;32m    826\u001b[0m     \u001b[0mtracing_count\u001b[0m \u001b[0;34m=\u001b[0m \u001b[0mself\u001b[0m\u001b[0;34m.\u001b[0m\u001b[0mexperimental_get_tracing_count\u001b[0m\u001b[0;34m(\u001b[0m\u001b[0;34m)\u001b[0m\u001b[0;34m\u001b[0m\u001b[0;34m\u001b[0m\u001b[0m\n\u001b[1;32m    827\u001b[0m     \u001b[0;32mwith\u001b[0m \u001b[0mtrace\u001b[0m\u001b[0;34m.\u001b[0m\u001b[0mTrace\u001b[0m\u001b[0;34m(\u001b[0m\u001b[0mself\u001b[0m\u001b[0;34m.\u001b[0m\u001b[0m_name\u001b[0m\u001b[0;34m)\u001b[0m \u001b[0;32mas\u001b[0m \u001b[0mtm\u001b[0m\u001b[0;34m:\u001b[0m\u001b[0;34m\u001b[0m\u001b[0;34m\u001b[0m\u001b[0m\n\u001b[0;32m--> 828\u001b[0;31m       \u001b[0mresult\u001b[0m \u001b[0;34m=\u001b[0m \u001b[0mself\u001b[0m\u001b[0;34m.\u001b[0m\u001b[0m_call\u001b[0m\u001b[0;34m(\u001b[0m\u001b[0;34m*\u001b[0m\u001b[0margs\u001b[0m\u001b[0;34m,\u001b[0m \u001b[0;34m**\u001b[0m\u001b[0mkwds\u001b[0m\u001b[0;34m)\u001b[0m\u001b[0;34m\u001b[0m\u001b[0;34m\u001b[0m\u001b[0m\n\u001b[0m\u001b[1;32m    829\u001b[0m       \u001b[0mcompiler\u001b[0m \u001b[0;34m=\u001b[0m \u001b[0;34m\"xla\"\u001b[0m \u001b[0;32mif\u001b[0m \u001b[0mself\u001b[0m\u001b[0;34m.\u001b[0m\u001b[0m_experimental_compile\u001b[0m \u001b[0;32melse\u001b[0m \u001b[0;34m\"nonXla\"\u001b[0m\u001b[0;34m\u001b[0m\u001b[0;34m\u001b[0m\u001b[0m\n\u001b[1;32m    830\u001b[0m       \u001b[0mnew_tracing_count\u001b[0m \u001b[0;34m=\u001b[0m \u001b[0mself\u001b[0m\u001b[0;34m.\u001b[0m\u001b[0mexperimental_get_tracing_count\u001b[0m\u001b[0;34m(\u001b[0m\u001b[0;34m)\u001b[0m\u001b[0;34m\u001b[0m\u001b[0;34m\u001b[0m\u001b[0m\n",
      "\u001b[0;32m~/miniconda3/envs/acse-9/lib/python3.8/site-packages/tensorflow/python/eager/def_function.py\u001b[0m in \u001b[0;36m_call\u001b[0;34m(self, *args, **kwds)\u001b[0m\n\u001b[1;32m    860\u001b[0m       \u001b[0;31m# In this case we have not created variables on the first call. So we can\u001b[0m\u001b[0;34m\u001b[0m\u001b[0;34m\u001b[0m\u001b[0;34m\u001b[0m\u001b[0m\n\u001b[1;32m    861\u001b[0m       \u001b[0;31m# run the first trace but we should fail if variables are created.\u001b[0m\u001b[0;34m\u001b[0m\u001b[0;34m\u001b[0m\u001b[0;34m\u001b[0m\u001b[0m\n\u001b[0;32m--> 862\u001b[0;31m       \u001b[0mresults\u001b[0m \u001b[0;34m=\u001b[0m \u001b[0mself\u001b[0m\u001b[0;34m.\u001b[0m\u001b[0m_stateful_fn\u001b[0m\u001b[0;34m(\u001b[0m\u001b[0;34m*\u001b[0m\u001b[0margs\u001b[0m\u001b[0;34m,\u001b[0m \u001b[0;34m**\u001b[0m\u001b[0mkwds\u001b[0m\u001b[0;34m)\u001b[0m\u001b[0;34m\u001b[0m\u001b[0;34m\u001b[0m\u001b[0m\n\u001b[0m\u001b[1;32m    863\u001b[0m       \u001b[0;32mif\u001b[0m \u001b[0mself\u001b[0m\u001b[0;34m.\u001b[0m\u001b[0m_created_variables\u001b[0m\u001b[0;34m:\u001b[0m\u001b[0;34m\u001b[0m\u001b[0;34m\u001b[0m\u001b[0m\n\u001b[1;32m    864\u001b[0m         raise ValueError(\"Creating variables on a non-first call to a function\"\n",
      "\u001b[0;32m~/miniconda3/envs/acse-9/lib/python3.8/site-packages/tensorflow/python/eager/function.py\u001b[0m in \u001b[0;36m__call__\u001b[0;34m(self, *args, **kwargs)\u001b[0m\n\u001b[1;32m   2940\u001b[0m       (graph_function,\n\u001b[1;32m   2941\u001b[0m        filtered_flat_args) = self._maybe_define_function(args, kwargs)\n\u001b[0;32m-> 2942\u001b[0;31m     return graph_function._call_flat(\n\u001b[0m\u001b[1;32m   2943\u001b[0m         filtered_flat_args, captured_inputs=graph_function.captured_inputs)  # pylint: disable=protected-access\n\u001b[1;32m   2944\u001b[0m \u001b[0;34m\u001b[0m\u001b[0m\n",
      "\u001b[0;32m~/miniconda3/envs/acse-9/lib/python3.8/site-packages/tensorflow/python/eager/function.py\u001b[0m in \u001b[0;36m_call_flat\u001b[0;34m(self, args, captured_inputs, cancellation_manager)\u001b[0m\n\u001b[1;32m   1916\u001b[0m         and executing_eagerly):\n\u001b[1;32m   1917\u001b[0m       \u001b[0;31m# No tape is watching; skip to running the function.\u001b[0m\u001b[0;34m\u001b[0m\u001b[0;34m\u001b[0m\u001b[0;34m\u001b[0m\u001b[0m\n\u001b[0;32m-> 1918\u001b[0;31m       return self._build_call_outputs(self._inference_function.call(\n\u001b[0m\u001b[1;32m   1919\u001b[0m           ctx, args, cancellation_manager=cancellation_manager))\n\u001b[1;32m   1920\u001b[0m     forward_backward = self._select_forward_and_backward_functions(\n",
      "\u001b[0;32m~/miniconda3/envs/acse-9/lib/python3.8/site-packages/tensorflow/python/eager/function.py\u001b[0m in \u001b[0;36mcall\u001b[0;34m(self, ctx, args, cancellation_manager)\u001b[0m\n\u001b[1;32m    553\u001b[0m       \u001b[0;32mwith\u001b[0m \u001b[0m_InterpolateFunctionError\u001b[0m\u001b[0;34m(\u001b[0m\u001b[0mself\u001b[0m\u001b[0;34m)\u001b[0m\u001b[0;34m:\u001b[0m\u001b[0;34m\u001b[0m\u001b[0;34m\u001b[0m\u001b[0m\n\u001b[1;32m    554\u001b[0m         \u001b[0;32mif\u001b[0m \u001b[0mcancellation_manager\u001b[0m \u001b[0;32mis\u001b[0m \u001b[0;32mNone\u001b[0m\u001b[0;34m:\u001b[0m\u001b[0;34m\u001b[0m\u001b[0;34m\u001b[0m\u001b[0m\n\u001b[0;32m--> 555\u001b[0;31m           outputs = execute.execute(\n\u001b[0m\u001b[1;32m    556\u001b[0m               \u001b[0mstr\u001b[0m\u001b[0;34m(\u001b[0m\u001b[0mself\u001b[0m\u001b[0;34m.\u001b[0m\u001b[0msignature\u001b[0m\u001b[0;34m.\u001b[0m\u001b[0mname\u001b[0m\u001b[0;34m)\u001b[0m\u001b[0;34m,\u001b[0m\u001b[0;34m\u001b[0m\u001b[0;34m\u001b[0m\u001b[0m\n\u001b[1;32m    557\u001b[0m               \u001b[0mnum_outputs\u001b[0m\u001b[0;34m=\u001b[0m\u001b[0mself\u001b[0m\u001b[0;34m.\u001b[0m\u001b[0m_num_outputs\u001b[0m\u001b[0;34m,\u001b[0m\u001b[0;34m\u001b[0m\u001b[0;34m\u001b[0m\u001b[0m\n",
      "\u001b[0;32m~/miniconda3/envs/acse-9/lib/python3.8/site-packages/tensorflow/python/eager/execute.py\u001b[0m in \u001b[0;36mquick_execute\u001b[0;34m(op_name, num_outputs, inputs, attrs, ctx, name)\u001b[0m\n\u001b[1;32m     57\u001b[0m   \u001b[0;32mtry\u001b[0m\u001b[0;34m:\u001b[0m\u001b[0;34m\u001b[0m\u001b[0;34m\u001b[0m\u001b[0m\n\u001b[1;32m     58\u001b[0m     \u001b[0mctx\u001b[0m\u001b[0;34m.\u001b[0m\u001b[0mensure_initialized\u001b[0m\u001b[0;34m(\u001b[0m\u001b[0;34m)\u001b[0m\u001b[0;34m\u001b[0m\u001b[0;34m\u001b[0m\u001b[0m\n\u001b[0;32m---> 59\u001b[0;31m     tensors = pywrap_tfe.TFE_Py_Execute(ctx._handle, device_name, op_name,\n\u001b[0m\u001b[1;32m     60\u001b[0m                                         inputs, attrs, num_outputs)\n\u001b[1;32m     61\u001b[0m   \u001b[0;32mexcept\u001b[0m \u001b[0mcore\u001b[0m\u001b[0;34m.\u001b[0m\u001b[0m_NotOkStatusException\u001b[0m \u001b[0;32mas\u001b[0m \u001b[0me\u001b[0m\u001b[0;34m:\u001b[0m\u001b[0;34m\u001b[0m\u001b[0;34m\u001b[0m\u001b[0m\n",
      "\u001b[0;31mKeyboardInterrupt\u001b[0m: "
     ]
    }
   ],
   "source": [
    "aae.train(x_train, 200, val_data=x_val, batch_size=64)"
   ]
  },
  {
   "cell_type": "code",
   "execution_count": null,
   "id": "31173699",
   "metadata": {},
   "outputs": [],
   "source": [
    "# Calculate a loss value on the validation set\n",
    "res_val = aae.adversarial_autoencoder.predict(x_val)[0]\n",
    "np.mean(tf.keras.losses.MSE(res_val, x_val))"
   ]
  },
  {
   "cell_type": "code",
   "execution_count": null,
   "id": "b07addbc",
   "metadata": {},
   "outputs": [],
   "source": [
    "snapshots = layer(snapshots)\n",
    "res = aae.adversarial_autoencoder.predict(snapshots)[0]"
   ]
  },
  {
   "cell_type": "code",
   "execution_count": null,
   "id": "1d0be908",
   "metadata": {},
   "outputs": [],
   "source": [
    "# Undo normalization\n",
    "res = (res * np.sqrt(layer.variance.numpy()) + layer.mean.numpy())"
   ]
  },
  {
   "cell_type": "code",
   "execution_count": null,
   "id": "95aa8b5a",
   "metadata": {},
   "outputs": [],
   "source": [
    "fig, ax = plt.subplots(1,2)\n",
    "ax[0].contourf(res[92,:,:,1])\n",
    "ax[1].contourf(snapshots[92, :, :, 1])"
   ]
  },
  {
   "cell_type": "code",
   "execution_count": null,
   "id": "e62d3409",
   "metadata": {},
   "outputs": [],
   "source": [
    "# Reshape to fit in interpolation (legacy) fortran code\n",
    "reconstruction = res.reshape((4, 2000, 55, 42, 2)).swapaxes(1, 4)\n",
    "np.save(\"aae_reconstruction.npy\", reconstruction)"
   ]
  },
  {
   "cell_type": "markdown",
   "id": "e29bd97c",
   "metadata": {},
   "source": [
    "## SVD Autoencoder"
   ]
  },
  {
   "cell_type": "code",
   "execution_count": 3,
   "id": "a0bcb869",
   "metadata": {},
   "outputs": [],
   "source": [
    "# Data preprocessing\n",
    "\n",
    "# Load grids\n",
    "snapshots_grids = np.load(\"./../submodules/DD-GAN/data/processed/snaphsots_field_Velocity_new_4_2000steps.npy\")\n",
    "\n",
    "# Data normalization\n",
    "layer = preprocessing.Normalization(axis=None)\n",
    "layer.adapt(snapshots_grids)\n",
    "\n",
    "snapshots_grids = snapshots_grids.swapaxes(0, 2)\n",
    "\n",
    "x_train, x_val = train_test_split(snapshots_grids, test_size=0.1)\n",
    "x_train = layer(x_train).numpy().swapaxes(0, 2)\n",
    "x_val = layer(x_val).numpy().swapaxes(0, 2)"
   ]
  },
  {
   "cell_type": "code",
   "execution_count": 4,
   "id": "9786213d",
   "metadata": {},
   "outputs": [],
   "source": [
    "initializer = tf.keras.initializers.RandomNormal(mean=0.0, stddev=0.05, seed=None)\n",
    "optimizer = tf.keras.optimizers.Nadam(lr=0.0005, beta_1=0.98, beta_2=0.99999)\n",
    "\n",
    "encoder, decoder = build_vinicius_encoder_decoder(100, 10, initializer, act='elu', dense_act='relu', info=False, reg=0, dropout=0.55, batchnorm=False)\n",
    "\n",
    "# encoder = tf.keras.models.load_model(\"saved_model_svdae/encoder\")\n",
    "# decoder = tf.keras.models.load_model(\"saved_model_svdae/decoder\")"
   ]
  },
  {
   "cell_type": "code",
   "execution_count": 5,
   "id": "403afee4",
   "metadata": {},
   "outputs": [],
   "source": [
    "svdae = SVDAE(encoder, decoder, optimizer)\n",
    "svdae.compile(100, weight_loss=False)\n",
    "\n",
    "# Only set this when loading in the model\n",
    "# svdae.R = np.load(\"R_svdae.npy\")"
   ]
  },
  {
   "cell_type": "code",
   "execution_count": 6,
   "id": "04743d34",
   "metadata": {},
   "outputs": [
    {
     "name": "stdout",
     "output_type": "stream",
     "text": [
      "SSmatrix (7200, 7200)\n"
     ]
    }
   ],
   "source": [
    "svdae.train(x_train, 200, val_data=x_val, batch_size=64)"
   ]
  },
  {
   "cell_type": "code",
   "execution_count": 9,
   "id": "eb1085d4",
   "metadata": {},
   "outputs": [
    {
     "data": {
      "text/plain": [
       "0.08573786534303246"
      ]
     },
     "execution_count": 9,
     "metadata": {},
     "output_type": "execute_result"
    }
   ],
   "source": [
    "# Generate a loss value and create an array of output grids\n",
    "output = np.zeros((4, 2, 55, 42, 200))\n",
    "loss = 0\n",
    "for i in range(x_val.shape[0]):\n",
    "    for j in range(x_val.shape[2]):\n",
    "        original = x_val[i, :, j]\n",
    "        result = svdae.predict_single(original)\n",
    "        loss += tf.keras.losses.MSE(original, result)\n",
    "        result = (result * np.sqrt(layer.variance.numpy()) + layer.mean.numpy())\n",
    "        result = np.expand_dims(result,(0,2))\n",
    "        input_shape = (55, 42, 2)\n",
    "        result = convert_2d(result, input_shape, 1)\n",
    "        output[i, :, :, :, j] = np.moveaxis(np.array(result).reshape(55, 42, 2), 2, 0)\n",
    "        \n",
    "loss.numpy()/200"
   ]
  },
  {
   "cell_type": "code",
   "execution_count": null,
   "id": "a7b16cf8",
   "metadata": {},
   "outputs": [],
   "source": [
    "original = x_val[2, :, 30]\n",
    "\n",
    "result = svdae.predict_single(original)\n",
    "result = np.expand_dims(result,(0,2))\n",
    "input_shape = (55, 42, 2)\n",
    "result = convert_2d(result, input_shape, 1)\n",
    "\n",
    "original = np.expand_dims(original,(0,2))\n",
    "original = convert_2d(original, input_shape, 1)\n",
    "\n",
    "fig, ax = plt.subplots(1,2)\n",
    "ax[0].contourf(result[0][0, :, :, 0])\n",
    "ax[1].contourf(original[0][0, :, :, 0])"
   ]
  },
  {
   "cell_type": "code",
   "execution_count": null,
   "id": "0e6c6e19",
   "metadata": {},
   "outputs": [],
   "source": [
    "np.save(\"svdae_reconstruction.npy\", output)"
   ]
  },
  {
   "cell_type": "code",
   "execution_count": null,
   "id": "cfd77d87",
   "metadata": {},
   "outputs": [],
   "source": [
    "!mkdir -p saved_model\n",
    "svdae.encoder.save('saved_model_svdae/encoder')\n",
    "svdae.decoder.save('saved_model_svdae/decoder')\n",
    "np.save('saved_model_svdae/R.npy', svdae.R)"
   ]
  }
 ],
 "metadata": {
  "kernelspec": {
   "display_name": "Python 3",
   "language": "python",
   "name": "python3"
  },
  "language_info": {
   "codemirror_mode": {
    "name": "ipython",
    "version": 3
   },
   "file_extension": ".py",
   "mimetype": "text/x-python",
   "name": "python",
   "nbconvert_exporter": "python",
   "pygments_lexer": "ipython3",
   "version": "3.8.10"
  }
 },
 "nbformat": 4,
 "nbformat_minor": 5
}
