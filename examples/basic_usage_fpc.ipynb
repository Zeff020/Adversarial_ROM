{
 "cells": [
  {
   "cell_type": "markdown",
   "id": "a182c10f",
   "metadata": {
    "id": "a182c10f"
   },
   "source": [
    "# Autoencoders and POD on flow past cylinder (FPC) dataset\n",
    "\n",
    "Example notebook that displays the functionality of the built package for FPC and reproduces the results from the report. Each of the sections can be ran \n",
    "independently, but this section has to always be ran."
   ]
  },
  {
   "cell_type": "code",
   "execution_count": 3,
   "id": "67a04531",
   "metadata": {
    "executionInfo": {
     "elapsed": 1934,
     "status": "ok",
     "timestamp": 1628505119393,
     "user": {
      "displayName": "zef wolffs",
      "photoUrl": "",
      "userId": "02102953505130831508"
     },
     "user_tz": -60
    },
    "id": "67a04531"
   },
   "outputs": [],
   "source": [
    "# All of the necessary external package imports\n",
    "import tensorflow as tf\n",
    "from tensorflow.keras.layers.experimental import preprocessing\n",
    "import numpy as np\n",
    "import matplotlib.pyplot as plt\n",
    "from sklearn.model_selection import train_test_split\n",
    "import random\n",
    "import os\n",
    "\n",
    "# Built package imports\n",
    "from ddganAE.utils import calc_pod\n",
    "from ddganAE.models import AAE, AAE_combined_loss, CAE, SVDAE\n",
    "from ddganAE.architectures.cae.D2 import *\n",
    "from ddganAE.architectures.svdae import *\n",
    "from ddganAE.architectures.discriminators import *\n",
    "from ddganAE.preprocessing import convert_2d"
   ]
  },
  {
   "cell_type": "code",
   "execution_count": 4,
   "id": "1636fb27",
   "metadata": {
    "executionInfo": {
     "elapsed": 8,
     "status": "ok",
     "timestamp": 1628505119394,
     "user": {
      "displayName": "zef wolffs",
      "photoUrl": "",
      "userId": "02102953505130831508"
     },
     "user_tz": -60
    },
    "id": "1636fb27"
   },
   "outputs": [],
   "source": [
    "# Setting seeds for reproduceability, note that exact reproduceability is very\n",
    "# hard to achieve when using GPU's as we have no control over cuda's internal\n",
    "# nondeterminism and so the results might still vary slightly from the report's \n",
    "# results if ran again\n",
    "seed = 42\n",
    "tf.random.set_seed(seed)\n",
    "random.seed(seed)\n",
    "np.random.seed(seed)\n",
    "os.environ['PYTHONHASHSEED']=str(seed)"
   ]
  },
  {
   "cell_type": "code",
   "execution_count": 5,
   "id": "eyV4KZ9IC0r2",
   "metadata": {
    "executionInfo": {
     "elapsed": 8,
     "status": "ok",
     "timestamp": 1628505119395,
     "user": {
      "displayName": "zef wolffs",
      "photoUrl": "",
      "userId": "02102953505130831508"
     },
     "user_tz": -60
    },
    "id": "eyV4KZ9IC0r2"
   },
   "outputs": [],
   "source": [
    "# Set the datafile name, change to wherever the datafile is in your drive or local\n",
    "# machine\n",
    "filename = \"/content/drive/MyDrive/Colab Notebooks/data/processed/snaphsots_field_Velocity_new_4_2000steps.npy\""
   ]
  },
  {
   "cell_type": "markdown",
   "id": "fd7622d3",
   "metadata": {
    "id": "fd7622d3"
   },
   "source": [
    "## Proper Orthogonal Decomposition (POD)\n",
    "\n",
    "First we try POD to benchmark the other models against"
   ]
  },
  {
   "cell_type": "code",
   "execution_count": 6,
   "id": "3496c580",
   "metadata": {
    "executionInfo": {
     "elapsed": 550,
     "status": "ok",
     "timestamp": 1628505119938,
     "user": {
      "displayName": "zef wolffs",
      "photoUrl": "",
      "userId": "02102953505130831508"
     },
     "user_tz": -60
    },
    "id": "3496c580"
   },
   "outputs": [],
   "source": [
    "snapshots_grids = np.load(filename)"
   ]
  },
  {
   "cell_type": "code",
   "execution_count": 7,
   "id": "d0f74ee6",
   "metadata": {
    "executionInfo": {
     "elapsed": 282,
     "status": "ok",
     "timestamp": 1628505120216,
     "user": {
      "displayName": "zef wolffs",
      "photoUrl": "",
      "userId": "02102953505130831508"
     },
     "user_tz": -60
    },
    "id": "d0f74ee6"
   },
   "outputs": [],
   "source": [
    "# Some data reshaping\n",
    "\n",
    "input_shape = (55, 42, 2)\n",
    "snapshots = convert_2d(snapshots_grids, input_shape, 2000)\n",
    "snapshots = np.array(snapshots).reshape(8000, *input_shape)"
   ]
  },
  {
   "cell_type": "code",
   "execution_count": 8,
   "id": "54c62d1f",
   "metadata": {
    "colab": {
     "base_uri": "https://localhost:8080/"
    },
    "executionInfo": {
     "elapsed": 118720,
     "status": "ok",
     "timestamp": 1628505238934,
     "user": {
      "displayName": "zef wolffs",
      "photoUrl": "",
      "userId": "02102953505130831508"
     },
     "user_tz": -60
    },
    "id": "54c62d1f",
    "outputId": "7821a2be-e885-4e19-d7c4-11841817702b"
   },
   "outputs": [
    {
     "name": "stdout",
     "output_type": "stream",
     "text": [
      "SSmatrix (7200, 7200)\n"
     ]
    }
   ],
   "source": [
    "# Normalize data and calculate POD\n",
    "\n",
    "# Could also try subtracting the mean but this does not give better results\n",
    "layer = preprocessing.Normalization(axis=None)\n",
    "layer.adapt(snapshots_grids)\n",
    "\n",
    "snapshots_grids = snapshots_grids.swapaxes(0, 2)\n",
    "\n",
    "x_train, x_val = train_test_split(snapshots_grids, test_size=0.1, random_state=seed)\n",
    "x_train = layer(x_train).numpy().swapaxes(0, 2)\n",
    "x_val = layer(x_val).numpy().swapaxes(0, 2)\n",
    "\n",
    "# Calculate an R matrix\n",
    "coeffs, R, s = calc_pod(x_train, nPOD=10)"
   ]
  },
  {
   "cell_type": "code",
   "execution_count": 9,
   "id": "FlS1cMkUV1_z",
   "metadata": {
    "executionInfo": {
     "elapsed": 10,
     "status": "ok",
     "timestamp": 1628505238938,
     "user": {
      "displayName": "zef wolffs",
      "photoUrl": "",
      "userId": "02102953505130831508"
     },
     "user_tz": -60
    },
    "id": "FlS1cMkUV1_z"
   },
   "outputs": [],
   "source": [
    "# Use the R matrix calculated for the train dataset to generate coefficients for the val dataset\n",
    "coeffs, R, s = calc_pod(x_val, nPOD=10, R=R)"
   ]
  },
  {
   "cell_type": "code",
   "execution_count": 10,
   "id": "b4f75b14",
   "metadata": {
    "colab": {
     "base_uri": "https://localhost:8080/"
    },
    "executionInfo": {
     "elapsed": 1249,
     "status": "ok",
     "timestamp": 1628505240180,
     "user": {
      "displayName": "zef wolffs",
      "photoUrl": "",
      "userId": "02102953505130831508"
     },
     "user_tz": -60
    },
    "id": "b4f75b14",
    "outputId": "bc30b58e-3f6e-435b-e7c2-f03f400499eb"
   },
   "outputs": [
    {
     "name": "stdout",
     "output_type": "stream",
     "text": [
      "POD MSE loss of the normalized dataset's reconstruction:  0.011068843327520885\n"
     ]
    }
   ],
   "source": [
    "# Calculate MSE\n",
    "mean = 0\n",
    "for j in range(4):\n",
    "    recon = R @ coeffs[j]\n",
    "    for i in range(200):\n",
    "        mean += tf.keras.losses.MSE(recon[:, i], x_val[j, :, i]).numpy()/800\n",
    "\n",
    "print(\"POD MSE loss of the normalized dataset's reconstruction: \", mean)"
   ]
  },
  {
   "cell_type": "code",
   "execution_count": 11,
   "id": "78663ca8",
   "metadata": {
    "executionInfo": {
     "elapsed": 11,
     "status": "ok",
     "timestamp": 1628505240181,
     "user": {
      "displayName": "zef wolffs",
      "photoUrl": "",
      "userId": "02102953505130831508"
     },
     "user_tz": -60
    },
    "id": "78663ca8"
   },
   "outputs": [],
   "source": [
    "# Create reconstructed grids\n",
    "reconstructed = np.zeros((4, 4620, 200))\n",
    "\n",
    "for i in range(4):\n",
    "    reconstructed[i, :, :] = R @ coeffs[i]\n",
    "\n",
    "# Undo normalization\n",
    "reconstructed = (reconstructed * np.sqrt(layer.variance.numpy()) + layer.mean.numpy())"
   ]
  },
  {
   "cell_type": "code",
   "execution_count": 12,
   "id": "24a31773",
   "metadata": {
    "executionInfo": {
     "elapsed": 11,
     "status": "ok",
     "timestamp": 1628505240182,
     "user": {
      "displayName": "zef wolffs",
      "photoUrl": "",
      "userId": "02102953505130831508"
     },
     "user_tz": -60
    },
    "id": "24a31773"
   },
   "outputs": [],
   "source": [
    "# Reshape to fit in interpolation (legacy) fortran code\n",
    "reconstructed = convert_2d(reconstructed, (55, 42, 2), 200)\n",
    "reconstructed = np.array(reconstructed).swapaxes(1, 4)"
   ]
  },
  {
   "cell_type": "code",
   "execution_count": 13,
   "id": "ca51233c",
   "metadata": {
    "colab": {
     "base_uri": "https://localhost:8080/",
     "height": 282
    },
    "executionInfo": {
     "elapsed": 402,
     "status": "ok",
     "timestamp": 1628505240573,
     "user": {
      "displayName": "zef wolffs",
      "photoUrl": "",
      "userId": "02102953505130831508"
     },
     "user_tz": -60
    },
    "id": "ca51233c",
    "outputId": "1510735b-574d-4b49-e87b-bb3f4e502cdb"
   },
   "outputs": [
    {
     "data": {
      "text/plain": [
       "<matplotlib.contour.QuadContourSet at 0x7ff2203977d0>"
      ]
     },
     "execution_count": 13,
     "metadata": {
      "tags": []
     },
     "output_type": "execute_result"
    },
    {
     "data": {
      "image/png": "[encoded data removed]",
      "text/plain": [
       "<Figure size 432x288 with 2 Axes>"
      ]
     },
     "metadata": {
      "needs_background": "light",
      "tags": []
     },
     "output_type": "display_data"
    }
   ],
   "source": [
    "# Let's plot a reconstruction to see if it visually corresponds to what we expect\n",
    "fig, ax = plt.subplots(1,2)\n",
    "ax[0].contourf(reconstructed[0, 0, :, :, 100])\n",
    "ax[1].contourf(snapshots[100, :, :, 0])"
   ]
  },
  {
   "cell_type": "markdown",
   "id": "M-lnpgexsGGq",
   "metadata": {
    "id": "M-lnpgexsGGq"
   },
   "source": [
    "Execute the cell below to save results"
   ]
  },
  {
   "cell_type": "code",
   "execution_count": null,
   "id": "BVSsIOtesIFT",
   "metadata": {
    "id": "BVSsIOtesIFT"
   },
   "outputs": [],
   "source": [
    "# Uncomment line below to save results\n",
    "np.save(\"reconstruction_pod_10coeffs.npy\", reconstructed)"
   ]
  },
  {
   "cell_type": "markdown",
   "id": "fad3dc64",
   "metadata": {
    "id": "fad3dc64"
   },
   "source": [
    "## Convolutional Autoencoder"
   ]
  },
  {
   "cell_type": "code",
   "execution_count": null,
   "id": "2b81d4b3",
   "metadata": {
    "id": "2b81d4b3"
   },
   "outputs": [],
   "source": [
    "# This cell does preprocessing, it is the same for the CAE and the AAE\n",
    "\n",
    "# Let's load in the data, split and reshape for the autoencoders\n",
    "snapshots_grids = np.load(filename)\n",
    "\n",
    "# Some data reshaping\n",
    "input_shape = (55, 42, 2)\n",
    "snapshots = convert_2d(snapshots_grids, input_shape, 2000)\n",
    "snapshots = np.array(snapshots).reshape(8000, *input_shape)\n",
    "\n",
    "# Normalize and split dataset\n",
    "layer = preprocessing.Normalization()\n",
    "layer.adapt(snapshots)\n",
    "\n",
    "x_train, x_val = train_test_split(snapshots, test_size=0.1, random_state=seed)\n",
    "x_train = layer(x_train)\n",
    "x_val = layer(x_val)"
   ]
  },
  {
   "cell_type": "code",
   "execution_count": null,
   "id": "75fce7d3",
   "metadata": {
    "colab": {
     "base_uri": "https://localhost:8080/"
    },
    "executionInfo": {
     "elapsed": 9,
     "status": "ok",
     "timestamp": 1628425614251,
     "user": {
      "displayName": "zef wolffs",
      "photoUrl": "",
      "userId": "02102953505130831508"
     },
     "user_tz": -60
    },
    "id": "75fce7d3",
    "outputId": "9ef8a89b-1a67-415e-ab54-27d8f1fbfa32"
   },
   "outputs": [
    {
     "name": "stdout",
     "output_type": "stream",
     "text": [
      "Model: \"sequential\"\n",
      "_________________________________________________________________\n",
      "Layer (type)                 Output Shape              Param #   \n",
      "=================================================================\n",
      "conv2d (Conv2D)              (None, 55, 42, 32)        1632      \n",
      "_________________________________________________________________\n",
      "max_pooling2d (MaxPooling2D) (None, 28, 21, 32)        0         \n",
      "_________________________________________________________________\n",
      "conv2d_1 (Conv2D)            (None, 28, 21, 64)        18496     \n",
      "_________________________________________________________________\n",
      "max_pooling2d_1 (MaxPooling2 (None, 14, 11, 64)        0         \n",
      "_________________________________________________________________\n",
      "conv2d_2 (Conv2D)            (None, 14, 11, 128)       73856     \n",
      "_________________________________________________________________\n",
      "max_pooling2d_2 (MaxPooling2 (None, 7, 6, 128)         0         \n",
      "_________________________________________________________________\n",
      "flatten (Flatten)            (None, 5376)              0         \n",
      "_________________________________________________________________\n",
      "dense (Dense)                (None, 2688)              14453376  \n",
      "_________________________________________________________________\n",
      "dense_1 (Dense)              (None, 10)                26890     \n",
      "=================================================================\n",
      "Total params: 14,574,250\n",
      "Trainable params: 14,574,250\n",
      "Non-trainable params: 0\n",
      "_________________________________________________________________\n",
      "None\n",
      "Model: \"sequential_1\"\n",
      "_________________________________________________________________\n",
      "Layer (type)                 Output Shape              Param #   \n",
      "=================================================================\n",
      "dense_2 (Dense)              (None, 2688)              29568     \n",
      "_________________________________________________________________\n",
      "dense_3 (Dense)              (None, 5376)              14456064  \n",
      "_________________________________________________________________\n",
      "reshape (Reshape)            (None, 7, 6, 128)         0         \n",
      "_________________________________________________________________\n",
      "conv2d_3 (Conv2D)            (None, 7, 6, 128)         147584    \n",
      "_________________________________________________________________\n",
      "up_sampling2d (UpSampling2D) (None, 14, 12, 128)       0         \n",
      "_________________________________________________________________\n",
      "conv2d_4 (Conv2D)            (None, 14, 12, 64)        73792     \n",
      "_________________________________________________________________\n",
      "up_sampling2d_1 (UpSampling2 (None, 28, 24, 64)        0         \n",
      "_________________________________________________________________\n",
      "conv2d_5 (Conv2D)            (None, 28, 24, 32)        18464     \n",
      "_________________________________________________________________\n",
      "up_sampling2d_2 (UpSampling2 (None, 56, 48, 32)        0         \n",
      "_________________________________________________________________\n",
      "conv2d_6 (Conv2D)            (None, 56, 48, 2)         578       \n",
      "_________________________________________________________________\n",
      "cropping2d (Cropping2D)      (None, 55, 42, 2)         0         \n",
      "=================================================================\n",
      "Total params: 14,726,050\n",
      "Trainable params: 14,726,050\n",
      "Non-trainable params: 0\n",
      "_________________________________________________________________\n",
      "None\n"
     ]
    },
    {
     "name": "stderr",
     "output_type": "stream",
     "text": [
      "/usr/local/lib/python3.7/dist-packages/tensorflow/python/keras/optimizer_v2/optimizer_v2.py:375: UserWarning: The `lr` argument is deprecated, use `learning_rate` instead.\n",
      "  \"The `lr` argument is deprecated, use `learning_rate` instead.\")\n"
     ]
    }
   ],
   "source": [
    "# The hyperparameters set in this cell and the next correspond to the optimal hyperparameters from hyperparameter\n",
    "# optimization\n",
    "initializer = tf.keras.initializers.RandomNormal(mean=0.0, stddev=0.05, seed=seed)\n",
    "optimizer = tf.keras.optimizers.Adam(lr=0.00005, beta_1=0.98, beta_2=0.9)\n",
    "\n",
    "# Use this line to create a new model, select any from the list of models provided in the documentation or make\n",
    "# your own. Separating the architecture from the model itself gives the user the\n",
    "# freedom to try out any architectures without having to define an entirely new\n",
    "# model.\n",
    "encoder, decoder = build_denser_omata_encoder_decoder(input_shape, 10, initializer, info=True, act='elu', dense_act='relu')\n",
    "\n",
    "# Use these lines instead of the above to load a previously trained model\n",
    "# encoder = tf.keras.models.load_model(\"saved_model_cae/encoder\") \n",
    "# decoder = tf.keras.models.load_model(\"saved_model_cae/decoder\")\n",
    "\n",
    "cae = CAE(encoder, decoder, optimizer, seed=seed)\n",
    "cae.compile(input_shape, pi_loss=False)"
   ]
  },
  {
   "cell_type": "code",
   "execution_count": null,
   "id": "5b7df253",
   "metadata": {
    "id": "5b7df253"
   },
   "outputs": [],
   "source": [
    "# Tensorboard logs the results, run `tensorboard --logdir logs` in this directory in a terminal with acces to\n",
    "# Tensorflow. Note that we can extract the MSE for the final report loss directly from tensorboard as the model\n",
    "# evaluates the validation dataset at every epoch\n",
    "cae.train(x_train, 200, val_data=x_val, batch_size=128)"
   ]
  },
  {
   "cell_type": "code",
   "execution_count": null,
   "id": "AUX8zd8L_5Mx",
   "metadata": {
    "colab": {
     "base_uri": "https://localhost:8080/"
    },
    "executionInfo": {
     "elapsed": 17,
     "status": "ok",
     "timestamp": 1628426072043,
     "user": {
      "displayName": "zef wolffs",
      "photoUrl": "",
      "userId": "02102953505130831508"
     },
     "user_tz": -60
    },
    "id": "AUX8zd8L_5Mx",
    "outputId": "af35e03e-1913-4480-9dc2-3c99c02480a0"
   },
   "outputs": [
    {
     "name": "stdout",
     "output_type": "stream",
     "text": [
      "25/25 [==============================] - 0s 4ms/step - loss: 0.0014 - accuracy: 0.9893\n",
      "CAE MSE loss of the normalized dataset's reconstruction:  0.0014426169218495488\n"
     ]
    }
   ],
   "source": [
    "print(\"CAE MSE loss of the normalized dataset's reconstruction: \", cae.autoencoder.evaluate(x_val, x_val)[0])"
   ]
  },
  {
   "cell_type": "code",
   "execution_count": null,
   "id": "2190a865",
   "metadata": {
    "id": "2190a865"
   },
   "outputs": [],
   "source": [
    "# Compress all the samples\n",
    "snapshots = layer(snapshots)\n",
    "res = cae.predict(snapshots)"
   ]
  },
  {
   "cell_type": "code",
   "execution_count": null,
   "id": "ffc3f34c",
   "metadata": {
    "id": "ffc3f34c"
   },
   "outputs": [],
   "source": [
    "# Undo normalization\n",
    "res = (res * np.sqrt(layer.variance.numpy()) + layer.mean.numpy())"
   ]
  },
  {
   "cell_type": "code",
   "execution_count": null,
   "id": "0c6a4799",
   "metadata": {
    "colab": {
     "base_uri": "https://localhost:8080/",
     "height": 282
    },
    "executionInfo": {
     "elapsed": 20,
     "status": "ok",
     "timestamp": 1628426073603,
     "user": {
      "displayName": "zef wolffs",
      "photoUrl": "",
      "userId": "02102953505130831508"
     },
     "user_tz": -60
    },
    "id": "0c6a4799",
    "outputId": "8a968c57-b715-4db9-c7b7-598c8fa09dd4"
   },
   "outputs": [
    {
     "data": {
      "text/plain": [
       "<matplotlib.contour.QuadContourSet at 0x7f77a45620d0>"
      ]
     },
     "execution_count": 19,
     "metadata": {
      "tags": []
     },
     "output_type": "execute_result"
    },
    {
     "data": {
      "image/png": "[encoded data removed]",
      "text/plain": [
       "<Figure size 432x288 with 2 Axes>"
      ]
     },
     "metadata": {
      "needs_background": "light",
      "tags": []
     },
     "output_type": "display_data"
    }
   ],
   "source": [
    "# Let's plot a reconstruction to see if it visually corresponds to what we expect\n",
    "fig, ax = plt.subplots(1,2)\n",
    "ax[0].contourf(res[92,:,:,1])\n",
    "ax[1].contourf(snapshots[92, :, :, 1])"
   ]
  },
  {
   "cell_type": "markdown",
   "id": "soOOWctprlQJ",
   "metadata": {
    "id": "soOOWctprlQJ"
   },
   "source": [
    "Execute the two cells below to save the results and the model"
   ]
  },
  {
   "cell_type": "code",
   "execution_count": null,
   "id": "ff718a9e",
   "metadata": {
    "id": "ff718a9e"
   },
   "outputs": [],
   "source": [
    "# Reshape to how reconstruction legacy code wants it\n",
    "reconstruction = res.reshape((4, 2000, 55, 42, 2)).swapaxes(1, 4)\n",
    "\n",
    "np.save(\"cae_reconstruction.npy\", reconstruction)"
   ]
  },
  {
   "cell_type": "code",
   "execution_count": null,
   "id": "nIxu3hCaDPRy",
   "metadata": {
    "id": "nIxu3hCaDPRy"
   },
   "outputs": [],
   "source": [
    "# uncomment lines below to save the model\n",
    "!mkdir -p saved_model\n",
    "cae.encoder.save('saved_model/encoder')\n",
    "cae.decoder.save('saved_model/decoder')"
   ]
  },
  {
   "cell_type": "markdown",
   "id": "6d5b29c6",
   "metadata": {
    "id": "6d5b29c6"
   },
   "source": [
    "## Adversarial Autoencoder"
   ]
  },
  {
   "cell_type": "code",
   "execution_count": null,
   "id": "59034082",
   "metadata": {
    "id": "59034082"
   },
   "outputs": [],
   "source": [
    "# This cell does preprocessing, it is the same for the CAE and the AAE\n",
    "\n",
    "# Let's load in the data, split and reshape for the autoencoders\n",
    "snapshots_grids = np.load(filename)\n",
    "\n",
    "# Some data reshaping\n",
    "input_shape = (55, 42, 2)\n",
    "snapshots = convert_2d(snapshots_grids, input_shape, 2000)\n",
    "snapshots = np.array(snapshots).reshape(8000, *input_shape)\n",
    "\n",
    "# Normalize and split dataset\n",
    "layer = preprocessing.Normalization()\n",
    "layer.adapt(snapshots)\n",
    "\n",
    "x_train, x_val = train_test_split(snapshots, test_size=0.1, random_state=seed)\n",
    "x_train = layer(x_train)\n",
    "x_val = layer(x_val)"
   ]
  },
  {
   "cell_type": "code",
   "execution_count": null,
   "id": "64aa7a0a",
   "metadata": {
    "colab": {
     "base_uri": "https://localhost:8080/"
    },
    "executionInfo": {
     "elapsed": 11,
     "status": "ok",
     "timestamp": 1628426074970,
     "user": {
      "displayName": "zef wolffs",
      "photoUrl": "",
      "userId": "02102953505130831508"
     },
     "user_tz": -60
    },
    "id": "64aa7a0a",
    "outputId": "d4ccc961-6490-4121-f558-7f47fee6a819"
   },
   "outputs": [
    {
     "name": "stdout",
     "output_type": "stream",
     "text": [
      "Model: \"sequential_2\"\n",
      "_________________________________________________________________\n",
      "Layer (type)                 Output Shape              Param #   \n",
      "=================================================================\n",
      "conv2d_7 (Conv2D)            (None, 55, 42, 32)        1632      \n",
      "_________________________________________________________________\n",
      "max_pooling2d_3 (MaxPooling2 (None, 28, 21, 32)        0         \n",
      "_________________________________________________________________\n",
      "conv2d_8 (Conv2D)            (None, 28, 21, 64)        18496     \n",
      "_________________________________________________________________\n",
      "max_pooling2d_4 (MaxPooling2 (None, 14, 11, 64)        0         \n",
      "_________________________________________________________________\n",
      "flatten_1 (Flatten)          (None, 9856)              0         \n",
      "_________________________________________________________________\n",
      "dense_4 (Dense)              (None, 9856)              97150592  \n",
      "_________________________________________________________________\n",
      "dense_5 (Dense)              (None, 4928)              48575296  \n",
      "_________________________________________________________________\n",
      "dense_6 (Dense)              (None, 10)                49290     \n",
      "=================================================================\n",
      "Total params: 145,795,306\n",
      "Trainable params: 145,795,306\n",
      "Non-trainable params: 0\n",
      "_________________________________________________________________\n",
      "None\n",
      "Model: \"sequential_3\"\n",
      "_________________________________________________________________\n",
      "Layer (type)                 Output Shape              Param #   \n",
      "=================================================================\n",
      "dense_7 (Dense)              (None, 4928)              54208     \n",
      "_________________________________________________________________\n",
      "dense_8 (Dense)              (None, 9856)              48580224  \n",
      "_________________________________________________________________\n",
      "dense_9 (Dense)              (None, 9856)              97150592  \n",
      "_________________________________________________________________\n",
      "reshape_1 (Reshape)          (None, 14, 11, 64)        0         \n",
      "_________________________________________________________________\n",
      "conv2d_9 (Conv2D)            (None, 14, 11, 64)        36928     \n",
      "_________________________________________________________________\n",
      "up_sampling2d_3 (UpSampling2 (None, 28, 22, 64)        0         \n",
      "_________________________________________________________________\n",
      "conv2d_10 (Conv2D)           (None, 28, 22, 32)        18464     \n",
      "_________________________________________________________________\n",
      "up_sampling2d_4 (UpSampling2 (None, 56, 44, 32)        0         \n",
      "_________________________________________________________________\n",
      "conv2d_11 (Conv2D)           (None, 56, 44, 2)         578       \n",
      "_________________________________________________________________\n",
      "cropping2d_1 (Cropping2D)    (None, 55, 42, 2)         0         \n",
      "=================================================================\n",
      "Total params: 145,840,994\n",
      "Trainable params: 145,840,994\n",
      "Non-trainable params: 0\n",
      "_________________________________________________________________\n",
      "None\n",
      "Model: \"sequential_4\"\n",
      "_________________________________________________________________\n",
      "Layer (type)                 Output Shape              Param #   \n",
      "=================================================================\n",
      "dense_10 (Dense)             (None, 100)               1100      \n",
      "_________________________________________________________________\n",
      "dense_11 (Dense)             (None, 500)               50500     \n",
      "_________________________________________________________________\n",
      "dense_12 (Dense)             (None, 1)                 501       \n",
      "=================================================================\n",
      "Total params: 52,101\n",
      "Trainable params: 52,101\n",
      "Non-trainable params: 0\n",
      "_________________________________________________________________\n",
      "None\n"
     ]
    },
    {
     "name": "stderr",
     "output_type": "stream",
     "text": [
      "/usr/local/lib/python3.7/dist-packages/tensorflow/python/keras/optimizer_v2/optimizer_v2.py:375: UserWarning: The `lr` argument is deprecated, use `learning_rate` instead.\n",
      "  \"The `lr` argument is deprecated, use `learning_rate` instead.\")\n"
     ]
    }
   ],
   "source": [
    "# The hyperparameters set in this cell and the next correspond to the optimal hyperparameters from hyperparameter\n",
    "# optimization\n",
    "initializer = tf.keras.initializers.RandomNormal(mean=0.0, stddev=0.05, seed=None)\n",
    "optimizer = tf.keras.optimizers.Adam(lr=0.0005, beta_1=0.8, beta_2=0.9)\n",
    "\n",
    "# Use this line to create a new model, select any from the list of models provided in the documentation or make\n",
    "# your own. Separating the architecture from the model itself gives the user the\n",
    "# freedom to try out any architectures without having to define an entirely new\n",
    "# model.\n",
    "encoder, decoder = build_densest_omata_encoder_decoder(input_shape, 10, initializer, act='elu', dense_act='relu', info=True)\n",
    "discriminator = build_custom_discriminator(10, initializer, info=True)\n",
    "\n",
    "# Use these lines to load a previously trained model\n",
    "# encoder = tf.keras.models.load_model(\"saved_model_aae/encoder\")\n",
    "# decoder = tf.keras.models.load_model(\"saved_model_aae/decoder\")\n",
    "# discriminator = tf.keras.models.load_model(\"saved_model_aae/discriminator\")"
   ]
  },
  {
   "cell_type": "markdown",
   "id": "f5092aab",
   "metadata": {
    "id": "f5092aab"
   },
   "source": [
    "### Separate losses\n",
    "\n",
    "Adversarial autoencoder with a separate loss for the discriminator, autoencoder, and generator. Each of these three are trained separately with this method.\n",
    "\n",
    "Execute either the following two cells or the cells under \"combined losses\"."
   ]
  },
  {
   "cell_type": "code",
   "execution_count": null,
   "id": "df5171ec",
   "metadata": {
    "id": "df5171ec"
   },
   "outputs": [],
   "source": [
    "aae = AAE(encoder, decoder, discriminator, optimizer, seed=seed)\n",
    "aae.compile(input_shape)"
   ]
  },
  {
   "cell_type": "code",
   "execution_count": null,
   "id": "9309f6f3",
   "metadata": {
    "id": "9309f6f3"
   },
   "outputs": [],
   "source": [
    "aae.train(x_train, 200, val_data=x_val)"
   ]
  },
  {
   "cell_type": "markdown",
   "id": "9ec005ee",
   "metadata": {
    "id": "9ec005ee"
   },
   "source": [
    "### Combined losses\n",
    "\n",
    "Aversarial autoencoder with a combined (and weighted) loss function for the discriminator and autoencoder, the generator is still trained independently. This model tends to perform significantly better."
   ]
  },
  {
   "cell_type": "code",
   "execution_count": null,
   "id": "265eed6c",
   "metadata": {
    "id": "265eed6c"
   },
   "outputs": [],
   "source": [
    "aae = AAE_combined_loss(encoder, decoder, discriminator, optimizer, seed=seed)\n",
    "aae.compile(input_shape)"
   ]
  },
  {
   "cell_type": "code",
   "execution_count": null,
   "id": "5d35cf08",
   "metadata": {
    "id": "5d35cf08"
   },
   "outputs": [],
   "source": [
    "aae.train(x_train, 200, val_data=x_val, batch_size=64)"
   ]
  },
  {
   "cell_type": "code",
   "execution_count": null,
   "id": "31173699",
   "metadata": {
    "colab": {
     "base_uri": "https://localhost:8080/"
    },
    "executionInfo": {
     "elapsed": 1131,
     "status": "ok",
     "timestamp": 1628427669880,
     "user": {
      "displayName": "zef wolffs",
      "photoUrl": "",
      "userId": "02102953505130831508"
     },
     "user_tz": -60
    },
    "id": "31173699",
    "outputId": "fb898328-6e94-4510-8787-cbc2c2bac706"
   },
   "outputs": [
    {
     "name": "stdout",
     "output_type": "stream",
     "text": [
      "AAE MSE loss of the normalized dataset's reconstruction:  0.0062916745\n"
     ]
    }
   ],
   "source": [
    "# Calculate a loss value on the validation set\n",
    "res_val = aae.adversarial_autoencoder.predict(x_val)[0]\n",
    "print(\"AAE MSE loss of the normalized dataset's reconstruction: \", np.mean(tf.keras.losses.MSE(res_val, x_val)))"
   ]
  },
  {
   "cell_type": "code",
   "execution_count": null,
   "id": "b07addbc",
   "metadata": {
    "id": "b07addbc"
   },
   "outputs": [],
   "source": [
    "snapshots = layer(snapshots)\n",
    "res = aae.adversarial_autoencoder.predict(snapshots)[0]"
   ]
  },
  {
   "cell_type": "code",
   "execution_count": null,
   "id": "1d0be908",
   "metadata": {
    "id": "1d0be908"
   },
   "outputs": [],
   "source": [
    "# Undo normalization\n",
    "res = (res * np.sqrt(layer.variance.numpy()) + layer.mean.numpy())"
   ]
  },
  {
   "cell_type": "code",
   "execution_count": null,
   "id": "95aa8b5a",
   "metadata": {
    "colab": {
     "base_uri": "https://localhost:8080/",
     "height": 282
    },
    "executionInfo": {
     "elapsed": 391,
     "status": "ok",
     "timestamp": 1628427671298,
     "user": {
      "displayName": "zef wolffs",
      "photoUrl": "",
      "userId": "02102953505130831508"
     },
     "user_tz": -60
    },
    "id": "95aa8b5a",
    "outputId": "29017a41-feb1-4323-a379-164669df61ad"
   },
   "outputs": [
    {
     "data": {
      "text/plain": [
       "<matplotlib.contour.QuadContourSet at 0x7f77a234c9d0>"
      ]
     },
     "execution_count": 27,
     "metadata": {
      "tags": []
     },
     "output_type": "execute_result"
    },
    {
     "data": {
      "image/png": "[encoded data removed]",
      "text/plain": [
       "<Figure size 432x288 with 2 Axes>"
      ]
     },
     "metadata": {
      "needs_background": "light",
      "tags": []
     },
     "output_type": "display_data"
    }
   ],
   "source": [
    "fig, ax = plt.subplots(1,2)\n",
    "ax[0].contourf(res[92,:,:,1])\n",
    "ax[1].contourf(snapshots[92, :, :, 1])"
   ]
  },
  {
   "cell_type": "markdown",
   "id": "HJbPU82BucLO",
   "metadata": {
    "id": "HJbPU82BucLO"
   },
   "source": [
    "Execute the two cells below to save the results and the model"
   ]
  },
  {
   "cell_type": "code",
   "execution_count": null,
   "id": "e62d3409",
   "metadata": {
    "id": "e62d3409"
   },
   "outputs": [],
   "source": [
    "# Reshape to fit in interpolation (legacy) fortran code\n",
    "reconstruction = res.reshape((4, 2000, 55, 42, 2)).swapaxes(1, 4)\n",
    "\n",
    "# Uncomment line below to save results\n",
    "np.save(\"aae_reconstruction.npy\", reconstruction)"
   ]
  },
  {
   "cell_type": "code",
   "execution_count": null,
   "id": "Z5qBvla2DU8l",
   "metadata": {
    "id": "Z5qBvla2DU8l"
   },
   "outputs": [],
   "source": [
    "# uncomment lines below to save the model\n",
    "!mkdir -p saved_model\n",
    "aae.encoder.save('saved_model/encoder')\n",
    "aae.decoder.save('saved_model/decoder')\n",
    "aae.discriminator.save('saved_model/discriminator')"
   ]
  },
  {
   "cell_type": "markdown",
   "id": "e29bd97c",
   "metadata": {
    "id": "e29bd97c"
   },
   "source": [
    "## SVD Autoencoder"
   ]
  },
  {
   "cell_type": "code",
   "execution_count": null,
   "id": "a0bcb869",
   "metadata": {
    "id": "a0bcb869"
   },
   "outputs": [],
   "source": [
    "# Data preprocessing\n",
    "\n",
    "# Load grids\n",
    "snapshots_grids = np.load(filename)\n",
    "\n",
    "# Data normalization\n",
    "layer = preprocessing.Normalization(axis=None)\n",
    "layer.adapt(snapshots_grids)\n",
    "\n",
    "snapshots_grids = snapshots_grids.swapaxes(0, 2)\n",
    "\n",
    "x_train, x_val = train_test_split(snapshots_grids, test_size=0.1, random_state=seed)\n",
    "x_train = layer(x_train).numpy().swapaxes(0, 2)\n",
    "x_val = layer(x_val).numpy().swapaxes(0, 2)"
   ]
  },
  {
   "cell_type": "code",
   "execution_count": null,
   "id": "9786213d",
   "metadata": {
    "colab": {
     "base_uri": "https://localhost:8080/"
    },
    "executionInfo": {
     "elapsed": 15,
     "status": "ok",
     "timestamp": 1628427672538,
     "user": {
      "displayName": "zef wolffs",
      "photoUrl": "",
      "userId": "02102953505130831508"
     },
     "user_tz": -60
    },
    "id": "9786213d",
    "outputId": "a63f27a3-10cc-487c-8bb7-7c708344e1b1"
   },
   "outputs": [
    {
     "name": "stderr",
     "output_type": "stream",
     "text": [
      "/usr/local/lib/python3.7/dist-packages/tensorflow/python/keras/optimizer_v2/optimizer_v2.py:375: UserWarning: The `lr` argument is deprecated, use `learning_rate` instead.\n",
      "  \"The `lr` argument is deprecated, use `learning_rate` instead.\")\n"
     ]
    }
   ],
   "source": [
    "initializer = tf.keras.initializers.RandomNormal(mean=0.0, stddev=0.05, seed=None)\n",
    "optimizer = tf.keras.optimizers.Nadam(lr=0.0005, beta_1=0.98, beta_2=0.99999)\n",
    "\n",
    "# Use this line to create a new architecture, select any from the list of \n",
    "# architectures provided in the documentation or make\n",
    "# your own. Separating the architecture from the model itself gives the user the\n",
    "# freedom to try out any architectures without having to define an entirely new\n",
    "# model.\n",
    "encoder, decoder = build_vinicius_encoder_decoder(30, 10, initializer, act='elu', dense_act='relu', info=False, reg=0, dropout=0.55, batchnorm=False)\n",
    "\n",
    "# encoder = tf.keras.models.load_model(\"saved_model_svdae/encoder\")\n",
    "# decoder = tf.keras.models.load_model(\"saved_model_svdae/decoder\")"
   ]
  },
  {
   "cell_type": "code",
   "execution_count": null,
   "id": "403afee4",
   "metadata": {
    "id": "403afee4"
   },
   "outputs": [],
   "source": [
    "svdae = SVDAE(encoder, decoder, optimizer, seed=seed)\n",
    "svdae.compile(30, weight_loss=False)\n",
    "\n",
    "# Only set this when loading in the model\n",
    "# svdae.R = np.load(\"R_svdae.npy\")"
   ]
  },
  {
   "cell_type": "code",
   "execution_count": null,
   "id": "04743d34",
   "metadata": {
    "colab": {
     "base_uri": "https://localhost:8080/"
    },
    "executionInfo": {
     "elapsed": 347089,
     "status": "ok",
     "timestamp": 1628428019621,
     "user": {
      "displayName": "zef wolffs",
      "photoUrl": "",
      "userId": "02102953505130831508"
     },
     "user_tz": -60
    },
    "id": "04743d34",
    "outputId": "4fdc94cf-7c27-467a-cf98-98fbff15c9c1"
   },
   "outputs": [
    {
     "name": "stdout",
     "output_type": "stream",
     "text": [
      "SSmatrix (7200, 7200)\n"
     ]
    }
   ],
   "source": [
    "svdae.train(x_train, 200, val_data=x_val, batch_size=64)"
   ]
  },
  {
   "cell_type": "code",
   "execution_count": null,
   "id": "eb1085d4",
   "metadata": {
    "colab": {
     "base_uri": "https://localhost:8080/"
    },
    "executionInfo": {
     "elapsed": 35984,
     "status": "ok",
     "timestamp": 1628428055595,
     "user": {
      "displayName": "zef wolffs",
      "photoUrl": "",
      "userId": "02102953505130831508"
     },
     "user_tz": -60
    },
    "id": "eb1085d4",
    "outputId": "d16a0993-fee6-4424-ea67-b7e43756190d"
   },
   "outputs": [
    {
     "name": "stdout",
     "output_type": "stream",
     "text": [
      "SVD-AE MSE loss of the normalized dataset's reconstruction:  0.002510872665185496\n"
     ]
    }
   ],
   "source": [
    "# Generate a loss value and create an array of output grids\n",
    "output = np.zeros((4, 2, 55, 42, 200))\n",
    "loss = 0\n",
    "for i in range(x_val.shape[0]):\n",
    "    for j in range(x_val.shape[2]):\n",
    "        original = x_val[i, :, j]\n",
    "        result = svdae.predict_single(original)\n",
    "        loss += tf.keras.losses.MSE(original, result)\n",
    "        result = (result * np.sqrt(layer.variance.numpy()) + layer.mean.numpy())\n",
    "        result = np.expand_dims(result,(0,2))\n",
    "        input_shape = (55, 42, 2)\n",
    "        result = convert_2d(result, input_shape, 1)\n",
    "        output[i, :, :, :, j] = np.moveaxis(np.array(result).reshape(55, 42, 2), 2, 0)\n",
    "        \n",
    "print(\"SVD-AE MSE loss of the normalized dataset's reconstruction: \", loss.numpy()/800)"
   ]
  },
  {
   "cell_type": "code",
   "execution_count": null,
   "id": "a7b16cf8",
   "metadata": {
    "colab": {
     "base_uri": "https://localhost:8080/",
     "height": 282
    },
    "executionInfo": {
     "elapsed": 39,
     "status": "ok",
     "timestamp": 1628428055598,
     "user": {
      "displayName": "zef wolffs",
      "photoUrl": "",
      "userId": "02102953505130831508"
     },
     "user_tz": -60
    },
    "id": "a7b16cf8",
    "outputId": "8526a92f-323a-4c18-9536-b33594d0dea1"
   },
   "outputs": [
    {
     "data": {
      "text/plain": [
       "<matplotlib.contour.QuadContourSet at 0x7f75dd5fb590>"
      ]
     },
     "execution_count": 35,
     "metadata": {
      "tags": []
     },
     "output_type": "execute_result"
    },
    {
     "data": {
      "image/png": "[encoded data removed]",
      "text/plain": [
       "<Figure size 432x288 with 2 Axes>"
      ]
     },
     "metadata": {
      "needs_background": "light",
      "tags": []
     },
     "output_type": "display_data"
    }
   ],
   "source": [
    "original = x_val[2, :, 30]\n",
    "\n",
    "result = svdae.predict_single(original)\n",
    "result = np.expand_dims(result,(0,2))\n",
    "input_shape = (55, 42, 2)\n",
    "result = convert_2d(result, input_shape, 1)\n",
    "\n",
    "original = np.expand_dims(original,(0,2))\n",
    "original = convert_2d(original, input_shape, 1)\n",
    "\n",
    "fig, ax = plt.subplots(1,2)\n",
    "ax[0].contourf(result[0][0, :, :, 0])\n",
    "ax[1].contourf(original[0][0, :, :, 0])"
   ]
  },
  {
   "cell_type": "markdown",
   "id": "QvzFPHIRtsLd",
   "metadata": {
    "id": "QvzFPHIRtsLd"
   },
   "source": [
    "Execute the two cells below to save the results and the model"
   ]
  },
  {
   "cell_type": "code",
   "execution_count": null,
   "id": "qjVyZSIW6riA",
   "metadata": {
    "colab": {
     "base_uri": "https://localhost:8080/"
    },
    "executionInfo": {
     "elapsed": 40381,
     "status": "ok",
     "timestamp": 1628429573274,
     "user": {
      "displayName": "zef wolffs",
      "photoUrl": "",
      "userId": "02102953505130831508"
     },
     "user_tz": -60
    },
    "id": "qjVyZSIW6riA",
    "outputId": "4e805701-249c-418c-e350-f097306edb5d"
   },
   "outputs": [
    {
     "name": "stdout",
     "output_type": "stream",
     "text": [
      "SVD-AE MSE loss of the normalized dataset's reconstruction:  0.002510872665185496\n"
     ]
    }
   ],
   "source": [
    "# Generate a loss value and create an array of output grids\n",
    "output = np.zeros((4, 2, 55, 42, 200))\n",
    "loss = 0\n",
    "for i in range(x_val.shape[0]):\n",
    "    for j in range(x_val.shape[2]):\n",
    "        original = x_val[i, :, j]\n",
    "        result = svdae.predict_single(original)\n",
    "        loss += tf.keras.losses.MSE(original, result)\n",
    "        result = (result * np.sqrt(layer.variance.numpy()) + layer.mean.numpy())\n",
    "        result = np.expand_dims(result,(0,2))\n",
    "        input_shape = (55, 42, 2)\n",
    "        result = convert_2d(result, input_shape, 1)\n",
    "        output[i, :, :, :, j] = np.moveaxis(np.array(result).reshape(55, 42, 2), 2, 0)\n",
    "        \n",
    "print(\"SVD-AE MSE loss of the normalized dataset's reconstruction: \", loss.numpy()/800)"
   ]
  },
  {
   "cell_type": "code",
   "execution_count": null,
   "id": "0e6c6e19",
   "metadata": {
    "id": "0e6c6e19"
   },
   "outputs": [],
   "source": [
    "# Uncomment line below to save model\n",
    "np.save(\"svdae_reconstruction.npy\", output)"
   ]
  },
  {
   "cell_type": "code",
   "execution_count": null,
   "id": "cfd77d87",
   "metadata": {
    "id": "cfd77d87"
   },
   "outputs": [],
   "source": [
    "# Uncomment lines below to save model\n",
    "!mkdir -p saved_model\n",
    "svdae.encoder.save('saved_model_svdae/encoder')\n",
    "svdae.decoder.save('saved_model_svdae/decoder')\n",
    "np.save('saved_model_svdae/R.npy', svdae.R) # Also need to save basis functions in this case"
   ]
  }
 ],
 "metadata": {
  "accelerator": "GPU",
  "colab": {
   "collapsed_sections": [
    "f5092aab"
   ],
   "name": "basic_usage_fpc.ipynb",
   "provenance": []
  },
  "kernelspec": {
   "display_name": "Python 3",
   "language": "python",
   "name": "python3"
  },
  "language_info": {
   "codemirror_mode": {
    "name": "ipython",
    "version": 3
   },
   "file_extension": ".py",
   "mimetype": "text/x-python",
   "name": "python",
   "nbconvert_exporter": "python",
   "pygments_lexer": "ipython3",
   "version": "3.8.10"
  }
 },
 "nbformat": 4,
 "nbformat_minor": 5
}
