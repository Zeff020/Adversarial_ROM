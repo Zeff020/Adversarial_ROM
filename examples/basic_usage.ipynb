{
 "cells": [
  {
   "cell_type": "code",
   "execution_count": 1,
   "id": "38c1e9e6",
   "metadata": {},
   "outputs": [],
   "source": [
    "from ddganAE.models import AAE, AAE_combined_loss, CAE, SVDAE\n",
    "from ddganAE.architectures import *\n",
    "from ddganAE.preprocessing import convert_2d\n",
    "from ddganAE.utils import calc_pod\n",
    "import tensorflow as tf\n",
    "from tensorflow.keras.layers.experimental import preprocessing\n",
    "import numpy as np\n",
    "import matplotlib.pyplot as plt\n",
    "from sklearn.preprocessing import StandardScaler\n",
    "from sklearn.model_selection import train_test_split"
   ]
  },
  {
   "cell_type": "markdown",
   "id": "e37edfcb",
   "metadata": {},
   "source": [
    "# POD\n",
    "\n",
    "This can be used to check against, we try to find models that perform better than POD. Let's use 10 POD components, i.e. 10 latent space dimensions."
   ]
  },
  {
   "cell_type": "code",
   "execution_count": 59,
   "id": "bcee7061",
   "metadata": {},
   "outputs": [],
   "source": [
    "snapshots_grids = np.load(\"./../submodules/DD-GAN/data/processed/snaphsots_field_Velocity_new_4_2000steps.npy\")\n",
    "\n",
    "# Data normalization\n",
    "layer = preprocessing.Normalization(axis=None)\n",
    "layer.adapt(snapshots_grids)\n",
    "\n",
    "snapshots_grids = layer(snapshots_grids).numpy()\n",
    "\n",
    "coeffs, R = calc_pod(snapshots_grids, nPOD=10)"
   ]
  },
  {
   "cell_type": "code",
   "execution_count": 60,
   "id": "00169b73",
   "metadata": {},
   "outputs": [
    {
     "name": "stdout",
     "output_type": "stream",
     "text": [
      "[[-0.06574968  0.889425    0.88533004 ...  0.87480204  0.87580177\n",
      "   0.87668235]\n",
      " [-0.06609004  0.90028732  0.89612372 ...  0.87883499  0.88167603\n",
      "   0.88347498]\n",
      " [-0.06642842  0.91079298  0.9066454  ...  0.88245219  0.88744083\n",
      "   0.89054423]\n",
      " ...\n",
      " [ 0.00203796 -0.91469858 -0.9098966  ... -0.84175103 -0.84852721\n",
      "  -0.85643904]\n",
      " [ 0.01400781 -0.90751887 -0.90274946 ... -0.86341723 -0.86687382\n",
      "  -0.87072066]\n",
      " [ 0.02451946 -0.89983887 -0.8949772  ... -0.87770123 -0.87856547\n",
      "  -0.87918458]] \n",
      " [[-0.8800349   0.868157    0.86859614 ...  0.86862653  0.86862624\n",
      "   0.8686259 ]\n",
      " [-0.8800349   0.86855257  0.8686306  ...  0.86863226  0.8686321\n",
      "   0.8686319 ]\n",
      " [-0.8800349   0.8684343   0.8686299  ...  0.8686306   0.8686304\n",
      "   0.86863023]\n",
      " ...\n",
      " [-0.8800349  -0.8815101  -0.8816277  ... -0.84021616 -0.85250354\n",
      "  -0.8658067 ]\n",
      " [-0.8800349  -0.88055855 -0.8804519  ... -0.86244816 -0.86827886\n",
      "  -0.8745808 ]\n",
      " [-0.8800349  -0.88086855 -0.88045865 ... -0.8771531  -0.87748325\n",
      "  -0.8778174 ]]\n"
     ]
    },
    {
     "data": {
      "text/plain": [
       "False"
      ]
     },
     "execution_count": 60,
     "metadata": {},
     "output_type": "execute_result"
    }
   ],
   "source": [
    "# Reconstruct the first subgrid\n",
    "recon = R @ coeffs[0]\n",
    "print(recon, '\\n',\n",
    "      snapshots_grids[0, :, :])\n",
    "\n",
    "np.allclose(recon, snapshots_grids[0, :, :], atol=1e-1)"
   ]
  },
  {
   "cell_type": "code",
   "execution_count": 61,
   "id": "7630a53b",
   "metadata": {},
   "outputs": [
    {
     "name": "stdout",
     "output_type": "stream",
     "text": [
      "[ 0.889425    0.90028732  0.91079298 ... -0.91469858 -0.90751887\n",
      " -0.89983887] [ 0.868157    0.86855257  0.8684343  ... -0.8815101  -0.88055855\n",
      " -0.88086855]\n"
     ]
    }
   ],
   "source": [
    "print(recon[:, 1],snapshots_grids[0, :, 1])"
   ]
  },
  {
   "cell_type": "code",
   "execution_count": 64,
   "id": "aec28e55",
   "metadata": {},
   "outputs": [
    {
     "data": {
      "text/plain": [
       "(4, 4620, 2000)"
      ]
     },
     "execution_count": 64,
     "metadata": {},
     "output_type": "execute_result"
    }
   ],
   "source": [
    "snapshots_grids.shape"
   ]
  },
  {
   "cell_type": "code",
   "execution_count": 65,
   "id": "84382b38",
   "metadata": {},
   "outputs": [
    {
     "name": "stdout",
     "output_type": "stream",
     "text": [
      "0.017459340229004746\n"
     ]
    }
   ],
   "source": [
    "mean = 0\n",
    "for j in range(4):\n",
    "    recon = R @ coeffs[j]\n",
    "    for i in range(1000):\n",
    "        mean += tf.keras.losses.MSE(recon[:, i], snapshots_grids[j, :, i]).numpy()/4000\n",
    "    \n",
    "print(mean)"
   ]
  },
  {
   "cell_type": "markdown",
   "id": "4cdd3266",
   "metadata": {},
   "source": [
    "# Convolutional Autoencoder"
   ]
  },
  {
   "cell_type": "markdown",
   "id": "b95a676b",
   "metadata": {},
   "source": [
    "### Our dataset (55x42)"
   ]
  },
  {
   "cell_type": "code",
   "execution_count": 2,
   "id": "2a2ecfb3",
   "metadata": {},
   "outputs": [],
   "source": [
    "# Data processing\n",
    "snapshots_grids = np.load(\"./../submodules/DD-GAN/data/processed/snaphsots_field_Velocity_new_4_2000steps.npy\")\n",
    "\n",
    "input_shape = (55, 42, 2)\n",
    "snapshots = convert_2d(snapshots_grids, input_shape, 2000)\n",
    "snapshots = np.array(snapshots).reshape(8000, *input_shape)\n",
    "snapshots.shape\n",
    "\n",
    "\n",
    "from sklearn.model_selection import train_test_split\n",
    "\n",
    "# Data normalization\n",
    "layer = preprocessing.Normalization()\n",
    "layer.adapt(snapshots)\n",
    "\n",
    "x_train, x_val = train_test_split(snapshots, test_size=0.1)\n",
    "x_train = layer(x_train)\n",
    "x_val = layer(x_val)"
   ]
  },
  {
   "cell_type": "code",
   "execution_count": 3,
   "id": "c2d23072",
   "metadata": {},
   "outputs": [
    {
     "name": "stdout",
     "output_type": "stream",
     "text": [
      "WARNING:tensorflow:No training configuration found in save file, so the model was *not* compiled. Compile it manually.\n",
      "WARNING:tensorflow:No training configuration found in save file, so the model was *not* compiled. Compile it manually.\n"
     ]
    }
   ],
   "source": [
    "initializer = tf.keras.initializers.RandomNormal(mean=0.0, stddev=0.05, seed=None)\n",
    "optimizer = tf.keras.optimizers.Nadam(lr=0.00005, beta_1=0.9, beta_2=0.999)\n",
    "\n",
    "#encoder, decoder = build_densest_omata_encoder_decoder(input_shape, 10, initializer, info=True, act='elu', dense_act='relu')\n",
    "\n",
    "encoder = tf.keras.models.load_model(\"saved_model_cae/encoder\")\n",
    "decoder = tf.keras.models.load_model(\"saved_model_cae/decoder\")\n",
    "\n",
    "cae = CAE(encoder, decoder, optimizer)\n",
    "cae.compile(input_shape)"
   ]
  },
  {
   "cell_type": "code",
   "execution_count": 4,
   "id": "81bd6d36",
   "metadata": {},
   "outputs": [
    {
     "ename": "KeyboardInterrupt",
     "evalue": "",
     "output_type": "error",
     "traceback": [
      "\u001b[0;31m---------------------------------------------------------------------------\u001b[0m",
      "\u001b[0;31mKeyboardInterrupt\u001b[0m                         Traceback (most recent call last)",
      "\u001b[0;32m<ipython-input-4-e049915a3cd6>\u001b[0m in \u001b[0;36m<module>\u001b[0;34m\u001b[0m\n\u001b[0;32m----> 1\u001b[0;31m \u001b[0mcae\u001b[0m\u001b[0;34m.\u001b[0m\u001b[0mtrain\u001b[0m\u001b[0;34m(\u001b[0m\u001b[0mx_train\u001b[0m\u001b[0;34m,\u001b[0m \u001b[0;36m100\u001b[0m\u001b[0;34m,\u001b[0m \u001b[0mval_data\u001b[0m\u001b[0;34m=\u001b[0m\u001b[0mx_val\u001b[0m\u001b[0;34m,\u001b[0m \u001b[0mbatch_size\u001b[0m\u001b[0;34m=\u001b[0m\u001b[0;36m64\u001b[0m\u001b[0;34m)\u001b[0m\u001b[0;34m\u001b[0m\u001b[0;34m\u001b[0m\u001b[0m\n\u001b[0m",
      "\u001b[0;32m~/Documents/master/acse-9/DD-GAN-AE/ddganAE/models/cae.py\u001b[0m in \u001b[0;36mtrain\u001b[0;34m(self, train_data, epochs, val_data, batch_size, val_batch_size, wandb_log)\u001b[0m\n\u001b[1;32m     66\u001b[0m \u001b[0;34m\u001b[0m\u001b[0m\n\u001b[1;32m     67\u001b[0m                 \u001b[0;31m# Train the autoencoder reconstruction\u001b[0m\u001b[0;34m\u001b[0m\u001b[0;34m\u001b[0m\u001b[0;34m\u001b[0m\u001b[0m\n\u001b[0;32m---> 68\u001b[0;31m                 \u001b[0mloss\u001b[0m\u001b[0;34m,\u001b[0m \u001b[0macc\u001b[0m \u001b[0;34m=\u001b[0m \u001b[0mself\u001b[0m\u001b[0;34m.\u001b[0m\u001b[0mautoencoder\u001b[0m\u001b[0;34m.\u001b[0m\u001b[0mtrain_on_batch\u001b[0m\u001b[0;34m(\u001b[0m\u001b[0mgrids\u001b[0m\u001b[0;34m,\u001b[0m \u001b[0mgrids\u001b[0m\u001b[0;34m)\u001b[0m\u001b[0;34m\u001b[0m\u001b[0;34m\u001b[0m\u001b[0m\n\u001b[0m\u001b[1;32m     69\u001b[0m                 \u001b[0mloss_cum\u001b[0m \u001b[0;34m+=\u001b[0m \u001b[0mloss\u001b[0m\u001b[0;34m\u001b[0m\u001b[0;34m\u001b[0m\u001b[0m\n\u001b[1;32m     70\u001b[0m                 \u001b[0macc_cum\u001b[0m \u001b[0;34m+=\u001b[0m \u001b[0macc\u001b[0m\u001b[0;34m\u001b[0m\u001b[0;34m\u001b[0m\u001b[0m\n",
      "\u001b[0;32m~/miniconda3/envs/acse-9/lib/python3.8/site-packages/tensorflow/python/keras/engine/training.py\u001b[0m in \u001b[0;36mtrain_on_batch\u001b[0;34m(self, x, y, sample_weight, class_weight, reset_metrics, return_dict)\u001b[0m\n\u001b[1;32m   1725\u001b[0m                                                     class_weight)\n\u001b[1;32m   1726\u001b[0m       \u001b[0mself\u001b[0m\u001b[0;34m.\u001b[0m\u001b[0mtrain_function\u001b[0m \u001b[0;34m=\u001b[0m \u001b[0mself\u001b[0m\u001b[0;34m.\u001b[0m\u001b[0mmake_train_function\u001b[0m\u001b[0;34m(\u001b[0m\u001b[0;34m)\u001b[0m\u001b[0;34m\u001b[0m\u001b[0;34m\u001b[0m\u001b[0m\n\u001b[0;32m-> 1727\u001b[0;31m       \u001b[0mlogs\u001b[0m \u001b[0;34m=\u001b[0m \u001b[0mself\u001b[0m\u001b[0;34m.\u001b[0m\u001b[0mtrain_function\u001b[0m\u001b[0;34m(\u001b[0m\u001b[0miterator\u001b[0m\u001b[0;34m)\u001b[0m\u001b[0;34m\u001b[0m\u001b[0;34m\u001b[0m\u001b[0m\n\u001b[0m\u001b[1;32m   1728\u001b[0m \u001b[0;34m\u001b[0m\u001b[0m\n\u001b[1;32m   1729\u001b[0m     \u001b[0;32mif\u001b[0m \u001b[0mreset_metrics\u001b[0m\u001b[0;34m:\u001b[0m\u001b[0;34m\u001b[0m\u001b[0;34m\u001b[0m\u001b[0m\n",
      "\u001b[0;32m~/miniconda3/envs/acse-9/lib/python3.8/site-packages/tensorflow/python/eager/def_function.py\u001b[0m in \u001b[0;36m__call__\u001b[0;34m(self, *args, **kwds)\u001b[0m\n\u001b[1;32m    826\u001b[0m     \u001b[0mtracing_count\u001b[0m \u001b[0;34m=\u001b[0m \u001b[0mself\u001b[0m\u001b[0;34m.\u001b[0m\u001b[0mexperimental_get_tracing_count\u001b[0m\u001b[0;34m(\u001b[0m\u001b[0;34m)\u001b[0m\u001b[0;34m\u001b[0m\u001b[0;34m\u001b[0m\u001b[0m\n\u001b[1;32m    827\u001b[0m     \u001b[0;32mwith\u001b[0m \u001b[0mtrace\u001b[0m\u001b[0;34m.\u001b[0m\u001b[0mTrace\u001b[0m\u001b[0;34m(\u001b[0m\u001b[0mself\u001b[0m\u001b[0;34m.\u001b[0m\u001b[0m_name\u001b[0m\u001b[0;34m)\u001b[0m \u001b[0;32mas\u001b[0m \u001b[0mtm\u001b[0m\u001b[0;34m:\u001b[0m\u001b[0;34m\u001b[0m\u001b[0;34m\u001b[0m\u001b[0m\n\u001b[0;32m--> 828\u001b[0;31m       \u001b[0mresult\u001b[0m \u001b[0;34m=\u001b[0m \u001b[0mself\u001b[0m\u001b[0;34m.\u001b[0m\u001b[0m_call\u001b[0m\u001b[0;34m(\u001b[0m\u001b[0;34m*\u001b[0m\u001b[0margs\u001b[0m\u001b[0;34m,\u001b[0m \u001b[0;34m**\u001b[0m\u001b[0mkwds\u001b[0m\u001b[0;34m)\u001b[0m\u001b[0;34m\u001b[0m\u001b[0;34m\u001b[0m\u001b[0m\n\u001b[0m\u001b[1;32m    829\u001b[0m       \u001b[0mcompiler\u001b[0m \u001b[0;34m=\u001b[0m \u001b[0;34m\"xla\"\u001b[0m \u001b[0;32mif\u001b[0m \u001b[0mself\u001b[0m\u001b[0;34m.\u001b[0m\u001b[0m_experimental_compile\u001b[0m \u001b[0;32melse\u001b[0m \u001b[0;34m\"nonXla\"\u001b[0m\u001b[0;34m\u001b[0m\u001b[0;34m\u001b[0m\u001b[0m\n\u001b[1;32m    830\u001b[0m       \u001b[0mnew_tracing_count\u001b[0m \u001b[0;34m=\u001b[0m \u001b[0mself\u001b[0m\u001b[0;34m.\u001b[0m\u001b[0mexperimental_get_tracing_count\u001b[0m\u001b[0;34m(\u001b[0m\u001b[0;34m)\u001b[0m\u001b[0;34m\u001b[0m\u001b[0;34m\u001b[0m\u001b[0m\n",
      "\u001b[0;32m~/miniconda3/envs/acse-9/lib/python3.8/site-packages/tensorflow/python/eager/def_function.py\u001b[0m in \u001b[0;36m_call\u001b[0;34m(self, *args, **kwds)\u001b[0m\n\u001b[1;32m    853\u001b[0m       \u001b[0;31m# In this case we have created variables on the first call, so we run the\u001b[0m\u001b[0;34m\u001b[0m\u001b[0;34m\u001b[0m\u001b[0;34m\u001b[0m\u001b[0m\n\u001b[1;32m    854\u001b[0m       \u001b[0;31m# defunned version which is guaranteed to never create variables.\u001b[0m\u001b[0;34m\u001b[0m\u001b[0;34m\u001b[0m\u001b[0;34m\u001b[0m\u001b[0m\n\u001b[0;32m--> 855\u001b[0;31m       \u001b[0;32mreturn\u001b[0m \u001b[0mself\u001b[0m\u001b[0;34m.\u001b[0m\u001b[0m_stateless_fn\u001b[0m\u001b[0;34m(\u001b[0m\u001b[0;34m*\u001b[0m\u001b[0margs\u001b[0m\u001b[0;34m,\u001b[0m \u001b[0;34m**\u001b[0m\u001b[0mkwds\u001b[0m\u001b[0;34m)\u001b[0m  \u001b[0;31m# pylint: disable=not-callable\u001b[0m\u001b[0;34m\u001b[0m\u001b[0;34m\u001b[0m\u001b[0m\n\u001b[0m\u001b[1;32m    856\u001b[0m     \u001b[0;32melif\u001b[0m \u001b[0mself\u001b[0m\u001b[0;34m.\u001b[0m\u001b[0m_stateful_fn\u001b[0m \u001b[0;32mis\u001b[0m \u001b[0;32mnot\u001b[0m \u001b[0;32mNone\u001b[0m\u001b[0;34m:\u001b[0m\u001b[0;34m\u001b[0m\u001b[0;34m\u001b[0m\u001b[0m\n\u001b[1;32m    857\u001b[0m       \u001b[0;31m# Release the lock early so that multiple threads can perform the call\u001b[0m\u001b[0;34m\u001b[0m\u001b[0;34m\u001b[0m\u001b[0;34m\u001b[0m\u001b[0m\n",
      "\u001b[0;32m~/miniconda3/envs/acse-9/lib/python3.8/site-packages/tensorflow/python/eager/function.py\u001b[0m in \u001b[0;36m__call__\u001b[0;34m(self, *args, **kwargs)\u001b[0m\n\u001b[1;32m   2940\u001b[0m       (graph_function,\n\u001b[1;32m   2941\u001b[0m        filtered_flat_args) = self._maybe_define_function(args, kwargs)\n\u001b[0;32m-> 2942\u001b[0;31m     return graph_function._call_flat(\n\u001b[0m\u001b[1;32m   2943\u001b[0m         filtered_flat_args, captured_inputs=graph_function.captured_inputs)  # pylint: disable=protected-access\n\u001b[1;32m   2944\u001b[0m \u001b[0;34m\u001b[0m\u001b[0m\n",
      "\u001b[0;32m~/miniconda3/envs/acse-9/lib/python3.8/site-packages/tensorflow/python/eager/function.py\u001b[0m in \u001b[0;36m_call_flat\u001b[0;34m(self, args, captured_inputs, cancellation_manager)\u001b[0m\n\u001b[1;32m   1916\u001b[0m         and executing_eagerly):\n\u001b[1;32m   1917\u001b[0m       \u001b[0;31m# No tape is watching; skip to running the function.\u001b[0m\u001b[0;34m\u001b[0m\u001b[0;34m\u001b[0m\u001b[0;34m\u001b[0m\u001b[0m\n\u001b[0;32m-> 1918\u001b[0;31m       return self._build_call_outputs(self._inference_function.call(\n\u001b[0m\u001b[1;32m   1919\u001b[0m           ctx, args, cancellation_manager=cancellation_manager))\n\u001b[1;32m   1920\u001b[0m     forward_backward = self._select_forward_and_backward_functions(\n",
      "\u001b[0;32m~/miniconda3/envs/acse-9/lib/python3.8/site-packages/tensorflow/python/eager/function.py\u001b[0m in \u001b[0;36mcall\u001b[0;34m(self, ctx, args, cancellation_manager)\u001b[0m\n\u001b[1;32m    553\u001b[0m       \u001b[0;32mwith\u001b[0m \u001b[0m_InterpolateFunctionError\u001b[0m\u001b[0;34m(\u001b[0m\u001b[0mself\u001b[0m\u001b[0;34m)\u001b[0m\u001b[0;34m:\u001b[0m\u001b[0;34m\u001b[0m\u001b[0;34m\u001b[0m\u001b[0m\n\u001b[1;32m    554\u001b[0m         \u001b[0;32mif\u001b[0m \u001b[0mcancellation_manager\u001b[0m \u001b[0;32mis\u001b[0m \u001b[0;32mNone\u001b[0m\u001b[0;34m:\u001b[0m\u001b[0;34m\u001b[0m\u001b[0;34m\u001b[0m\u001b[0m\n\u001b[0;32m--> 555\u001b[0;31m           outputs = execute.execute(\n\u001b[0m\u001b[1;32m    556\u001b[0m               \u001b[0mstr\u001b[0m\u001b[0;34m(\u001b[0m\u001b[0mself\u001b[0m\u001b[0;34m.\u001b[0m\u001b[0msignature\u001b[0m\u001b[0;34m.\u001b[0m\u001b[0mname\u001b[0m\u001b[0;34m)\u001b[0m\u001b[0;34m,\u001b[0m\u001b[0;34m\u001b[0m\u001b[0;34m\u001b[0m\u001b[0m\n\u001b[1;32m    557\u001b[0m               \u001b[0mnum_outputs\u001b[0m\u001b[0;34m=\u001b[0m\u001b[0mself\u001b[0m\u001b[0;34m.\u001b[0m\u001b[0m_num_outputs\u001b[0m\u001b[0;34m,\u001b[0m\u001b[0;34m\u001b[0m\u001b[0;34m\u001b[0m\u001b[0m\n",
      "\u001b[0;32m~/miniconda3/envs/acse-9/lib/python3.8/site-packages/tensorflow/python/eager/execute.py\u001b[0m in \u001b[0;36mquick_execute\u001b[0;34m(op_name, num_outputs, inputs, attrs, ctx, name)\u001b[0m\n\u001b[1;32m     57\u001b[0m   \u001b[0;32mtry\u001b[0m\u001b[0;34m:\u001b[0m\u001b[0;34m\u001b[0m\u001b[0;34m\u001b[0m\u001b[0m\n\u001b[1;32m     58\u001b[0m     \u001b[0mctx\u001b[0m\u001b[0;34m.\u001b[0m\u001b[0mensure_initialized\u001b[0m\u001b[0;34m(\u001b[0m\u001b[0;34m)\u001b[0m\u001b[0;34m\u001b[0m\u001b[0;34m\u001b[0m\u001b[0m\n\u001b[0;32m---> 59\u001b[0;31m     tensors = pywrap_tfe.TFE_Py_Execute(ctx._handle, device_name, op_name,\n\u001b[0m\u001b[1;32m     60\u001b[0m                                         inputs, attrs, num_outputs)\n\u001b[1;32m     61\u001b[0m   \u001b[0;32mexcept\u001b[0m \u001b[0mcore\u001b[0m\u001b[0;34m.\u001b[0m\u001b[0m_NotOkStatusException\u001b[0m \u001b[0;32mas\u001b[0m \u001b[0me\u001b[0m\u001b[0;34m:\u001b[0m\u001b[0;34m\u001b[0m\u001b[0;34m\u001b[0m\u001b[0m\n",
      "\u001b[0;31mKeyboardInterrupt\u001b[0m: "
     ]
    }
   ],
   "source": [
    "cae.train(x_train, 100, val_data=x_val, batch_size=64)"
   ]
  },
  {
   "cell_type": "code",
   "execution_count": 7,
   "id": "94d3a238",
   "metadata": {},
   "outputs": [
    {
     "name": "stdout",
     "output_type": "stream",
     "text": [
      "INFO:tensorflow:Assets written to: saved_model/encoder/assets\n",
      "INFO:tensorflow:Assets written to: saved_model/decoder/assets\n"
     ]
    }
   ],
   "source": [
    "# Save the entire model as a SavedModel.\n",
    "!mkdir -p saved_model\n",
    "cae.encoder.save('saved_model/encoder')\n",
    "cae.decoder.save('saved_model/decoder')"
   ]
  },
  {
   "cell_type": "code",
   "execution_count": 4,
   "id": "2425cbcf",
   "metadata": {},
   "outputs": [
    {
     "data": {
      "text/plain": [
       "<matplotlib.contour.QuadContourSet at 0x7fba1049bb50>"
      ]
     },
     "execution_count": 4,
     "metadata": {},
     "output_type": "execute_result"
    },
    {
     "data": {
      "image/png": "[encoded data removed]",
      "text/plain": [
       "<Figure size 432x288 with 2 Axes>"
      ]
     },
     "metadata": {
      "needs_background": "light"
     },
     "output_type": "display_data"
    }
   ],
   "source": [
    "grid = x_val[250:251, :, :, :]\n",
    "res = cae.predict(grid)\n",
    "\n",
    "fig, ax = plt.subplots(1,2)\n",
    "ax[0].contourf(res[0,:,:,0])\n",
    "ax[1].contourf(grid[0, :, :, 0])"
   ]
  },
  {
   "cell_type": "markdown",
   "id": "46acaf9c",
   "metadata": {},
   "source": [
    "#### Prepare output to reconstruct to .vtu file "
   ]
  },
  {
   "cell_type": "code",
   "execution_count": 5,
   "id": "427d78fa",
   "metadata": {},
   "outputs": [],
   "source": [
    "snapshots = layer(snapshots)\n",
    "res = cae.predict(snapshots)"
   ]
  },
  {
   "cell_type": "code",
   "execution_count": 18,
   "id": "a0c023c9",
   "metadata": {},
   "outputs": [
    {
     "data": {
      "text/plain": [
       "<matplotlib.contour.QuadContourSet at 0x7fba22b0f8b0>"
      ]
     },
     "execution_count": 18,
     "metadata": {},
     "output_type": "execute_result"
    },
    {
     "data": {
      "image/png": "[encoded data removed]",
      "text/plain": [
       "<Figure size 432x288 with 2 Axes>"
      ]
     },
     "metadata": {
      "needs_background": "light"
     },
     "output_type": "display_data"
    }
   ],
   "source": [
    "fig, ax = plt.subplots(1,2)\n",
    "ax[0].contourf(res[92,:,:,1])\n",
    "ax[1].contourf(snapshots[92, :, :, 1])"
   ]
  },
  {
   "cell_type": "code",
   "execution_count": 11,
   "id": "7d70f039",
   "metadata": {},
   "outputs": [],
   "source": [
    "# Reshape to how reconstruction legacy code wants it\n",
    "reconstruction = res.reshape((4, 2000, 55, 42, 2)).swapaxes(1, 4)\n",
    "np.save(\"reconstruction.npy\", reconstruction)"
   ]
  },
  {
   "cell_type": "markdown",
   "id": "ebd75e7f",
   "metadata": {},
   "source": [
    "### Our dataset (221x42)"
   ]
  },
  {
   "cell_type": "code",
   "execution_count": 2,
   "id": "a9d4a062",
   "metadata": {},
   "outputs": [
    {
     "name": "stdout",
     "output_type": "stream",
     "text": [
      "(1000, 221, 42, 2)\n"
     ]
    }
   ],
   "source": [
    "# Data processing\n",
    "snapshots_grids = np.load(\"./../submodules/DD-GAN/data/processed/snaphsots_field_Velocity_1_1000steps.npy\")\n",
    "\n",
    "input_shape = (221, 42, 2)\n",
    "snapshots = convert_2d(snapshots_grids, input_shape, 1000)\n",
    "snapshots = np.array(snapshots).reshape(1000, *input_shape)\n",
    "print(snapshots.shape)\n",
    "\n",
    "from sklearn.model_selection import train_test_split\n",
    "\n",
    "x_train, x_val = train_test_split(snapshots, test_size=0.1)"
   ]
  },
  {
   "cell_type": "code",
   "execution_count": 3,
   "id": "ac127684",
   "metadata": {},
   "outputs": [
    {
     "name": "stdout",
     "output_type": "stream",
     "text": [
      "Model: \"sequential\"\n",
      "_________________________________________________________________\n",
      "Layer (type)                 Output Shape              Param #   \n",
      "=================================================================\n",
      "conv2d (Conv2D)              (None, 221, 42, 16)       816       \n",
      "_________________________________________________________________\n",
      "max_pooling2d (MaxPooling2D) (None, 111, 21, 16)       0         \n",
      "_________________________________________________________________\n",
      "conv2d_1 (Conv2D)            (None, 111, 21, 32)       4640      \n",
      "_________________________________________________________________\n",
      "max_pooling2d_1 (MaxPooling2 (None, 56, 11, 32)        0         \n",
      "_________________________________________________________________\n",
      "conv2d_2 (Conv2D)            (None, 56, 11, 64)        18496     \n",
      "_________________________________________________________________\n",
      "max_pooling2d_2 (MaxPooling2 (None, 28, 6, 64)         0         \n",
      "_________________________________________________________________\n",
      "flatten (Flatten)            (None, 10752)             0         \n",
      "_________________________________________________________________\n",
      "dense (Dense)                (None, 10)                107530    \n",
      "=================================================================\n",
      "Total params: 131,482\n",
      "Trainable params: 131,482\n",
      "Non-trainable params: 0\n",
      "_________________________________________________________________\n",
      "None\n",
      "Model: \"sequential_1\"\n",
      "_________________________________________________________________\n",
      "Layer (type)                 Output Shape              Param #   \n",
      "=================================================================\n",
      "dense_1 (Dense)              (None, 9856)              108416    \n",
      "_________________________________________________________________\n",
      "reshape (Reshape)            (None, 56, 11, 16)        0         \n",
      "_________________________________________________________________\n",
      "conv2d_3 (Conv2D)            (None, 56, 11, 64)        9280      \n",
      "_________________________________________________________________\n",
      "up_sampling2d (UpSampling2D) (None, 112, 22, 64)       0         \n",
      "_________________________________________________________________\n",
      "conv2d_4 (Conv2D)            (None, 112, 22, 32)       18464     \n",
      "_________________________________________________________________\n",
      "up_sampling2d_1 (UpSampling2 (None, 224, 44, 32)       0         \n",
      "_________________________________________________________________\n",
      "conv2d_5 (Conv2D)            (None, 224, 44, 16)       12816     \n",
      "_________________________________________________________________\n",
      "conv2d_6 (Conv2D)            (None, 224, 44, 2)        290       \n",
      "_________________________________________________________________\n",
      "cropping2d (Cropping2D)      (None, 221, 42, 2)        0         \n",
      "=================================================================\n",
      "Total params: 149,266\n",
      "Trainable params: 149,266\n",
      "Non-trainable params: 0\n",
      "_________________________________________________________________\n",
      "None\n"
     ]
    }
   ],
   "source": [
    "initializer = tf.keras.initializers.RandomNormal(mean=0.0, stddev=0.05, seed=None)\n",
    "optimizer = tf.keras.optimizers.Nadam(lr=0.01, beta_1=0.9, beta_2=0.999)\n",
    "\n",
    "encoder, decoder = build_agostini_encoder_decoder(input_shape, 10, initializer, info=True)\n",
    "\n",
    "cae = CAE(encoder, decoder, optimizer)\n",
    "cae.compile(input_shape)"
   ]
  },
  {
   "cell_type": "code",
   "execution_count": 7,
   "id": "c9b1a9a7",
   "metadata": {},
   "outputs": [
    {
     "ename": "TypeError",
     "evalue": "train() got an unexpected keyword argument 'plot_loss'",
     "output_type": "error",
     "traceback": [
      "\u001b[0;31m---------------------------------------------------------------------------\u001b[0m",
      "\u001b[0;31mTypeError\u001b[0m                                 Traceback (most recent call last)",
      "\u001b[0;32m<ipython-input-7-0e74f0fb3726>\u001b[0m in \u001b[0;36m<module>\u001b[0;34m\u001b[0m\n\u001b[0;32m----> 1\u001b[0;31m \u001b[0mcae\u001b[0m\u001b[0;34m.\u001b[0m\u001b[0mtrain\u001b[0m\u001b[0;34m(\u001b[0m\u001b[0mx_train\u001b[0m\u001b[0;34m,\u001b[0m \u001b[0;36m200\u001b[0m\u001b[0;34m,\u001b[0m \u001b[0mx_val\u001b[0m\u001b[0;34m,\u001b[0m \u001b[0mplot_loss\u001b[0m\u001b[0;34m=\u001b[0m\u001b[0;32mTrue\u001b[0m\u001b[0;34m,\u001b[0m \u001b[0mprint_loss\u001b[0m\u001b[0;34m=\u001b[0m\u001b[0;32mTrue\u001b[0m\u001b[0;34m)\u001b[0m\u001b[0;34m\u001b[0m\u001b[0;34m\u001b[0m\u001b[0m\n\u001b[0m",
      "\u001b[0;31mTypeError\u001b[0m: train() got an unexpected keyword argument 'plot_loss'"
     ]
    }
   ],
   "source": [
    "cae.train(x_train, 200, x_val, plot_loss=True, print_loss=True)"
   ]
  },
  {
   "cell_type": "markdown",
   "id": "6a65e2bb",
   "metadata": {},
   "source": [
    "# Adversarial Autoencoder"
   ]
  },
  {
   "cell_type": "code",
   "execution_count": 2,
   "id": "2d3c0e0b",
   "metadata": {},
   "outputs": [],
   "source": [
    "# Data processing\n",
    "snapshots_grids = np.load(\"./../submodules/DD-GAN/data/processed/snaphsots_field_Velocity_new_4_2000steps.npy\")\n",
    "\n",
    "input_shape = (55, 42, 2)\n",
    "snapshots = convert_2d(snapshots_grids, input_shape, 2000)\n",
    "snapshots = np.array(snapshots).reshape(8000, *input_shape)\n",
    "snapshots.shape\n",
    "\n",
    "from sklearn.model_selection import train_test_split\n",
    "\n",
    "# Data normalization\n",
    "layer = preprocessing.Normalization()\n",
    "layer.adapt(snapshots)\n",
    "\n",
    "x_train, x_val = train_test_split(snapshots, test_size=0.1)"
   ]
  },
  {
   "cell_type": "code",
   "execution_count": 3,
   "id": "23ceacd5",
   "metadata": {},
   "outputs": [
    {
     "name": "stdout",
     "output_type": "stream",
     "text": [
      "Model: \"sequential\"\n",
      "_________________________________________________________________\n",
      "Layer (type)                 Output Shape              Param #   \n",
      "=================================================================\n",
      "conv2d (Conv2D)              (None, 55, 42, 16)        816       \n",
      "_________________________________________________________________\n",
      "max_pooling2d (MaxPooling2D) (None, 28, 21, 16)        0         \n",
      "_________________________________________________________________\n",
      "conv2d_1 (Conv2D)            (None, 28, 21, 32)        4640      \n",
      "_________________________________________________________________\n",
      "max_pooling2d_1 (MaxPooling2 (None, 14, 11, 32)        0         \n",
      "_________________________________________________________________\n",
      "conv2d_2 (Conv2D)            (None, 14, 11, 64)        18496     \n",
      "_________________________________________________________________\n",
      "max_pooling2d_2 (MaxPooling2 (None, 7, 6, 64)          0         \n",
      "_________________________________________________________________\n",
      "flatten (Flatten)            (None, 2688)              0         \n",
      "_________________________________________________________________\n",
      "dense (Dense)                (None, 10)                26890     \n",
      "=================================================================\n",
      "Total params: 50,842\n",
      "Trainable params: 50,842\n",
      "Non-trainable params: 0\n",
      "_________________________________________________________________\n",
      "None\n",
      "Model: \"sequential_1\"\n",
      "_________________________________________________________________\n",
      "Layer (type)                 Output Shape              Param #   \n",
      "=================================================================\n",
      "dense_1 (Dense)              (None, 2688)              29568     \n",
      "_________________________________________________________________\n",
      "reshape (Reshape)            (None, 7, 6, 64)          0         \n",
      "_________________________________________________________________\n",
      "conv2d_3 (Conv2D)            (None, 7, 6, 64)          36928     \n",
      "_________________________________________________________________\n",
      "up_sampling2d (UpSampling2D) (None, 14, 12, 64)        0         \n",
      "_________________________________________________________________\n",
      "conv2d_4 (Conv2D)            (None, 14, 12, 32)        18464     \n",
      "_________________________________________________________________\n",
      "up_sampling2d_1 (UpSampling2 (None, 28, 24, 32)        0         \n",
      "_________________________________________________________________\n",
      "conv2d_5 (Conv2D)            (None, 28, 24, 16)        12816     \n",
      "_________________________________________________________________\n",
      "up_sampling2d_2 (UpSampling2 (None, 56, 48, 16)        0         \n",
      "_________________________________________________________________\n",
      "conv2d_6 (Conv2D)            (None, 56, 48, 2)         290       \n",
      "_________________________________________________________________\n",
      "cropping2d (Cropping2D)      (None, 55, 42, 2)         0         \n",
      "=================================================================\n",
      "Total params: 98,066\n",
      "Trainable params: 98,066\n",
      "Non-trainable params: 0\n",
      "_________________________________________________________________\n",
      "None\n",
      "Model: \"sequential_2\"\n",
      "_________________________________________________________________\n",
      "Layer (type)                 Output Shape              Param #   \n",
      "=================================================================\n",
      "dense_2 (Dense)              (None, 100)               1100      \n",
      "_________________________________________________________________\n",
      "dense_3 (Dense)              (None, 500)               50500     \n",
      "_________________________________________________________________\n",
      "dense_4 (Dense)              (None, 1)                 501       \n",
      "=================================================================\n",
      "Total params: 52,101\n",
      "Trainable params: 52,101\n",
      "Non-trainable params: 0\n",
      "_________________________________________________________________\n",
      "None\n"
     ]
    }
   ],
   "source": [
    "initializer = tf.keras.initializers.RandomNormal(mean=0.0, stddev=0.05, seed=None)\n",
    "optimizer = tf.keras.optimizers.Nadam(lr=0.0001, beta_1=0.9, beta_2=0.999)\n",
    "\n",
    "encoder, decoder = build_wider_omata_encoder_decoder(input_shape, 10, initializer, info=True)\n",
    "discriminator = build_custom_discriminator(10, initializer, info=True)"
   ]
  },
  {
   "cell_type": "markdown",
   "id": "0c03c3c6",
   "metadata": {},
   "source": [
    "### Separate losses"
   ]
  },
  {
   "cell_type": "code",
   "execution_count": 4,
   "id": "6004daea",
   "metadata": {},
   "outputs": [
    {
     "ename": "KeyboardInterrupt",
     "evalue": "",
     "output_type": "error",
     "traceback": [
      "\u001b[0;31m---------------------------------------------------------------------------\u001b[0m",
      "\u001b[0;31mKeyboardInterrupt\u001b[0m                         Traceback (most recent call last)",
      "\u001b[0;32m<ipython-input-4-6ecedc168cff>\u001b[0m in \u001b[0;36m<module>\u001b[0;34m\u001b[0m\n\u001b[1;32m      1\u001b[0m \u001b[0maae\u001b[0m \u001b[0;34m=\u001b[0m \u001b[0mAAE\u001b[0m\u001b[0;34m(\u001b[0m\u001b[0mencoder\u001b[0m\u001b[0;34m,\u001b[0m \u001b[0mdecoder\u001b[0m\u001b[0;34m,\u001b[0m \u001b[0mdiscriminator\u001b[0m\u001b[0;34m,\u001b[0m \u001b[0moptimizer\u001b[0m\u001b[0;34m)\u001b[0m\u001b[0;34m\u001b[0m\u001b[0;34m\u001b[0m\u001b[0m\n\u001b[1;32m      2\u001b[0m \u001b[0maae\u001b[0m\u001b[0;34m.\u001b[0m\u001b[0mcompile\u001b[0m\u001b[0;34m(\u001b[0m\u001b[0minput_shape\u001b[0m\u001b[0;34m)\u001b[0m\u001b[0;34m\u001b[0m\u001b[0;34m\u001b[0m\u001b[0m\n\u001b[0;32m----> 3\u001b[0;31m \u001b[0maae\u001b[0m\u001b[0;34m.\u001b[0m\u001b[0mtrain\u001b[0m\u001b[0;34m(\u001b[0m\u001b[0mx_train\u001b[0m\u001b[0;34m,\u001b[0m \u001b[0;36m100\u001b[0m\u001b[0;34m,\u001b[0m \u001b[0mval_data\u001b[0m\u001b[0;34m=\u001b[0m\u001b[0mx_val\u001b[0m\u001b[0;34m)\u001b[0m\u001b[0;34m\u001b[0m\u001b[0;34m\u001b[0m\u001b[0m\n\u001b[0m",
      "\u001b[0;32m~/Documents/master/acse-9/DD-GAN-AE/ddganAE/models/aae.py\u001b[0m in \u001b[0;36mtrain\u001b[0;34m(self, train_data, epochs, val_data, batch_size, val_batch_size, wandb_log)\u001b[0m\n\u001b[1;32m     99\u001b[0m             \u001b[0;32mfor\u001b[0m \u001b[0mstep\u001b[0m\u001b[0;34m,\u001b[0m \u001b[0mgrids\u001b[0m \u001b[0;32min\u001b[0m \u001b[0menumerate\u001b[0m\u001b[0;34m(\u001b[0m\u001b[0mtrain_dataset\u001b[0m\u001b[0;34m)\u001b[0m\u001b[0;34m:\u001b[0m\u001b[0;34m\u001b[0m\u001b[0;34m\u001b[0m\u001b[0m\n\u001b[1;32m    100\u001b[0m                 \u001b[0;31m# Train the autoencoder reconstruction\u001b[0m\u001b[0;34m\u001b[0m\u001b[0;34m\u001b[0m\u001b[0;34m\u001b[0m\u001b[0m\n\u001b[0;32m--> 101\u001b[0;31m                 \u001b[0mloss\u001b[0m\u001b[0;34m,\u001b[0m \u001b[0macc\u001b[0m \u001b[0;34m=\u001b[0m \u001b[0mself\u001b[0m\u001b[0;34m.\u001b[0m\u001b[0mautoencoder\u001b[0m\u001b[0;34m.\u001b[0m\u001b[0mtrain_on_batch\u001b[0m\u001b[0;34m(\u001b[0m\u001b[0mgrids\u001b[0m\u001b[0;34m,\u001b[0m \u001b[0mgrids\u001b[0m\u001b[0;34m)\u001b[0m\u001b[0;34m\u001b[0m\u001b[0;34m\u001b[0m\u001b[0m\n\u001b[0m\u001b[1;32m    102\u001b[0m                 \u001b[0mloss_cum\u001b[0m \u001b[0;34m+=\u001b[0m \u001b[0mloss\u001b[0m\u001b[0;34m\u001b[0m\u001b[0;34m\u001b[0m\u001b[0m\n\u001b[1;32m    103\u001b[0m                 \u001b[0macc_cum\u001b[0m \u001b[0;34m+=\u001b[0m \u001b[0macc\u001b[0m\u001b[0;34m\u001b[0m\u001b[0;34m\u001b[0m\u001b[0m\n",
      "\u001b[0;32m~/miniconda3/envs/acse-9/lib/python3.8/site-packages/tensorflow/python/keras/engine/training.py\u001b[0m in \u001b[0;36mtrain_on_batch\u001b[0;34m(self, x, y, sample_weight, class_weight, reset_metrics, return_dict)\u001b[0m\n\u001b[1;32m   1725\u001b[0m                                                     class_weight)\n\u001b[1;32m   1726\u001b[0m       \u001b[0mself\u001b[0m\u001b[0;34m.\u001b[0m\u001b[0mtrain_function\u001b[0m \u001b[0;34m=\u001b[0m \u001b[0mself\u001b[0m\u001b[0;34m.\u001b[0m\u001b[0mmake_train_function\u001b[0m\u001b[0;34m(\u001b[0m\u001b[0;34m)\u001b[0m\u001b[0;34m\u001b[0m\u001b[0;34m\u001b[0m\u001b[0m\n\u001b[0;32m-> 1727\u001b[0;31m       \u001b[0mlogs\u001b[0m \u001b[0;34m=\u001b[0m \u001b[0mself\u001b[0m\u001b[0;34m.\u001b[0m\u001b[0mtrain_function\u001b[0m\u001b[0;34m(\u001b[0m\u001b[0miterator\u001b[0m\u001b[0;34m)\u001b[0m\u001b[0;34m\u001b[0m\u001b[0;34m\u001b[0m\u001b[0m\n\u001b[0m\u001b[1;32m   1728\u001b[0m \u001b[0;34m\u001b[0m\u001b[0m\n\u001b[1;32m   1729\u001b[0m     \u001b[0;32mif\u001b[0m \u001b[0mreset_metrics\u001b[0m\u001b[0;34m:\u001b[0m\u001b[0;34m\u001b[0m\u001b[0;34m\u001b[0m\u001b[0m\n",
      "\u001b[0;32m~/miniconda3/envs/acse-9/lib/python3.8/site-packages/tensorflow/python/eager/def_function.py\u001b[0m in \u001b[0;36m__call__\u001b[0;34m(self, *args, **kwds)\u001b[0m\n\u001b[1;32m    826\u001b[0m     \u001b[0mtracing_count\u001b[0m \u001b[0;34m=\u001b[0m \u001b[0mself\u001b[0m\u001b[0;34m.\u001b[0m\u001b[0mexperimental_get_tracing_count\u001b[0m\u001b[0;34m(\u001b[0m\u001b[0;34m)\u001b[0m\u001b[0;34m\u001b[0m\u001b[0;34m\u001b[0m\u001b[0m\n\u001b[1;32m    827\u001b[0m     \u001b[0;32mwith\u001b[0m \u001b[0mtrace\u001b[0m\u001b[0;34m.\u001b[0m\u001b[0mTrace\u001b[0m\u001b[0;34m(\u001b[0m\u001b[0mself\u001b[0m\u001b[0;34m.\u001b[0m\u001b[0m_name\u001b[0m\u001b[0;34m)\u001b[0m \u001b[0;32mas\u001b[0m \u001b[0mtm\u001b[0m\u001b[0;34m:\u001b[0m\u001b[0;34m\u001b[0m\u001b[0;34m\u001b[0m\u001b[0m\n\u001b[0;32m--> 828\u001b[0;31m       \u001b[0mresult\u001b[0m \u001b[0;34m=\u001b[0m \u001b[0mself\u001b[0m\u001b[0;34m.\u001b[0m\u001b[0m_call\u001b[0m\u001b[0;34m(\u001b[0m\u001b[0;34m*\u001b[0m\u001b[0margs\u001b[0m\u001b[0;34m,\u001b[0m \u001b[0;34m**\u001b[0m\u001b[0mkwds\u001b[0m\u001b[0;34m)\u001b[0m\u001b[0;34m\u001b[0m\u001b[0;34m\u001b[0m\u001b[0m\n\u001b[0m\u001b[1;32m    829\u001b[0m       \u001b[0mcompiler\u001b[0m \u001b[0;34m=\u001b[0m \u001b[0;34m\"xla\"\u001b[0m \u001b[0;32mif\u001b[0m \u001b[0mself\u001b[0m\u001b[0;34m.\u001b[0m\u001b[0m_experimental_compile\u001b[0m \u001b[0;32melse\u001b[0m \u001b[0;34m\"nonXla\"\u001b[0m\u001b[0;34m\u001b[0m\u001b[0;34m\u001b[0m\u001b[0m\n\u001b[1;32m    830\u001b[0m       \u001b[0mnew_tracing_count\u001b[0m \u001b[0;34m=\u001b[0m \u001b[0mself\u001b[0m\u001b[0;34m.\u001b[0m\u001b[0mexperimental_get_tracing_count\u001b[0m\u001b[0;34m(\u001b[0m\u001b[0;34m)\u001b[0m\u001b[0;34m\u001b[0m\u001b[0;34m\u001b[0m\u001b[0m\n",
      "\u001b[0;32m~/miniconda3/envs/acse-9/lib/python3.8/site-packages/tensorflow/python/eager/def_function.py\u001b[0m in \u001b[0;36m_call\u001b[0;34m(self, *args, **kwds)\u001b[0m\n\u001b[1;32m    853\u001b[0m       \u001b[0;31m# In this case we have created variables on the first call, so we run the\u001b[0m\u001b[0;34m\u001b[0m\u001b[0;34m\u001b[0m\u001b[0;34m\u001b[0m\u001b[0m\n\u001b[1;32m    854\u001b[0m       \u001b[0;31m# defunned version which is guaranteed to never create variables.\u001b[0m\u001b[0;34m\u001b[0m\u001b[0;34m\u001b[0m\u001b[0;34m\u001b[0m\u001b[0m\n\u001b[0;32m--> 855\u001b[0;31m       \u001b[0;32mreturn\u001b[0m \u001b[0mself\u001b[0m\u001b[0;34m.\u001b[0m\u001b[0m_stateless_fn\u001b[0m\u001b[0;34m(\u001b[0m\u001b[0;34m*\u001b[0m\u001b[0margs\u001b[0m\u001b[0;34m,\u001b[0m \u001b[0;34m**\u001b[0m\u001b[0mkwds\u001b[0m\u001b[0;34m)\u001b[0m  \u001b[0;31m# pylint: disable=not-callable\u001b[0m\u001b[0;34m\u001b[0m\u001b[0;34m\u001b[0m\u001b[0m\n\u001b[0m\u001b[1;32m    856\u001b[0m     \u001b[0;32melif\u001b[0m \u001b[0mself\u001b[0m\u001b[0;34m.\u001b[0m\u001b[0m_stateful_fn\u001b[0m \u001b[0;32mis\u001b[0m \u001b[0;32mnot\u001b[0m \u001b[0;32mNone\u001b[0m\u001b[0;34m:\u001b[0m\u001b[0;34m\u001b[0m\u001b[0;34m\u001b[0m\u001b[0m\n\u001b[1;32m    857\u001b[0m       \u001b[0;31m# Release the lock early so that multiple threads can perform the call\u001b[0m\u001b[0;34m\u001b[0m\u001b[0;34m\u001b[0m\u001b[0;34m\u001b[0m\u001b[0m\n",
      "\u001b[0;32m~/miniconda3/envs/acse-9/lib/python3.8/site-packages/tensorflow/python/eager/function.py\u001b[0m in \u001b[0;36m__call__\u001b[0;34m(self, *args, **kwargs)\u001b[0m\n\u001b[1;32m   2940\u001b[0m       (graph_function,\n\u001b[1;32m   2941\u001b[0m        filtered_flat_args) = self._maybe_define_function(args, kwargs)\n\u001b[0;32m-> 2942\u001b[0;31m     return graph_function._call_flat(\n\u001b[0m\u001b[1;32m   2943\u001b[0m         filtered_flat_args, captured_inputs=graph_function.captured_inputs)  # pylint: disable=protected-access\n\u001b[1;32m   2944\u001b[0m \u001b[0;34m\u001b[0m\u001b[0m\n",
      "\u001b[0;32m~/miniconda3/envs/acse-9/lib/python3.8/site-packages/tensorflow/python/eager/function.py\u001b[0m in \u001b[0;36m_call_flat\u001b[0;34m(self, args, captured_inputs, cancellation_manager)\u001b[0m\n\u001b[1;32m   1916\u001b[0m         and executing_eagerly):\n\u001b[1;32m   1917\u001b[0m       \u001b[0;31m# No tape is watching; skip to running the function.\u001b[0m\u001b[0;34m\u001b[0m\u001b[0;34m\u001b[0m\u001b[0;34m\u001b[0m\u001b[0m\n\u001b[0;32m-> 1918\u001b[0;31m       return self._build_call_outputs(self._inference_function.call(\n\u001b[0m\u001b[1;32m   1919\u001b[0m           ctx, args, cancellation_manager=cancellation_manager))\n\u001b[1;32m   1920\u001b[0m     forward_backward = self._select_forward_and_backward_functions(\n",
      "\u001b[0;32m~/miniconda3/envs/acse-9/lib/python3.8/site-packages/tensorflow/python/eager/function.py\u001b[0m in \u001b[0;36mcall\u001b[0;34m(self, ctx, args, cancellation_manager)\u001b[0m\n\u001b[1;32m    553\u001b[0m       \u001b[0;32mwith\u001b[0m \u001b[0m_InterpolateFunctionError\u001b[0m\u001b[0;34m(\u001b[0m\u001b[0mself\u001b[0m\u001b[0;34m)\u001b[0m\u001b[0;34m:\u001b[0m\u001b[0;34m\u001b[0m\u001b[0;34m\u001b[0m\u001b[0m\n\u001b[1;32m    554\u001b[0m         \u001b[0;32mif\u001b[0m \u001b[0mcancellation_manager\u001b[0m \u001b[0;32mis\u001b[0m \u001b[0;32mNone\u001b[0m\u001b[0;34m:\u001b[0m\u001b[0;34m\u001b[0m\u001b[0;34m\u001b[0m\u001b[0m\n\u001b[0;32m--> 555\u001b[0;31m           outputs = execute.execute(\n\u001b[0m\u001b[1;32m    556\u001b[0m               \u001b[0mstr\u001b[0m\u001b[0;34m(\u001b[0m\u001b[0mself\u001b[0m\u001b[0;34m.\u001b[0m\u001b[0msignature\u001b[0m\u001b[0;34m.\u001b[0m\u001b[0mname\u001b[0m\u001b[0;34m)\u001b[0m\u001b[0;34m,\u001b[0m\u001b[0;34m\u001b[0m\u001b[0;34m\u001b[0m\u001b[0m\n\u001b[1;32m    557\u001b[0m               \u001b[0mnum_outputs\u001b[0m\u001b[0;34m=\u001b[0m\u001b[0mself\u001b[0m\u001b[0;34m.\u001b[0m\u001b[0m_num_outputs\u001b[0m\u001b[0;34m,\u001b[0m\u001b[0;34m\u001b[0m\u001b[0;34m\u001b[0m\u001b[0m\n",
      "\u001b[0;32m~/miniconda3/envs/acse-9/lib/python3.8/site-packages/tensorflow/python/eager/execute.py\u001b[0m in \u001b[0;36mquick_execute\u001b[0;34m(op_name, num_outputs, inputs, attrs, ctx, name)\u001b[0m\n\u001b[1;32m     57\u001b[0m   \u001b[0;32mtry\u001b[0m\u001b[0;34m:\u001b[0m\u001b[0;34m\u001b[0m\u001b[0;34m\u001b[0m\u001b[0m\n\u001b[1;32m     58\u001b[0m     \u001b[0mctx\u001b[0m\u001b[0;34m.\u001b[0m\u001b[0mensure_initialized\u001b[0m\u001b[0;34m(\u001b[0m\u001b[0;34m)\u001b[0m\u001b[0;34m\u001b[0m\u001b[0;34m\u001b[0m\u001b[0m\n\u001b[0;32m---> 59\u001b[0;31m     tensors = pywrap_tfe.TFE_Py_Execute(ctx._handle, device_name, op_name,\n\u001b[0m\u001b[1;32m     60\u001b[0m                                         inputs, attrs, num_outputs)\n\u001b[1;32m     61\u001b[0m   \u001b[0;32mexcept\u001b[0m \u001b[0mcore\u001b[0m\u001b[0;34m.\u001b[0m\u001b[0m_NotOkStatusException\u001b[0m \u001b[0;32mas\u001b[0m \u001b[0me\u001b[0m\u001b[0;34m:\u001b[0m\u001b[0;34m\u001b[0m\u001b[0;34m\u001b[0m\u001b[0m\n",
      "\u001b[0;31mKeyboardInterrupt\u001b[0m: "
     ]
    }
   ],
   "source": [
    "aae = AAE(encoder, decoder, discriminator, optimizer)\n",
    "aae.compile(input_shape)\n",
    "aae.train(x_train, 100, val_data=x_val)"
   ]
  },
  {
   "cell_type": "markdown",
   "id": "d452c1f5",
   "metadata": {},
   "source": [
    "### Combined losses"
   ]
  },
  {
   "cell_type": "code",
   "execution_count": 4,
   "id": "04f876f0",
   "metadata": {},
   "outputs": [
    {
     "name": "stdout",
     "output_type": "stream",
     "text": [
      "4/4 [==============================] - 0s 14ms/step - loss: 0.5642 - accuracy: 1.0000\n",
      "4/4 [==============================] - 0s 4ms/step - loss: 0.6931 - accuracy: 0.8281\n",
      "4/4 [==============================] - 1s 58ms/step - loss: 0.0032 - sequential_1_loss: 0.0025 - sequential_2_loss: 0.6932\n",
      "4/4 [==============================] - 0s 4ms/step - loss: 0.5627 - accuracy: 1.0000\n",
      "4/4 [==============================] - 0s 4ms/step - loss: 0.6930 - accuracy: 0.9062\n",
      "4/4 [==============================] - 0s 60ms/step - loss: 0.0036 - sequential_1_loss: 0.0029 - sequential_2_loss: 0.6933\n",
      "4/4 [==============================] - 0s 2ms/step - loss: 0.5598 - accuracy: 1.0000\n",
      "4/4 [==============================] - 0s 4ms/step - loss: 0.6930 - accuracy: 0.9297\n",
      "4/4 [==============================] - 0s 55ms/step - loss: 0.0035 - sequential_1_loss: 0.0028 - sequential_2_loss: 0.6933\n",
      "4/4 [==============================] - 0s 2ms/step - loss: 0.4231 - accuracy: 0.9844\n",
      "4/4 [==============================] - 0s 7ms/step - loss: 0.4541 - accuracy: 1.0000\n",
      "4/4 [==============================] - 0s 29ms/step - loss: 0.0019 - sequential_1_loss: 9.0854e-04 - sequential_2_loss: 1.0188\n",
      "4/4 [==============================] - 0s 4ms/step - loss: 0.4293 - accuracy: 0.9609\n",
      "4/4 [==============================] - 0s 4ms/step - loss: 0.4504 - accuracy: 1.0000\n",
      "4/4 [==============================] - 0s 49ms/step - loss: 0.0020 - sequential_1_loss: 9.4442e-04 - sequential_2_loss: 1.0252\n",
      "4/4 [==============================] - 0s 6ms/step - loss: 0.4293 - accuracy: 0.9766\n",
      "4/4 [==============================] - 0s 5ms/step - loss: 0.4457 - accuracy: 1.0000\n",
      "4/4 [==============================] - 0s 48ms/step - loss: 0.0021 - sequential_1_loss: 0.0010 - sequential_2_loss: 1.0342\n",
      "4/4 [==============================] - 0s 5ms/step - loss: 0.2851 - accuracy: 0.9766\n",
      "4/4 [==============================] - 0s 4ms/step - loss: 0.2804 - accuracy: 1.0000\n",
      "4/4 [==============================] - 0s 63ms/step - loss: 0.0024 - sequential_1_loss: 9.1384e-04 - sequential_2_loss: 1.4574\n",
      "4/4 [==============================] - 0s 5ms/step - loss: 0.2637 - accuracy: 0.9844\n",
      "4/4 [==============================] - 0s 4ms/step - loss: 0.2855 - accuracy: 1.0000\n",
      "4/4 [==============================] - 0s 22ms/step - loss: 0.0023 - sequential_1_loss: 8.6985e-04 - sequential_2_loss: 1.4406\n",
      "4/4 [==============================] - 0s 4ms/step - loss: 0.2634 - accuracy: 0.9922\n",
      "4/4 [==============================] - 0s 918us/step - loss: 0.2667 - accuracy: 1.0000\n",
      "4/4 [==============================] - 0s 47ms/step - loss: 0.0025 - sequential_1_loss: 9.6394e-04 - sequential_2_loss: 1.4984\n",
      "4/4 [==============================] - 0s 4ms/step - loss: 0.1455 - accuracy: 1.0000\n",
      "4/4 [==============================] - 0s 2ms/step - loss: 0.1953 - accuracy: 1.0000\n",
      "4/4 [==============================] - 0s 89ms/step - loss: 0.0026 - sequential_1_loss: 8.2940e-04 - sequential_2_loss: 1.8104\n",
      "4/4 [==============================] - 0s 2ms/step - loss: 0.1547 - accuracy: 1.0000\n",
      "4/4 [==============================] - 0s 6ms/step - loss: 0.1778 - accuracy: 1.0000\n",
      "4/4 [==============================] - 0s 40ms/step - loss: 0.0029 - sequential_1_loss: 9.8895e-04 - sequential_2_loss: 1.9021\n",
      "4/4 [==============================] - 0s 2ms/step - loss: 0.1502 - accuracy: 0.9922\n",
      "4/4 [==============================] - 0s 5ms/step - loss: 0.1954 - accuracy: 1.0000\n",
      "4/4 [==============================] - 0s 71ms/step - loss: 0.0027 - sequential_1_loss: 8.7646e-04 - sequential_2_loss: 1.8187\n",
      "4/4 [==============================] - 0s 2ms/step - loss: 0.1058 - accuracy: 0.9844\n",
      "4/4 [==============================] - 0s 6ms/step - loss: 0.1548 - accuracy: 1.0000\n",
      "4/4 [==============================] - 0s 49ms/step - loss: 0.0029 - sequential_1_loss: 8.8342e-04 - sequential_2_loss: 2.0359\n",
      "4/4 [==============================] - 0s 2ms/step - loss: 0.1052 - accuracy: 1.0000\n",
      "4/4 [==============================] - 0s 2ms/step - loss: 0.1416 - accuracy: 1.0000\n",
      "4/4 [==============================] - 0s 70ms/step - loss: 0.0031 - sequential_1_loss: 9.7617e-04 - sequential_2_loss: 2.1155\n",
      "4/4 [==============================] - 0s 6ms/step - loss: 0.1069 - accuracy: 0.9844\n",
      "4/4 [==============================] - 0s 4ms/step - loss: 0.1578 - accuracy: 1.0000\n",
      "4/4 [==============================] - 0s 54ms/step - loss: 0.0029 - sequential_1_loss: 8.8431e-04 - sequential_2_loss: 2.0201\n",
      "4/4 [==============================] - 0s 2ms/step - loss: 0.0558 - accuracy: 1.0000\n",
      "4/4 [==============================] - 0s 5ms/step - loss: 0.1405 - accuracy: 1.0000\n",
      "4/4 [==============================] - 0s 46ms/step - loss: 0.0031 - sequential_1_loss: 9.4398e-04 - sequential_2_loss: 2.1072\n",
      "4/4 [==============================] - 0s 3ms/step - loss: 0.0967 - accuracy: 0.9688\n",
      "4/4 [==============================] - 0s 4ms/step - loss: 0.1442 - accuracy: 1.0000\n",
      "4/4 [==============================] - 0s 33ms/step - loss: 0.0030 - sequential_1_loss: 8.9236e-04 - sequential_2_loss: 2.0769\n",
      "4/4 [==============================] - 0s 5ms/step - loss: 0.0630 - accuracy: 0.9922\n",
      "4/4 [==============================] - 0s 4ms/step - loss: 0.1372 - accuracy: 1.0000\n",
      "4/4 [==============================] - 0s 45ms/step - loss: 0.0030 - sequential_1_loss: 9.2488e-04 - sequential_2_loss: 2.1217\n",
      "4/4 [==============================] - 0s 855us/step - loss: 0.0584 - accuracy: 0.9844\n",
      "4/4 [==============================] - 0s 7ms/step - loss: 0.1442 - accuracy: 1.0000\n",
      "4/4 [==============================] - 0s 58ms/step - loss: 0.0030 - sequential_1_loss: 9.7226e-04 - sequential_2_loss: 2.0470\n",
      "4/4 [==============================] - 0s 1ms/step - loss: 0.0693 - accuracy: 0.9922\n",
      "4/4 [==============================] - 0s 6ms/step - loss: 0.1431 - accuracy: 1.0000\n",
      "4/4 [==============================] - 0s 49ms/step - loss: 0.0030 - sequential_1_loss: 9.2218e-04 - sequential_2_loss: 2.0504\n",
      "4/4 [==============================] - 0s 5ms/step - loss: 0.0632 - accuracy: 0.9922\n",
      "4/4 [==============================] - 0s 2ms/step - loss: 0.1480 - accuracy: 1.0000\n",
      "4/4 [==============================] - 0s 42ms/step - loss: 0.0029 - sequential_1_loss: 9.1522e-04 - sequential_2_loss: 2.0236\n",
      "4/4 [==============================] - 0s 2ms/step - loss: 0.0749 - accuracy: 0.9688\n",
      "4/4 [==============================] - 0s 2ms/step - loss: 0.1598 - accuracy: 1.0000\n",
      "4/4 [==============================] - 0s 74ms/step - loss: 0.0028 - sequential_1_loss: 9.2361e-04 - sequential_2_loss: 1.9241\n",
      "4/4 [==============================] - 0s 18ms/step - loss: 0.0612 - accuracy: 0.9844\n",
      "4/4 [==============================] - 0s 7ms/step - loss: 0.1613 - accuracy: 1.0000\n",
      "4/4 [==============================] - 0s 83ms/step - loss: 0.0028 - sequential_1_loss: 8.8910e-04 - sequential_2_loss: 1.9158\n",
      "4/4 [==============================] - 0s 2ms/step - loss: 0.0730 - accuracy: 0.9766\n",
      "4/4 [==============================] - 0s 2ms/step - loss: 0.1598 - accuracy: 1.0000\n",
      "4/4 [==============================] - 0s 68ms/step - loss: 0.0028 - sequential_1_loss: 8.9437e-04 - sequential_2_loss: 1.9234\n",
      "4/4 [==============================] - 0s 3ms/step - loss: 0.0715 - accuracy: 0.9688\n",
      "4/4 [==============================] - 0s 7ms/step - loss: 0.2407 - accuracy: 1.0000\n",
      "4/4 [==============================] - 0s 36ms/step - loss: 0.0024 - sequential_1_loss: 8.0889e-04 - sequential_2_loss: 1.5865\n",
      "4/4 [==============================] - 0s 5ms/step - loss: 0.0776 - accuracy: 0.9766\n",
      "4/4 [==============================] - 0s 5ms/step - loss: 0.2406 - accuracy: 1.0000\n",
      "4/4 [==============================] - 0s 55ms/step - loss: 0.0024 - sequential_1_loss: 8.2532e-04 - sequential_2_loss: 1.5866\n",
      "4/4 [==============================] - 0s 4ms/step - loss: 0.0779 - accuracy: 0.9609\n",
      "4/4 [==============================] - 0s 4ms/step - loss: 0.2288 - accuracy: 1.0000\n",
      "4/4 [==============================] - 0s 68ms/step - loss: 0.0024 - sequential_1_loss: 7.9420e-04 - sequential_2_loss: 1.6279\n",
      "4/4 [==============================] - 0s 3ms/step - loss: 0.1188 - accuracy: 0.9609\n",
      "4/4 [==============================] - 0s 13ms/step - loss: 0.2309 - accuracy: 1.0000\n",
      "4/4 [==============================] - 0s 53ms/step - loss: 0.0023 - sequential_1_loss: 5.9234e-04 - sequential_2_loss: 1.6779\n",
      "4/4 [==============================] - 0s 1ms/step - loss: 0.0705 - accuracy: 0.9688\n",
      "4/4 [==============================] - 0s 4ms/step - loss: 0.2364 - accuracy: 1.0000\n",
      "4/4 [==============================] - 0s 57ms/step - loss: 0.0023 - sequential_1_loss: 6.0832e-04 - sequential_2_loss: 1.6518\n",
      "4/4 [==============================] - 0s 4ms/step - loss: 0.0501 - accuracy: 0.9844\n",
      "4/4 [==============================] - 0s 2ms/step - loss: 0.2247 - accuracy: 1.0000\n",
      "4/4 [==============================] - 0s 64ms/step - loss: 0.0023 - sequential_1_loss: 5.6753e-04 - sequential_2_loss: 1.6945\n",
      "4/4 [==============================] - 0s 9ms/step - loss: 0.0549 - accuracy: 0.9688\n",
      "4/4 [==============================] - 0s 978us/step - loss: 0.2030 - accuracy: 1.0000\n",
      "4/4 [==============================] - 0s 47ms/step - loss: 0.0023 - sequential_1_loss: 5.1599e-04 - sequential_2_loss: 1.7619\n",
      "4/4 [==============================] - 0s 9ms/step - loss: 0.0854 - accuracy: 0.9609\n",
      "4/4 [==============================] - 0s 5ms/step - loss: 0.1754 - accuracy: 1.0000\n",
      "4/4 [==============================] - 0s 58ms/step - loss: 0.0023 - sequential_1_loss: 3.8430e-04 - sequential_2_loss: 1.8965\n",
      "4/4 [==============================] - 0s 3ms/step - loss: 0.0572 - accuracy: 0.9844\n",
      "4/4 [==============================] - 0s 10ms/step - loss: 0.1940 - accuracy: 1.0000\n",
      "4/4 [==============================] - 0s 56ms/step - loss: 0.0023 - sequential_1_loss: 4.7580e-04 - sequential_2_loss: 1.8028\n",
      "4/4 [==============================] - 0s 19ms/step - loss: 0.0362 - accuracy: 1.0000\n",
      "4/4 [==============================] - 0s 3ms/step - loss: 0.1825 - accuracy: 1.0000\n",
      "4/4 [==============================] - 0s 42ms/step - loss: 0.0023 - sequential_1_loss: 4.4478e-04 - sequential_2_loss: 1.8751\n",
      "4/4 [==============================] - 0s 2ms/step - loss: 0.0249 - accuracy: 1.0000\n",
      "4/4 [==============================] - 0s 5ms/step - loss: 0.1685 - accuracy: 1.0000\n",
      "4/4 [==============================] - 0s 61ms/step - loss: 0.0023 - sequential_1_loss: 3.8041e-04 - sequential_2_loss: 1.9461\n",
      "4/4 [==============================] - 0s 4ms/step - loss: 0.0561 - accuracy: 0.9844\n",
      "4/4 [==============================] - 0s 2ms/step - loss: 0.1836 - accuracy: 1.0000\n",
      "4/4 [==============================] - 0s 59ms/step - loss: 0.0023 - sequential_1_loss: 4.3103e-04 - sequential_2_loss: 1.8631\n",
      "4/4 [==============================] - 0s 6ms/step - loss: 0.0330 - accuracy: 0.9922\n",
      "4/4 [==============================] - 0s 6ms/step - loss: 0.1543 - accuracy: 1.0000\n",
      "4/4 [==============================] - 0s 56ms/step - loss: 0.0024 - sequential_1_loss: 3.5693e-04 - sequential_2_loss: 2.0180\n",
      "4/4 [==============================] - 0s 6ms/step - loss: 0.0256 - accuracy: 1.0000\n",
      "4/4 [==============================] - 0s 5ms/step - loss: 0.1622 - accuracy: 1.0000\n",
      "4/4 [==============================] - 0s 55ms/step - loss: 0.0024 - sequential_1_loss: 3.8931e-04 - sequential_2_loss: 1.9728\n",
      "4/4 [==============================] - 0s 5ms/step - loss: 0.0252 - accuracy: 1.0000\n",
      "4/4 [==============================] - 0s 4ms/step - loss: 0.1547 - accuracy: 1.0000\n",
      "4/4 [==============================] - 0s 15ms/step - loss: 0.0024 - sequential_1_loss: 3.6454e-04 - sequential_2_loss: 2.0269\n",
      "4/4 [==============================] - 0s 5ms/step - loss: 0.0353 - accuracy: 0.9844\n",
      "4/4 [==============================] - 0s 1ms/step - loss: 0.1364 - accuracy: 1.0000\n",
      "4/4 [==============================] - 0s 51ms/step - loss: 0.0025 - sequential_1_loss: 3.0798e-04 - sequential_2_loss: 2.1431\n",
      "4/4 [==============================] - 0s 10ms/step - loss: 0.0260 - accuracy: 0.9922\n",
      "4/4 [==============================] - 0s 4ms/step - loss: 0.1378 - accuracy: 1.0000\n",
      "4/4 [==============================] - 0s 54ms/step - loss: 0.0024 - sequential_1_loss: 3.0680e-04 - sequential_2_loss: 2.1329\n",
      "4/4 [==============================] - 0s 1ms/step - loss: 0.0216 - accuracy: 0.9922\n",
      "4/4 [==============================] - 0s 4ms/step - loss: 0.1422 - accuracy: 1.0000\n",
      "4/4 [==============================] - 0s 41ms/step - loss: 0.0024 - sequential_1_loss: 3.2822e-04 - sequential_2_loss: 2.1003\n",
      "4/4 [==============================] - 0s 7ms/step - loss: 0.0229 - accuracy: 1.0000\n",
      "4/4 [==============================] - 0s 3ms/step - loss: 0.1620 - accuracy: 1.0000\n",
      "4/4 [==============================] - 0s 51ms/step - loss: 0.0024 - sequential_1_loss: 3.1475e-04 - sequential_2_loss: 2.0382\n",
      "4/4 [==============================] - 0s 22ms/step - loss: 0.0398 - accuracy: 0.9844\n",
      "4/4 [==============================] - 0s 3ms/step - loss: 0.1586 - accuracy: 1.0000\n",
      "4/4 [==============================] - 0s 61ms/step - loss: 0.0024 - sequential_1_loss: 3.0933e-04 - sequential_2_loss: 2.0691\n",
      "4/4 [==============================] - 0s 9ms/step - loss: 0.0345 - accuracy: 0.9922\n",
      "4/4 [==============================] - 0s 5ms/step - loss: 0.1566 - accuracy: 1.0000\n",
      "4/4 [==============================] - 0s 54ms/step - loss: 0.0024 - sequential_1_loss: 3.0775e-04 - sequential_2_loss: 2.0714\n",
      "4/4 [==============================] - 0s 5ms/step - loss: 0.0601 - accuracy: 0.9844\n",
      "4/4 [==============================] - 0s 1ms/step - loss: 0.1675 - accuracy: 1.0000\n",
      "4/4 [==============================] - 0s 48ms/step - loss: 0.0023 - sequential_1_loss: 2.6409e-04 - sequential_2_loss: 2.0353\n",
      "4/4 [==============================] - 0s 11ms/step - loss: 0.0324 - accuracy: 0.9922\n",
      "4/4 [==============================] - 0s 3ms/step - loss: 0.1437 - accuracy: 1.0000\n",
      "4/4 [==============================] - 0s 45ms/step - loss: 0.0024 - sequential_1_loss: 2.3189e-04 - sequential_2_loss: 2.1889\n",
      "4/4 [==============================] - 0s 2ms/step - loss: 0.0484 - accuracy: 0.9922\n",
      "4/4 [==============================] - 0s 3ms/step - loss: 0.1609 - accuracy: 1.0000\n",
      "4/4 [==============================] - 0s 54ms/step - loss: 0.0024 - sequential_1_loss: 2.7314e-04 - sequential_2_loss: 2.0825\n",
      "4/4 [==============================] - 0s 10ms/step - loss: 0.0388 - accuracy: 0.9922\n",
      "4/4 [==============================] - 0s 6ms/step - loss: 0.1041 - accuracy: 1.0000\n",
      "4/4 [==============================] - 0s 50ms/step - loss: 0.0027 - sequential_1_loss: 2.4342e-04 - sequential_2_loss: 2.4486\n",
      "4/4 [==============================] - 0s 2ms/step - loss: 0.0501 - accuracy: 0.9922\n",
      "4/4 [==============================] - 0s 19ms/step - loss: 0.1111 - accuracy: 1.0000\n",
      "4/4 [==============================] - 0s 46ms/step - loss: 0.0026 - sequential_1_loss: 2.2877e-04 - sequential_2_loss: 2.3755\n",
      "4/4 [==============================] - 0s 2ms/step - loss: 0.0677 - accuracy: 0.9844\n",
      "4/4 [==============================] - 0s 1ms/step - loss: 0.1164 - accuracy: 1.0000\n",
      "4/4 [==============================] - 0s 41ms/step - loss: 0.0026 - sequential_1_loss: 2.4246e-04 - sequential_2_loss: 2.3285\n",
      "4/4 [==============================] - 0s 16ms/step - loss: 0.0460 - accuracy: 0.9766\n",
      "4/4 [==============================] - 0s 2ms/step - loss: 0.0720 - accuracy: 1.0000\n",
      "4/4 [==============================] - 0s 56ms/step - loss: 0.0035 - sequential_1_loss: 7.5112e-04 - sequential_2_loss: 2.7406\n",
      "4/4 [==============================] - 0s 2ms/step - loss: 0.0865 - accuracy: 0.9609\n",
      "4/4 [==============================] - 0s 1ms/step - loss: 0.0738 - accuracy: 1.0000\n",
      "4/4 [==============================] - 0s 55ms/step - loss: 0.0035 - sequential_1_loss: 7.8533e-04 - sequential_2_loss: 2.7168\n",
      "4/4 [==============================] - 0s 2ms/step - loss: 0.0800 - accuracy: 0.9688\n",
      "4/4 [==============================] - 0s 9ms/step - loss: 0.0696 - accuracy: 1.0000\n",
      "4/4 [==============================] - 0s 80ms/step - loss: 0.0035 - sequential_1_loss: 6.9395e-04 - sequential_2_loss: 2.7788\n",
      "4/4 [==============================] - 0s 5ms/step - loss: 0.0466 - accuracy: 0.9844\n",
      "4/4 [==============================] - 0s 4ms/step - loss: 0.0725 - accuracy: 1.0000\n",
      "4/4 [==============================] - 0s 45ms/step - loss: 0.0036 - sequential_1_loss: 8.3624e-04 - sequential_2_loss: 2.7681\n"
     ]
    },
    {
     "name": "stdout",
     "output_type": "stream",
     "text": [
      "4/4 [==============================] - 0s 4ms/step - loss: 0.0748 - accuracy: 0.9453\n",
      "4/4 [==============================] - 0s 7ms/step - loss: 0.0694 - accuracy: 1.0000\n",
      "4/4 [==============================] - 0s 50ms/step - loss: 0.0036 - sequential_1_loss: 7.6657e-04 - sequential_2_loss: 2.8183\n",
      "4/4 [==============================] - 0s 2ms/step - loss: 0.1322 - accuracy: 0.9688\n",
      "4/4 [==============================] - 0s 8ms/step - loss: 0.0654 - accuracy: 1.0000\n",
      "4/4 [==============================] - 0s 26ms/step - loss: 0.0036 - sequential_1_loss: 6.7638e-04 - sequential_2_loss: 2.8751\n",
      "4/4 [==============================] - 0s 12ms/step - loss: 0.0699 - accuracy: 0.9766\n",
      "4/4 [==============================] - 0s 2ms/step - loss: 0.0675 - accuracy: 1.0000\n",
      "4/4 [==============================] - 0s 60ms/step - loss: 0.0036 - sequential_1_loss: 7.5163e-04 - sequential_2_loss: 2.8392\n",
      "4/4 [==============================] - 0s 17ms/step - loss: 0.0762 - accuracy: 0.9609\n",
      "4/4 [==============================] - 0s 5ms/step - loss: 0.0753 - accuracy: 1.0000\n",
      "4/4 [==============================] - 0s 55ms/step - loss: 0.0037 - sequential_1_loss: 9.6558e-04 - sequential_2_loss: 2.7280\n",
      "4/4 [==============================] - 0s 2ms/step - loss: 0.0505 - accuracy: 0.9922\n",
      "4/4 [==============================] - 0s 19ms/step - loss: 0.0658 - accuracy: 1.0000\n",
      "4/4 [==============================] - 0s 33ms/step - loss: 0.0036 - sequential_1_loss: 7.4062e-04 - sequential_2_loss: 2.8702\n",
      "4/4 [==============================] - 0s 9ms/step - loss: 0.2849 - accuracy: 0.9141\n",
      "4/4 [==============================] - 0s 4ms/step - loss: 0.1083 - accuracy: 1.0000\n",
      "4/4 [==============================] - 0s 44ms/step - loss: 0.0033 - sequential_1_loss: 7.3748e-04 - sequential_2_loss: 2.5342\n",
      "4/4 [==============================] - 0s 4ms/step - loss: 0.2447 - accuracy: 0.9219\n",
      "4/4 [==============================] - 0s 4ms/step - loss: 0.1142 - accuracy: 1.0000\n",
      "4/4 [==============================] - 0s 40ms/step - loss: 0.0033 - sequential_1_loss: 7.8437e-04 - sequential_2_loss: 2.4771\n",
      "4/4 [==============================] - 0s 4ms/step - loss: 0.2029 - accuracy: 0.9141\n",
      "4/4 [==============================] - 0s 4ms/step - loss: 0.1129 - accuracy: 1.0000\n",
      "4/4 [==============================] - 0s 52ms/step - loss: 0.0033 - sequential_1_loss: 7.7697e-04 - sequential_2_loss: 2.4905\n",
      "4/4 [==============================] - 0s 5ms/step - loss: 0.2565 - accuracy: 0.9141\n",
      "4/4 [==============================] - 0s 2ms/step - loss: 0.1854 - accuracy: 1.0000\n",
      "4/4 [==============================] - 0s 59ms/step - loss: 0.0030 - sequential_1_loss: 8.5437e-04 - sequential_2_loss: 2.1659\n",
      "4/4 [==============================] - 0s 2ms/step - loss: 0.2908 - accuracy: 0.9062\n",
      "4/4 [==============================] - 0s 2ms/step - loss: 0.1615 - accuracy: 1.0000\n",
      "4/4 [==============================] - 0s 42ms/step - loss: 0.0030 - sequential_1_loss: 6.9871e-04 - sequential_2_loss: 2.3111\n",
      "4/4 [==============================] - 0s 2ms/step - loss: 0.4004 - accuracy: 0.8750\n",
      "4/4 [==============================] - 0s 4ms/step - loss: 0.1963 - accuracy: 1.0000\n",
      "4/4 [==============================] - 0s 44ms/step - loss: 0.0030 - sequential_1_loss: 9.0073e-04 - sequential_2_loss: 2.1219\n",
      "4/4 [==============================] - 0s 10ms/step - loss: 0.5565 - accuracy: 0.7969\n",
      "4/4 [==============================] - 0s 4ms/step - loss: 0.3323 - accuracy: 0.9766\n",
      "4/4 [==============================] - 0s 50ms/step - loss: 0.0023 - sequential_1_loss: 7.0378e-04 - sequential_2_loss: 1.5607\n",
      "4/4 [==============================] - 0s 10ms/step - loss: 0.4968 - accuracy: 0.8516\n",
      "4/4 [==============================] - 0s 2ms/step - loss: 0.3756 - accuracy: 0.9453\n",
      "4/4 [==============================] - 0s 41ms/step - loss: 0.0023 - sequential_1_loss: 8.3851e-04 - sequential_2_loss: 1.4586\n",
      "4/4 [==============================] - 0s 2ms/step - loss: 0.6029 - accuracy: 0.8125\n",
      "4/4 [==============================] - 0s 1ms/step - loss: 0.3808 - accuracy: 0.9688\n",
      "4/4 [==============================] - 0s 30ms/step - loss: 0.0023 - sequential_1_loss: 8.6432e-04 - sequential_2_loss: 1.4411\n",
      "4/4 [==============================] - 0s 1ms/step - loss: 0.6219 - accuracy: 0.7812\n",
      "4/4 [==============================] - 0s 1ms/step - loss: 0.8383 - accuracy: 0.4062\n",
      "4/4 [==============================] - 0s 60ms/step - loss: 0.0016 - sequential_1_loss: 8.8386e-04 - sequential_2_loss: 0.6690\n",
      "4/4 [==============================] - 0s 2ms/step - loss: 0.5538 - accuracy: 0.7969\n",
      "4/4 [==============================] - 0s 4ms/step - loss: 0.7838 - accuracy: 0.5156\n",
      "4/4 [==============================] - 0s 52ms/step - loss: 0.0015 - sequential_1_loss: 7.6153e-04 - sequential_2_loss: 0.7233\n",
      "4/4 [==============================] - 0s 15ms/step - loss: 0.7098 - accuracy: 0.7812\n",
      "4/4 [==============================] - 0s 5ms/step - loss: 0.7915 - accuracy: 0.4922\n",
      "4/4 [==============================] - 0s 41ms/step - loss: 0.0015 - sequential_1_loss: 7.8134e-04 - sequential_2_loss: 0.7166\n",
      "4/4 [==============================] - 0s 2ms/step - loss: 1.6443 - accuracy: 0.5000\n",
      "4/4 [==============================] - 0s 4ms/step - loss: 1.5710 - accuracy: 0.0234\n",
      "4/4 [==============================] - 0s 43ms/step - loss: 0.0011 - sequential_1_loss: 7.7624e-04 - sequential_2_loss: 0.3351\n",
      "4/4 [==============================] - 0s 4ms/step - loss: 1.8354 - accuracy: 0.5156\n",
      "4/4 [==============================] - 0s 4ms/step - loss: 1.5889 - accuracy: 0.0078\n",
      "4/4 [==============================] - 0s 52ms/step - loss: 0.0011 - sequential_1_loss: 7.8802e-04 - sequential_2_loss: 0.3202\n",
      "4/4 [==============================] - 0s 2ms/step - loss: 1.5374 - accuracy: 0.5469\n",
      "4/4 [==============================] - 0s 4ms/step - loss: 1.6784 - accuracy: 0.0078\n",
      "4/4 [==============================] - 0s 45ms/step - loss: 0.0012 - sequential_1_loss: 8.8469e-04 - sequential_2_loss: 0.2995\n",
      "4/4 [==============================] - 0s 4ms/step - loss: 1.5157 - accuracy: 0.5391\n",
      "4/4 [==============================] - 0s 2ms/step - loss: 0.3795 - accuracy: 1.0000\n",
      "4/4 [==============================] - 0s 52ms/step - loss: 0.0020 - sequential_1_loss: 8.0931e-04 - sequential_2_loss: 1.1593\n",
      "4/4 [==============================] - 0s 9ms/step - loss: 1.4632 - accuracy: 0.5156\n",
      "4/4 [==============================] - 0s 5ms/step - loss: 0.3736 - accuracy: 1.0000\n",
      "4/4 [==============================] - 0s 46ms/step - loss: 0.0019 - sequential_1_loss: 7.1540e-04 - sequential_2_loss: 1.1700\n",
      "4/4 [==============================] - 0s 8ms/step - loss: 1.3905 - accuracy: 0.5469\n",
      "4/4 [==============================] - 0s 1ms/step - loss: 0.3784 - accuracy: 1.0000\n",
      "4/4 [==============================] - 0s 67ms/step - loss: 0.0021 - sequential_1_loss: 9.1663e-04 - sequential_2_loss: 1.1609\n",
      "4/4 [==============================] - 0s 2ms/step - loss: 1.3589 - accuracy: 0.5625\n",
      "4/4 [==============================] - 0s 16ms/step - loss: 0.2526 - accuracy: 1.0000\n",
      "4/4 [==============================] - 0s 55ms/step - loss: 0.0024 - sequential_1_loss: 9.3356e-04 - sequential_2_loss: 1.5159\n",
      "4/4 [==============================] - 0s 3ms/step - loss: 1.3265 - accuracy: 0.5000\n",
      "4/4 [==============================] - 0s 42ms/step - loss: 0.2549 - accuracy: 1.0000\n",
      "4/4 [==============================] - 0s 71ms/step - loss: 0.0024 - sequential_1_loss: 8.5464e-04 - sequential_2_loss: 1.5061\n",
      "4/4 [==============================] - 0s 4ms/step - loss: 1.4314 - accuracy: 0.5469\n",
      "4/4 [==============================] - 0s 1ms/step - loss: 0.2622 - accuracy: 1.0000\n",
      "4/4 [==============================] - 0s 67ms/step - loss: 0.0023 - sequential_1_loss: 8.4198e-04 - sequential_2_loss: 1.4849\n",
      "4/4 [==============================] - 0s 5ms/step - loss: 0.9523 - accuracy: 0.6641\n",
      "4/4 [==============================] - 0s 4ms/step - loss: 0.1043 - accuracy: 1.0000\n",
      "4/4 [==============================] - 0s 59ms/step - loss: 0.0031 - sequential_1_loss: 7.3137e-04 - sequential_2_loss: 2.3654\n",
      "4/4 [==============================] - 0s 4ms/step - loss: 1.2090 - accuracy: 0.5312\n",
      "4/4 [==============================] - 0s 6ms/step - loss: 0.0994 - accuracy: 1.0000\n"
     ]
    },
    {
     "name": "stdout",
     "output_type": "stream",
     "text": [
      "4/4 [==============================] - 0s 53ms/step - loss: 0.0033 - sequential_1_loss: 8.6612e-04 - sequential_2_loss: 2.4134\n",
      "4/4 [==============================] - 0s 4ms/step - loss: 1.3710 - accuracy: 0.5625\n",
      "4/4 [==============================] - 0s 5ms/step - loss: 0.1014 - accuracy: 1.0000\n",
      "4/4 [==============================] - 0s 53ms/step - loss: 0.0032 - sequential_1_loss: 8.2283e-04 - sequential_2_loss: 2.3963\n",
      "4/4 [==============================] - 0s 13ms/step - loss: 1.0057 - accuracy: 0.5938\n",
      "4/4 [==============================] - 0s 4ms/step - loss: 0.1036 - accuracy: 1.0000\n",
      "4/4 [==============================] - 0s 56ms/step - loss: 0.0032 - sequential_1_loss: 7.6782e-04 - sequential_2_loss: 2.3934\n",
      "4/4 [==============================] - 0s 15ms/step - loss: 0.7664 - accuracy: 0.7344\n",
      "4/4 [==============================] - 0s 2ms/step - loss: 0.1068 - accuracy: 1.0000\n",
      "4/4 [==============================] - 0s 30ms/step - loss: 0.0031 - sequential_1_loss: 7.2242e-04 - sequential_2_loss: 2.3633\n",
      "4/4 [==============================] - 0s 7ms/step - loss: 0.8963 - accuracy: 0.6719\n",
      "4/4 [==============================] - 0s 6ms/step - loss: 0.1099 - accuracy: 1.0000\n",
      "4/4 [==============================] - 0s 54ms/step - loss: 0.0030 - sequential_1_loss: 6.7838e-04 - sequential_2_loss: 2.3356\n",
      "4/4 [==============================] - 0s 11ms/step - loss: 0.4691 - accuracy: 0.8203\n",
      "4/4 [==============================] - 0s 5ms/step - loss: 0.1421 - accuracy: 1.0000\n",
      "4/4 [==============================] - 0s 19ms/step - loss: 0.0027 - sequential_1_loss: 6.0196e-04 - sequential_2_loss: 2.0731\n",
      "4/4 [==============================] - 0s 4ms/step - loss: 0.5368 - accuracy: 0.7812\n",
      "4/4 [==============================] - 0s 4ms/step - loss: 0.1330 - accuracy: 1.0000\n",
      "4/4 [==============================] - 0s 61ms/step - loss: 0.0028 - sequential_1_loss: 6.9377e-04 - sequential_2_loss: 2.1290\n",
      "4/4 [==============================] - 0s 2ms/step - loss: 0.4709 - accuracy: 0.7969\n",
      "4/4 [==============================] - 0s 10ms/step - loss: 0.1411 - accuracy: 1.0000\n",
      "4/4 [==============================] - 0s 51ms/step - loss: 0.0027 - sequential_1_loss: 5.8803e-04 - sequential_2_loss: 2.0744\n",
      "4/4 [==============================] - 0s 2ms/step - loss: 0.2894 - accuracy: 0.8672\n",
      "4/4 [==============================] - 0s 4ms/step - loss: 0.1655 - accuracy: 1.0000\n",
      "4/4 [==============================] - 0s 43ms/step - loss: 0.0028 - sequential_1_loss: 8.1641e-04 - sequential_2_loss: 1.9706\n",
      "4/4 [==============================] - 0s 4ms/step - loss: 0.3614 - accuracy: 0.8281\n",
      "4/4 [==============================] - 0s 2ms/step - loss: 0.1719 - accuracy: 1.0000\n",
      "4/4 [==============================] - 0s 48ms/step - loss: 0.0026 - sequential_1_loss: 7.1605e-04 - sequential_2_loss: 1.9291\n",
      "4/4 [==============================] - 0s 4ms/step - loss: 0.4327 - accuracy: 0.8281\n",
      "4/4 [==============================] - 0s 3ms/step - loss: 0.1722 - accuracy: 1.0000\n",
      "4/4 [==============================] - 0s 49ms/step - loss: 0.0027 - sequential_1_loss: 7.8353e-04 - sequential_2_loss: 1.9404\n",
      "4/4 [==============================] - 0s 11ms/step - loss: 0.2296 - accuracy: 0.9219\n",
      "4/4 [==============================] - 0s 2ms/step - loss: 0.2439 - accuracy: 1.0000\n",
      "4/4 [==============================] - 0s 36ms/step - loss: 0.0019 - sequential_1_loss: 3.2883e-04 - sequential_2_loss: 1.5915\n",
      "4/4 [==============================] - 0s 9ms/step - loss: 0.3161 - accuracy: 0.8438\n",
      "4/4 [==============================] - 0s 2ms/step - loss: 0.2540 - accuracy: 1.0000\n",
      "4/4 [==============================] - 0s 62ms/step - loss: 0.0019 - sequential_1_loss: 3.1354e-04 - sequential_2_loss: 1.5533\n",
      "4/4 [==============================] - 0s 3ms/step - loss: 0.3170 - accuracy: 0.8750\n",
      "4/4 [==============================] - 0s 14ms/step - loss: 0.2568 - accuracy: 1.0000\n",
      "4/4 [==============================] - 0s 70ms/step - loss: 0.0019 - sequential_1_loss: 3.1399e-04 - sequential_2_loss: 1.5407\n",
      "4/4 [==============================] - 0s 5ms/step - loss: 0.3386 - accuracy: 0.8359\n",
      "4/4 [==============================] - 0s 4ms/step - loss: 0.4535 - accuracy: 1.0000\n",
      "4/4 [==============================] - 0s 49ms/step - loss: 0.0012 - sequential_1_loss: 2.2775e-04 - sequential_2_loss: 1.0218\n",
      "4/4 [==============================] - 0s 9ms/step - loss: 0.3017 - accuracy: 0.8672\n",
      "4/4 [==============================] - 0s 4ms/step - loss: 0.4370 - accuracy: 1.0000\n",
      "4/4 [==============================] - 0s 52ms/step - loss: 0.0013 - sequential_1_loss: 2.5147e-04 - sequential_2_loss: 1.0515\n",
      "4/4 [==============================] - 0s 1ms/step - loss: 0.3778 - accuracy: 0.7969\n",
      "4/4 [==============================] - 0s 9ms/step - loss: 0.4416 - accuracy: 1.0000\n",
      "4/4 [==============================] - 0s 14ms/step - loss: 0.0013 - sequential_1_loss: 2.4902e-04 - sequential_2_loss: 1.0431\n"
     ]
    },
    {
     "ename": "KeyboardInterrupt",
     "evalue": "",
     "output_type": "error",
     "traceback": [
      "\u001b[0;31m---------------------------------------------------------------------------\u001b[0m",
      "\u001b[0;31mKeyboardInterrupt\u001b[0m                         Traceback (most recent call last)",
      "\u001b[0;32m<ipython-input-4-6e1fc47142ba>\u001b[0m in \u001b[0;36m<module>\u001b[0;34m\u001b[0m\n\u001b[1;32m      1\u001b[0m \u001b[0maae\u001b[0m \u001b[0;34m=\u001b[0m \u001b[0mAAE_combined_loss\u001b[0m\u001b[0;34m(\u001b[0m\u001b[0mencoder\u001b[0m\u001b[0;34m,\u001b[0m \u001b[0mdecoder\u001b[0m\u001b[0;34m,\u001b[0m \u001b[0mdiscriminator\u001b[0m\u001b[0;34m,\u001b[0m \u001b[0moptimizer\u001b[0m\u001b[0;34m)\u001b[0m\u001b[0;34m\u001b[0m\u001b[0;34m\u001b[0m\u001b[0m\n\u001b[1;32m      2\u001b[0m \u001b[0maae\u001b[0m\u001b[0;34m.\u001b[0m\u001b[0mcompile\u001b[0m\u001b[0;34m(\u001b[0m\u001b[0minput_shape\u001b[0m\u001b[0;34m)\u001b[0m\u001b[0;34m\u001b[0m\u001b[0;34m\u001b[0m\u001b[0m\n\u001b[0;32m----> 3\u001b[0;31m \u001b[0maae\u001b[0m\u001b[0;34m.\u001b[0m\u001b[0mtrain\u001b[0m\u001b[0;34m(\u001b[0m\u001b[0msnapshots\u001b[0m\u001b[0;34m,\u001b[0m \u001b[0;36m100\u001b[0m\u001b[0;34m,\u001b[0m \u001b[0mval_data\u001b[0m\u001b[0;34m=\u001b[0m\u001b[0mx_val\u001b[0m\u001b[0;34m)\u001b[0m\u001b[0;34m\u001b[0m\u001b[0;34m\u001b[0m\u001b[0m\n\u001b[0m",
      "\u001b[0;32m~/Documents/master/acse-9/DD-GAN-AE/ddganAE/models/aae.py\u001b[0m in \u001b[0;36mtrain\u001b[0;34m(self, train_data, epochs, val_data, batch_size, val_batch_size)\u001b[0m\n\u001b[1;32m    279\u001b[0m             \u001b[0;32mfor\u001b[0m \u001b[0mstep\u001b[0m\u001b[0;34m,\u001b[0m \u001b[0mgrids\u001b[0m \u001b[0;32min\u001b[0m \u001b[0menumerate\u001b[0m\u001b[0;34m(\u001b[0m\u001b[0mtrain_dataset\u001b[0m\u001b[0;34m)\u001b[0m\u001b[0;34m:\u001b[0m\u001b[0;34m\u001b[0m\u001b[0;34m\u001b[0m\u001b[0m\n\u001b[1;32m    280\u001b[0m \u001b[0;34m\u001b[0m\u001b[0m\n\u001b[0;32m--> 281\u001b[0;31m                 \u001b[0mlatent_fake\u001b[0m \u001b[0;34m=\u001b[0m \u001b[0mself\u001b[0m\u001b[0;34m.\u001b[0m\u001b[0mencoder\u001b[0m\u001b[0;34m.\u001b[0m\u001b[0mpredict\u001b[0m\u001b[0;34m(\u001b[0m\u001b[0mgrids\u001b[0m\u001b[0;34m)\u001b[0m\u001b[0;34m\u001b[0m\u001b[0;34m\u001b[0m\u001b[0m\n\u001b[0m\u001b[1;32m    282\u001b[0m                 latent_real = np.random.normal(size=(batch_size, \n\u001b[1;32m    283\u001b[0m                                                      self.latent_dim))\n",
      "\u001b[0;32m~/miniconda3/envs/acse-9/lib/python3.8/site-packages/tensorflow/python/keras/engine/training.py\u001b[0m in \u001b[0;36mpredict\u001b[0;34m(self, x, batch_size, verbose, steps, callbacks, max_queue_size, workers, use_multiprocessing)\u001b[0m\n\u001b[1;32m   1627\u001b[0m           \u001b[0;32mfor\u001b[0m \u001b[0mstep\u001b[0m \u001b[0;32min\u001b[0m \u001b[0mdata_handler\u001b[0m\u001b[0;34m.\u001b[0m\u001b[0msteps\u001b[0m\u001b[0;34m(\u001b[0m\u001b[0;34m)\u001b[0m\u001b[0;34m:\u001b[0m\u001b[0;34m\u001b[0m\u001b[0;34m\u001b[0m\u001b[0m\n\u001b[1;32m   1628\u001b[0m             \u001b[0mcallbacks\u001b[0m\u001b[0;34m.\u001b[0m\u001b[0mon_predict_batch_begin\u001b[0m\u001b[0;34m(\u001b[0m\u001b[0mstep\u001b[0m\u001b[0;34m)\u001b[0m\u001b[0;34m\u001b[0m\u001b[0;34m\u001b[0m\u001b[0m\n\u001b[0;32m-> 1629\u001b[0;31m             \u001b[0mtmp_batch_outputs\u001b[0m \u001b[0;34m=\u001b[0m \u001b[0mself\u001b[0m\u001b[0;34m.\u001b[0m\u001b[0mpredict_function\u001b[0m\u001b[0;34m(\u001b[0m\u001b[0miterator\u001b[0m\u001b[0;34m)\u001b[0m\u001b[0;34m\u001b[0m\u001b[0;34m\u001b[0m\u001b[0m\n\u001b[0m\u001b[1;32m   1630\u001b[0m             \u001b[0;32mif\u001b[0m \u001b[0mdata_handler\u001b[0m\u001b[0;34m.\u001b[0m\u001b[0mshould_sync\u001b[0m\u001b[0;34m:\u001b[0m\u001b[0;34m\u001b[0m\u001b[0;34m\u001b[0m\u001b[0m\n\u001b[1;32m   1631\u001b[0m               \u001b[0mcontext\u001b[0m\u001b[0;34m.\u001b[0m\u001b[0masync_wait\u001b[0m\u001b[0;34m(\u001b[0m\u001b[0;34m)\u001b[0m\u001b[0;34m\u001b[0m\u001b[0;34m\u001b[0m\u001b[0m\n",
      "\u001b[0;32m~/miniconda3/envs/acse-9/lib/python3.8/site-packages/tensorflow/python/eager/def_function.py\u001b[0m in \u001b[0;36m__call__\u001b[0;34m(self, *args, **kwds)\u001b[0m\n\u001b[1;32m    826\u001b[0m     \u001b[0mtracing_count\u001b[0m \u001b[0;34m=\u001b[0m \u001b[0mself\u001b[0m\u001b[0;34m.\u001b[0m\u001b[0mexperimental_get_tracing_count\u001b[0m\u001b[0;34m(\u001b[0m\u001b[0;34m)\u001b[0m\u001b[0;34m\u001b[0m\u001b[0;34m\u001b[0m\u001b[0m\n\u001b[1;32m    827\u001b[0m     \u001b[0;32mwith\u001b[0m \u001b[0mtrace\u001b[0m\u001b[0;34m.\u001b[0m\u001b[0mTrace\u001b[0m\u001b[0;34m(\u001b[0m\u001b[0mself\u001b[0m\u001b[0;34m.\u001b[0m\u001b[0m_name\u001b[0m\u001b[0;34m)\u001b[0m \u001b[0;32mas\u001b[0m \u001b[0mtm\u001b[0m\u001b[0;34m:\u001b[0m\u001b[0;34m\u001b[0m\u001b[0;34m\u001b[0m\u001b[0m\n\u001b[0;32m--> 828\u001b[0;31m       \u001b[0mresult\u001b[0m \u001b[0;34m=\u001b[0m \u001b[0mself\u001b[0m\u001b[0;34m.\u001b[0m\u001b[0m_call\u001b[0m\u001b[0;34m(\u001b[0m\u001b[0;34m*\u001b[0m\u001b[0margs\u001b[0m\u001b[0;34m,\u001b[0m \u001b[0;34m**\u001b[0m\u001b[0mkwds\u001b[0m\u001b[0;34m)\u001b[0m\u001b[0;34m\u001b[0m\u001b[0;34m\u001b[0m\u001b[0m\n\u001b[0m\u001b[1;32m    829\u001b[0m       \u001b[0mcompiler\u001b[0m \u001b[0;34m=\u001b[0m \u001b[0;34m\"xla\"\u001b[0m \u001b[0;32mif\u001b[0m \u001b[0mself\u001b[0m\u001b[0;34m.\u001b[0m\u001b[0m_experimental_compile\u001b[0m \u001b[0;32melse\u001b[0m \u001b[0;34m\"nonXla\"\u001b[0m\u001b[0;34m\u001b[0m\u001b[0;34m\u001b[0m\u001b[0m\n\u001b[1;32m    830\u001b[0m       \u001b[0mnew_tracing_count\u001b[0m \u001b[0;34m=\u001b[0m \u001b[0mself\u001b[0m\u001b[0;34m.\u001b[0m\u001b[0mexperimental_get_tracing_count\u001b[0m\u001b[0;34m(\u001b[0m\u001b[0;34m)\u001b[0m\u001b[0;34m\u001b[0m\u001b[0;34m\u001b[0m\u001b[0m\n",
      "\u001b[0;32m~/miniconda3/envs/acse-9/lib/python3.8/site-packages/tensorflow/python/eager/def_function.py\u001b[0m in \u001b[0;36m_call\u001b[0;34m(self, *args, **kwds)\u001b[0m\n\u001b[1;32m    860\u001b[0m       \u001b[0;31m# In this case we have not created variables on the first call. So we can\u001b[0m\u001b[0;34m\u001b[0m\u001b[0;34m\u001b[0m\u001b[0;34m\u001b[0m\u001b[0m\n\u001b[1;32m    861\u001b[0m       \u001b[0;31m# run the first trace but we should fail if variables are created.\u001b[0m\u001b[0;34m\u001b[0m\u001b[0;34m\u001b[0m\u001b[0;34m\u001b[0m\u001b[0m\n\u001b[0;32m--> 862\u001b[0;31m       \u001b[0mresults\u001b[0m \u001b[0;34m=\u001b[0m \u001b[0mself\u001b[0m\u001b[0;34m.\u001b[0m\u001b[0m_stateful_fn\u001b[0m\u001b[0;34m(\u001b[0m\u001b[0;34m*\u001b[0m\u001b[0margs\u001b[0m\u001b[0;34m,\u001b[0m \u001b[0;34m**\u001b[0m\u001b[0mkwds\u001b[0m\u001b[0;34m)\u001b[0m\u001b[0;34m\u001b[0m\u001b[0;34m\u001b[0m\u001b[0m\n\u001b[0m\u001b[1;32m    863\u001b[0m       \u001b[0;32mif\u001b[0m \u001b[0mself\u001b[0m\u001b[0;34m.\u001b[0m\u001b[0m_created_variables\u001b[0m\u001b[0;34m:\u001b[0m\u001b[0;34m\u001b[0m\u001b[0;34m\u001b[0m\u001b[0m\n\u001b[1;32m    864\u001b[0m         raise ValueError(\"Creating variables on a non-first call to a function\"\n",
      "\u001b[0;32m~/miniconda3/envs/acse-9/lib/python3.8/site-packages/tensorflow/python/eager/function.py\u001b[0m in \u001b[0;36m__call__\u001b[0;34m(self, *args, **kwargs)\u001b[0m\n\u001b[1;32m   2940\u001b[0m       (graph_function,\n\u001b[1;32m   2941\u001b[0m        filtered_flat_args) = self._maybe_define_function(args, kwargs)\n\u001b[0;32m-> 2942\u001b[0;31m     return graph_function._call_flat(\n\u001b[0m\u001b[1;32m   2943\u001b[0m         filtered_flat_args, captured_inputs=graph_function.captured_inputs)  # pylint: disable=protected-access\n\u001b[1;32m   2944\u001b[0m \u001b[0;34m\u001b[0m\u001b[0m\n",
      "\u001b[0;32m~/miniconda3/envs/acse-9/lib/python3.8/site-packages/tensorflow/python/eager/function.py\u001b[0m in \u001b[0;36m_call_flat\u001b[0;34m(self, args, captured_inputs, cancellation_manager)\u001b[0m\n\u001b[1;32m   1916\u001b[0m         and executing_eagerly):\n\u001b[1;32m   1917\u001b[0m       \u001b[0;31m# No tape is watching; skip to running the function.\u001b[0m\u001b[0;34m\u001b[0m\u001b[0;34m\u001b[0m\u001b[0;34m\u001b[0m\u001b[0m\n\u001b[0;32m-> 1918\u001b[0;31m       return self._build_call_outputs(self._inference_function.call(\n\u001b[0m\u001b[1;32m   1919\u001b[0m           ctx, args, cancellation_manager=cancellation_manager))\n\u001b[1;32m   1920\u001b[0m     forward_backward = self._select_forward_and_backward_functions(\n",
      "\u001b[0;32m~/miniconda3/envs/acse-9/lib/python3.8/site-packages/tensorflow/python/eager/function.py\u001b[0m in \u001b[0;36mcall\u001b[0;34m(self, ctx, args, cancellation_manager)\u001b[0m\n\u001b[1;32m    553\u001b[0m       \u001b[0;32mwith\u001b[0m \u001b[0m_InterpolateFunctionError\u001b[0m\u001b[0;34m(\u001b[0m\u001b[0mself\u001b[0m\u001b[0;34m)\u001b[0m\u001b[0;34m:\u001b[0m\u001b[0;34m\u001b[0m\u001b[0;34m\u001b[0m\u001b[0m\n\u001b[1;32m    554\u001b[0m         \u001b[0;32mif\u001b[0m \u001b[0mcancellation_manager\u001b[0m \u001b[0;32mis\u001b[0m \u001b[0;32mNone\u001b[0m\u001b[0;34m:\u001b[0m\u001b[0;34m\u001b[0m\u001b[0;34m\u001b[0m\u001b[0m\n\u001b[0;32m--> 555\u001b[0;31m           outputs = execute.execute(\n\u001b[0m\u001b[1;32m    556\u001b[0m               \u001b[0mstr\u001b[0m\u001b[0;34m(\u001b[0m\u001b[0mself\u001b[0m\u001b[0;34m.\u001b[0m\u001b[0msignature\u001b[0m\u001b[0;34m.\u001b[0m\u001b[0mname\u001b[0m\u001b[0;34m)\u001b[0m\u001b[0;34m,\u001b[0m\u001b[0;34m\u001b[0m\u001b[0;34m\u001b[0m\u001b[0m\n\u001b[1;32m    557\u001b[0m               \u001b[0mnum_outputs\u001b[0m\u001b[0;34m=\u001b[0m\u001b[0mself\u001b[0m\u001b[0;34m.\u001b[0m\u001b[0m_num_outputs\u001b[0m\u001b[0;34m,\u001b[0m\u001b[0;34m\u001b[0m\u001b[0;34m\u001b[0m\u001b[0m\n",
      "\u001b[0;32m~/miniconda3/envs/acse-9/lib/python3.8/site-packages/tensorflow/python/eager/execute.py\u001b[0m in \u001b[0;36mquick_execute\u001b[0;34m(op_name, num_outputs, inputs, attrs, ctx, name)\u001b[0m\n\u001b[1;32m     57\u001b[0m   \u001b[0;32mtry\u001b[0m\u001b[0;34m:\u001b[0m\u001b[0;34m\u001b[0m\u001b[0;34m\u001b[0m\u001b[0m\n\u001b[1;32m     58\u001b[0m     \u001b[0mctx\u001b[0m\u001b[0;34m.\u001b[0m\u001b[0mensure_initialized\u001b[0m\u001b[0;34m(\u001b[0m\u001b[0;34m)\u001b[0m\u001b[0;34m\u001b[0m\u001b[0;34m\u001b[0m\u001b[0m\n\u001b[0;32m---> 59\u001b[0;31m     tensors = pywrap_tfe.TFE_Py_Execute(ctx._handle, device_name, op_name,\n\u001b[0m\u001b[1;32m     60\u001b[0m                                         inputs, attrs, num_outputs)\n\u001b[1;32m     61\u001b[0m   \u001b[0;32mexcept\u001b[0m \u001b[0mcore\u001b[0m\u001b[0;34m.\u001b[0m\u001b[0m_NotOkStatusException\u001b[0m \u001b[0;32mas\u001b[0m \u001b[0me\u001b[0m\u001b[0;34m:\u001b[0m\u001b[0;34m\u001b[0m\u001b[0;34m\u001b[0m\u001b[0m\n",
      "\u001b[0;31mKeyboardInterrupt\u001b[0m: "
     ]
    }
   ],
   "source": [
    "aae = AAE_combined_loss(encoder, decoder, discriminator, optimizer)\n",
    "aae.compile(input_shape)\n",
    "aae.train(snapshots, 100, val_data=x_val)"
   ]
  },
  {
   "cell_type": "markdown",
   "id": "6e3033f0",
   "metadata": {},
   "source": [
    "# SVD Autoencoder"
   ]
  },
  {
   "cell_type": "code",
   "execution_count": 5,
   "id": "b8ab4b53",
   "metadata": {},
   "outputs": [],
   "source": [
    "# Data processing\n",
    "snapshots_grids = np.load(\"./../submodules/DD-GAN/data/processed/snaphsots_field_Velocity_new_4_2000steps.npy\")\n",
    "\n",
    "# Data normalization\n",
    "layer = preprocessing.Normalization(axis=None)\n",
    "layer.adapt(snapshots_grids)\n",
    "\n",
    "snapshots_grids = snapshots_grids.swapaxes(0,2)"
   ]
  },
  {
   "cell_type": "code",
   "execution_count": 6,
   "id": "3af8b6fd",
   "metadata": {},
   "outputs": [],
   "source": [
    "x_train, x_val = train_test_split(snapshots_grids, test_size=0.1 )\n",
    "x_train = layer(x_train).numpy().swapaxes(0, 2)\n",
    "x_val = layer(x_val).numpy().swapaxes(0, 2)"
   ]
  },
  {
   "cell_type": "code",
   "execution_count": 4,
   "id": "b900fa4b",
   "metadata": {},
   "outputs": [],
   "source": [
    "initializer = tf.keras.initializers.RandomNormal(mean=0.0, stddev=0.05, seed=None)\n",
    "optimizer = tf.keras.optimizers.Nadam(lr=0.0006, beta_1=0.9, beta_2=0.999)\n",
    "\n",
    "dense_encoder = build_slimmer_dense_encoder(10, initializer, info=False,  dropout=0.6)\n",
    "dense_decoder = build_slimmer_dense_decoder(30, 10, initializer, info=False,  dropout=0.6)\n",
    "\n",
    "svdae = SVDAE(dense_encoder, dense_decoder, optimizer)\n",
    "svdae.compile(30)"
   ]
  },
  {
   "cell_type": "code",
   "execution_count": null,
   "id": "05145313",
   "metadata": {},
   "outputs": [],
   "source": [
    "svdae.train(x_train, 50, val_data=x_val)"
   ]
  },
  {
   "cell_type": "code",
   "execution_count": 6,
   "id": "7ad59f5e",
   "metadata": {},
   "outputs": [
    {
     "ename": "IndexError",
     "evalue": "index 200 is out of bounds for axis 2 with size 4",
     "output_type": "error",
     "traceback": [
      "\u001b[0;31m---------------------------------------------------------------------------\u001b[0m",
      "\u001b[0;31mIndexError\u001b[0m                                Traceback (most recent call last)",
      "\u001b[0;32m<ipython-input-6-3aafd75c9344>\u001b[0m in \u001b[0;36m<module>\u001b[0;34m\u001b[0m\n\u001b[0;32m----> 1\u001b[0;31m \u001b[0moriginal\u001b[0m \u001b[0;34m=\u001b[0m \u001b[0msnapshots_grids\u001b[0m\u001b[0;34m[\u001b[0m\u001b[0;36m2\u001b[0m\u001b[0;34m,\u001b[0m \u001b[0;34m:\u001b[0m\u001b[0;34m,\u001b[0m \u001b[0;36m200\u001b[0m\u001b[0;34m]\u001b[0m\u001b[0;34m\u001b[0m\u001b[0;34m\u001b[0m\u001b[0m\n\u001b[0m\u001b[1;32m      2\u001b[0m \u001b[0;34m\u001b[0m\u001b[0m\n\u001b[1;32m      3\u001b[0m \u001b[0mresult\u001b[0m \u001b[0;34m=\u001b[0m \u001b[0msvdae\u001b[0m\u001b[0;34m.\u001b[0m\u001b[0mpredict_single\u001b[0m\u001b[0;34m(\u001b[0m\u001b[0moriginal\u001b[0m\u001b[0;34m)\u001b[0m\u001b[0;34m\u001b[0m\u001b[0;34m\u001b[0m\u001b[0m\n\u001b[1;32m      4\u001b[0m \u001b[0mresult\u001b[0m \u001b[0;34m=\u001b[0m \u001b[0mnp\u001b[0m\u001b[0;34m.\u001b[0m\u001b[0mexpand_dims\u001b[0m\u001b[0;34m(\u001b[0m\u001b[0mresult\u001b[0m\u001b[0;34m,\u001b[0m\u001b[0;34m(\u001b[0m\u001b[0;36m0\u001b[0m\u001b[0;34m,\u001b[0m\u001b[0;36m2\u001b[0m\u001b[0;34m)\u001b[0m\u001b[0;34m)\u001b[0m\u001b[0;34m\u001b[0m\u001b[0;34m\u001b[0m\u001b[0m\n\u001b[1;32m      5\u001b[0m \u001b[0minput_shape\u001b[0m \u001b[0;34m=\u001b[0m \u001b[0;34m(\u001b[0m\u001b[0;36m55\u001b[0m\u001b[0;34m,\u001b[0m \u001b[0;36m42\u001b[0m\u001b[0;34m,\u001b[0m \u001b[0;36m2\u001b[0m\u001b[0;34m)\u001b[0m\u001b[0;34m\u001b[0m\u001b[0;34m\u001b[0m\u001b[0m\n",
      "\u001b[0;31mIndexError\u001b[0m: index 200 is out of bounds for axis 2 with size 4"
     ]
    }
   ],
   "source": [
    "original = snapshots_grids[2, :, 200]\n",
    "\n",
    "result = svdae.predict_single(original)\n",
    "result = np.expand_dims(result,(0,2))\n",
    "input_shape = (55, 42, 2)\n",
    "result = convert_2d(result, input_shape, 1)\n",
    "\n",
    "\n",
    "original = np.expand_dims(original,(0,2))\n",
    "input_shape = (55, 42, 2)\n",
    "original = convert_2d(original, input_shape, 1)\n",
    "\n",
    "\n",
    "fig, ax = plt.subplots(1,2)\n",
    "ax[0].contourf(result[0][0, :, :, 0])\n",
    "ax[1].contourf(original[0][0, :, :, 0])"
   ]
  },
  {
   "cell_type": "code",
   "execution_count": 28,
   "id": "62fbee54",
   "metadata": {},
   "outputs": [
    {
     "data": {
      "text/plain": [
       "<matplotlib.contour.QuadContourSet at 0x7f1187c6d7c0>"
      ]
     },
     "execution_count": 28,
     "metadata": {},
     "output_type": "execute_result"
    },
    {
     "data": {
      "image/png": "[encoded data removed]",
      "text/plain": [
       "<Figure size 432x288 with 2 Axes>"
      ]
     },
     "metadata": {
      "needs_background": "light"
     },
     "output_type": "display_data"
    }
   ],
   "source": [
    "original = x_val[2, :, 30]\n",
    "\n",
    "result = svdae.predict_single(original)\n",
    "result = np.expand_dims(result,(0,2))\n",
    "input_shape = (55, 42, 2)\n",
    "result = convert_2d(result, input_shape, 1)\n",
    "\n",
    "\n",
    "original = np.expand_dims(original,(0,2))\n",
    "input_shape = (55, 42, 2)\n",
    "original = convert_2d(original, input_shape, 1)\n",
    "\n",
    "\n",
    "fig, ax = plt.subplots(1,2)\n",
    "ax[0].contourf(result[0][0, :, :, 0])\n",
    "ax[1].contourf(original[0][0, :, :, 0])"
   ]
  }
 ],
 "metadata": {
  "kernelspec": {
   "display_name": "Python 3",
   "language": "python",
   "name": "python3"
  },
  "language_info": {
   "codemirror_mode": {
    "name": "ipython",
    "version": 3
   },
   "file_extension": ".py",
   "mimetype": "text/x-python",
   "name": "python",
   "nbconvert_exporter": "python",
   "pygments_lexer": "ipython3",
   "version": "3.8.10"
  }
 },
 "nbformat": 4,
 "nbformat_minor": 5
}
